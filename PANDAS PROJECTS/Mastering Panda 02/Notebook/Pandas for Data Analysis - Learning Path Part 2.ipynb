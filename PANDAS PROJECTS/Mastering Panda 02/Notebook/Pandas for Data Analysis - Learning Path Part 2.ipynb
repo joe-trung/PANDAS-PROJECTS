{
 "cells": [
  {
   "cell_type": "markdown",
   "metadata": {
    "id": "zrncFdJwNpL3"
   },
   "source": [
    "# TASK #1. DEFINE A PANDAS DATAFRAME"
   ]
  },
  {
   "cell_type": "code",
   "execution_count": 20,
   "metadata": {
    "executionInfo": {
     "elapsed": 272,
     "status": "ok",
     "timestamp": 1618626157190,
     "user": {
      "displayName": "Stemplicity",
      "photoUrl": "https://lh3.googleusercontent.com/a-/AOh14Gj2vCFt-bD5mPBhUWX0QA6xiBgoXQXtwUm2jgjaCg=s64",
      "userId": "10668071569687886186"
     },
     "user_tz": 240
    },
    "id": "OQxUokJiXSHh"
   },
   "outputs": [],
   "source": [
    "# Pandas is a data manipulation and analysis tool that is built on Numpy.\n",
    "# Pandas uses a data structure known as DataFrame (think of it as Microsoft excel in Python). \n",
    "# DataFrames empower programmers to store and manipulate data in a tabular fashion (rows and columns).\n",
    "# Series Vs. DataFrame? Series is considered a single column of a DataFrame.\n",
    "import pandas as pd"
   ]
  },
  {
   "cell_type": "code",
   "execution_count": 21,
   "metadata": {
    "colab": {
     "base_uri": "https://localhost:8080/",
     "height": 166
    },
    "executionInfo": {
     "elapsed": 316,
     "status": "ok",
     "timestamp": 1618626170317,
     "user": {
      "displayName": "Stemplicity",
      "photoUrl": "https://lh3.googleusercontent.com/a-/AOh14Gj2vCFt-bD5mPBhUWX0QA6xiBgoXQXtwUm2jgjaCg=s64",
      "userId": "10668071569687886186"
     },
     "user_tz": 240
    },
    "id": "YnV7pFX0q3_C",
    "outputId": "9b0a998d-9ee6-4a0b-f996-c8caf4568761"
   },
   "outputs": [
    {
     "data": {
      "text/html": [
       "<div>\n",
       "<style scoped>\n",
       "    .dataframe tbody tr th:only-of-type {\n",
       "        vertical-align: middle;\n",
       "    }\n",
       "\n",
       "    .dataframe tbody tr th {\n",
       "        vertical-align: top;\n",
       "    }\n",
       "\n",
       "    .dataframe thead th {\n",
       "        text-align: right;\n",
       "    }\n",
       "</style>\n",
       "<table border=\"1\" class=\"dataframe\">\n",
       "  <thead>\n",
       "    <tr style=\"text-align: right;\">\n",
       "      <th></th>\n",
       "      <th>Employee ID</th>\n",
       "      <th>Employee Name</th>\n",
       "      <th>Annual Salary [$]</th>\n",
       "      <th>Years with Company</th>\n",
       "    </tr>\n",
       "  </thead>\n",
       "  <tbody>\n",
       "    <tr>\n",
       "      <th>0</th>\n",
       "      <td>1</td>\n",
       "      <td>Laila Aly</td>\n",
       "      <td>35000</td>\n",
       "      <td>5</td>\n",
       "    </tr>\n",
       "    <tr>\n",
       "      <th>1</th>\n",
       "      <td>2</td>\n",
       "      <td>Kate Steve</td>\n",
       "      <td>40000</td>\n",
       "      <td>7</td>\n",
       "    </tr>\n",
       "    <tr>\n",
       "      <th>2</th>\n",
       "      <td>3</td>\n",
       "      <td>Nichole Mitch</td>\n",
       "      <td>100000</td>\n",
       "      <td>10</td>\n",
       "    </tr>\n",
       "    <tr>\n",
       "      <th>3</th>\n",
       "      <td>4</td>\n",
       "      <td>Francis Morris</td>\n",
       "      <td>25000</td>\n",
       "      <td>1</td>\n",
       "    </tr>\n",
       "  </tbody>\n",
       "</table>\n",
       "</div>"
      ],
      "text/plain": [
       "   Employee ID   Employee Name  Annual Salary [$]  Years with Company\n",
       "0            1       Laila Aly              35000                   5\n",
       "1            2      Kate Steve              40000                   7\n",
       "2            3   Nichole Mitch             100000                  10\n",
       "3            4  Francis Morris              25000                   1"
      ]
     },
     "execution_count": 21,
     "metadata": {},
     "output_type": "execute_result"
    }
   ],
   "source": [
    "# Let's define a two-dimensional Pandas DataFrame\n",
    "# Note that you can create a pandas dataframe from a python dictionary\n",
    "employee_df = pd.DataFrame({'Employee ID':[1,2,3,4],\n",
    "                           'Employee Name':['Laila Aly','Kate Steve','Nichole Mitch','Francis Morris'],\n",
    "                           'Annual Salary [$]':[35000,40000,100000,25000],\n",
    "                           'Years with Company':[5,7,10,1]})\n",
    "employee_df"
   ]
  },
  {
   "cell_type": "code",
   "execution_count": 22,
   "metadata": {
    "colab": {
     "base_uri": "https://localhost:8080/"
    },
    "executionInfo": {
     "elapsed": 286,
     "status": "ok",
     "timestamp": 1618626179783,
     "user": {
      "displayName": "Stemplicity",
      "photoUrl": "https://lh3.googleusercontent.com/a-/AOh14Gj2vCFt-bD5mPBhUWX0QA6xiBgoXQXtwUm2jgjaCg=s64",
      "userId": "10668071569687886186"
     },
     "user_tz": 240
    },
    "id": "9LXSKDSTq4Fb",
    "outputId": "57cc631d-75db-4e40-cdf9-8f3b11c7be09"
   },
   "outputs": [
    {
     "data": {
      "text/plain": [
       "pandas.core.frame.DataFrame"
      ]
     },
     "execution_count": 22,
     "metadata": {},
     "output_type": "execute_result"
    }
   ],
   "source": [
    "# Let's obtain the data type \n",
    "type(employee_df)"
   ]
  },
  {
   "cell_type": "code",
   "execution_count": 23,
   "metadata": {
    "colab": {
     "base_uri": "https://localhost:8080/",
     "height": 106
    },
    "executionInfo": {
     "elapsed": 237,
     "status": "ok",
     "timestamp": 1618626184264,
     "user": {
      "displayName": "Stemplicity",
      "photoUrl": "https://lh3.googleusercontent.com/a-/AOh14Gj2vCFt-bD5mPBhUWX0QA6xiBgoXQXtwUm2jgjaCg=s64",
      "userId": "10668071569687886186"
     },
     "user_tz": 240
    },
    "id": "h93nb1trtwhu",
    "outputId": "dd453796-84ba-4208-c2f2-209ce504ad0e"
   },
   "outputs": [
    {
     "data": {
      "text/html": [
       "<div>\n",
       "<style scoped>\n",
       "    .dataframe tbody tr th:only-of-type {\n",
       "        vertical-align: middle;\n",
       "    }\n",
       "\n",
       "    .dataframe tbody tr th {\n",
       "        vertical-align: top;\n",
       "    }\n",
       "\n",
       "    .dataframe thead th {\n",
       "        text-align: right;\n",
       "    }\n",
       "</style>\n",
       "<table border=\"1\" class=\"dataframe\">\n",
       "  <thead>\n",
       "    <tr style=\"text-align: right;\">\n",
       "      <th></th>\n",
       "      <th>Employee ID</th>\n",
       "      <th>Employee Name</th>\n",
       "      <th>Annual Salary [$]</th>\n",
       "      <th>Years with Company</th>\n",
       "    </tr>\n",
       "  </thead>\n",
       "  <tbody>\n",
       "    <tr>\n",
       "      <th>0</th>\n",
       "      <td>1</td>\n",
       "      <td>Laila Aly</td>\n",
       "      <td>35000</td>\n",
       "      <td>5</td>\n",
       "    </tr>\n",
       "    <tr>\n",
       "      <th>1</th>\n",
       "      <td>2</td>\n",
       "      <td>Kate Steve</td>\n",
       "      <td>40000</td>\n",
       "      <td>7</td>\n",
       "    </tr>\n",
       "  </tbody>\n",
       "</table>\n",
       "</div>"
      ],
      "text/plain": [
       "   Employee ID Employee Name  Annual Salary [$]  Years with Company\n",
       "0            1     Laila Aly              35000                   5\n",
       "1            2    Kate Steve              40000                   7"
      ]
     },
     "execution_count": 23,
     "metadata": {},
     "output_type": "execute_result"
    }
   ],
   "source": [
    "# you can only view the first couple of rows using .head()\n",
    "employee_df.head(2)"
   ]
  },
  {
   "cell_type": "code",
   "execution_count": 24,
   "metadata": {
    "colab": {
     "base_uri": "https://localhost:8080/",
     "height": 77
    },
    "executionInfo": {
     "elapsed": 302,
     "status": "ok",
     "timestamp": 1618626186623,
     "user": {
      "displayName": "Stemplicity",
      "photoUrl": "https://lh3.googleusercontent.com/a-/AOh14Gj2vCFt-bD5mPBhUWX0QA6xiBgoXQXtwUm2jgjaCg=s64",
      "userId": "10668071569687886186"
     },
     "user_tz": 240
    },
    "id": "7kkAAG0Ft2Q1",
    "outputId": "caa72138-517d-47de-e578-8c3a0db5cbb7"
   },
   "outputs": [
    {
     "data": {
      "text/html": [
       "<div>\n",
       "<style scoped>\n",
       "    .dataframe tbody tr th:only-of-type {\n",
       "        vertical-align: middle;\n",
       "    }\n",
       "\n",
       "    .dataframe tbody tr th {\n",
       "        vertical-align: top;\n",
       "    }\n",
       "\n",
       "    .dataframe thead th {\n",
       "        text-align: right;\n",
       "    }\n",
       "</style>\n",
       "<table border=\"1\" class=\"dataframe\">\n",
       "  <thead>\n",
       "    <tr style=\"text-align: right;\">\n",
       "      <th></th>\n",
       "      <th>Employee ID</th>\n",
       "      <th>Employee Name</th>\n",
       "      <th>Annual Salary [$]</th>\n",
       "      <th>Years with Company</th>\n",
       "    </tr>\n",
       "  </thead>\n",
       "  <tbody>\n",
       "    <tr>\n",
       "      <th>3</th>\n",
       "      <td>4</td>\n",
       "      <td>Francis Morris</td>\n",
       "      <td>25000</td>\n",
       "      <td>1</td>\n",
       "    </tr>\n",
       "  </tbody>\n",
       "</table>\n",
       "</div>"
      ],
      "text/plain": [
       "   Employee ID   Employee Name  Annual Salary [$]  Years with Company\n",
       "3            4  Francis Morris              25000                   1"
      ]
     },
     "execution_count": 24,
     "metadata": {},
     "output_type": "execute_result"
    }
   ],
   "source": [
    "# you can only view the last couple of rows using .tail()\n",
    "employee_df.tail(1)"
   ]
  },
  {
   "cell_type": "code",
   "execution_count": 25,
   "metadata": {
    "colab": {
     "base_uri": "https://localhost:8080/"
    },
    "executionInfo": {
     "elapsed": 307,
     "status": "ok",
     "timestamp": 1618626191784,
     "user": {
      "displayName": "Stemplicity",
      "photoUrl": "https://lh3.googleusercontent.com/a-/AOh14Gj2vCFt-bD5mPBhUWX0QA6xiBgoXQXtwUm2jgjaCg=s64",
      "userId": "10668071569687886186"
     },
     "user_tz": 240
    },
    "id": "cLPBbSvYhvG1",
    "outputId": "17112309-4c5e-4fef-defe-352eec73e84a"
   },
   "outputs": [
    {
     "data": {
      "text/plain": [
       "(4, 4)"
      ]
     },
     "execution_count": 25,
     "metadata": {},
     "output_type": "execute_result"
    }
   ],
   "source": [
    "# You can obtain the shape of the DataFrame (#rows, #columns)\n",
    "employee_df.shape"
   ]
  },
  {
   "cell_type": "code",
   "execution_count": 26,
   "metadata": {
    "colab": {
     "base_uri": "https://localhost:8080/"
    },
    "executionInfo": {
     "elapsed": 257,
     "status": "ok",
     "timestamp": 1618626197428,
     "user": {
      "displayName": "Stemplicity",
      "photoUrl": "https://lh3.googleusercontent.com/a-/AOh14Gj2vCFt-bD5mPBhUWX0QA6xiBgoXQXtwUm2jgjaCg=s64",
      "userId": "10668071569687886186"
     },
     "user_tz": 240
    },
    "id": "PuQCeozVh3mZ",
    "outputId": "8b699892-04a9-4a58-8983-bfb1ad9a5a94"
   },
   "outputs": [
    {
     "name": "stdout",
     "output_type": "stream",
     "text": [
      "<class 'pandas.core.frame.DataFrame'>\n",
      "RangeIndex: 4 entries, 0 to 3\n",
      "Data columns (total 4 columns):\n",
      " #   Column              Non-Null Count  Dtype \n",
      "---  ------              --------------  ----- \n",
      " 0   Employee ID         4 non-null      int64 \n",
      " 1   Employee Name       4 non-null      object\n",
      " 2   Annual Salary [$]   4 non-null      int64 \n",
      " 3   Years with Company  4 non-null      int64 \n",
      "dtypes: int64(3), object(1)\n",
      "memory usage: 256.0+ bytes\n"
     ]
    }
   ],
   "source": [
    "# Obtain DataFrame information \n",
    "employee_df.info()"
   ]
  },
  {
   "cell_type": "markdown",
   "metadata": {
    "id": "Ro-OAYbsy_EA"
   },
   "source": [
    "**MINI CHALLENGE #1:**\n",
    "- **A porfolio contains a collection of securities such as stocks, bonds and ETFs. Define a dataframe named 'portfolio_df' that holds 3 different stock ticker symbols, number of shares, and price per share (feel free to choose any stocks)**\n",
    "- **Calculate the total value of the porfolio including all stocks**"
   ]
  },
  {
   "cell_type": "code",
   "execution_count": 27,
   "metadata": {
    "executionInfo": {
     "elapsed": 285,
     "status": "ok",
     "timestamp": 1618626333078,
     "user": {
      "displayName": "Stemplicity",
      "photoUrl": "https://lh3.googleusercontent.com/a-/AOh14Gj2vCFt-bD5mPBhUWX0QA6xiBgoXQXtwUm2jgjaCg=s64",
      "userId": "10668071569687886186"
     },
     "user_tz": 240
    },
    "id": "zgAFS4N-1cDg"
   },
   "outputs": [
    {
     "data": {
      "text/html": [
       "<div>\n",
       "<style scoped>\n",
       "    .dataframe tbody tr th:only-of-type {\n",
       "        vertical-align: middle;\n",
       "    }\n",
       "\n",
       "    .dataframe tbody tr th {\n",
       "        vertical-align: top;\n",
       "    }\n",
       "\n",
       "    .dataframe thead th {\n",
       "        text-align: right;\n",
       "    }\n",
       "</style>\n",
       "<table border=\"1\" class=\"dataframe\">\n",
       "  <thead>\n",
       "    <tr style=\"text-align: right;\">\n",
       "      <th></th>\n",
       "      <th>Stock Ticker</th>\n",
       "      <th>Price per Share [$]</th>\n",
       "      <th>Number of Stocks</th>\n",
       "    </tr>\n",
       "  </thead>\n",
       "  <tbody>\n",
       "    <tr>\n",
       "      <th>0</th>\n",
       "      <td>FB</td>\n",
       "      <td>3800</td>\n",
       "      <td>4</td>\n",
       "    </tr>\n",
       "    <tr>\n",
       "      <th>1</th>\n",
       "      <td>TSLA</td>\n",
       "      <td>300</td>\n",
       "      <td>7</td>\n",
       "    </tr>\n",
       "    <tr>\n",
       "      <th>2</th>\n",
       "      <td>T</td>\n",
       "      <td>400</td>\n",
       "      <td>10</td>\n",
       "    </tr>\n",
       "  </tbody>\n",
       "</table>\n",
       "</div>"
      ],
      "text/plain": [
       "  Stock Ticker  Price per Share [$]  Number of Stocks\n",
       "0           FB                 3800                 4\n",
       "1         TSLA                  300                 7\n",
       "2            T                  400                10"
      ]
     },
     "execution_count": 27,
     "metadata": {},
     "output_type": "execute_result"
    }
   ],
   "source": [
    "stock_df = pd.DataFrame({'Stock Ticker':['FB','TSLA','T'],\n",
    "                        'Price per Share [$]':[3800,300,400],\n",
    "                        'Number of Stocks':[4, 7, 10]})\n",
    "stock_df"
   ]
  },
  {
   "cell_type": "code",
   "execution_count": 28,
   "metadata": {},
   "outputs": [
    {
     "data": {
      "text/plain": [
       "0    15200\n",
       "1     2100\n",
       "2     4000\n",
       "dtype: int64"
      ]
     },
     "execution_count": 28,
     "metadata": {},
     "output_type": "execute_result"
    }
   ],
   "source": [
    "stock_value = stock_df['Price per Share [$]']*stock_df['Number of Stocks']\n",
    "stock_value"
   ]
  },
  {
   "cell_type": "code",
   "execution_count": 29,
   "metadata": {},
   "outputs": [
    {
     "data": {
      "text/plain": [
       "21300"
      ]
     },
     "execution_count": 29,
     "metadata": {},
     "output_type": "execute_result"
    }
   ],
   "source": [
    "stock_value.sum()"
   ]
  },
  {
   "cell_type": "markdown",
   "metadata": {
    "id": "d06IyHT9uffC"
   },
   "source": [
    "# TASK #2. READ CSV AND HTML DATA "
   ]
  },
  {
   "cell_type": "code",
   "execution_count": 30,
   "metadata": {
    "executionInfo": {
     "elapsed": 357,
     "status": "ok",
     "timestamp": 1618626337240,
     "user": {
      "displayName": "Stemplicity",
      "photoUrl": "https://lh3.googleusercontent.com/a-/AOh14Gj2vCFt-bD5mPBhUWX0QA6xiBgoXQXtwUm2jgjaCg=s64",
      "userId": "10668071569687886186"
     },
     "user_tz": 240
    },
    "id": "lHB4RP5luJwF"
   },
   "outputs": [
    {
     "data": {
      "text/html": [
       "<div>\n",
       "<style scoped>\n",
       "    .dataframe tbody tr th:only-of-type {\n",
       "        vertical-align: middle;\n",
       "    }\n",
       "\n",
       "    .dataframe tbody tr th {\n",
       "        vertical-align: top;\n",
       "    }\n",
       "\n",
       "    .dataframe thead th {\n",
       "        text-align: right;\n",
       "    }\n",
       "</style>\n",
       "<table border=\"1\" class=\"dataframe\">\n",
       "  <thead>\n",
       "    <tr style=\"text-align: right;\">\n",
       "      <th></th>\n",
       "      <th>First Name</th>\n",
       "      <th>Last Name</th>\n",
       "      <th>Salary</th>\n",
       "      <th>Years with Company</th>\n",
       "      <th>Postal Code</th>\n",
       "      <th>Email</th>\n",
       "    </tr>\n",
       "  </thead>\n",
       "  <tbody>\n",
       "    <tr>\n",
       "      <th>0</th>\n",
       "      <td>Mike</td>\n",
       "      <td>Moe</td>\n",
       "      <td>5000.00</td>\n",
       "      <td>3</td>\n",
       "      <td>N94 3M0</td>\n",
       "      <td>bird@gmail.com</td>\n",
       "    </tr>\n",
       "    <tr>\n",
       "      <th>1</th>\n",
       "      <td>Noah</td>\n",
       "      <td>Ryan</td>\n",
       "      <td>10000.00</td>\n",
       "      <td>8</td>\n",
       "      <td>N8S 14K</td>\n",
       "      <td>nsmall@hotmail.com</td>\n",
       "    </tr>\n",
       "    <tr>\n",
       "      <th>2</th>\n",
       "      <td>Nina</td>\n",
       "      <td>Keller</td>\n",
       "      <td>9072.02</td>\n",
       "      <td>17</td>\n",
       "      <td>S1T 4E6</td>\n",
       "      <td>azikez@gahew.mr</td>\n",
       "    </tr>\n",
       "    <tr>\n",
       "      <th>3</th>\n",
       "      <td>Chanel</td>\n",
       "      <td>Steve</td>\n",
       "      <td>11072.02</td>\n",
       "      <td>12</td>\n",
       "      <td>N7T 3E6</td>\n",
       "      <td>chanel@gmail.com</td>\n",
       "    </tr>\n",
       "    <tr>\n",
       "      <th>4</th>\n",
       "      <td>Kate</td>\n",
       "      <td>Noor</td>\n",
       "      <td>5000.00</td>\n",
       "      <td>23</td>\n",
       "      <td>K8N 5H6</td>\n",
       "      <td>kate@hotmail.com</td>\n",
       "    </tr>\n",
       "    <tr>\n",
       "      <th>5</th>\n",
       "      <td>Samer</td>\n",
       "      <td>Mo</td>\n",
       "      <td>100000.00</td>\n",
       "      <td>13</td>\n",
       "      <td>J7H 3HY</td>\n",
       "      <td>samer@gmail.com</td>\n",
       "    </tr>\n",
       "    <tr>\n",
       "      <th>6</th>\n",
       "      <td>Heba</td>\n",
       "      <td>Ismail</td>\n",
       "      <td>50000.00</td>\n",
       "      <td>7</td>\n",
       "      <td>K8Y 3M8</td>\n",
       "      <td>heba.ismail@hotmail.com</td>\n",
       "    </tr>\n",
       "    <tr>\n",
       "      <th>7</th>\n",
       "      <td>Laila</td>\n",
       "      <td>Aly</td>\n",
       "      <td>20000.00</td>\n",
       "      <td>5</td>\n",
       "      <td>J8Y 3M0</td>\n",
       "      <td>Laila.a@hotmail.com</td>\n",
       "    </tr>\n",
       "    <tr>\n",
       "      <th>8</th>\n",
       "      <td>Joseph</td>\n",
       "      <td>Patton</td>\n",
       "      <td>2629.13</td>\n",
       "      <td>2</td>\n",
       "      <td>M6U 5U7</td>\n",
       "      <td>daafeja@boh.jm</td>\n",
       "    </tr>\n",
       "    <tr>\n",
       "      <th>9</th>\n",
       "      <td>Noah</td>\n",
       "      <td>Moran</td>\n",
       "      <td>8626.96</td>\n",
       "      <td>11</td>\n",
       "      <td>K2D 4M9</td>\n",
       "      <td>guutodi@bigwoc.kw</td>\n",
       "    </tr>\n",
       "  </tbody>\n",
       "</table>\n",
       "</div>"
      ],
      "text/plain": [
       "  First Name Last Name     Salary  Years with Company Postal Code  \\\n",
       "0       Mike       Moe    5000.00                   3     N94 3M0   \n",
       "1       Noah      Ryan   10000.00                   8     N8S 14K   \n",
       "2       Nina    Keller    9072.02                  17     S1T 4E6   \n",
       "3    Chanel      Steve   11072.02                  12     N7T 3E6   \n",
       "4       Kate      Noor    5000.00                  23     K8N 5H6   \n",
       "5      Samer        Mo  100000.00                  13     J7H 3HY   \n",
       "6       Heba    Ismail   50000.00                   7     K8Y 3M8   \n",
       "7      Laila       Aly   20000.00                   5     J8Y 3M0   \n",
       "8     Joseph    Patton    2629.13                   2     M6U 5U7   \n",
       "9       Noah     Moran    8626.96                  11     K2D 4M9   \n",
       "\n",
       "                     Email  \n",
       "0           bird@gmail.com  \n",
       "1       nsmall@hotmail.com  \n",
       "2          azikez@gahew.mr  \n",
       "3         chanel@gmail.com  \n",
       "4         kate@hotmail.com  \n",
       "5          samer@gmail.com  \n",
       "6  heba.ismail@hotmail.com  \n",
       "7      Laila.a@hotmail.com  \n",
       "8           daafeja@boh.jm  \n",
       "9        guutodi@bigwoc.kw  "
      ]
     },
     "execution_count": 30,
     "metadata": {},
     "output_type": "execute_result"
    }
   ],
   "source": [
    "# Pandas is used to read a csv file and store data in a DataFrame\n",
    "employee_df = pd.read_csv('employee_information.csv')\n",
    "employee_df"
   ]
  },
  {
   "cell_type": "code",
   "execution_count": 35,
   "metadata": {
    "colab": {
     "base_uri": "https://localhost:8080/",
     "height": 343
    },
    "executionInfo": {
     "elapsed": 284,
     "status": "ok",
     "timestamp": 1618626340314,
     "user": {
      "displayName": "Stemplicity",
      "photoUrl": "https://lh3.googleusercontent.com/a-/AOh14Gj2vCFt-bD5mPBhUWX0QA6xiBgoXQXtwUm2jgjaCg=s64",
      "userId": "10668071569687886186"
     },
     "user_tz": 240
    },
    "id": "OqdhTgIfuoTy",
    "outputId": "276a44d0-5889-4be0-ac31-a0ab99864b8a"
   },
   "outputs": [
    {
     "ename": "ImportError",
     "evalue": "lxml not found, please install it",
     "output_type": "error",
     "traceback": [
      "\u001b[1;31m---------------------------------------------------------------------------\u001b[0m",
      "\u001b[1;31mImportError\u001b[0m                               Traceback (most recent call last)",
      "Cell \u001b[1;32mIn[35], line 1\u001b[0m\n\u001b[1;32m----> 1\u001b[0m house_prices_df \u001b[38;5;241m=\u001b[39m \u001b[43mpd\u001b[49m\u001b[38;5;241;43m.\u001b[39;49m\u001b[43mread_html\u001b[49m\u001b[43m(\u001b[49m\u001b[38;5;124;43m'\u001b[39;49m\u001b[38;5;124;43mhttps://www.livingin-canada.com/house-prices-canada.html\u001b[39;49m\u001b[38;5;124;43m'\u001b[39;49m\u001b[43m)\u001b[49m\n",
      "File \u001b[1;32m~\\AppData\\Local\\Packages\\PythonSoftwareFoundation.Python.3.10_qbz5n2kfra8p0\\LocalCache\\local-packages\\Python310\\site-packages\\pandas\\util\\_decorators.py:331\u001b[0m, in \u001b[0;36mdeprecate_nonkeyword_arguments.<locals>.decorate.<locals>.wrapper\u001b[1;34m(*args, **kwargs)\u001b[0m\n\u001b[0;32m    325\u001b[0m \u001b[38;5;28;01mif\u001b[39;00m \u001b[38;5;28mlen\u001b[39m(args) \u001b[38;5;241m>\u001b[39m num_allow_args:\n\u001b[0;32m    326\u001b[0m     warnings\u001b[38;5;241m.\u001b[39mwarn(\n\u001b[0;32m    327\u001b[0m         msg\u001b[38;5;241m.\u001b[39mformat(arguments\u001b[38;5;241m=\u001b[39m_format_argument_list(allow_args)),\n\u001b[0;32m    328\u001b[0m         \u001b[38;5;167;01mFutureWarning\u001b[39;00m,\n\u001b[0;32m    329\u001b[0m         stacklevel\u001b[38;5;241m=\u001b[39mfind_stack_level(),\n\u001b[0;32m    330\u001b[0m     )\n\u001b[1;32m--> 331\u001b[0m \u001b[38;5;28;01mreturn\u001b[39;00m func(\u001b[38;5;241m*\u001b[39margs, \u001b[38;5;241m*\u001b[39m\u001b[38;5;241m*\u001b[39mkwargs)\n",
      "File \u001b[1;32m~\\AppData\\Local\\Packages\\PythonSoftwareFoundation.Python.3.10_qbz5n2kfra8p0\\LocalCache\\local-packages\\Python310\\site-packages\\pandas\\io\\html.py:1205\u001b[0m, in \u001b[0;36mread_html\u001b[1;34m(io, match, flavor, header, index_col, skiprows, attrs, parse_dates, thousands, encoding, decimal, converters, na_values, keep_default_na, displayed_only, extract_links)\u001b[0m\n\u001b[0;32m   1201\u001b[0m validate_header_arg(header)\n\u001b[0;32m   1203\u001b[0m io \u001b[38;5;241m=\u001b[39m stringify_path(io)\n\u001b[1;32m-> 1205\u001b[0m \u001b[38;5;28;01mreturn\u001b[39;00m \u001b[43m_parse\u001b[49m\u001b[43m(\u001b[49m\n\u001b[0;32m   1206\u001b[0m \u001b[43m    \u001b[49m\u001b[43mflavor\u001b[49m\u001b[38;5;241;43m=\u001b[39;49m\u001b[43mflavor\u001b[49m\u001b[43m,\u001b[49m\n\u001b[0;32m   1207\u001b[0m \u001b[43m    \u001b[49m\u001b[43mio\u001b[49m\u001b[38;5;241;43m=\u001b[39;49m\u001b[43mio\u001b[49m\u001b[43m,\u001b[49m\n\u001b[0;32m   1208\u001b[0m \u001b[43m    \u001b[49m\u001b[43mmatch\u001b[49m\u001b[38;5;241;43m=\u001b[39;49m\u001b[43mmatch\u001b[49m\u001b[43m,\u001b[49m\n\u001b[0;32m   1209\u001b[0m \u001b[43m    \u001b[49m\u001b[43mheader\u001b[49m\u001b[38;5;241;43m=\u001b[39;49m\u001b[43mheader\u001b[49m\u001b[43m,\u001b[49m\n\u001b[0;32m   1210\u001b[0m \u001b[43m    \u001b[49m\u001b[43mindex_col\u001b[49m\u001b[38;5;241;43m=\u001b[39;49m\u001b[43mindex_col\u001b[49m\u001b[43m,\u001b[49m\n\u001b[0;32m   1211\u001b[0m \u001b[43m    \u001b[49m\u001b[43mskiprows\u001b[49m\u001b[38;5;241;43m=\u001b[39;49m\u001b[43mskiprows\u001b[49m\u001b[43m,\u001b[49m\n\u001b[0;32m   1212\u001b[0m \u001b[43m    \u001b[49m\u001b[43mparse_dates\u001b[49m\u001b[38;5;241;43m=\u001b[39;49m\u001b[43mparse_dates\u001b[49m\u001b[43m,\u001b[49m\n\u001b[0;32m   1213\u001b[0m \u001b[43m    \u001b[49m\u001b[43mthousands\u001b[49m\u001b[38;5;241;43m=\u001b[39;49m\u001b[43mthousands\u001b[49m\u001b[43m,\u001b[49m\n\u001b[0;32m   1214\u001b[0m \u001b[43m    \u001b[49m\u001b[43mattrs\u001b[49m\u001b[38;5;241;43m=\u001b[39;49m\u001b[43mattrs\u001b[49m\u001b[43m,\u001b[49m\n\u001b[0;32m   1215\u001b[0m \u001b[43m    \u001b[49m\u001b[43mencoding\u001b[49m\u001b[38;5;241;43m=\u001b[39;49m\u001b[43mencoding\u001b[49m\u001b[43m,\u001b[49m\n\u001b[0;32m   1216\u001b[0m \u001b[43m    \u001b[49m\u001b[43mdecimal\u001b[49m\u001b[38;5;241;43m=\u001b[39;49m\u001b[43mdecimal\u001b[49m\u001b[43m,\u001b[49m\n\u001b[0;32m   1217\u001b[0m \u001b[43m    \u001b[49m\u001b[43mconverters\u001b[49m\u001b[38;5;241;43m=\u001b[39;49m\u001b[43mconverters\u001b[49m\u001b[43m,\u001b[49m\n\u001b[0;32m   1218\u001b[0m \u001b[43m    \u001b[49m\u001b[43mna_values\u001b[49m\u001b[38;5;241;43m=\u001b[39;49m\u001b[43mna_values\u001b[49m\u001b[43m,\u001b[49m\n\u001b[0;32m   1219\u001b[0m \u001b[43m    \u001b[49m\u001b[43mkeep_default_na\u001b[49m\u001b[38;5;241;43m=\u001b[39;49m\u001b[43mkeep_default_na\u001b[49m\u001b[43m,\u001b[49m\n\u001b[0;32m   1220\u001b[0m \u001b[43m    \u001b[49m\u001b[43mdisplayed_only\u001b[49m\u001b[38;5;241;43m=\u001b[39;49m\u001b[43mdisplayed_only\u001b[49m\u001b[43m,\u001b[49m\n\u001b[0;32m   1221\u001b[0m \u001b[43m    \u001b[49m\u001b[43mextract_links\u001b[49m\u001b[38;5;241;43m=\u001b[39;49m\u001b[43mextract_links\u001b[49m\u001b[43m,\u001b[49m\n\u001b[0;32m   1222\u001b[0m \u001b[43m\u001b[49m\u001b[43m)\u001b[49m\n",
      "File \u001b[1;32m~\\AppData\\Local\\Packages\\PythonSoftwareFoundation.Python.3.10_qbz5n2kfra8p0\\LocalCache\\local-packages\\Python310\\site-packages\\pandas\\io\\html.py:982\u001b[0m, in \u001b[0;36m_parse\u001b[1;34m(flavor, io, match, attrs, encoding, displayed_only, extract_links, **kwargs)\u001b[0m\n\u001b[0;32m    980\u001b[0m retained \u001b[38;5;241m=\u001b[39m \u001b[38;5;28;01mNone\u001b[39;00m\n\u001b[0;32m    981\u001b[0m \u001b[38;5;28;01mfor\u001b[39;00m flav \u001b[38;5;129;01min\u001b[39;00m flavor:\n\u001b[1;32m--> 982\u001b[0m     parser \u001b[38;5;241m=\u001b[39m \u001b[43m_parser_dispatch\u001b[49m\u001b[43m(\u001b[49m\u001b[43mflav\u001b[49m\u001b[43m)\u001b[49m\n\u001b[0;32m    983\u001b[0m     p \u001b[38;5;241m=\u001b[39m parser(io, compiled_match, attrs, encoding, displayed_only, extract_links)\n\u001b[0;32m    985\u001b[0m     \u001b[38;5;28;01mtry\u001b[39;00m:\n",
      "File \u001b[1;32m~\\AppData\\Local\\Packages\\PythonSoftwareFoundation.Python.3.10_qbz5n2kfra8p0\\LocalCache\\local-packages\\Python310\\site-packages\\pandas\\io\\html.py:939\u001b[0m, in \u001b[0;36m_parser_dispatch\u001b[1;34m(flavor)\u001b[0m\n\u001b[0;32m    937\u001b[0m \u001b[38;5;28;01melse\u001b[39;00m:\n\u001b[0;32m    938\u001b[0m     \u001b[38;5;28;01mif\u001b[39;00m \u001b[38;5;129;01mnot\u001b[39;00m _HAS_LXML:\n\u001b[1;32m--> 939\u001b[0m         \u001b[38;5;28;01mraise\u001b[39;00m \u001b[38;5;167;01mImportError\u001b[39;00m(\u001b[38;5;124m\"\u001b[39m\u001b[38;5;124mlxml not found, please install it\u001b[39m\u001b[38;5;124m\"\u001b[39m)\n\u001b[0;32m    940\u001b[0m \u001b[38;5;28;01mreturn\u001b[39;00m _valid_parsers[flavor]\n",
      "\u001b[1;31mImportError\u001b[0m: lxml not found, please install it"
     ]
    }
   ],
   "source": [
    "house_prices_df = pd.read_html('https://www.livingin-canada.com/house-prices-canada.html')"
   ]
  },
  {
   "cell_type": "code",
   "execution_count": 33,
   "metadata": {
    "executionInfo": {
     "elapsed": 722,
     "status": "ok",
     "timestamp": 1618626359365,
     "user": {
      "displayName": "Stemplicity",
      "photoUrl": "https://lh3.googleusercontent.com/a-/AOh14Gj2vCFt-bD5mPBhUWX0QA6xiBgoXQXtwUm2jgjaCg=s64",
      "userId": "10668071569687886186"
     },
     "user_tz": 240
    },
    "id": "tAJRGqF-uobr"
   },
   "outputs": [
    {
     "ename": "NameError",
     "evalue": "name 'house_prices_df' is not defined",
     "output_type": "error",
     "traceback": [
      "\u001b[1;31m---------------------------------------------------------------------------\u001b[0m",
      "\u001b[1;31mNameError\u001b[0m                                 Traceback (most recent call last)",
      "Cell \u001b[1;32mIn[33], line 2\u001b[0m\n\u001b[0;32m      1\u001b[0m \u001b[38;5;66;03m# Read tabular data using read_html\u001b[39;00m\n\u001b[1;32m----> 2\u001b[0m \u001b[43mhouse_prices_df\u001b[49m\n",
      "\u001b[1;31mNameError\u001b[0m: name 'house_prices_df' is not defined"
     ]
    }
   ],
   "source": [
    "# Read tabular data using read_html\n",
    "house_prices_df[1]"
   ]
  },
  {
   "cell_type": "code",
   "execution_count": 37,
   "metadata": {
    "colab": {
     "base_uri": "https://localhost:8080/",
     "height": 314
    },
    "executionInfo": {
     "elapsed": 299,
     "status": "ok",
     "timestamp": 1618626360373,
     "user": {
      "displayName": "Stemplicity",
      "photoUrl": "https://lh3.googleusercontent.com/a-/AOh14Gj2vCFt-bD5mPBhUWX0QA6xiBgoXQXtwUm2jgjaCg=s64",
      "userId": "10668071569687886186"
     },
     "user_tz": 240
    },
    "id": "Al8bvyYEuods",
    "outputId": "f030965a-9732-47f6-b9e2-cea2d4e7b33f"
   },
   "outputs": [
    {
     "ename": "ImportError",
     "evalue": "lxml not found, please install it",
     "output_type": "error",
     "traceback": [
      "\u001b[1;31m---------------------------------------------------------------------------\u001b[0m",
      "\u001b[1;31mImportError\u001b[0m                               Traceback (most recent call last)",
      "Cell \u001b[1;32mIn[37], line 1\u001b[0m\n\u001b[1;32m----> 1\u001b[0m ssa_df \u001b[38;5;241m=\u001b[39m \u001b[43mpd\u001b[49m\u001b[38;5;241;43m.\u001b[39;49m\u001b[43mread_html\u001b[49m\u001b[43m(\u001b[49m\u001b[38;5;124;43m'\u001b[39;49m\u001b[38;5;124;43mhttps://www.ssa.gov/oact/progdata/nra.html\u001b[39;49m\u001b[38;5;124;43m'\u001b[39;49m\u001b[43m)\u001b[49m\n",
      "File \u001b[1;32m~\\AppData\\Local\\Packages\\PythonSoftwareFoundation.Python.3.10_qbz5n2kfra8p0\\LocalCache\\local-packages\\Python310\\site-packages\\pandas\\util\\_decorators.py:331\u001b[0m, in \u001b[0;36mdeprecate_nonkeyword_arguments.<locals>.decorate.<locals>.wrapper\u001b[1;34m(*args, **kwargs)\u001b[0m\n\u001b[0;32m    325\u001b[0m \u001b[38;5;28;01mif\u001b[39;00m \u001b[38;5;28mlen\u001b[39m(args) \u001b[38;5;241m>\u001b[39m num_allow_args:\n\u001b[0;32m    326\u001b[0m     warnings\u001b[38;5;241m.\u001b[39mwarn(\n\u001b[0;32m    327\u001b[0m         msg\u001b[38;5;241m.\u001b[39mformat(arguments\u001b[38;5;241m=\u001b[39m_format_argument_list(allow_args)),\n\u001b[0;32m    328\u001b[0m         \u001b[38;5;167;01mFutureWarning\u001b[39;00m,\n\u001b[0;32m    329\u001b[0m         stacklevel\u001b[38;5;241m=\u001b[39mfind_stack_level(),\n\u001b[0;32m    330\u001b[0m     )\n\u001b[1;32m--> 331\u001b[0m \u001b[38;5;28;01mreturn\u001b[39;00m func(\u001b[38;5;241m*\u001b[39margs, \u001b[38;5;241m*\u001b[39m\u001b[38;5;241m*\u001b[39mkwargs)\n",
      "File \u001b[1;32m~\\AppData\\Local\\Packages\\PythonSoftwareFoundation.Python.3.10_qbz5n2kfra8p0\\LocalCache\\local-packages\\Python310\\site-packages\\pandas\\io\\html.py:1205\u001b[0m, in \u001b[0;36mread_html\u001b[1;34m(io, match, flavor, header, index_col, skiprows, attrs, parse_dates, thousands, encoding, decimal, converters, na_values, keep_default_na, displayed_only, extract_links)\u001b[0m\n\u001b[0;32m   1201\u001b[0m validate_header_arg(header)\n\u001b[0;32m   1203\u001b[0m io \u001b[38;5;241m=\u001b[39m stringify_path(io)\n\u001b[1;32m-> 1205\u001b[0m \u001b[38;5;28;01mreturn\u001b[39;00m \u001b[43m_parse\u001b[49m\u001b[43m(\u001b[49m\n\u001b[0;32m   1206\u001b[0m \u001b[43m    \u001b[49m\u001b[43mflavor\u001b[49m\u001b[38;5;241;43m=\u001b[39;49m\u001b[43mflavor\u001b[49m\u001b[43m,\u001b[49m\n\u001b[0;32m   1207\u001b[0m \u001b[43m    \u001b[49m\u001b[43mio\u001b[49m\u001b[38;5;241;43m=\u001b[39;49m\u001b[43mio\u001b[49m\u001b[43m,\u001b[49m\n\u001b[0;32m   1208\u001b[0m \u001b[43m    \u001b[49m\u001b[43mmatch\u001b[49m\u001b[38;5;241;43m=\u001b[39;49m\u001b[43mmatch\u001b[49m\u001b[43m,\u001b[49m\n\u001b[0;32m   1209\u001b[0m \u001b[43m    \u001b[49m\u001b[43mheader\u001b[49m\u001b[38;5;241;43m=\u001b[39;49m\u001b[43mheader\u001b[49m\u001b[43m,\u001b[49m\n\u001b[0;32m   1210\u001b[0m \u001b[43m    \u001b[49m\u001b[43mindex_col\u001b[49m\u001b[38;5;241;43m=\u001b[39;49m\u001b[43mindex_col\u001b[49m\u001b[43m,\u001b[49m\n\u001b[0;32m   1211\u001b[0m \u001b[43m    \u001b[49m\u001b[43mskiprows\u001b[49m\u001b[38;5;241;43m=\u001b[39;49m\u001b[43mskiprows\u001b[49m\u001b[43m,\u001b[49m\n\u001b[0;32m   1212\u001b[0m \u001b[43m    \u001b[49m\u001b[43mparse_dates\u001b[49m\u001b[38;5;241;43m=\u001b[39;49m\u001b[43mparse_dates\u001b[49m\u001b[43m,\u001b[49m\n\u001b[0;32m   1213\u001b[0m \u001b[43m    \u001b[49m\u001b[43mthousands\u001b[49m\u001b[38;5;241;43m=\u001b[39;49m\u001b[43mthousands\u001b[49m\u001b[43m,\u001b[49m\n\u001b[0;32m   1214\u001b[0m \u001b[43m    \u001b[49m\u001b[43mattrs\u001b[49m\u001b[38;5;241;43m=\u001b[39;49m\u001b[43mattrs\u001b[49m\u001b[43m,\u001b[49m\n\u001b[0;32m   1215\u001b[0m \u001b[43m    \u001b[49m\u001b[43mencoding\u001b[49m\u001b[38;5;241;43m=\u001b[39;49m\u001b[43mencoding\u001b[49m\u001b[43m,\u001b[49m\n\u001b[0;32m   1216\u001b[0m \u001b[43m    \u001b[49m\u001b[43mdecimal\u001b[49m\u001b[38;5;241;43m=\u001b[39;49m\u001b[43mdecimal\u001b[49m\u001b[43m,\u001b[49m\n\u001b[0;32m   1217\u001b[0m \u001b[43m    \u001b[49m\u001b[43mconverters\u001b[49m\u001b[38;5;241;43m=\u001b[39;49m\u001b[43mconverters\u001b[49m\u001b[43m,\u001b[49m\n\u001b[0;32m   1218\u001b[0m \u001b[43m    \u001b[49m\u001b[43mna_values\u001b[49m\u001b[38;5;241;43m=\u001b[39;49m\u001b[43mna_values\u001b[49m\u001b[43m,\u001b[49m\n\u001b[0;32m   1219\u001b[0m \u001b[43m    \u001b[49m\u001b[43mkeep_default_na\u001b[49m\u001b[38;5;241;43m=\u001b[39;49m\u001b[43mkeep_default_na\u001b[49m\u001b[43m,\u001b[49m\n\u001b[0;32m   1220\u001b[0m \u001b[43m    \u001b[49m\u001b[43mdisplayed_only\u001b[49m\u001b[38;5;241;43m=\u001b[39;49m\u001b[43mdisplayed_only\u001b[49m\u001b[43m,\u001b[49m\n\u001b[0;32m   1221\u001b[0m \u001b[43m    \u001b[49m\u001b[43mextract_links\u001b[49m\u001b[38;5;241;43m=\u001b[39;49m\u001b[43mextract_links\u001b[49m\u001b[43m,\u001b[49m\n\u001b[0;32m   1222\u001b[0m \u001b[43m\u001b[49m\u001b[43m)\u001b[49m\n",
      "File \u001b[1;32m~\\AppData\\Local\\Packages\\PythonSoftwareFoundation.Python.3.10_qbz5n2kfra8p0\\LocalCache\\local-packages\\Python310\\site-packages\\pandas\\io\\html.py:982\u001b[0m, in \u001b[0;36m_parse\u001b[1;34m(flavor, io, match, attrs, encoding, displayed_only, extract_links, **kwargs)\u001b[0m\n\u001b[0;32m    980\u001b[0m retained \u001b[38;5;241m=\u001b[39m \u001b[38;5;28;01mNone\u001b[39;00m\n\u001b[0;32m    981\u001b[0m \u001b[38;5;28;01mfor\u001b[39;00m flav \u001b[38;5;129;01min\u001b[39;00m flavor:\n\u001b[1;32m--> 982\u001b[0m     parser \u001b[38;5;241m=\u001b[39m \u001b[43m_parser_dispatch\u001b[49m\u001b[43m(\u001b[49m\u001b[43mflav\u001b[49m\u001b[43m)\u001b[49m\n\u001b[0;32m    983\u001b[0m     p \u001b[38;5;241m=\u001b[39m parser(io, compiled_match, attrs, encoding, displayed_only, extract_links)\n\u001b[0;32m    985\u001b[0m     \u001b[38;5;28;01mtry\u001b[39;00m:\n",
      "File \u001b[1;32m~\\AppData\\Local\\Packages\\PythonSoftwareFoundation.Python.3.10_qbz5n2kfra8p0\\LocalCache\\local-packages\\Python310\\site-packages\\pandas\\io\\html.py:939\u001b[0m, in \u001b[0;36m_parser_dispatch\u001b[1;34m(flavor)\u001b[0m\n\u001b[0;32m    937\u001b[0m \u001b[38;5;28;01melse\u001b[39;00m:\n\u001b[0;32m    938\u001b[0m     \u001b[38;5;28;01mif\u001b[39;00m \u001b[38;5;129;01mnot\u001b[39;00m _HAS_LXML:\n\u001b[1;32m--> 939\u001b[0m         \u001b[38;5;28;01mraise\u001b[39;00m \u001b[38;5;167;01mImportError\u001b[39;00m(\u001b[38;5;124m\"\u001b[39m\u001b[38;5;124mlxml not found, please install it\u001b[39m\u001b[38;5;124m\"\u001b[39m)\n\u001b[0;32m    940\u001b[0m \u001b[38;5;28;01mreturn\u001b[39;00m _valid_parsers[flavor]\n",
      "\u001b[1;31mImportError\u001b[0m: lxml not found, please install it"
     ]
    }
   ],
   "source": [
    "ssa_df = pd.read_html('https://www.ssa.gov/oact/progdata/nra.html')"
   ]
  },
  {
   "cell_type": "code",
   "execution_count": null,
   "metadata": {
    "colab": {
     "base_uri": "https://localhost:8080/",
     "height": 402
    },
    "executionInfo": {
     "elapsed": 318,
     "status": "ok",
     "timestamp": 1618626363460,
     "user": {
      "displayName": "Stemplicity",
      "photoUrl": "https://lh3.googleusercontent.com/a-/AOh14Gj2vCFt-bD5mPBhUWX0QA6xiBgoXQXtwUm2jgjaCg=s64",
      "userId": "10668071569687886186"
     },
     "user_tz": 240
    },
    "id": "K-abffkEuoZs",
    "outputId": "be71e7b1-3266-42e4-ae44-01c6dc3715ae"
   },
   "outputs": [],
   "source": []
  },
  {
   "cell_type": "markdown",
   "metadata": {
    "id": "jRtr2lpr2NHr"
   },
   "source": [
    "**MINI CHALLENGE #2:**\n",
    "- **Write a code that uses Pandas to read tabular US retirement data**\n",
    "- **You can use data from here: https://www.ssa.gov/oact/progdata/nra.html** "
   ]
  },
  {
   "cell_type": "code",
   "execution_count": null,
   "metadata": {
    "executionInfo": {
     "elapsed": 3559,
     "status": "aborted",
     "timestamp": 1618625933864,
     "user": {
      "displayName": "Stemplicity",
      "photoUrl": "https://lh3.googleusercontent.com/a-/AOh14Gj2vCFt-bD5mPBhUWX0QA6xiBgoXQXtwUm2jgjaCg=s64",
      "userId": "10668071569687886186"
     },
     "user_tz": 240
    },
    "id": "N-yqdeq1ZBc3"
   },
   "outputs": [],
   "source": []
  },
  {
   "cell_type": "markdown",
   "metadata": {
    "id": "Y6cqkuf3YmNE"
   },
   "source": [
    "# TASK #3. WRITE DATAFRAME INTO CSV"
   ]
  },
  {
   "cell_type": "code",
   "execution_count": 38,
   "metadata": {
    "scrolled": true
   },
   "outputs": [
    {
     "data": {
      "text/html": [
       "<div>\n",
       "<style scoped>\n",
       "    .dataframe tbody tr th:only-of-type {\n",
       "        vertical-align: middle;\n",
       "    }\n",
       "\n",
       "    .dataframe tbody tr th {\n",
       "        vertical-align: top;\n",
       "    }\n",
       "\n",
       "    .dataframe thead th {\n",
       "        text-align: right;\n",
       "    }\n",
       "</style>\n",
       "<table border=\"1\" class=\"dataframe\">\n",
       "  <thead>\n",
       "    <tr style=\"text-align: right;\">\n",
       "      <th></th>\n",
       "      <th>Employee ID</th>\n",
       "      <th>Employee Name</th>\n",
       "      <th>Annual Salary [$]</th>\n",
       "      <th>Years with Company</th>\n",
       "    </tr>\n",
       "  </thead>\n",
       "  <tbody>\n",
       "    <tr>\n",
       "      <th>0</th>\n",
       "      <td>1</td>\n",
       "      <td>Laila Aly</td>\n",
       "      <td>35000</td>\n",
       "      <td>5</td>\n",
       "    </tr>\n",
       "    <tr>\n",
       "      <th>1</th>\n",
       "      <td>2</td>\n",
       "      <td>Kate Steve</td>\n",
       "      <td>40000</td>\n",
       "      <td>7</td>\n",
       "    </tr>\n",
       "    <tr>\n",
       "      <th>2</th>\n",
       "      <td>3</td>\n",
       "      <td>Nicole Mitch</td>\n",
       "      <td>100000</td>\n",
       "      <td>10</td>\n",
       "    </tr>\n",
       "    <tr>\n",
       "      <th>3</th>\n",
       "      <td>4</td>\n",
       "      <td>Francis Morris</td>\n",
       "      <td>25000</td>\n",
       "      <td>1</td>\n",
       "    </tr>\n",
       "  </tbody>\n",
       "</table>\n",
       "</div>"
      ],
      "text/plain": [
       "   Employee ID   Employee Name  Annual Salary [$]  Years with Company\n",
       "0            1       Laila Aly              35000                   5\n",
       "1            2      Kate Steve              40000                   7\n",
       "2            3    Nicole Mitch             100000                  10\n",
       "3            4  Francis Morris              25000                   1"
      ]
     },
     "execution_count": 38,
     "metadata": {},
     "output_type": "execute_result"
    }
   ],
   "source": [
    "employee_df = pd.DataFrame({'Employee ID':[1, 2, 3, 4], \n",
    "                            'Employee Name':['Laila Aly', 'Kate Steve', 'Nicole Mitch', 'Francis Morris'], \n",
    "                            'Annual Salary [$]':[35000, 40000, 100000, 25000], \n",
    "                            'Years with Company':[5, 7, 10, 1]})\n",
    "employee_df"
   ]
  },
  {
   "cell_type": "code",
   "execution_count": 39,
   "metadata": {
    "executionInfo": {
     "elapsed": 279,
     "status": "ok",
     "timestamp": 1618626492236,
     "user": {
      "displayName": "Stemplicity",
      "photoUrl": "https://lh3.googleusercontent.com/a-/AOh14Gj2vCFt-bD5mPBhUWX0QA6xiBgoXQXtwUm2jgjaCg=s64",
      "userId": "10668071569687886186"
     },
     "user_tz": 240
    },
    "id": "lhwAwJ7BuoXn"
   },
   "outputs": [],
   "source": [
    "# write to a csv file without an index\n",
    "employee_df.to_csv('employee_info_with_index.csv', index = True)"
   ]
  },
  {
   "cell_type": "markdown",
   "metadata": {
    "id": "6zAIsDgosGp9"
   },
   "source": [
    "**MINI CHALLENGE #3:**\n",
    "- **Use set index = False and rerun the cell. Comment on the output CSV.**"
   ]
  },
  {
   "cell_type": "code",
   "execution_count": 41,
   "metadata": {
    "id": "zkakcLRgsIEf"
   },
   "outputs": [],
   "source": [
    "employee_df.to_csv('employee_infor_with_no_index.csv', index = False)"
   ]
  },
  {
   "cell_type": "markdown",
   "metadata": {
    "id": "UAYWMvHpR7eI"
   },
   "source": [
    "# TASK #4. SETTING/RESETTING INDEX"
   ]
  },
  {
   "cell_type": "code",
   "execution_count": 46,
   "metadata": {
    "colab": {
     "base_uri": "https://localhost:8080/",
     "height": 343
    },
    "executionInfo": {
     "elapsed": 321,
     "status": "ok",
     "timestamp": 1618627041980,
     "user": {
      "displayName": "Stemplicity",
      "photoUrl": "https://lh3.googleusercontent.com/a-/AOh14Gj2vCFt-bD5mPBhUWX0QA6xiBgoXQXtwUm2jgjaCg=s64",
      "userId": "10668071569687886186"
     },
     "user_tz": 240
    },
    "id": "7EPZ4Oj3SAgo",
    "outputId": "cc9ffde9-ea0f-4f1e-97b5-0ff57791cc0f"
   },
   "outputs": [
    {
     "data": {
      "text/html": [
       "<div>\n",
       "<style scoped>\n",
       "    .dataframe tbody tr th:only-of-type {\n",
       "        vertical-align: middle;\n",
       "    }\n",
       "\n",
       "    .dataframe tbody tr th {\n",
       "        vertical-align: top;\n",
       "    }\n",
       "\n",
       "    .dataframe thead th {\n",
       "        text-align: right;\n",
       "    }\n",
       "</style>\n",
       "<table border=\"1\" class=\"dataframe\">\n",
       "  <thead>\n",
       "    <tr style=\"text-align: right;\">\n",
       "      <th></th>\n",
       "      <th>First Name</th>\n",
       "      <th>Last Name</th>\n",
       "      <th>Salary</th>\n",
       "      <th>Years with Company</th>\n",
       "      <th>Postal Code</th>\n",
       "      <th>Email</th>\n",
       "    </tr>\n",
       "  </thead>\n",
       "  <tbody>\n",
       "    <tr>\n",
       "      <th>0</th>\n",
       "      <td>Mike</td>\n",
       "      <td>Moe</td>\n",
       "      <td>5000.00</td>\n",
       "      <td>3</td>\n",
       "      <td>N94 3M0</td>\n",
       "      <td>bird@gmail.com</td>\n",
       "    </tr>\n",
       "    <tr>\n",
       "      <th>1</th>\n",
       "      <td>Noah</td>\n",
       "      <td>Ryan</td>\n",
       "      <td>10000.00</td>\n",
       "      <td>8</td>\n",
       "      <td>N8S 14K</td>\n",
       "      <td>nsmall@hotmail.com</td>\n",
       "    </tr>\n",
       "    <tr>\n",
       "      <th>2</th>\n",
       "      <td>Nina</td>\n",
       "      <td>Keller</td>\n",
       "      <td>9072.02</td>\n",
       "      <td>17</td>\n",
       "      <td>S1T 4E6</td>\n",
       "      <td>azikez@gahew.mr</td>\n",
       "    </tr>\n",
       "    <tr>\n",
       "      <th>3</th>\n",
       "      <td>Chanel</td>\n",
       "      <td>Steve</td>\n",
       "      <td>11072.02</td>\n",
       "      <td>12</td>\n",
       "      <td>N7T 3E6</td>\n",
       "      <td>chanel@gmail.com</td>\n",
       "    </tr>\n",
       "    <tr>\n",
       "      <th>4</th>\n",
       "      <td>Kate</td>\n",
       "      <td>Noor</td>\n",
       "      <td>5000.00</td>\n",
       "      <td>23</td>\n",
       "      <td>K8N 5H6</td>\n",
       "      <td>kate@hotmail.com</td>\n",
       "    </tr>\n",
       "    <tr>\n",
       "      <th>5</th>\n",
       "      <td>Samer</td>\n",
       "      <td>Mo</td>\n",
       "      <td>100000.00</td>\n",
       "      <td>13</td>\n",
       "      <td>J7H 3HY</td>\n",
       "      <td>samer@gmail.com</td>\n",
       "    </tr>\n",
       "    <tr>\n",
       "      <th>6</th>\n",
       "      <td>Heba</td>\n",
       "      <td>Ismail</td>\n",
       "      <td>50000.00</td>\n",
       "      <td>7</td>\n",
       "      <td>K8Y 3M8</td>\n",
       "      <td>heba.ismail@hotmail.com</td>\n",
       "    </tr>\n",
       "    <tr>\n",
       "      <th>7</th>\n",
       "      <td>Laila</td>\n",
       "      <td>Aly</td>\n",
       "      <td>20000.00</td>\n",
       "      <td>5</td>\n",
       "      <td>J8Y 3M0</td>\n",
       "      <td>Laila.a@hotmail.com</td>\n",
       "    </tr>\n",
       "    <tr>\n",
       "      <th>8</th>\n",
       "      <td>Joseph</td>\n",
       "      <td>Patton</td>\n",
       "      <td>2629.13</td>\n",
       "      <td>2</td>\n",
       "      <td>M6U 5U7</td>\n",
       "      <td>daafeja@boh.jm</td>\n",
       "    </tr>\n",
       "    <tr>\n",
       "      <th>9</th>\n",
       "      <td>Noah</td>\n",
       "      <td>Moran</td>\n",
       "      <td>8626.96</td>\n",
       "      <td>11</td>\n",
       "      <td>K2D 4M9</td>\n",
       "      <td>guutodi@bigwoc.kw</td>\n",
       "    </tr>\n",
       "  </tbody>\n",
       "</table>\n",
       "</div>"
      ],
      "text/plain": [
       "  First Name Last Name     Salary  Years with Company Postal Code  \\\n",
       "0       Mike       Moe    5000.00                   3     N94 3M0   \n",
       "1       Noah      Ryan   10000.00                   8     N8S 14K   \n",
       "2       Nina    Keller    9072.02                  17     S1T 4E6   \n",
       "3    Chanel      Steve   11072.02                  12     N7T 3E6   \n",
       "4       Kate      Noor    5000.00                  23     K8N 5H6   \n",
       "5      Samer        Mo  100000.00                  13     J7H 3HY   \n",
       "6       Heba    Ismail   50000.00                   7     K8Y 3M8   \n",
       "7      Laila       Aly   20000.00                   5     J8Y 3M0   \n",
       "8     Joseph    Patton    2629.13                   2     M6U 5U7   \n",
       "9       Noah     Moran    8626.96                  11     K2D 4M9   \n",
       "\n",
       "                     Email  \n",
       "0           bird@gmail.com  \n",
       "1       nsmall@hotmail.com  \n",
       "2          azikez@gahew.mr  \n",
       "3         chanel@gmail.com  \n",
       "4         kate@hotmail.com  \n",
       "5          samer@gmail.com  \n",
       "6  heba.ismail@hotmail.com  \n",
       "7      Laila.a@hotmail.com  \n",
       "8           daafeja@boh.jm  \n",
       "9        guutodi@bigwoc.kw  "
      ]
     },
     "execution_count": 46,
     "metadata": {},
     "output_type": "execute_result"
    }
   ],
   "source": [
    "# Pandas is used to read a csv file and store data in a DataFrame\n",
    "# Note that a numeric index is being set by default\n",
    "employee_df = pd.read_csv('employee_information.csv')\n",
    "employee_df"
   ]
  },
  {
   "cell_type": "code",
   "execution_count": 47,
   "metadata": {
    "colab": {
     "base_uri": "https://localhost:8080/",
     "height": 373
    },
    "executionInfo": {
     "elapsed": 267,
     "status": "ok",
     "timestamp": 1618627050292,
     "user": {
      "displayName": "Stemplicity",
      "photoUrl": "https://lh3.googleusercontent.com/a-/AOh14Gj2vCFt-bD5mPBhUWX0QA6xiBgoXQXtwUm2jgjaCg=s64",
      "userId": "10668071569687886186"
     },
     "user_tz": 240
    },
    "id": "xCTDeFjjSAjW",
    "outputId": "b336dc03-63f6-47aa-db80-5d0de6fb004e"
   },
   "outputs": [
    {
     "data": {
      "text/html": [
       "<div>\n",
       "<style scoped>\n",
       "    .dataframe tbody tr th:only-of-type {\n",
       "        vertical-align: middle;\n",
       "    }\n",
       "\n",
       "    .dataframe tbody tr th {\n",
       "        vertical-align: top;\n",
       "    }\n",
       "\n",
       "    .dataframe thead th {\n",
       "        text-align: right;\n",
       "    }\n",
       "</style>\n",
       "<table border=\"1\" class=\"dataframe\">\n",
       "  <thead>\n",
       "    <tr style=\"text-align: right;\">\n",
       "      <th></th>\n",
       "      <th>Last Name</th>\n",
       "      <th>Salary</th>\n",
       "      <th>Years with Company</th>\n",
       "      <th>Postal Code</th>\n",
       "      <th>Email</th>\n",
       "    </tr>\n",
       "    <tr>\n",
       "      <th>First Name</th>\n",
       "      <th></th>\n",
       "      <th></th>\n",
       "      <th></th>\n",
       "      <th></th>\n",
       "      <th></th>\n",
       "    </tr>\n",
       "  </thead>\n",
       "  <tbody>\n",
       "    <tr>\n",
       "      <th>Mike</th>\n",
       "      <td>Moe</td>\n",
       "      <td>5000.00</td>\n",
       "      <td>3</td>\n",
       "      <td>N94 3M0</td>\n",
       "      <td>bird@gmail.com</td>\n",
       "    </tr>\n",
       "    <tr>\n",
       "      <th>Noah</th>\n",
       "      <td>Ryan</td>\n",
       "      <td>10000.00</td>\n",
       "      <td>8</td>\n",
       "      <td>N8S 14K</td>\n",
       "      <td>nsmall@hotmail.com</td>\n",
       "    </tr>\n",
       "    <tr>\n",
       "      <th>Nina</th>\n",
       "      <td>Keller</td>\n",
       "      <td>9072.02</td>\n",
       "      <td>17</td>\n",
       "      <td>S1T 4E6</td>\n",
       "      <td>azikez@gahew.mr</td>\n",
       "    </tr>\n",
       "    <tr>\n",
       "      <th>Chanel</th>\n",
       "      <td>Steve</td>\n",
       "      <td>11072.02</td>\n",
       "      <td>12</td>\n",
       "      <td>N7T 3E6</td>\n",
       "      <td>chanel@gmail.com</td>\n",
       "    </tr>\n",
       "    <tr>\n",
       "      <th>Kate</th>\n",
       "      <td>Noor</td>\n",
       "      <td>5000.00</td>\n",
       "      <td>23</td>\n",
       "      <td>K8N 5H6</td>\n",
       "      <td>kate@hotmail.com</td>\n",
       "    </tr>\n",
       "    <tr>\n",
       "      <th>Samer</th>\n",
       "      <td>Mo</td>\n",
       "      <td>100000.00</td>\n",
       "      <td>13</td>\n",
       "      <td>J7H 3HY</td>\n",
       "      <td>samer@gmail.com</td>\n",
       "    </tr>\n",
       "    <tr>\n",
       "      <th>Heba</th>\n",
       "      <td>Ismail</td>\n",
       "      <td>50000.00</td>\n",
       "      <td>7</td>\n",
       "      <td>K8Y 3M8</td>\n",
       "      <td>heba.ismail@hotmail.com</td>\n",
       "    </tr>\n",
       "    <tr>\n",
       "      <th>Laila</th>\n",
       "      <td>Aly</td>\n",
       "      <td>20000.00</td>\n",
       "      <td>5</td>\n",
       "      <td>J8Y 3M0</td>\n",
       "      <td>Laila.a@hotmail.com</td>\n",
       "    </tr>\n",
       "    <tr>\n",
       "      <th>Joseph</th>\n",
       "      <td>Patton</td>\n",
       "      <td>2629.13</td>\n",
       "      <td>2</td>\n",
       "      <td>M6U 5U7</td>\n",
       "      <td>daafeja@boh.jm</td>\n",
       "    </tr>\n",
       "    <tr>\n",
       "      <th>Noah</th>\n",
       "      <td>Moran</td>\n",
       "      <td>8626.96</td>\n",
       "      <td>11</td>\n",
       "      <td>K2D 4M9</td>\n",
       "      <td>guutodi@bigwoc.kw</td>\n",
       "    </tr>\n",
       "  </tbody>\n",
       "</table>\n",
       "</div>"
      ],
      "text/plain": [
       "           Last Name     Salary  Years with Company Postal Code  \\\n",
       "First Name                                                        \n",
       "Mike             Moe    5000.00                   3     N94 3M0   \n",
       "Noah            Ryan   10000.00                   8     N8S 14K   \n",
       "Nina          Keller    9072.02                  17     S1T 4E6   \n",
       "Chanel         Steve   11072.02                  12     N7T 3E6   \n",
       "Kate            Noor    5000.00                  23     K8N 5H6   \n",
       "Samer             Mo  100000.00                  13     J7H 3HY   \n",
       "Heba          Ismail   50000.00                   7     K8Y 3M8   \n",
       "Laila            Aly   20000.00                   5     J8Y 3M0   \n",
       "Joseph        Patton    2629.13                   2     M6U 5U7   \n",
       "Noah           Moran    8626.96                  11     K2D 4M9   \n",
       "\n",
       "                              Email  \n",
       "First Name                           \n",
       "Mike                 bird@gmail.com  \n",
       "Noah             nsmall@hotmail.com  \n",
       "Nina                azikez@gahew.mr  \n",
       "Chanel             chanel@gmail.com  \n",
       "Kate               kate@hotmail.com  \n",
       "Samer               samer@gmail.com  \n",
       "Heba        heba.ismail@hotmail.com  \n",
       "Laila           Laila.a@hotmail.com  \n",
       "Joseph               daafeja@boh.jm  \n",
       "Noah              guutodi@bigwoc.kw  "
      ]
     },
     "execution_count": 47,
     "metadata": {},
     "output_type": "execute_result"
    }
   ],
   "source": [
    "# You can assign a specific column to be the index as follows\n",
    "\n",
    "employee_df.set_index('First Name', inplace = True)\n",
    "employee_df"
   ]
  },
  {
   "cell_type": "code",
   "execution_count": 48,
   "metadata": {
    "colab": {
     "base_uri": "https://localhost:8080/",
     "height": 343
    },
    "executionInfo": {
     "elapsed": 352,
     "status": "ok",
     "timestamp": 1618627056011,
     "user": {
      "displayName": "Stemplicity",
      "photoUrl": "https://lh3.googleusercontent.com/a-/AOh14Gj2vCFt-bD5mPBhUWX0QA6xiBgoXQXtwUm2jgjaCg=s64",
      "userId": "10668071569687886186"
     },
     "user_tz": 240
    },
    "id": "11deXy0-SAmJ",
    "outputId": "d98111aa-e3b0-486d-9a8d-4310cc97abde"
   },
   "outputs": [
    {
     "data": {
      "text/html": [
       "<div>\n",
       "<style scoped>\n",
       "    .dataframe tbody tr th:only-of-type {\n",
       "        vertical-align: middle;\n",
       "    }\n",
       "\n",
       "    .dataframe tbody tr th {\n",
       "        vertical-align: top;\n",
       "    }\n",
       "\n",
       "    .dataframe thead th {\n",
       "        text-align: right;\n",
       "    }\n",
       "</style>\n",
       "<table border=\"1\" class=\"dataframe\">\n",
       "  <thead>\n",
       "    <tr style=\"text-align: right;\">\n",
       "      <th></th>\n",
       "      <th>First Name</th>\n",
       "      <th>Last Name</th>\n",
       "      <th>Salary</th>\n",
       "      <th>Years with Company</th>\n",
       "      <th>Postal Code</th>\n",
       "      <th>Email</th>\n",
       "    </tr>\n",
       "  </thead>\n",
       "  <tbody>\n",
       "    <tr>\n",
       "      <th>0</th>\n",
       "      <td>Mike</td>\n",
       "      <td>Moe</td>\n",
       "      <td>5000.00</td>\n",
       "      <td>3</td>\n",
       "      <td>N94 3M0</td>\n",
       "      <td>bird@gmail.com</td>\n",
       "    </tr>\n",
       "    <tr>\n",
       "      <th>1</th>\n",
       "      <td>Noah</td>\n",
       "      <td>Ryan</td>\n",
       "      <td>10000.00</td>\n",
       "      <td>8</td>\n",
       "      <td>N8S 14K</td>\n",
       "      <td>nsmall@hotmail.com</td>\n",
       "    </tr>\n",
       "    <tr>\n",
       "      <th>2</th>\n",
       "      <td>Nina</td>\n",
       "      <td>Keller</td>\n",
       "      <td>9072.02</td>\n",
       "      <td>17</td>\n",
       "      <td>S1T 4E6</td>\n",
       "      <td>azikez@gahew.mr</td>\n",
       "    </tr>\n",
       "    <tr>\n",
       "      <th>3</th>\n",
       "      <td>Chanel</td>\n",
       "      <td>Steve</td>\n",
       "      <td>11072.02</td>\n",
       "      <td>12</td>\n",
       "      <td>N7T 3E6</td>\n",
       "      <td>chanel@gmail.com</td>\n",
       "    </tr>\n",
       "    <tr>\n",
       "      <th>4</th>\n",
       "      <td>Kate</td>\n",
       "      <td>Noor</td>\n",
       "      <td>5000.00</td>\n",
       "      <td>23</td>\n",
       "      <td>K8N 5H6</td>\n",
       "      <td>kate@hotmail.com</td>\n",
       "    </tr>\n",
       "    <tr>\n",
       "      <th>5</th>\n",
       "      <td>Samer</td>\n",
       "      <td>Mo</td>\n",
       "      <td>100000.00</td>\n",
       "      <td>13</td>\n",
       "      <td>J7H 3HY</td>\n",
       "      <td>samer@gmail.com</td>\n",
       "    </tr>\n",
       "    <tr>\n",
       "      <th>6</th>\n",
       "      <td>Heba</td>\n",
       "      <td>Ismail</td>\n",
       "      <td>50000.00</td>\n",
       "      <td>7</td>\n",
       "      <td>K8Y 3M8</td>\n",
       "      <td>heba.ismail@hotmail.com</td>\n",
       "    </tr>\n",
       "    <tr>\n",
       "      <th>7</th>\n",
       "      <td>Laila</td>\n",
       "      <td>Aly</td>\n",
       "      <td>20000.00</td>\n",
       "      <td>5</td>\n",
       "      <td>J8Y 3M0</td>\n",
       "      <td>Laila.a@hotmail.com</td>\n",
       "    </tr>\n",
       "    <tr>\n",
       "      <th>8</th>\n",
       "      <td>Joseph</td>\n",
       "      <td>Patton</td>\n",
       "      <td>2629.13</td>\n",
       "      <td>2</td>\n",
       "      <td>M6U 5U7</td>\n",
       "      <td>daafeja@boh.jm</td>\n",
       "    </tr>\n",
       "    <tr>\n",
       "      <th>9</th>\n",
       "      <td>Noah</td>\n",
       "      <td>Moran</td>\n",
       "      <td>8626.96</td>\n",
       "      <td>11</td>\n",
       "      <td>K2D 4M9</td>\n",
       "      <td>guutodi@bigwoc.kw</td>\n",
       "    </tr>\n",
       "  </tbody>\n",
       "</table>\n",
       "</div>"
      ],
      "text/plain": [
       "  First Name Last Name     Salary  Years with Company Postal Code  \\\n",
       "0       Mike       Moe    5000.00                   3     N94 3M0   \n",
       "1       Noah      Ryan   10000.00                   8     N8S 14K   \n",
       "2       Nina    Keller    9072.02                  17     S1T 4E6   \n",
       "3    Chanel      Steve   11072.02                  12     N7T 3E6   \n",
       "4       Kate      Noor    5000.00                  23     K8N 5H6   \n",
       "5      Samer        Mo  100000.00                  13     J7H 3HY   \n",
       "6       Heba    Ismail   50000.00                   7     K8Y 3M8   \n",
       "7      Laila       Aly   20000.00                   5     J8Y 3M0   \n",
       "8     Joseph    Patton    2629.13                   2     M6U 5U7   \n",
       "9       Noah     Moran    8626.96                  11     K2D 4M9   \n",
       "\n",
       "                     Email  \n",
       "0           bird@gmail.com  \n",
       "1       nsmall@hotmail.com  \n",
       "2          azikez@gahew.mr  \n",
       "3         chanel@gmail.com  \n",
       "4         kate@hotmail.com  \n",
       "5          samer@gmail.com  \n",
       "6  heba.ismail@hotmail.com  \n",
       "7      Laila.a@hotmail.com  \n",
       "8           daafeja@boh.jm  \n",
       "9        guutodi@bigwoc.kw  "
      ]
     },
     "execution_count": 48,
     "metadata": {},
     "output_type": "execute_result"
    }
   ],
   "source": [
    "# You can go back and use numeric index using reset_index\n",
    "employee_df.reset_index(inplace = True)\n",
    "employee_df"
   ]
  },
  {
   "cell_type": "code",
   "execution_count": 50,
   "metadata": {
    "colab": {
     "base_uri": "https://localhost:8080/",
     "height": 373
    },
    "executionInfo": {
     "elapsed": 322,
     "status": "ok",
     "timestamp": 1618627069706,
     "user": {
      "displayName": "Stemplicity",
      "photoUrl": "https://lh3.googleusercontent.com/a-/AOh14Gj2vCFt-bD5mPBhUWX0QA6xiBgoXQXtwUm2jgjaCg=s64",
      "userId": "10668071569687886186"
     },
     "user_tz": 240
    },
    "id": "BtZlbIvJSArX",
    "outputId": "8fda3c23-2374-4412-e70e-cb6ebeda15a7"
   },
   "outputs": [
    {
     "data": {
      "text/html": [
       "<div>\n",
       "<style scoped>\n",
       "    .dataframe tbody tr th:only-of-type {\n",
       "        vertical-align: middle;\n",
       "    }\n",
       "\n",
       "    .dataframe tbody tr th {\n",
       "        vertical-align: top;\n",
       "    }\n",
       "\n",
       "    .dataframe thead th {\n",
       "        text-align: right;\n",
       "    }\n",
       "</style>\n",
       "<table border=\"1\" class=\"dataframe\">\n",
       "  <thead>\n",
       "    <tr style=\"text-align: right;\">\n",
       "      <th></th>\n",
       "      <th>Last Name</th>\n",
       "      <th>Salary</th>\n",
       "      <th>Years with Company</th>\n",
       "      <th>Postal Code</th>\n",
       "      <th>Email</th>\n",
       "    </tr>\n",
       "    <tr>\n",
       "      <th>First Name</th>\n",
       "      <th></th>\n",
       "      <th></th>\n",
       "      <th></th>\n",
       "      <th></th>\n",
       "      <th></th>\n",
       "    </tr>\n",
       "  </thead>\n",
       "  <tbody>\n",
       "    <tr>\n",
       "      <th>Mike</th>\n",
       "      <td>Moe</td>\n",
       "      <td>5000.00</td>\n",
       "      <td>3</td>\n",
       "      <td>N94 3M0</td>\n",
       "      <td>bird@gmail.com</td>\n",
       "    </tr>\n",
       "    <tr>\n",
       "      <th>Noah</th>\n",
       "      <td>Ryan</td>\n",
       "      <td>10000.00</td>\n",
       "      <td>8</td>\n",
       "      <td>N8S 14K</td>\n",
       "      <td>nsmall@hotmail.com</td>\n",
       "    </tr>\n",
       "    <tr>\n",
       "      <th>Nina</th>\n",
       "      <td>Keller</td>\n",
       "      <td>9072.02</td>\n",
       "      <td>17</td>\n",
       "      <td>S1T 4E6</td>\n",
       "      <td>azikez@gahew.mr</td>\n",
       "    </tr>\n",
       "    <tr>\n",
       "      <th>Chanel</th>\n",
       "      <td>Steve</td>\n",
       "      <td>11072.02</td>\n",
       "      <td>12</td>\n",
       "      <td>N7T 3E6</td>\n",
       "      <td>chanel@gmail.com</td>\n",
       "    </tr>\n",
       "    <tr>\n",
       "      <th>Kate</th>\n",
       "      <td>Noor</td>\n",
       "      <td>5000.00</td>\n",
       "      <td>23</td>\n",
       "      <td>K8N 5H6</td>\n",
       "      <td>kate@hotmail.com</td>\n",
       "    </tr>\n",
       "    <tr>\n",
       "      <th>Samer</th>\n",
       "      <td>Mo</td>\n",
       "      <td>100000.00</td>\n",
       "      <td>13</td>\n",
       "      <td>J7H 3HY</td>\n",
       "      <td>samer@gmail.com</td>\n",
       "    </tr>\n",
       "    <tr>\n",
       "      <th>Heba</th>\n",
       "      <td>Ismail</td>\n",
       "      <td>50000.00</td>\n",
       "      <td>7</td>\n",
       "      <td>K8Y 3M8</td>\n",
       "      <td>heba.ismail@hotmail.com</td>\n",
       "    </tr>\n",
       "    <tr>\n",
       "      <th>Laila</th>\n",
       "      <td>Aly</td>\n",
       "      <td>20000.00</td>\n",
       "      <td>5</td>\n",
       "      <td>J8Y 3M0</td>\n",
       "      <td>Laila.a@hotmail.com</td>\n",
       "    </tr>\n",
       "    <tr>\n",
       "      <th>Joseph</th>\n",
       "      <td>Patton</td>\n",
       "      <td>2629.13</td>\n",
       "      <td>2</td>\n",
       "      <td>M6U 5U7</td>\n",
       "      <td>daafeja@boh.jm</td>\n",
       "    </tr>\n",
       "    <tr>\n",
       "      <th>Noah</th>\n",
       "      <td>Moran</td>\n",
       "      <td>8626.96</td>\n",
       "      <td>11</td>\n",
       "      <td>K2D 4M9</td>\n",
       "      <td>guutodi@bigwoc.kw</td>\n",
       "    </tr>\n",
       "  </tbody>\n",
       "</table>\n",
       "</div>"
      ],
      "text/plain": [
       "           Last Name     Salary  Years with Company Postal Code  \\\n",
       "First Name                                                        \n",
       "Mike             Moe    5000.00                   3     N94 3M0   \n",
       "Noah            Ryan   10000.00                   8     N8S 14K   \n",
       "Nina          Keller    9072.02                  17     S1T 4E6   \n",
       "Chanel         Steve   11072.02                  12     N7T 3E6   \n",
       "Kate            Noor    5000.00                  23     K8N 5H6   \n",
       "Samer             Mo  100000.00                  13     J7H 3HY   \n",
       "Heba          Ismail   50000.00                   7     K8Y 3M8   \n",
       "Laila            Aly   20000.00                   5     J8Y 3M0   \n",
       "Joseph        Patton    2629.13                   2     M6U 5U7   \n",
       "Noah           Moran    8626.96                  11     K2D 4M9   \n",
       "\n",
       "                              Email  \n",
       "First Name                           \n",
       "Mike                 bird@gmail.com  \n",
       "Noah             nsmall@hotmail.com  \n",
       "Nina                azikez@gahew.mr  \n",
       "Chanel             chanel@gmail.com  \n",
       "Kate               kate@hotmail.com  \n",
       "Samer               samer@gmail.com  \n",
       "Heba        heba.ismail@hotmail.com  \n",
       "Laila           Laila.a@hotmail.com  \n",
       "Joseph               daafeja@boh.jm  \n",
       "Noah              guutodi@bigwoc.kw  "
      ]
     },
     "execution_count": 50,
     "metadata": {},
     "output_type": "execute_result"
    }
   ],
   "source": [
    "# Alternatively, you can set the index name when you read the csv file as follows\n",
    "employee_df = pd.read_csv('employee_information.csv', index_col = 'First Name')\n",
    "employee_df"
   ]
  },
  {
   "cell_type": "markdown",
   "metadata": {
    "id": "7PyJ3Xpgs_Bv"
   },
   "source": [
    "**MINI CHALLENGE #4:**\n",
    "- **Load the employee_information.csv and then set the \"Last Name\" column as the index**"
   ]
  },
  {
   "cell_type": "code",
   "execution_count": 51,
   "metadata": {
    "id": "exF1JcLWtCMd"
   },
   "outputs": [
    {
     "data": {
      "text/html": [
       "<div>\n",
       "<style scoped>\n",
       "    .dataframe tbody tr th:only-of-type {\n",
       "        vertical-align: middle;\n",
       "    }\n",
       "\n",
       "    .dataframe tbody tr th {\n",
       "        vertical-align: top;\n",
       "    }\n",
       "\n",
       "    .dataframe thead th {\n",
       "        text-align: right;\n",
       "    }\n",
       "</style>\n",
       "<table border=\"1\" class=\"dataframe\">\n",
       "  <thead>\n",
       "    <tr style=\"text-align: right;\">\n",
       "      <th></th>\n",
       "      <th>First Name</th>\n",
       "      <th>Salary</th>\n",
       "      <th>Years with Company</th>\n",
       "      <th>Postal Code</th>\n",
       "      <th>Email</th>\n",
       "    </tr>\n",
       "    <tr>\n",
       "      <th>Last Name</th>\n",
       "      <th></th>\n",
       "      <th></th>\n",
       "      <th></th>\n",
       "      <th></th>\n",
       "      <th></th>\n",
       "    </tr>\n",
       "  </thead>\n",
       "  <tbody>\n",
       "    <tr>\n",
       "      <th>Moe</th>\n",
       "      <td>Mike</td>\n",
       "      <td>5000.00</td>\n",
       "      <td>3</td>\n",
       "      <td>N94 3M0</td>\n",
       "      <td>bird@gmail.com</td>\n",
       "    </tr>\n",
       "    <tr>\n",
       "      <th>Ryan</th>\n",
       "      <td>Noah</td>\n",
       "      <td>10000.00</td>\n",
       "      <td>8</td>\n",
       "      <td>N8S 14K</td>\n",
       "      <td>nsmall@hotmail.com</td>\n",
       "    </tr>\n",
       "    <tr>\n",
       "      <th>Keller</th>\n",
       "      <td>Nina</td>\n",
       "      <td>9072.02</td>\n",
       "      <td>17</td>\n",
       "      <td>S1T 4E6</td>\n",
       "      <td>azikez@gahew.mr</td>\n",
       "    </tr>\n",
       "    <tr>\n",
       "      <th>Steve</th>\n",
       "      <td>Chanel</td>\n",
       "      <td>11072.02</td>\n",
       "      <td>12</td>\n",
       "      <td>N7T 3E6</td>\n",
       "      <td>chanel@gmail.com</td>\n",
       "    </tr>\n",
       "    <tr>\n",
       "      <th>Noor</th>\n",
       "      <td>Kate</td>\n",
       "      <td>5000.00</td>\n",
       "      <td>23</td>\n",
       "      <td>K8N 5H6</td>\n",
       "      <td>kate@hotmail.com</td>\n",
       "    </tr>\n",
       "    <tr>\n",
       "      <th>Mo</th>\n",
       "      <td>Samer</td>\n",
       "      <td>100000.00</td>\n",
       "      <td>13</td>\n",
       "      <td>J7H 3HY</td>\n",
       "      <td>samer@gmail.com</td>\n",
       "    </tr>\n",
       "    <tr>\n",
       "      <th>Ismail</th>\n",
       "      <td>Heba</td>\n",
       "      <td>50000.00</td>\n",
       "      <td>7</td>\n",
       "      <td>K8Y 3M8</td>\n",
       "      <td>heba.ismail@hotmail.com</td>\n",
       "    </tr>\n",
       "    <tr>\n",
       "      <th>Aly</th>\n",
       "      <td>Laila</td>\n",
       "      <td>20000.00</td>\n",
       "      <td>5</td>\n",
       "      <td>J8Y 3M0</td>\n",
       "      <td>Laila.a@hotmail.com</td>\n",
       "    </tr>\n",
       "    <tr>\n",
       "      <th>Patton</th>\n",
       "      <td>Joseph</td>\n",
       "      <td>2629.13</td>\n",
       "      <td>2</td>\n",
       "      <td>M6U 5U7</td>\n",
       "      <td>daafeja@boh.jm</td>\n",
       "    </tr>\n",
       "    <tr>\n",
       "      <th>Moran</th>\n",
       "      <td>Noah</td>\n",
       "      <td>8626.96</td>\n",
       "      <td>11</td>\n",
       "      <td>K2D 4M9</td>\n",
       "      <td>guutodi@bigwoc.kw</td>\n",
       "    </tr>\n",
       "  </tbody>\n",
       "</table>\n",
       "</div>"
      ],
      "text/plain": [
       "          First Name     Salary  Years with Company Postal Code  \\\n",
       "Last Name                                                         \n",
       "Moe             Mike    5000.00                   3     N94 3M0   \n",
       "Ryan            Noah   10000.00                   8     N8S 14K   \n",
       "Keller          Nina    9072.02                  17     S1T 4E6   \n",
       "Steve        Chanel    11072.02                  12     N7T 3E6   \n",
       "Noor            Kate    5000.00                  23     K8N 5H6   \n",
       "Mo             Samer  100000.00                  13     J7H 3HY   \n",
       "Ismail          Heba   50000.00                   7     K8Y 3M8   \n",
       "Aly            Laila   20000.00                   5     J8Y 3M0   \n",
       "Patton        Joseph    2629.13                   2     M6U 5U7   \n",
       "Moran           Noah    8626.96                  11     K2D 4M9   \n",
       "\n",
       "                             Email  \n",
       "Last Name                           \n",
       "Moe                 bird@gmail.com  \n",
       "Ryan            nsmall@hotmail.com  \n",
       "Keller             azikez@gahew.mr  \n",
       "Steve             chanel@gmail.com  \n",
       "Noor              kate@hotmail.com  \n",
       "Mo                 samer@gmail.com  \n",
       "Ismail     heba.ismail@hotmail.com  \n",
       "Aly            Laila.a@hotmail.com  \n",
       "Patton              daafeja@boh.jm  \n",
       "Moran            guutodi@bigwoc.kw  "
      ]
     },
     "execution_count": 51,
     "metadata": {},
     "output_type": "execute_result"
    }
   ],
   "source": [
    "employee_df = pd.read_csv('employee_information.csv', index_col = 'Last Name')\n",
    "employee_df"
   ]
  },
  {
   "cell_type": "markdown",
   "metadata": {
    "id": "L6kMgjACej-5"
   },
   "source": [
    "# TASK #5. SELECTING COLUMNS FROM A DATAFRAME"
   ]
  },
  {
   "cell_type": "code",
   "execution_count": 52,
   "metadata": {
    "colab": {
     "base_uri": "https://localhost:8080/",
     "height": 343
    },
    "executionInfo": {
     "elapsed": 472,
     "status": "ok",
     "timestamp": 1618627367553,
     "user": {
      "displayName": "Stemplicity",
      "photoUrl": "https://lh3.googleusercontent.com/a-/AOh14Gj2vCFt-bD5mPBhUWX0QA6xiBgoXQXtwUm2jgjaCg=s64",
      "userId": "10668071569687886186"
     },
     "user_tz": 240
    },
    "id": "EbwxEZDNenqq",
    "outputId": "681ee18d-efeb-4efc-9a85-26363cb35dfc"
   },
   "outputs": [
    {
     "data": {
      "text/html": [
       "<div>\n",
       "<style scoped>\n",
       "    .dataframe tbody tr th:only-of-type {\n",
       "        vertical-align: middle;\n",
       "    }\n",
       "\n",
       "    .dataframe tbody tr th {\n",
       "        vertical-align: top;\n",
       "    }\n",
       "\n",
       "    .dataframe thead th {\n",
       "        text-align: right;\n",
       "    }\n",
       "</style>\n",
       "<table border=\"1\" class=\"dataframe\">\n",
       "  <thead>\n",
       "    <tr style=\"text-align: right;\">\n",
       "      <th></th>\n",
       "      <th>First Name</th>\n",
       "      <th>Last Name</th>\n",
       "      <th>Salary</th>\n",
       "      <th>Years with Company</th>\n",
       "      <th>Postal Code</th>\n",
       "      <th>Email</th>\n",
       "    </tr>\n",
       "  </thead>\n",
       "  <tbody>\n",
       "    <tr>\n",
       "      <th>0</th>\n",
       "      <td>Mike</td>\n",
       "      <td>Moe</td>\n",
       "      <td>5000.00</td>\n",
       "      <td>3</td>\n",
       "      <td>N94 3M0</td>\n",
       "      <td>bird@gmail.com</td>\n",
       "    </tr>\n",
       "    <tr>\n",
       "      <th>1</th>\n",
       "      <td>Noah</td>\n",
       "      <td>Ryan</td>\n",
       "      <td>10000.00</td>\n",
       "      <td>8</td>\n",
       "      <td>N8S 14K</td>\n",
       "      <td>nsmall@hotmail.com</td>\n",
       "    </tr>\n",
       "    <tr>\n",
       "      <th>2</th>\n",
       "      <td>Nina</td>\n",
       "      <td>Keller</td>\n",
       "      <td>9072.02</td>\n",
       "      <td>17</td>\n",
       "      <td>S1T 4E6</td>\n",
       "      <td>azikez@gahew.mr</td>\n",
       "    </tr>\n",
       "    <tr>\n",
       "      <th>3</th>\n",
       "      <td>Chanel</td>\n",
       "      <td>Steve</td>\n",
       "      <td>11072.02</td>\n",
       "      <td>12</td>\n",
       "      <td>N7T 3E6</td>\n",
       "      <td>chanel@gmail.com</td>\n",
       "    </tr>\n",
       "    <tr>\n",
       "      <th>4</th>\n",
       "      <td>Kate</td>\n",
       "      <td>Noor</td>\n",
       "      <td>5000.00</td>\n",
       "      <td>23</td>\n",
       "      <td>K8N 5H6</td>\n",
       "      <td>kate@hotmail.com</td>\n",
       "    </tr>\n",
       "    <tr>\n",
       "      <th>5</th>\n",
       "      <td>Samer</td>\n",
       "      <td>Mo</td>\n",
       "      <td>100000.00</td>\n",
       "      <td>13</td>\n",
       "      <td>J7H 3HY</td>\n",
       "      <td>samer@gmail.com</td>\n",
       "    </tr>\n",
       "    <tr>\n",
       "      <th>6</th>\n",
       "      <td>Heba</td>\n",
       "      <td>Ismail</td>\n",
       "      <td>50000.00</td>\n",
       "      <td>7</td>\n",
       "      <td>K8Y 3M8</td>\n",
       "      <td>heba.ismail@hotmail.com</td>\n",
       "    </tr>\n",
       "    <tr>\n",
       "      <th>7</th>\n",
       "      <td>Laila</td>\n",
       "      <td>Aly</td>\n",
       "      <td>20000.00</td>\n",
       "      <td>5</td>\n",
       "      <td>J8Y 3M0</td>\n",
       "      <td>Laila.a@hotmail.com</td>\n",
       "    </tr>\n",
       "    <tr>\n",
       "      <th>8</th>\n",
       "      <td>Joseph</td>\n",
       "      <td>Patton</td>\n",
       "      <td>2629.13</td>\n",
       "      <td>2</td>\n",
       "      <td>M6U 5U7</td>\n",
       "      <td>daafeja@boh.jm</td>\n",
       "    </tr>\n",
       "    <tr>\n",
       "      <th>9</th>\n",
       "      <td>Noah</td>\n",
       "      <td>Moran</td>\n",
       "      <td>8626.96</td>\n",
       "      <td>11</td>\n",
       "      <td>K2D 4M9</td>\n",
       "      <td>guutodi@bigwoc.kw</td>\n",
       "    </tr>\n",
       "  </tbody>\n",
       "</table>\n",
       "</div>"
      ],
      "text/plain": [
       "  First Name Last Name     Salary  Years with Company Postal Code  \\\n",
       "0       Mike       Moe    5000.00                   3     N94 3M0   \n",
       "1       Noah      Ryan   10000.00                   8     N8S 14K   \n",
       "2       Nina    Keller    9072.02                  17     S1T 4E6   \n",
       "3    Chanel      Steve   11072.02                  12     N7T 3E6   \n",
       "4       Kate      Noor    5000.00                  23     K8N 5H6   \n",
       "5      Samer        Mo  100000.00                  13     J7H 3HY   \n",
       "6       Heba    Ismail   50000.00                   7     K8Y 3M8   \n",
       "7      Laila       Aly   20000.00                   5     J8Y 3M0   \n",
       "8     Joseph    Patton    2629.13                   2     M6U 5U7   \n",
       "9       Noah     Moran    8626.96                  11     K2D 4M9   \n",
       "\n",
       "                     Email  \n",
       "0           bird@gmail.com  \n",
       "1       nsmall@hotmail.com  \n",
       "2          azikez@gahew.mr  \n",
       "3         chanel@gmail.com  \n",
       "4         kate@hotmail.com  \n",
       "5          samer@gmail.com  \n",
       "6  heba.ismail@hotmail.com  \n",
       "7      Laila.a@hotmail.com  \n",
       "8           daafeja@boh.jm  \n",
       "9        guutodi@bigwoc.kw  "
      ]
     },
     "execution_count": 52,
     "metadata": {},
     "output_type": "execute_result"
    }
   ],
   "source": [
    "# Pandas is used to read a csv file and store data in a DataFrame\n",
    "employee_df = pd.read_csv('employee_information.csv')\n",
    "employee_df"
   ]
  },
  {
   "cell_type": "code",
   "execution_count": 54,
   "metadata": {
    "colab": {
     "base_uri": "https://localhost:8080/"
    },
    "executionInfo": {
     "elapsed": 278,
     "status": "ok",
     "timestamp": 1618627428255,
     "user": {
      "displayName": "Stemplicity",
      "photoUrl": "https://lh3.googleusercontent.com/a-/AOh14Gj2vCFt-bD5mPBhUWX0QA6xiBgoXQXtwUm2jgjaCg=s64",
      "userId": "10668071569687886186"
     },
     "user_tz": 240
    },
    "id": "AbR3ryaIent-",
    "outputId": "70ca9819-4735-4934-ddbd-dc61bafa9a0e"
   },
   "outputs": [
    {
     "data": {
      "text/plain": [
       "0             bird@gmail.com\n",
       "1         nsmall@hotmail.com\n",
       "2            azikez@gahew.mr\n",
       "3           chanel@gmail.com\n",
       "4           kate@hotmail.com\n",
       "5            samer@gmail.com\n",
       "6    heba.ismail@hotmail.com\n",
       "7        Laila.a@hotmail.com\n",
       "8             daafeja@boh.jm\n",
       "9          guutodi@bigwoc.kw\n",
       "Name: Email, dtype: object"
      ]
     },
     "execution_count": 54,
     "metadata": {},
     "output_type": "execute_result"
    }
   ],
   "source": [
    "# Return a column from the DataFrame\n",
    "# Note that the output will be a Pandas Series (you can automatically tell by the lack of formating)\n",
    "sample = employee_df['Email']\n",
    "sample"
   ]
  },
  {
   "cell_type": "code",
   "execution_count": 57,
   "metadata": {},
   "outputs": [
    {
     "data": {
      "text/html": [
       "<div>\n",
       "<style scoped>\n",
       "    .dataframe tbody tr th:only-of-type {\n",
       "        vertical-align: middle;\n",
       "    }\n",
       "\n",
       "    .dataframe tbody tr th {\n",
       "        vertical-align: top;\n",
       "    }\n",
       "\n",
       "    .dataframe thead th {\n",
       "        text-align: right;\n",
       "    }\n",
       "</style>\n",
       "<table border=\"1\" class=\"dataframe\">\n",
       "  <thead>\n",
       "    <tr style=\"text-align: right;\">\n",
       "      <th></th>\n",
       "      <th>First Name</th>\n",
       "      <th>Salary</th>\n",
       "    </tr>\n",
       "  </thead>\n",
       "  <tbody>\n",
       "    <tr>\n",
       "      <th>0</th>\n",
       "      <td>Mike</td>\n",
       "      <td>5000.00</td>\n",
       "    </tr>\n",
       "    <tr>\n",
       "      <th>1</th>\n",
       "      <td>Noah</td>\n",
       "      <td>10000.00</td>\n",
       "    </tr>\n",
       "    <tr>\n",
       "      <th>2</th>\n",
       "      <td>Nina</td>\n",
       "      <td>9072.02</td>\n",
       "    </tr>\n",
       "    <tr>\n",
       "      <th>3</th>\n",
       "      <td>Chanel</td>\n",
       "      <td>11072.02</td>\n",
       "    </tr>\n",
       "    <tr>\n",
       "      <th>4</th>\n",
       "      <td>Kate</td>\n",
       "      <td>5000.00</td>\n",
       "    </tr>\n",
       "    <tr>\n",
       "      <th>5</th>\n",
       "      <td>Samer</td>\n",
       "      <td>100000.00</td>\n",
       "    </tr>\n",
       "    <tr>\n",
       "      <th>6</th>\n",
       "      <td>Heba</td>\n",
       "      <td>50000.00</td>\n",
       "    </tr>\n",
       "    <tr>\n",
       "      <th>7</th>\n",
       "      <td>Laila</td>\n",
       "      <td>20000.00</td>\n",
       "    </tr>\n",
       "    <tr>\n",
       "      <th>8</th>\n",
       "      <td>Joseph</td>\n",
       "      <td>2629.13</td>\n",
       "    </tr>\n",
       "    <tr>\n",
       "      <th>9</th>\n",
       "      <td>Noah</td>\n",
       "      <td>8626.96</td>\n",
       "    </tr>\n",
       "  </tbody>\n",
       "</table>\n",
       "</div>"
      ],
      "text/plain": [
       "  First Name     Salary\n",
       "0       Mike    5000.00\n",
       "1       Noah   10000.00\n",
       "2       Nina    9072.02\n",
       "3    Chanel    11072.02\n",
       "4       Kate    5000.00\n",
       "5      Samer  100000.00\n",
       "6       Heba   50000.00\n",
       "7      Laila   20000.00\n",
       "8     Joseph    2629.13\n",
       "9       Noah    8626.96"
      ]
     },
     "execution_count": 57,
     "metadata": {},
     "output_type": "execute_result"
    }
   ],
   "source": [
    "sample = employee_df[['First Name', 'Salary']]\n",
    "sample"
   ]
  },
  {
   "cell_type": "code",
   "execution_count": 58,
   "metadata": {
    "colab": {
     "base_uri": "https://localhost:8080/"
    },
    "executionInfo": {
     "elapsed": 458,
     "status": "ok",
     "timestamp": 1618627432450,
     "user": {
      "displayName": "Stemplicity",
      "photoUrl": "https://lh3.googleusercontent.com/a-/AOh14Gj2vCFt-bD5mPBhUWX0QA6xiBgoXQXtwUm2jgjaCg=s64",
      "userId": "10668071569687886186"
     },
     "user_tz": 240
    },
    "id": "DRDD7km5enwQ",
    "outputId": "3f6aefcd-a048-4e77-9ef2-fab9b7dacc37"
   },
   "outputs": [
    {
     "data": {
      "text/plain": [
       "pandas.core.frame.DataFrame"
      ]
     },
     "execution_count": 58,
     "metadata": {},
     "output_type": "execute_result"
    }
   ],
   "source": [
    "# Confirm the datatype of sample\n",
    "type(sample)"
   ]
  },
  {
   "cell_type": "code",
   "execution_count": 59,
   "metadata": {
    "colab": {
     "base_uri": "https://localhost:8080/"
    },
    "executionInfo": {
     "elapsed": 340,
     "status": "ok",
     "timestamp": 1618627438887,
     "user": {
      "displayName": "Stemplicity",
      "photoUrl": "https://lh3.googleusercontent.com/a-/AOh14Gj2vCFt-bD5mPBhUWX0QA6xiBgoXQXtwUm2jgjaCg=s64",
      "userId": "10668071569687886186"
     },
     "user_tz": 240
    },
    "id": "9Aq47T6MffqT",
    "outputId": "ada81978-9d67-4fc8-9398-ae8d779cd8bd"
   },
   "outputs": [
    {
     "data": {
      "text/html": [
       "<div>\n",
       "<style scoped>\n",
       "    .dataframe tbody tr th:only-of-type {\n",
       "        vertical-align: middle;\n",
       "    }\n",
       "\n",
       "    .dataframe tbody tr th {\n",
       "        vertical-align: top;\n",
       "    }\n",
       "\n",
       "    .dataframe thead th {\n",
       "        text-align: right;\n",
       "    }\n",
       "</style>\n",
       "<table border=\"1\" class=\"dataframe\">\n",
       "  <thead>\n",
       "    <tr style=\"text-align: right;\">\n",
       "      <th></th>\n",
       "      <th>First Name</th>\n",
       "      <th>Salary</th>\n",
       "    </tr>\n",
       "  </thead>\n",
       "  <tbody>\n",
       "    <tr>\n",
       "      <th>0</th>\n",
       "      <td>Mike</td>\n",
       "      <td>5000.00</td>\n",
       "    </tr>\n",
       "    <tr>\n",
       "      <th>1</th>\n",
       "      <td>Noah</td>\n",
       "      <td>10000.00</td>\n",
       "    </tr>\n",
       "    <tr>\n",
       "      <th>2</th>\n",
       "      <td>Nina</td>\n",
       "      <td>9072.02</td>\n",
       "    </tr>\n",
       "    <tr>\n",
       "      <th>3</th>\n",
       "      <td>Chanel</td>\n",
       "      <td>11072.02</td>\n",
       "    </tr>\n",
       "    <tr>\n",
       "      <th>4</th>\n",
       "      <td>Kate</td>\n",
       "      <td>5000.00</td>\n",
       "    </tr>\n",
       "    <tr>\n",
       "      <th>5</th>\n",
       "      <td>Samer</td>\n",
       "      <td>100000.00</td>\n",
       "    </tr>\n",
       "    <tr>\n",
       "      <th>6</th>\n",
       "      <td>Heba</td>\n",
       "      <td>50000.00</td>\n",
       "    </tr>\n",
       "    <tr>\n",
       "      <th>7</th>\n",
       "      <td>Laila</td>\n",
       "      <td>20000.00</td>\n",
       "    </tr>\n",
       "    <tr>\n",
       "      <th>8</th>\n",
       "      <td>Joseph</td>\n",
       "      <td>2629.13</td>\n",
       "    </tr>\n",
       "    <tr>\n",
       "      <th>9</th>\n",
       "      <td>Noah</td>\n",
       "      <td>8626.96</td>\n",
       "    </tr>\n",
       "  </tbody>\n",
       "</table>\n",
       "</div>"
      ],
      "text/plain": [
       "  First Name     Salary\n",
       "0       Mike    5000.00\n",
       "1       Noah   10000.00\n",
       "2       Nina    9072.02\n",
       "3    Chanel    11072.02\n",
       "4       Kate    5000.00\n",
       "5      Samer  100000.00\n",
       "6       Heba   50000.00\n",
       "7      Laila   20000.00\n",
       "8     Joseph    2629.13\n",
       "9       Noah    8626.96"
      ]
     },
     "execution_count": 59,
     "metadata": {},
     "output_type": "execute_result"
    }
   ],
   "source": [
    "# Alternatively, you can use the following syntax to do the same\n",
    "# Note that this method will not work if there are spaces in the column names\n",
    "my_column = ['First Name','Salary']\n",
    "sample = employee_df[my_column]\n",
    "sample"
   ]
  },
  {
   "cell_type": "code",
   "execution_count": 60,
   "metadata": {
    "colab": {
     "base_uri": "https://localhost:8080/"
    },
    "executionInfo": {
     "elapsed": 290,
     "status": "ok",
     "timestamp": 1618627443623,
     "user": {
      "displayName": "Stemplicity",
      "photoUrl": "https://lh3.googleusercontent.com/a-/AOh14Gj2vCFt-bD5mPBhUWX0QA6xiBgoXQXtwUm2jgjaCg=s64",
      "userId": "10668071569687886186"
     },
     "user_tz": 240
    },
    "id": "_pJUOwyYffsW",
    "outputId": "88296e79-12e0-452a-9d22-53f1546ed768"
   },
   "outputs": [
    {
     "data": {
      "text/html": [
       "<div>\n",
       "<style scoped>\n",
       "    .dataframe tbody tr th:only-of-type {\n",
       "        vertical-align: middle;\n",
       "    }\n",
       "\n",
       "    .dataframe tbody tr th {\n",
       "        vertical-align: top;\n",
       "    }\n",
       "\n",
       "    .dataframe thead th {\n",
       "        text-align: right;\n",
       "    }\n",
       "</style>\n",
       "<table border=\"1\" class=\"dataframe\">\n",
       "  <thead>\n",
       "    <tr style=\"text-align: right;\">\n",
       "      <th></th>\n",
       "      <th>First Name</th>\n",
       "      <th>Last Name</th>\n",
       "      <th>Salary</th>\n",
       "      <th>Years with Company</th>\n",
       "      <th>Postal Code</th>\n",
       "      <th>Email</th>\n",
       "    </tr>\n",
       "  </thead>\n",
       "  <tbody>\n",
       "    <tr>\n",
       "      <th>0</th>\n",
       "      <td>Mike</td>\n",
       "      <td>Moe</td>\n",
       "      <td>5000.0</td>\n",
       "      <td>3</td>\n",
       "      <td>N94 3M0</td>\n",
       "      <td>bird@gmail.com</td>\n",
       "    </tr>\n",
       "    <tr>\n",
       "      <th>1</th>\n",
       "      <td>Noah</td>\n",
       "      <td>Ryan</td>\n",
       "      <td>10000.0</td>\n",
       "      <td>8</td>\n",
       "      <td>N8S 14K</td>\n",
       "      <td>nsmall@hotmail.com</td>\n",
       "    </tr>\n",
       "  </tbody>\n",
       "</table>\n",
       "</div>"
      ],
      "text/plain": [
       "  First Name Last Name   Salary  Years with Company Postal Code  \\\n",
       "0       Mike       Moe   5000.0                   3     N94 3M0   \n",
       "1       Noah      Ryan  10000.0                   8     N8S 14K   \n",
       "\n",
       "                Email  \n",
       "0      bird@gmail.com  \n",
       "1  nsmall@hotmail.com  "
      ]
     },
     "execution_count": 60,
     "metadata": {},
     "output_type": "execute_result"
    }
   ],
   "source": [
    "# Since the column name has spaces, this will be the only way that will work!\n",
    "employee_df[0:2]"
   ]
  },
  {
   "cell_type": "code",
   "execution_count": null,
   "metadata": {
    "colab": {
     "base_uri": "https://localhost:8080/",
     "height": 343
    },
    "executionInfo": {
     "elapsed": 290,
     "status": "ok",
     "timestamp": 1618627493436,
     "user": {
      "displayName": "Stemplicity",
      "photoUrl": "https://lh3.googleusercontent.com/a-/AOh14Gj2vCFt-bD5mPBhUWX0QA6xiBgoXQXtwUm2jgjaCg=s64",
      "userId": "10668071569687886186"
     },
     "user_tz": 240
    },
    "id": "LNlISGX2ffuX",
    "outputId": "6b264fe4-52b4-46de-e902-dd5fce48b32f"
   },
   "outputs": [],
   "source": [
    "# Let's select multiple columns from the DataFrame\n",
    "# you need to define a list containing all column names that you would like to select\n",
    "# Note that since we collected more than one column, the output is a DataFrame (Notice the rich formatting)\n"
   ]
  },
  {
   "cell_type": "code",
   "execution_count": null,
   "metadata": {
    "colab": {
     "base_uri": "https://localhost:8080/"
    },
    "executionInfo": {
     "elapsed": 320,
     "status": "ok",
     "timestamp": 1618627496472,
     "user": {
      "displayName": "Stemplicity",
      "photoUrl": "https://lh3.googleusercontent.com/a-/AOh14Gj2vCFt-bD5mPBhUWX0QA6xiBgoXQXtwUm2jgjaCg=s64",
      "userId": "10668071569687886186"
     },
     "user_tz": 240
    },
    "id": "R0XoD6lega9a",
    "outputId": "9613bed0-972e-412c-f22a-7885372afa72"
   },
   "outputs": [],
   "source": [
    "# Note that sample is now a DataFrame and not a Pandas Series (since it has multiple columns)\n",
    "# You can use type to confirm or you can tell from the rich text formating\n"
   ]
  },
  {
   "cell_type": "code",
   "execution_count": null,
   "metadata": {
    "colab": {
     "base_uri": "https://localhost:8080/",
     "height": 343
    },
    "executionInfo": {
     "elapsed": 266,
     "status": "ok",
     "timestamp": 1618627522223,
     "user": {
      "displayName": "Stemplicity",
      "photoUrl": "https://lh3.googleusercontent.com/a-/AOh14Gj2vCFt-bD5mPBhUWX0QA6xiBgoXQXtwUm2jgjaCg=s64",
      "userId": "10668071569687886186"
     },
     "user_tz": 240
    },
    "id": "ggktBo-sgsRu",
    "outputId": "a2b82247-53f0-4a25-92cc-d40f2bf19119"
   },
   "outputs": [],
   "source": [
    "# Alternatively, you can define a list first and then use it to select columns\n"
   ]
  },
  {
   "cell_type": "code",
   "execution_count": null,
   "metadata": {
    "colab": {
     "base_uri": "https://localhost:8080/",
     "height": 106
    },
    "executionInfo": {
     "elapsed": 293,
     "status": "ok",
     "timestamp": 1618627596069,
     "user": {
      "displayName": "Stemplicity",
      "photoUrl": "https://lh3.googleusercontent.com/a-/AOh14Gj2vCFt-bD5mPBhUWX0QA6xiBgoXQXtwUm2jgjaCg=s64",
      "userId": "10668071569687886186"
     },
     "user_tz": 240
    },
    "id": "AukSNs5Yg_Ui",
    "outputId": "3686383e-35b5-4e8a-f03f-f40d71d03a5a"
   },
   "outputs": [],
   "source": [
    "# In order to access a given row in the dataframe\n"
   ]
  },
  {
   "cell_type": "markdown",
   "metadata": {
    "id": "dgnHR3iAu0Kk"
   },
   "source": [
    "**MINI CHALLENGE #5:**\n",
    "- **Select the following columns from the dataFrame Salary, Years with Company, and Postal Code**"
   ]
  },
  {
   "cell_type": "code",
   "execution_count": 61,
   "metadata": {
    "id": "VgX1J3i4u2zR"
   },
   "outputs": [
    {
     "data": {
      "text/html": [
       "<div>\n",
       "<style scoped>\n",
       "    .dataframe tbody tr th:only-of-type {\n",
       "        vertical-align: middle;\n",
       "    }\n",
       "\n",
       "    .dataframe tbody tr th {\n",
       "        vertical-align: top;\n",
       "    }\n",
       "\n",
       "    .dataframe thead th {\n",
       "        text-align: right;\n",
       "    }\n",
       "</style>\n",
       "<table border=\"1\" class=\"dataframe\">\n",
       "  <thead>\n",
       "    <tr style=\"text-align: right;\">\n",
       "      <th></th>\n",
       "      <th>Salary</th>\n",
       "      <th>Years with Company</th>\n",
       "      <th>Postal Code</th>\n",
       "    </tr>\n",
       "  </thead>\n",
       "  <tbody>\n",
       "    <tr>\n",
       "      <th>0</th>\n",
       "      <td>5000.00</td>\n",
       "      <td>3</td>\n",
       "      <td>N94 3M0</td>\n",
       "    </tr>\n",
       "    <tr>\n",
       "      <th>1</th>\n",
       "      <td>10000.00</td>\n",
       "      <td>8</td>\n",
       "      <td>N8S 14K</td>\n",
       "    </tr>\n",
       "    <tr>\n",
       "      <th>2</th>\n",
       "      <td>9072.02</td>\n",
       "      <td>17</td>\n",
       "      <td>S1T 4E6</td>\n",
       "    </tr>\n",
       "    <tr>\n",
       "      <th>3</th>\n",
       "      <td>11072.02</td>\n",
       "      <td>12</td>\n",
       "      <td>N7T 3E6</td>\n",
       "    </tr>\n",
       "    <tr>\n",
       "      <th>4</th>\n",
       "      <td>5000.00</td>\n",
       "      <td>23</td>\n",
       "      <td>K8N 5H6</td>\n",
       "    </tr>\n",
       "    <tr>\n",
       "      <th>5</th>\n",
       "      <td>100000.00</td>\n",
       "      <td>13</td>\n",
       "      <td>J7H 3HY</td>\n",
       "    </tr>\n",
       "    <tr>\n",
       "      <th>6</th>\n",
       "      <td>50000.00</td>\n",
       "      <td>7</td>\n",
       "      <td>K8Y 3M8</td>\n",
       "    </tr>\n",
       "    <tr>\n",
       "      <th>7</th>\n",
       "      <td>20000.00</td>\n",
       "      <td>5</td>\n",
       "      <td>J8Y 3M0</td>\n",
       "    </tr>\n",
       "    <tr>\n",
       "      <th>8</th>\n",
       "      <td>2629.13</td>\n",
       "      <td>2</td>\n",
       "      <td>M6U 5U7</td>\n",
       "    </tr>\n",
       "    <tr>\n",
       "      <th>9</th>\n",
       "      <td>8626.96</td>\n",
       "      <td>11</td>\n",
       "      <td>K2D 4M9</td>\n",
       "    </tr>\n",
       "  </tbody>\n",
       "</table>\n",
       "</div>"
      ],
      "text/plain": [
       "      Salary  Years with Company Postal Code\n",
       "0    5000.00                   3     N94 3M0\n",
       "1   10000.00                   8     N8S 14K\n",
       "2    9072.02                  17     S1T 4E6\n",
       "3   11072.02                  12     N7T 3E6\n",
       "4    5000.00                  23     K8N 5H6\n",
       "5  100000.00                  13     J7H 3HY\n",
       "6   50000.00                   7     K8Y 3M8\n",
       "7   20000.00                   5     J8Y 3M0\n",
       "8    2629.13                   2     M6U 5U7\n",
       "9    8626.96                  11     K2D 4M9"
      ]
     },
     "execution_count": 61,
     "metadata": {},
     "output_type": "execute_result"
    }
   ],
   "source": [
    "employee_df[['Salary','Years with Company','Postal Code']]"
   ]
  },
  {
   "cell_type": "markdown",
   "metadata": {
    "id": "WC1va0Jng_o_"
   },
   "source": [
    "# TASK #6. ADDING/DELETING COLUMNS TO DATAFRAME"
   ]
  },
  {
   "cell_type": "code",
   "execution_count": 62,
   "metadata": {
    "colab": {
     "base_uri": "https://localhost:8080/",
     "height": 343
    },
    "executionInfo": {
     "elapsed": 428,
     "status": "ok",
     "timestamp": 1618627827071,
     "user": {
      "displayName": "Stemplicity",
      "photoUrl": "https://lh3.googleusercontent.com/a-/AOh14Gj2vCFt-bD5mPBhUWX0QA6xiBgoXQXtwUm2jgjaCg=s64",
      "userId": "10668071569687886186"
     },
     "user_tz": 240
    },
    "id": "RFcK595ZhFK2",
    "outputId": "cc1976ba-a72d-4772-cfea-721109dcc0cf"
   },
   "outputs": [
    {
     "data": {
      "text/html": [
       "<div>\n",
       "<style scoped>\n",
       "    .dataframe tbody tr th:only-of-type {\n",
       "        vertical-align: middle;\n",
       "    }\n",
       "\n",
       "    .dataframe tbody tr th {\n",
       "        vertical-align: top;\n",
       "    }\n",
       "\n",
       "    .dataframe thead th {\n",
       "        text-align: right;\n",
       "    }\n",
       "</style>\n",
       "<table border=\"1\" class=\"dataframe\">\n",
       "  <thead>\n",
       "    <tr style=\"text-align: right;\">\n",
       "      <th></th>\n",
       "      <th>First Name</th>\n",
       "      <th>Last Name</th>\n",
       "      <th>Salary</th>\n",
       "      <th>Years with Company</th>\n",
       "      <th>Postal Code</th>\n",
       "      <th>Email</th>\n",
       "    </tr>\n",
       "  </thead>\n",
       "  <tbody>\n",
       "    <tr>\n",
       "      <th>0</th>\n",
       "      <td>Mike</td>\n",
       "      <td>Moe</td>\n",
       "      <td>5000.00</td>\n",
       "      <td>3</td>\n",
       "      <td>N94 3M0</td>\n",
       "      <td>bird@gmail.com</td>\n",
       "    </tr>\n",
       "    <tr>\n",
       "      <th>1</th>\n",
       "      <td>Noah</td>\n",
       "      <td>Ryan</td>\n",
       "      <td>10000.00</td>\n",
       "      <td>8</td>\n",
       "      <td>N8S 14K</td>\n",
       "      <td>nsmall@hotmail.com</td>\n",
       "    </tr>\n",
       "    <tr>\n",
       "      <th>2</th>\n",
       "      <td>Nina</td>\n",
       "      <td>Keller</td>\n",
       "      <td>9072.02</td>\n",
       "      <td>17</td>\n",
       "      <td>S1T 4E6</td>\n",
       "      <td>azikez@gahew.mr</td>\n",
       "    </tr>\n",
       "    <tr>\n",
       "      <th>3</th>\n",
       "      <td>Chanel</td>\n",
       "      <td>Steve</td>\n",
       "      <td>11072.02</td>\n",
       "      <td>12</td>\n",
       "      <td>N7T 3E6</td>\n",
       "      <td>chanel@gmail.com</td>\n",
       "    </tr>\n",
       "    <tr>\n",
       "      <th>4</th>\n",
       "      <td>Kate</td>\n",
       "      <td>Noor</td>\n",
       "      <td>5000.00</td>\n",
       "      <td>23</td>\n",
       "      <td>K8N 5H6</td>\n",
       "      <td>kate@hotmail.com</td>\n",
       "    </tr>\n",
       "    <tr>\n",
       "      <th>5</th>\n",
       "      <td>Samer</td>\n",
       "      <td>Mo</td>\n",
       "      <td>100000.00</td>\n",
       "      <td>13</td>\n",
       "      <td>J7H 3HY</td>\n",
       "      <td>samer@gmail.com</td>\n",
       "    </tr>\n",
       "    <tr>\n",
       "      <th>6</th>\n",
       "      <td>Heba</td>\n",
       "      <td>Ismail</td>\n",
       "      <td>50000.00</td>\n",
       "      <td>7</td>\n",
       "      <td>K8Y 3M8</td>\n",
       "      <td>heba.ismail@hotmail.com</td>\n",
       "    </tr>\n",
       "    <tr>\n",
       "      <th>7</th>\n",
       "      <td>Laila</td>\n",
       "      <td>Aly</td>\n",
       "      <td>20000.00</td>\n",
       "      <td>5</td>\n",
       "      <td>J8Y 3M0</td>\n",
       "      <td>Laila.a@hotmail.com</td>\n",
       "    </tr>\n",
       "    <tr>\n",
       "      <th>8</th>\n",
       "      <td>Joseph</td>\n",
       "      <td>Patton</td>\n",
       "      <td>2629.13</td>\n",
       "      <td>2</td>\n",
       "      <td>M6U 5U7</td>\n",
       "      <td>daafeja@boh.jm</td>\n",
       "    </tr>\n",
       "    <tr>\n",
       "      <th>9</th>\n",
       "      <td>Noah</td>\n",
       "      <td>Moran</td>\n",
       "      <td>8626.96</td>\n",
       "      <td>11</td>\n",
       "      <td>K2D 4M9</td>\n",
       "      <td>guutodi@bigwoc.kw</td>\n",
       "    </tr>\n",
       "  </tbody>\n",
       "</table>\n",
       "</div>"
      ],
      "text/plain": [
       "  First Name Last Name     Salary  Years with Company Postal Code  \\\n",
       "0       Mike       Moe    5000.00                   3     N94 3M0   \n",
       "1       Noah      Ryan   10000.00                   8     N8S 14K   \n",
       "2       Nina    Keller    9072.02                  17     S1T 4E6   \n",
       "3    Chanel      Steve   11072.02                  12     N7T 3E6   \n",
       "4       Kate      Noor    5000.00                  23     K8N 5H6   \n",
       "5      Samer        Mo  100000.00                  13     J7H 3HY   \n",
       "6       Heba    Ismail   50000.00                   7     K8Y 3M8   \n",
       "7      Laila       Aly   20000.00                   5     J8Y 3M0   \n",
       "8     Joseph    Patton    2629.13                   2     M6U 5U7   \n",
       "9       Noah     Moran    8626.96                  11     K2D 4M9   \n",
       "\n",
       "                     Email  \n",
       "0           bird@gmail.com  \n",
       "1       nsmall@hotmail.com  \n",
       "2          azikez@gahew.mr  \n",
       "3         chanel@gmail.com  \n",
       "4         kate@hotmail.com  \n",
       "5          samer@gmail.com  \n",
       "6  heba.ismail@hotmail.com  \n",
       "7      Laila.a@hotmail.com  \n",
       "8           daafeja@boh.jm  \n",
       "9        guutodi@bigwoc.kw  "
      ]
     },
     "execution_count": 62,
     "metadata": {},
     "output_type": "execute_result"
    }
   ],
   "source": [
    "# Pandas is used to read a csv file and store data in a DataFrame\n",
    "employee_df = pd.read_csv('employee_information.csv')\n",
    "employee_df"
   ]
  },
  {
   "cell_type": "code",
   "execution_count": 64,
   "metadata": {
    "executionInfo": {
     "elapsed": 327,
     "status": "ok",
     "timestamp": 1618627831218,
     "user": {
      "displayName": "Stemplicity",
      "photoUrl": "https://lh3.googleusercontent.com/a-/AOh14Gj2vCFt-bD5mPBhUWX0QA6xiBgoXQXtwUm2jgjaCg=s64",
      "userId": "10668071569687886186"
     },
     "user_tz": 240
    },
    "id": "bNK_8rjvhFMw"
   },
   "outputs": [
    {
     "data": {
      "text/html": [
       "<div>\n",
       "<style scoped>\n",
       "    .dataframe tbody tr th:only-of-type {\n",
       "        vertical-align: middle;\n",
       "    }\n",
       "\n",
       "    .dataframe tbody tr th {\n",
       "        vertical-align: top;\n",
       "    }\n",
       "\n",
       "    .dataframe thead th {\n",
       "        text-align: right;\n",
       "    }\n",
       "</style>\n",
       "<table border=\"1\" class=\"dataframe\">\n",
       "  <thead>\n",
       "    <tr style=\"text-align: right;\">\n",
       "      <th></th>\n",
       "      <th>First Name</th>\n",
       "      <th>Last Name</th>\n",
       "      <th>Salary</th>\n",
       "      <th>Years with Company</th>\n",
       "      <th>Postal Code</th>\n",
       "      <th>Email</th>\n",
       "      <th>Age</th>\n",
       "    </tr>\n",
       "  </thead>\n",
       "  <tbody>\n",
       "    <tr>\n",
       "      <th>0</th>\n",
       "      <td>Mike</td>\n",
       "      <td>Moe</td>\n",
       "      <td>5000.00</td>\n",
       "      <td>3</td>\n",
       "      <td>N94 3M0</td>\n",
       "      <td>bird@gmail.com</td>\n",
       "      <td>25</td>\n",
       "    </tr>\n",
       "    <tr>\n",
       "      <th>1</th>\n",
       "      <td>Noah</td>\n",
       "      <td>Ryan</td>\n",
       "      <td>10000.00</td>\n",
       "      <td>8</td>\n",
       "      <td>N8S 14K</td>\n",
       "      <td>nsmall@hotmail.com</td>\n",
       "      <td>26</td>\n",
       "    </tr>\n",
       "    <tr>\n",
       "      <th>2</th>\n",
       "      <td>Nina</td>\n",
       "      <td>Keller</td>\n",
       "      <td>9072.02</td>\n",
       "      <td>17</td>\n",
       "      <td>S1T 4E6</td>\n",
       "      <td>azikez@gahew.mr</td>\n",
       "      <td>28</td>\n",
       "    </tr>\n",
       "    <tr>\n",
       "      <th>3</th>\n",
       "      <td>Chanel</td>\n",
       "      <td>Steve</td>\n",
       "      <td>11072.02</td>\n",
       "      <td>12</td>\n",
       "      <td>N7T 3E6</td>\n",
       "      <td>chanel@gmail.com</td>\n",
       "      <td>30</td>\n",
       "    </tr>\n",
       "    <tr>\n",
       "      <th>4</th>\n",
       "      <td>Kate</td>\n",
       "      <td>Noor</td>\n",
       "      <td>5000.00</td>\n",
       "      <td>23</td>\n",
       "      <td>K8N 5H6</td>\n",
       "      <td>kate@hotmail.com</td>\n",
       "      <td>32</td>\n",
       "    </tr>\n",
       "    <tr>\n",
       "      <th>5</th>\n",
       "      <td>Samer</td>\n",
       "      <td>Mo</td>\n",
       "      <td>100000.00</td>\n",
       "      <td>13</td>\n",
       "      <td>J7H 3HY</td>\n",
       "      <td>samer@gmail.com</td>\n",
       "      <td>36</td>\n",
       "    </tr>\n",
       "    <tr>\n",
       "      <th>6</th>\n",
       "      <td>Heba</td>\n",
       "      <td>Ismail</td>\n",
       "      <td>50000.00</td>\n",
       "      <td>7</td>\n",
       "      <td>K8Y 3M8</td>\n",
       "      <td>heba.ismail@hotmail.com</td>\n",
       "      <td>22</td>\n",
       "    </tr>\n",
       "    <tr>\n",
       "      <th>7</th>\n",
       "      <td>Laila</td>\n",
       "      <td>Aly</td>\n",
       "      <td>20000.00</td>\n",
       "      <td>5</td>\n",
       "      <td>J8Y 3M0</td>\n",
       "      <td>Laila.a@hotmail.com</td>\n",
       "      <td>48</td>\n",
       "    </tr>\n",
       "    <tr>\n",
       "      <th>8</th>\n",
       "      <td>Joseph</td>\n",
       "      <td>Patton</td>\n",
       "      <td>2629.13</td>\n",
       "      <td>2</td>\n",
       "      <td>M6U 5U7</td>\n",
       "      <td>daafeja@boh.jm</td>\n",
       "      <td>55</td>\n",
       "    </tr>\n",
       "    <tr>\n",
       "      <th>9</th>\n",
       "      <td>Noah</td>\n",
       "      <td>Moran</td>\n",
       "      <td>8626.96</td>\n",
       "      <td>11</td>\n",
       "      <td>K2D 4M9</td>\n",
       "      <td>guutodi@bigwoc.kw</td>\n",
       "      <td>70</td>\n",
       "    </tr>\n",
       "  </tbody>\n",
       "</table>\n",
       "</div>"
      ],
      "text/plain": [
       "  First Name Last Name     Salary  Years with Company Postal Code  \\\n",
       "0       Mike       Moe    5000.00                   3     N94 3M0   \n",
       "1       Noah      Ryan   10000.00                   8     N8S 14K   \n",
       "2       Nina    Keller    9072.02                  17     S1T 4E6   \n",
       "3    Chanel      Steve   11072.02                  12     N7T 3E6   \n",
       "4       Kate      Noor    5000.00                  23     K8N 5H6   \n",
       "5      Samer        Mo  100000.00                  13     J7H 3HY   \n",
       "6       Heba    Ismail   50000.00                   7     K8Y 3M8   \n",
       "7      Laila       Aly   20000.00                   5     J8Y 3M0   \n",
       "8     Joseph    Patton    2629.13                   2     M6U 5U7   \n",
       "9       Noah     Moran    8626.96                  11     K2D 4M9   \n",
       "\n",
       "                     Email  Age  \n",
       "0           bird@gmail.com   25  \n",
       "1       nsmall@hotmail.com   26  \n",
       "2          azikez@gahew.mr   28  \n",
       "3         chanel@gmail.com   30  \n",
       "4         kate@hotmail.com   32  \n",
       "5          samer@gmail.com   36  \n",
       "6  heba.ismail@hotmail.com   22  \n",
       "7      Laila.a@hotmail.com   48  \n",
       "8           daafeja@boh.jm   55  \n",
       "9        guutodi@bigwoc.kw   70  "
      ]
     },
     "execution_count": 64,
     "metadata": {},
     "output_type": "execute_result"
    }
   ],
   "source": [
    "# Let's assume that we want to add a new column to the dataframe\n",
    "employee_df['Age'] = [25,26,28,30,32,36,22,48,55,70]\n",
    "employee_df"
   ]
  },
  {
   "cell_type": "code",
   "execution_count": 66,
   "metadata": {
    "colab": {
     "base_uri": "https://localhost:8080/",
     "height": 343
    },
    "executionInfo": {
     "elapsed": 310,
     "status": "ok",
     "timestamp": 1618627834924,
     "user": {
      "displayName": "Stemplicity",
      "photoUrl": "https://lh3.googleusercontent.com/a-/AOh14Gj2vCFt-bD5mPBhUWX0QA6xiBgoXQXtwUm2jgjaCg=s64",
      "userId": "10668071569687886186"
     },
     "user_tz": 240
    },
    "id": "y1M_0HA4hFRV",
    "outputId": "9095b803-82b2-44f2-9bef-1abfed309221"
   },
   "outputs": [
    {
     "data": {
      "text/html": [
       "<div>\n",
       "<style scoped>\n",
       "    .dataframe tbody tr th:only-of-type {\n",
       "        vertical-align: middle;\n",
       "    }\n",
       "\n",
       "    .dataframe tbody tr th {\n",
       "        vertical-align: top;\n",
       "    }\n",
       "\n",
       "    .dataframe thead th {\n",
       "        text-align: right;\n",
       "    }\n",
       "</style>\n",
       "<table border=\"1\" class=\"dataframe\">\n",
       "  <thead>\n",
       "    <tr style=\"text-align: right;\">\n",
       "      <th></th>\n",
       "      <th>Credit Score</th>\n",
       "      <th>First Name</th>\n",
       "      <th>Last Name</th>\n",
       "      <th>Salary</th>\n",
       "      <th>Years with Company</th>\n",
       "      <th>Postal Code</th>\n",
       "      <th>Email</th>\n",
       "      <th>Age</th>\n",
       "    </tr>\n",
       "  </thead>\n",
       "  <tbody>\n",
       "    <tr>\n",
       "      <th>0</th>\n",
       "      <td>680</td>\n",
       "      <td>Mike</td>\n",
       "      <td>Moe</td>\n",
       "      <td>5000.00</td>\n",
       "      <td>3</td>\n",
       "      <td>N94 3M0</td>\n",
       "      <td>bird@gmail.com</td>\n",
       "      <td>25</td>\n",
       "    </tr>\n",
       "    <tr>\n",
       "      <th>1</th>\n",
       "      <td>700</td>\n",
       "      <td>Noah</td>\n",
       "      <td>Ryan</td>\n",
       "      <td>10000.00</td>\n",
       "      <td>8</td>\n",
       "      <td>N8S 14K</td>\n",
       "      <td>nsmall@hotmail.com</td>\n",
       "      <td>26</td>\n",
       "    </tr>\n",
       "    <tr>\n",
       "      <th>2</th>\n",
       "      <td>750</td>\n",
       "      <td>Nina</td>\n",
       "      <td>Keller</td>\n",
       "      <td>9072.02</td>\n",
       "      <td>17</td>\n",
       "      <td>S1T 4E6</td>\n",
       "      <td>azikez@gahew.mr</td>\n",
       "      <td>28</td>\n",
       "    </tr>\n",
       "    <tr>\n",
       "      <th>3</th>\n",
       "      <td>699</td>\n",
       "      <td>Chanel</td>\n",
       "      <td>Steve</td>\n",
       "      <td>11072.02</td>\n",
       "      <td>12</td>\n",
       "      <td>N7T 3E6</td>\n",
       "      <td>chanel@gmail.com</td>\n",
       "      <td>30</td>\n",
       "    </tr>\n",
       "    <tr>\n",
       "      <th>4</th>\n",
       "      <td>550</td>\n",
       "      <td>Kate</td>\n",
       "      <td>Noor</td>\n",
       "      <td>5000.00</td>\n",
       "      <td>23</td>\n",
       "      <td>K8N 5H6</td>\n",
       "      <td>kate@hotmail.com</td>\n",
       "      <td>32</td>\n",
       "    </tr>\n",
       "    <tr>\n",
       "      <th>5</th>\n",
       "      <td>600</td>\n",
       "      <td>Samer</td>\n",
       "      <td>Mo</td>\n",
       "      <td>100000.00</td>\n",
       "      <td>13</td>\n",
       "      <td>J7H 3HY</td>\n",
       "      <td>samer@gmail.com</td>\n",
       "      <td>36</td>\n",
       "    </tr>\n",
       "    <tr>\n",
       "      <th>6</th>\n",
       "      <td>750</td>\n",
       "      <td>Heba</td>\n",
       "      <td>Ismail</td>\n",
       "      <td>50000.00</td>\n",
       "      <td>7</td>\n",
       "      <td>K8Y 3M8</td>\n",
       "      <td>heba.ismail@hotmail.com</td>\n",
       "      <td>22</td>\n",
       "    </tr>\n",
       "    <tr>\n",
       "      <th>7</th>\n",
       "      <td>500</td>\n",
       "      <td>Laila</td>\n",
       "      <td>Aly</td>\n",
       "      <td>20000.00</td>\n",
       "      <td>5</td>\n",
       "      <td>J8Y 3M0</td>\n",
       "      <td>Laila.a@hotmail.com</td>\n",
       "      <td>48</td>\n",
       "    </tr>\n",
       "    <tr>\n",
       "      <th>8</th>\n",
       "      <td>520</td>\n",
       "      <td>Joseph</td>\n",
       "      <td>Patton</td>\n",
       "      <td>2629.13</td>\n",
       "      <td>2</td>\n",
       "      <td>M6U 5U7</td>\n",
       "      <td>daafeja@boh.jm</td>\n",
       "      <td>55</td>\n",
       "    </tr>\n",
       "    <tr>\n",
       "      <th>9</th>\n",
       "      <td>510</td>\n",
       "      <td>Noah</td>\n",
       "      <td>Moran</td>\n",
       "      <td>8626.96</td>\n",
       "      <td>11</td>\n",
       "      <td>K2D 4M9</td>\n",
       "      <td>guutodi@bigwoc.kw</td>\n",
       "      <td>70</td>\n",
       "    </tr>\n",
       "  </tbody>\n",
       "</table>\n",
       "</div>"
      ],
      "text/plain": [
       "   Credit Score First Name Last Name     Salary  Years with Company  \\\n",
       "0           680       Mike       Moe    5000.00                   3   \n",
       "1           700       Noah      Ryan   10000.00                   8   \n",
       "2           750       Nina    Keller    9072.02                  17   \n",
       "3           699    Chanel      Steve   11072.02                  12   \n",
       "4           550       Kate      Noor    5000.00                  23   \n",
       "5           600      Samer        Mo  100000.00                  13   \n",
       "6           750       Heba    Ismail   50000.00                   7   \n",
       "7           500      Laila       Aly   20000.00                   5   \n",
       "8           520     Joseph    Patton    2629.13                   2   \n",
       "9           510       Noah     Moran    8626.96                  11   \n",
       "\n",
       "  Postal Code                    Email  Age  \n",
       "0     N94 3M0           bird@gmail.com   25  \n",
       "1     N8S 14K       nsmall@hotmail.com   26  \n",
       "2     S1T 4E6          azikez@gahew.mr   28  \n",
       "3     N7T 3E6         chanel@gmail.com   30  \n",
       "4     K8N 5H6         kate@hotmail.com   32  \n",
       "5     J7H 3HY          samer@gmail.com   36  \n",
       "6     K8Y 3M8  heba.ismail@hotmail.com   22  \n",
       "7     J8Y 3M0      Laila.a@hotmail.com   48  \n",
       "8     M6U 5U7           daafeja@boh.jm   55  \n",
       "9     K2D 4M9        guutodi@bigwoc.kw   70  "
      ]
     },
     "execution_count": 66,
     "metadata": {},
     "output_type": "execute_result"
    }
   ],
   "source": [
    "employee_df.insert(0, column = 'Credit Score', value = [680,700,750,699,550,600,750,500,520,510])\n",
    "employee_df"
   ]
  },
  {
   "cell_type": "code",
   "execution_count": null,
   "metadata": {
    "executionInfo": {
     "elapsed": 281,
     "status": "ok",
     "timestamp": 1618627858317,
     "user": {
      "displayName": "Stemplicity",
      "photoUrl": "https://lh3.googleusercontent.com/a-/AOh14Gj2vCFt-bD5mPBhUWX0QA6xiBgoXQXtwUm2jgjaCg=s64",
      "userId": "10668071569687886186"
     },
     "user_tz": 240
    },
    "id": "GlBj_pzohFTE"
   },
   "outputs": [],
   "source": [
    "# You can also insert a new column in a given position \n"
   ]
  },
  {
   "cell_type": "code",
   "execution_count": null,
   "metadata": {
    "colab": {
     "base_uri": "https://localhost:8080/",
     "height": 343
    },
    "executionInfo": {
     "elapsed": 428,
     "status": "ok",
     "timestamp": 1618627859139,
     "user": {
      "displayName": "Stemplicity",
      "photoUrl": "https://lh3.googleusercontent.com/a-/AOh14Gj2vCFt-bD5mPBhUWX0QA6xiBgoXQXtwUm2jgjaCg=s64",
      "userId": "10668071569687886186"
     },
     "user_tz": 240
    },
    "id": "JRlJsSByhFVC",
    "outputId": "08685123-c313-432a-a4c1-5c5376c38892"
   },
   "outputs": [],
   "source": []
  },
  {
   "cell_type": "code",
   "execution_count": 67,
   "metadata": {
    "colab": {
     "base_uri": "https://localhost:8080/",
     "height": 343
    },
    "executionInfo": {
     "elapsed": 275,
     "status": "ok",
     "timestamp": 1618627866684,
     "user": {
      "displayName": "Stemplicity",
      "photoUrl": "https://lh3.googleusercontent.com/a-/AOh14Gj2vCFt-bD5mPBhUWX0QA6xiBgoXQXtwUm2jgjaCg=s64",
      "userId": "10668071569687886186"
     },
     "user_tz": 240
    },
    "id": "bkrHWh-2bn0J",
    "outputId": "f2629d3b-0ae3-4da9-8388-b682e9a4d827"
   },
   "outputs": [
    {
     "data": {
      "text/html": [
       "<div>\n",
       "<style scoped>\n",
       "    .dataframe tbody tr th:only-of-type {\n",
       "        vertical-align: middle;\n",
       "    }\n",
       "\n",
       "    .dataframe tbody tr th {\n",
       "        vertical-align: top;\n",
       "    }\n",
       "\n",
       "    .dataframe thead th {\n",
       "        text-align: right;\n",
       "    }\n",
       "</style>\n",
       "<table border=\"1\" class=\"dataframe\">\n",
       "  <thead>\n",
       "    <tr style=\"text-align: right;\">\n",
       "      <th></th>\n",
       "      <th>Credit Score</th>\n",
       "      <th>First Name</th>\n",
       "      <th>Last Name</th>\n",
       "      <th>Salary</th>\n",
       "      <th>Years with Company</th>\n",
       "      <th>Postal Code</th>\n",
       "      <th>Age</th>\n",
       "    </tr>\n",
       "  </thead>\n",
       "  <tbody>\n",
       "    <tr>\n",
       "      <th>0</th>\n",
       "      <td>680</td>\n",
       "      <td>Mike</td>\n",
       "      <td>Moe</td>\n",
       "      <td>5000.00</td>\n",
       "      <td>3</td>\n",
       "      <td>N94 3M0</td>\n",
       "      <td>25</td>\n",
       "    </tr>\n",
       "    <tr>\n",
       "      <th>1</th>\n",
       "      <td>700</td>\n",
       "      <td>Noah</td>\n",
       "      <td>Ryan</td>\n",
       "      <td>10000.00</td>\n",
       "      <td>8</td>\n",
       "      <td>N8S 14K</td>\n",
       "      <td>26</td>\n",
       "    </tr>\n",
       "    <tr>\n",
       "      <th>2</th>\n",
       "      <td>750</td>\n",
       "      <td>Nina</td>\n",
       "      <td>Keller</td>\n",
       "      <td>9072.02</td>\n",
       "      <td>17</td>\n",
       "      <td>S1T 4E6</td>\n",
       "      <td>28</td>\n",
       "    </tr>\n",
       "    <tr>\n",
       "      <th>3</th>\n",
       "      <td>699</td>\n",
       "      <td>Chanel</td>\n",
       "      <td>Steve</td>\n",
       "      <td>11072.02</td>\n",
       "      <td>12</td>\n",
       "      <td>N7T 3E6</td>\n",
       "      <td>30</td>\n",
       "    </tr>\n",
       "    <tr>\n",
       "      <th>4</th>\n",
       "      <td>550</td>\n",
       "      <td>Kate</td>\n",
       "      <td>Noor</td>\n",
       "      <td>5000.00</td>\n",
       "      <td>23</td>\n",
       "      <td>K8N 5H6</td>\n",
       "      <td>32</td>\n",
       "    </tr>\n",
       "    <tr>\n",
       "      <th>5</th>\n",
       "      <td>600</td>\n",
       "      <td>Samer</td>\n",
       "      <td>Mo</td>\n",
       "      <td>100000.00</td>\n",
       "      <td>13</td>\n",
       "      <td>J7H 3HY</td>\n",
       "      <td>36</td>\n",
       "    </tr>\n",
       "    <tr>\n",
       "      <th>6</th>\n",
       "      <td>750</td>\n",
       "      <td>Heba</td>\n",
       "      <td>Ismail</td>\n",
       "      <td>50000.00</td>\n",
       "      <td>7</td>\n",
       "      <td>K8Y 3M8</td>\n",
       "      <td>22</td>\n",
       "    </tr>\n",
       "    <tr>\n",
       "      <th>7</th>\n",
       "      <td>500</td>\n",
       "      <td>Laila</td>\n",
       "      <td>Aly</td>\n",
       "      <td>20000.00</td>\n",
       "      <td>5</td>\n",
       "      <td>J8Y 3M0</td>\n",
       "      <td>48</td>\n",
       "    </tr>\n",
       "    <tr>\n",
       "      <th>8</th>\n",
       "      <td>520</td>\n",
       "      <td>Joseph</td>\n",
       "      <td>Patton</td>\n",
       "      <td>2629.13</td>\n",
       "      <td>2</td>\n",
       "      <td>M6U 5U7</td>\n",
       "      <td>55</td>\n",
       "    </tr>\n",
       "    <tr>\n",
       "      <th>9</th>\n",
       "      <td>510</td>\n",
       "      <td>Noah</td>\n",
       "      <td>Moran</td>\n",
       "      <td>8626.96</td>\n",
       "      <td>11</td>\n",
       "      <td>K2D 4M9</td>\n",
       "      <td>70</td>\n",
       "    </tr>\n",
       "  </tbody>\n",
       "</table>\n",
       "</div>"
      ],
      "text/plain": [
       "   Credit Score First Name Last Name     Salary  Years with Company  \\\n",
       "0           680       Mike       Moe    5000.00                   3   \n",
       "1           700       Noah      Ryan   10000.00                   8   \n",
       "2           750       Nina    Keller    9072.02                  17   \n",
       "3           699    Chanel      Steve   11072.02                  12   \n",
       "4           550       Kate      Noor    5000.00                  23   \n",
       "5           600      Samer        Mo  100000.00                  13   \n",
       "6           750       Heba    Ismail   50000.00                   7   \n",
       "7           500      Laila       Aly   20000.00                   5   \n",
       "8           520     Joseph    Patton    2629.13                   2   \n",
       "9           510       Noah     Moran    8626.96                  11   \n",
       "\n",
       "  Postal Code  Age  \n",
       "0     N94 3M0   25  \n",
       "1     N8S 14K   26  \n",
       "2     S1T 4E6   28  \n",
       "3     N7T 3E6   30  \n",
       "4     K8N 5H6   32  \n",
       "5     J7H 3HY   36  \n",
       "6     K8Y 3M8   22  \n",
       "7     J8Y 3M0   48  \n",
       "8     M6U 5U7   55  \n",
       "9     K2D 4M9   70  "
      ]
     },
     "execution_count": 67,
     "metadata": {},
     "output_type": "execute_result"
    }
   ],
   "source": [
    "# Delete a column from a DataFrame\n",
    "del employee_df['Email']\n",
    "employee_df"
   ]
  },
  {
   "cell_type": "code",
   "execution_count": 74,
   "metadata": {
    "colab": {
     "base_uri": "https://localhost:8080/",
     "height": 343
    },
    "executionInfo": {
     "elapsed": 299,
     "status": "ok",
     "timestamp": 1618627875193,
     "user": {
      "displayName": "Stemplicity",
      "photoUrl": "https://lh3.googleusercontent.com/a-/AOh14Gj2vCFt-bD5mPBhUWX0QA6xiBgoXQXtwUm2jgjaCg=s64",
      "userId": "10668071569687886186"
     },
     "user_tz": 240
    },
    "id": "q-JeQolLdIMi",
    "outputId": "c21776db-bef8-4239-84c3-96f9dac77d09"
   },
   "outputs": [
    {
     "ename": "KeyError",
     "evalue": "\"['LastName', 'Salary'] not found in axis\"",
     "output_type": "error",
     "traceback": [
      "\u001b[1;31m---------------------------------------------------------------------------\u001b[0m",
      "\u001b[1;31mKeyError\u001b[0m                                  Traceback (most recent call last)",
      "Cell \u001b[1;32mIn[74], line 1\u001b[0m\n\u001b[1;32m----> 1\u001b[0m \u001b[43memployee_df\u001b[49m\u001b[38;5;241;43m.\u001b[39;49m\u001b[43mdrop\u001b[49m\u001b[43m(\u001b[49m\u001b[43mlabels\u001b[49m\u001b[43m \u001b[49m\u001b[38;5;241;43m=\u001b[39;49m\u001b[43m \u001b[49m\u001b[43m[\u001b[49m\u001b[38;5;124;43m'\u001b[39;49m\u001b[38;5;124;43mLastName\u001b[39;49m\u001b[38;5;124;43m'\u001b[39;49m\u001b[43m,\u001b[49m\u001b[38;5;124;43m'\u001b[39;49m\u001b[38;5;124;43mSalary\u001b[39;49m\u001b[38;5;124;43m'\u001b[39;49m\u001b[43m]\u001b[49m\u001b[43m,\u001b[49m\u001b[43m \u001b[49m\u001b[43maxis\u001b[49m\u001b[43m \u001b[49m\u001b[38;5;241;43m=\u001b[39;49m\u001b[38;5;241;43m1\u001b[39;49m\u001b[43m,\u001b[49m\u001b[43m \u001b[49m\u001b[43minplace\u001b[49m\u001b[43m \u001b[49m\u001b[38;5;241;43m=\u001b[39;49m\u001b[43m \u001b[49m\u001b[38;5;28;43;01mTrue\u001b[39;49;00m\u001b[43m)\u001b[49m\n\u001b[0;32m      2\u001b[0m employee_df\n",
      "File \u001b[1;32m~\\AppData\\Local\\Packages\\PythonSoftwareFoundation.Python.3.10_qbz5n2kfra8p0\\LocalCache\\local-packages\\Python310\\site-packages\\pandas\\util\\_decorators.py:331\u001b[0m, in \u001b[0;36mdeprecate_nonkeyword_arguments.<locals>.decorate.<locals>.wrapper\u001b[1;34m(*args, **kwargs)\u001b[0m\n\u001b[0;32m    325\u001b[0m \u001b[38;5;28;01mif\u001b[39;00m \u001b[38;5;28mlen\u001b[39m(args) \u001b[38;5;241m>\u001b[39m num_allow_args:\n\u001b[0;32m    326\u001b[0m     warnings\u001b[38;5;241m.\u001b[39mwarn(\n\u001b[0;32m    327\u001b[0m         msg\u001b[38;5;241m.\u001b[39mformat(arguments\u001b[38;5;241m=\u001b[39m_format_argument_list(allow_args)),\n\u001b[0;32m    328\u001b[0m         \u001b[38;5;167;01mFutureWarning\u001b[39;00m,\n\u001b[0;32m    329\u001b[0m         stacklevel\u001b[38;5;241m=\u001b[39mfind_stack_level(),\n\u001b[0;32m    330\u001b[0m     )\n\u001b[1;32m--> 331\u001b[0m \u001b[38;5;28;01mreturn\u001b[39;00m func(\u001b[38;5;241m*\u001b[39margs, \u001b[38;5;241m*\u001b[39m\u001b[38;5;241m*\u001b[39mkwargs)\n",
      "File \u001b[1;32m~\\AppData\\Local\\Packages\\PythonSoftwareFoundation.Python.3.10_qbz5n2kfra8p0\\LocalCache\\local-packages\\Python310\\site-packages\\pandas\\core\\frame.py:5399\u001b[0m, in \u001b[0;36mDataFrame.drop\u001b[1;34m(self, labels, axis, index, columns, level, inplace, errors)\u001b[0m\n\u001b[0;32m   5251\u001b[0m \u001b[38;5;129m@deprecate_nonkeyword_arguments\u001b[39m(version\u001b[38;5;241m=\u001b[39m\u001b[38;5;28;01mNone\u001b[39;00m, allowed_args\u001b[38;5;241m=\u001b[39m[\u001b[38;5;124m\"\u001b[39m\u001b[38;5;124mself\u001b[39m\u001b[38;5;124m\"\u001b[39m, \u001b[38;5;124m\"\u001b[39m\u001b[38;5;124mlabels\u001b[39m\u001b[38;5;124m\"\u001b[39m])\n\u001b[0;32m   5252\u001b[0m \u001b[38;5;28;01mdef\u001b[39;00m \u001b[38;5;21mdrop\u001b[39m(  \u001b[38;5;66;03m# type: ignore[override]\u001b[39;00m\n\u001b[0;32m   5253\u001b[0m     \u001b[38;5;28mself\u001b[39m,\n\u001b[1;32m   (...)\u001b[0m\n\u001b[0;32m   5260\u001b[0m     errors: IgnoreRaise \u001b[38;5;241m=\u001b[39m \u001b[38;5;124m\"\u001b[39m\u001b[38;5;124mraise\u001b[39m\u001b[38;5;124m\"\u001b[39m,\n\u001b[0;32m   5261\u001b[0m ) \u001b[38;5;241m-\u001b[39m\u001b[38;5;241m>\u001b[39m DataFrame \u001b[38;5;241m|\u001b[39m \u001b[38;5;28;01mNone\u001b[39;00m:\n\u001b[0;32m   5262\u001b[0m \u001b[38;5;250m    \u001b[39m\u001b[38;5;124;03m\"\"\"\u001b[39;00m\n\u001b[0;32m   5263\u001b[0m \u001b[38;5;124;03m    Drop specified labels from rows or columns.\u001b[39;00m\n\u001b[0;32m   5264\u001b[0m \n\u001b[1;32m   (...)\u001b[0m\n\u001b[0;32m   5397\u001b[0m \u001b[38;5;124;03m            weight  1.0     0.8\u001b[39;00m\n\u001b[0;32m   5398\u001b[0m \u001b[38;5;124;03m    \"\"\"\u001b[39;00m\n\u001b[1;32m-> 5399\u001b[0m     \u001b[38;5;28;01mreturn\u001b[39;00m \u001b[38;5;28;43msuper\u001b[39;49m\u001b[43m(\u001b[49m\u001b[43m)\u001b[49m\u001b[38;5;241;43m.\u001b[39;49m\u001b[43mdrop\u001b[49m\u001b[43m(\u001b[49m\n\u001b[0;32m   5400\u001b[0m \u001b[43m        \u001b[49m\u001b[43mlabels\u001b[49m\u001b[38;5;241;43m=\u001b[39;49m\u001b[43mlabels\u001b[49m\u001b[43m,\u001b[49m\n\u001b[0;32m   5401\u001b[0m \u001b[43m        \u001b[49m\u001b[43maxis\u001b[49m\u001b[38;5;241;43m=\u001b[39;49m\u001b[43maxis\u001b[49m\u001b[43m,\u001b[49m\n\u001b[0;32m   5402\u001b[0m \u001b[43m        \u001b[49m\u001b[43mindex\u001b[49m\u001b[38;5;241;43m=\u001b[39;49m\u001b[43mindex\u001b[49m\u001b[43m,\u001b[49m\n\u001b[0;32m   5403\u001b[0m \u001b[43m        \u001b[49m\u001b[43mcolumns\u001b[49m\u001b[38;5;241;43m=\u001b[39;49m\u001b[43mcolumns\u001b[49m\u001b[43m,\u001b[49m\n\u001b[0;32m   5404\u001b[0m \u001b[43m        \u001b[49m\u001b[43mlevel\u001b[49m\u001b[38;5;241;43m=\u001b[39;49m\u001b[43mlevel\u001b[49m\u001b[43m,\u001b[49m\n\u001b[0;32m   5405\u001b[0m \u001b[43m        \u001b[49m\u001b[43minplace\u001b[49m\u001b[38;5;241;43m=\u001b[39;49m\u001b[43minplace\u001b[49m\u001b[43m,\u001b[49m\n\u001b[0;32m   5406\u001b[0m \u001b[43m        \u001b[49m\u001b[43merrors\u001b[49m\u001b[38;5;241;43m=\u001b[39;49m\u001b[43merrors\u001b[49m\u001b[43m,\u001b[49m\n\u001b[0;32m   5407\u001b[0m \u001b[43m    \u001b[49m\u001b[43m)\u001b[49m\n",
      "File \u001b[1;32m~\\AppData\\Local\\Packages\\PythonSoftwareFoundation.Python.3.10_qbz5n2kfra8p0\\LocalCache\\local-packages\\Python310\\site-packages\\pandas\\util\\_decorators.py:331\u001b[0m, in \u001b[0;36mdeprecate_nonkeyword_arguments.<locals>.decorate.<locals>.wrapper\u001b[1;34m(*args, **kwargs)\u001b[0m\n\u001b[0;32m    325\u001b[0m \u001b[38;5;28;01mif\u001b[39;00m \u001b[38;5;28mlen\u001b[39m(args) \u001b[38;5;241m>\u001b[39m num_allow_args:\n\u001b[0;32m    326\u001b[0m     warnings\u001b[38;5;241m.\u001b[39mwarn(\n\u001b[0;32m    327\u001b[0m         msg\u001b[38;5;241m.\u001b[39mformat(arguments\u001b[38;5;241m=\u001b[39m_format_argument_list(allow_args)),\n\u001b[0;32m    328\u001b[0m         \u001b[38;5;167;01mFutureWarning\u001b[39;00m,\n\u001b[0;32m    329\u001b[0m         stacklevel\u001b[38;5;241m=\u001b[39mfind_stack_level(),\n\u001b[0;32m    330\u001b[0m     )\n\u001b[1;32m--> 331\u001b[0m \u001b[38;5;28;01mreturn\u001b[39;00m func(\u001b[38;5;241m*\u001b[39margs, \u001b[38;5;241m*\u001b[39m\u001b[38;5;241m*\u001b[39mkwargs)\n",
      "File \u001b[1;32m~\\AppData\\Local\\Packages\\PythonSoftwareFoundation.Python.3.10_qbz5n2kfra8p0\\LocalCache\\local-packages\\Python310\\site-packages\\pandas\\core\\generic.py:4505\u001b[0m, in \u001b[0;36mNDFrame.drop\u001b[1;34m(self, labels, axis, index, columns, level, inplace, errors)\u001b[0m\n\u001b[0;32m   4503\u001b[0m \u001b[38;5;28;01mfor\u001b[39;00m axis, labels \u001b[38;5;129;01min\u001b[39;00m axes\u001b[38;5;241m.\u001b[39mitems():\n\u001b[0;32m   4504\u001b[0m     \u001b[38;5;28;01mif\u001b[39;00m labels \u001b[38;5;129;01mis\u001b[39;00m \u001b[38;5;129;01mnot\u001b[39;00m \u001b[38;5;28;01mNone\u001b[39;00m:\n\u001b[1;32m-> 4505\u001b[0m         obj \u001b[38;5;241m=\u001b[39m \u001b[43mobj\u001b[49m\u001b[38;5;241;43m.\u001b[39;49m\u001b[43m_drop_axis\u001b[49m\u001b[43m(\u001b[49m\u001b[43mlabels\u001b[49m\u001b[43m,\u001b[49m\u001b[43m \u001b[49m\u001b[43maxis\u001b[49m\u001b[43m,\u001b[49m\u001b[43m \u001b[49m\u001b[43mlevel\u001b[49m\u001b[38;5;241;43m=\u001b[39;49m\u001b[43mlevel\u001b[49m\u001b[43m,\u001b[49m\u001b[43m \u001b[49m\u001b[43merrors\u001b[49m\u001b[38;5;241;43m=\u001b[39;49m\u001b[43merrors\u001b[49m\u001b[43m)\u001b[49m\n\u001b[0;32m   4507\u001b[0m \u001b[38;5;28;01mif\u001b[39;00m inplace:\n\u001b[0;32m   4508\u001b[0m     \u001b[38;5;28mself\u001b[39m\u001b[38;5;241m.\u001b[39m_update_inplace(obj)\n",
      "File \u001b[1;32m~\\AppData\\Local\\Packages\\PythonSoftwareFoundation.Python.3.10_qbz5n2kfra8p0\\LocalCache\\local-packages\\Python310\\site-packages\\pandas\\core\\generic.py:4546\u001b[0m, in \u001b[0;36mNDFrame._drop_axis\u001b[1;34m(self, labels, axis, level, errors, only_slice)\u001b[0m\n\u001b[0;32m   4544\u001b[0m         new_axis \u001b[38;5;241m=\u001b[39m axis\u001b[38;5;241m.\u001b[39mdrop(labels, level\u001b[38;5;241m=\u001b[39mlevel, errors\u001b[38;5;241m=\u001b[39merrors)\n\u001b[0;32m   4545\u001b[0m     \u001b[38;5;28;01melse\u001b[39;00m:\n\u001b[1;32m-> 4546\u001b[0m         new_axis \u001b[38;5;241m=\u001b[39m \u001b[43maxis\u001b[49m\u001b[38;5;241;43m.\u001b[39;49m\u001b[43mdrop\u001b[49m\u001b[43m(\u001b[49m\u001b[43mlabels\u001b[49m\u001b[43m,\u001b[49m\u001b[43m \u001b[49m\u001b[43merrors\u001b[49m\u001b[38;5;241;43m=\u001b[39;49m\u001b[43merrors\u001b[49m\u001b[43m)\u001b[49m\n\u001b[0;32m   4547\u001b[0m     indexer \u001b[38;5;241m=\u001b[39m axis\u001b[38;5;241m.\u001b[39mget_indexer(new_axis)\n\u001b[0;32m   4549\u001b[0m \u001b[38;5;66;03m# Case for non-unique axis\u001b[39;00m\n\u001b[0;32m   4550\u001b[0m \u001b[38;5;28;01melse\u001b[39;00m:\n",
      "File \u001b[1;32m~\\AppData\\Local\\Packages\\PythonSoftwareFoundation.Python.3.10_qbz5n2kfra8p0\\LocalCache\\local-packages\\Python310\\site-packages\\pandas\\core\\indexes\\base.py:6934\u001b[0m, in \u001b[0;36mIndex.drop\u001b[1;34m(self, labels, errors)\u001b[0m\n\u001b[0;32m   6932\u001b[0m \u001b[38;5;28;01mif\u001b[39;00m mask\u001b[38;5;241m.\u001b[39many():\n\u001b[0;32m   6933\u001b[0m     \u001b[38;5;28;01mif\u001b[39;00m errors \u001b[38;5;241m!=\u001b[39m \u001b[38;5;124m\"\u001b[39m\u001b[38;5;124mignore\u001b[39m\u001b[38;5;124m\"\u001b[39m:\n\u001b[1;32m-> 6934\u001b[0m         \u001b[38;5;28;01mraise\u001b[39;00m \u001b[38;5;167;01mKeyError\u001b[39;00m(\u001b[38;5;124mf\u001b[39m\u001b[38;5;124m\"\u001b[39m\u001b[38;5;132;01m{\u001b[39;00m\u001b[38;5;28mlist\u001b[39m(labels[mask])\u001b[38;5;132;01m}\u001b[39;00m\u001b[38;5;124m not found in axis\u001b[39m\u001b[38;5;124m\"\u001b[39m)\n\u001b[0;32m   6935\u001b[0m     indexer \u001b[38;5;241m=\u001b[39m indexer[\u001b[38;5;241m~\u001b[39mmask]\n\u001b[0;32m   6936\u001b[0m \u001b[38;5;28;01mreturn\u001b[39;00m \u001b[38;5;28mself\u001b[39m\u001b[38;5;241m.\u001b[39mdelete(indexer)\n",
      "\u001b[1;31mKeyError\u001b[0m: \"['LastName', 'Salary'] not found in axis\""
     ]
    }
   ],
   "source": [
    "employee_df.drop(labels = ['Last Name','Salary'], axis =1, inplace = True)\n",
    "employee_df"
   ]
  },
  {
   "cell_type": "code",
   "execution_count": 75,
   "metadata": {
    "colab": {
     "base_uri": "https://localhost:8080/"
    },
    "executionInfo": {
     "elapsed": 342,
     "status": "ok",
     "timestamp": 1618627896681,
     "user": {
      "displayName": "Stemplicity",
      "photoUrl": "https://lh3.googleusercontent.com/a-/AOh14Gj2vCFt-bD5mPBhUWX0QA6xiBgoXQXtwUm2jgjaCg=s64",
      "userId": "10668071569687886186"
     },
     "user_tz": 240
    },
    "id": "-GKAdAWPeapp",
    "outputId": "6dc6c188-6cd5-486f-9952-0207460c7528"
   },
   "outputs": [
    {
     "data": {
      "text/plain": [
       "0       Mike\n",
       "1       Noah\n",
       "2       Nina\n",
       "3    Chanel \n",
       "4       Kate\n",
       "5      Samer\n",
       "6       Heba\n",
       "7      Laila\n",
       "8     Joseph\n",
       "9       Noah\n",
       "Name: First Name, dtype: object"
      ]
     },
     "execution_count": 75,
     "metadata": {},
     "output_type": "execute_result"
    }
   ],
   "source": [
    "# Remove a column from a DataFrame and store it somehwere else using pop\n",
    "somewhere = employee_df.pop('First Name')\n",
    "somewhere"
   ]
  },
  {
   "cell_type": "markdown",
   "metadata": {
    "id": "BqV35M4Uw4Bc"
   },
   "source": [
    "**MINI CHALLENGE #6:**\n",
    "- **load the employee_information.csv file and perform the following: (assume any reasonable values)** \n",
    "    - **Add a column indicating whether the employee has a mortgage or not**\n",
    "    - **Add a column indicating the value of mortage in dollars**  "
   ]
  },
  {
   "cell_type": "code",
   "execution_count": 76,
   "metadata": {
    "id": "P8XxNW_OxCMJ"
   },
   "outputs": [
    {
     "data": {
      "text/html": [
       "<div>\n",
       "<style scoped>\n",
       "    .dataframe tbody tr th:only-of-type {\n",
       "        vertical-align: middle;\n",
       "    }\n",
       "\n",
       "    .dataframe tbody tr th {\n",
       "        vertical-align: top;\n",
       "    }\n",
       "\n",
       "    .dataframe thead th {\n",
       "        text-align: right;\n",
       "    }\n",
       "</style>\n",
       "<table border=\"1\" class=\"dataframe\">\n",
       "  <thead>\n",
       "    <tr style=\"text-align: right;\">\n",
       "      <th></th>\n",
       "      <th>First Name</th>\n",
       "      <th>Last Name</th>\n",
       "      <th>Salary</th>\n",
       "      <th>Years with Company</th>\n",
       "      <th>Postal Code</th>\n",
       "      <th>Email</th>\n",
       "    </tr>\n",
       "  </thead>\n",
       "  <tbody>\n",
       "    <tr>\n",
       "      <th>0</th>\n",
       "      <td>Mike</td>\n",
       "      <td>Moe</td>\n",
       "      <td>5000.00</td>\n",
       "      <td>3</td>\n",
       "      <td>N94 3M0</td>\n",
       "      <td>bird@gmail.com</td>\n",
       "    </tr>\n",
       "    <tr>\n",
       "      <th>1</th>\n",
       "      <td>Noah</td>\n",
       "      <td>Ryan</td>\n",
       "      <td>10000.00</td>\n",
       "      <td>8</td>\n",
       "      <td>N8S 14K</td>\n",
       "      <td>nsmall@hotmail.com</td>\n",
       "    </tr>\n",
       "    <tr>\n",
       "      <th>2</th>\n",
       "      <td>Nina</td>\n",
       "      <td>Keller</td>\n",
       "      <td>9072.02</td>\n",
       "      <td>17</td>\n",
       "      <td>S1T 4E6</td>\n",
       "      <td>azikez@gahew.mr</td>\n",
       "    </tr>\n",
       "    <tr>\n",
       "      <th>3</th>\n",
       "      <td>Chanel</td>\n",
       "      <td>Steve</td>\n",
       "      <td>11072.02</td>\n",
       "      <td>12</td>\n",
       "      <td>N7T 3E6</td>\n",
       "      <td>chanel@gmail.com</td>\n",
       "    </tr>\n",
       "    <tr>\n",
       "      <th>4</th>\n",
       "      <td>Kate</td>\n",
       "      <td>Noor</td>\n",
       "      <td>5000.00</td>\n",
       "      <td>23</td>\n",
       "      <td>K8N 5H6</td>\n",
       "      <td>kate@hotmail.com</td>\n",
       "    </tr>\n",
       "    <tr>\n",
       "      <th>5</th>\n",
       "      <td>Samer</td>\n",
       "      <td>Mo</td>\n",
       "      <td>100000.00</td>\n",
       "      <td>13</td>\n",
       "      <td>J7H 3HY</td>\n",
       "      <td>samer@gmail.com</td>\n",
       "    </tr>\n",
       "    <tr>\n",
       "      <th>6</th>\n",
       "      <td>Heba</td>\n",
       "      <td>Ismail</td>\n",
       "      <td>50000.00</td>\n",
       "      <td>7</td>\n",
       "      <td>K8Y 3M8</td>\n",
       "      <td>heba.ismail@hotmail.com</td>\n",
       "    </tr>\n",
       "    <tr>\n",
       "      <th>7</th>\n",
       "      <td>Laila</td>\n",
       "      <td>Aly</td>\n",
       "      <td>20000.00</td>\n",
       "      <td>5</td>\n",
       "      <td>J8Y 3M0</td>\n",
       "      <td>Laila.a@hotmail.com</td>\n",
       "    </tr>\n",
       "    <tr>\n",
       "      <th>8</th>\n",
       "      <td>Joseph</td>\n",
       "      <td>Patton</td>\n",
       "      <td>2629.13</td>\n",
       "      <td>2</td>\n",
       "      <td>M6U 5U7</td>\n",
       "      <td>daafeja@boh.jm</td>\n",
       "    </tr>\n",
       "    <tr>\n",
       "      <th>9</th>\n",
       "      <td>Noah</td>\n",
       "      <td>Moran</td>\n",
       "      <td>8626.96</td>\n",
       "      <td>11</td>\n",
       "      <td>K2D 4M9</td>\n",
       "      <td>guutodi@bigwoc.kw</td>\n",
       "    </tr>\n",
       "  </tbody>\n",
       "</table>\n",
       "</div>"
      ],
      "text/plain": [
       "  First Name Last Name     Salary  Years with Company Postal Code  \\\n",
       "0       Mike       Moe    5000.00                   3     N94 3M0   \n",
       "1       Noah      Ryan   10000.00                   8     N8S 14K   \n",
       "2       Nina    Keller    9072.02                  17     S1T 4E6   \n",
       "3    Chanel      Steve   11072.02                  12     N7T 3E6   \n",
       "4       Kate      Noor    5000.00                  23     K8N 5H6   \n",
       "5      Samer        Mo  100000.00                  13     J7H 3HY   \n",
       "6       Heba    Ismail   50000.00                   7     K8Y 3M8   \n",
       "7      Laila       Aly   20000.00                   5     J8Y 3M0   \n",
       "8     Joseph    Patton    2629.13                   2     M6U 5U7   \n",
       "9       Noah     Moran    8626.96                  11     K2D 4M9   \n",
       "\n",
       "                     Email  \n",
       "0           bird@gmail.com  \n",
       "1       nsmall@hotmail.com  \n",
       "2          azikez@gahew.mr  \n",
       "3         chanel@gmail.com  \n",
       "4         kate@hotmail.com  \n",
       "5          samer@gmail.com  \n",
       "6  heba.ismail@hotmail.com  \n",
       "7      Laila.a@hotmail.com  \n",
       "8           daafeja@boh.jm  \n",
       "9        guutodi@bigwoc.kw  "
      ]
     },
     "execution_count": 76,
     "metadata": {},
     "output_type": "execute_result"
    }
   ],
   "source": [
    "employee1_df = pd.read_csv('employee_information.csv')\n",
    "employee1_df"
   ]
  },
  {
   "cell_type": "code",
   "execution_count": 77,
   "metadata": {},
   "outputs": [
    {
     "data": {
      "text/html": [
       "<div>\n",
       "<style scoped>\n",
       "    .dataframe tbody tr th:only-of-type {\n",
       "        vertical-align: middle;\n",
       "    }\n",
       "\n",
       "    .dataframe tbody tr th {\n",
       "        vertical-align: top;\n",
       "    }\n",
       "\n",
       "    .dataframe thead th {\n",
       "        text-align: right;\n",
       "    }\n",
       "</style>\n",
       "<table border=\"1\" class=\"dataframe\">\n",
       "  <thead>\n",
       "    <tr style=\"text-align: right;\">\n",
       "      <th></th>\n",
       "      <th>First Name</th>\n",
       "      <th>Last Name</th>\n",
       "      <th>Salary</th>\n",
       "      <th>Years with Company</th>\n",
       "      <th>Postal Code</th>\n",
       "      <th>Email</th>\n",
       "      <th>Has Mortgage</th>\n",
       "      <th>MOrtgage Value</th>\n",
       "    </tr>\n",
       "  </thead>\n",
       "  <tbody>\n",
       "    <tr>\n",
       "      <th>0</th>\n",
       "      <td>Mike</td>\n",
       "      <td>Moe</td>\n",
       "      <td>5000.00</td>\n",
       "      <td>3</td>\n",
       "      <td>N94 3M0</td>\n",
       "      <td>bird@gmail.com</td>\n",
       "      <td>1</td>\n",
       "      <td>200000</td>\n",
       "    </tr>\n",
       "    <tr>\n",
       "      <th>1</th>\n",
       "      <td>Noah</td>\n",
       "      <td>Ryan</td>\n",
       "      <td>10000.00</td>\n",
       "      <td>8</td>\n",
       "      <td>N8S 14K</td>\n",
       "      <td>nsmall@hotmail.com</td>\n",
       "      <td>1</td>\n",
       "      <td>1130000</td>\n",
       "    </tr>\n",
       "    <tr>\n",
       "      <th>2</th>\n",
       "      <td>Nina</td>\n",
       "      <td>Keller</td>\n",
       "      <td>9072.02</td>\n",
       "      <td>17</td>\n",
       "      <td>S1T 4E6</td>\n",
       "      <td>azikez@gahew.mr</td>\n",
       "      <td>0</td>\n",
       "      <td>0</td>\n",
       "    </tr>\n",
       "    <tr>\n",
       "      <th>3</th>\n",
       "      <td>Chanel</td>\n",
       "      <td>Steve</td>\n",
       "      <td>11072.02</td>\n",
       "      <td>12</td>\n",
       "      <td>N7T 3E6</td>\n",
       "      <td>chanel@gmail.com</td>\n",
       "      <td>0</td>\n",
       "      <td>0</td>\n",
       "    </tr>\n",
       "    <tr>\n",
       "      <th>4</th>\n",
       "      <td>Kate</td>\n",
       "      <td>Noor</td>\n",
       "      <td>5000.00</td>\n",
       "      <td>23</td>\n",
       "      <td>K8N 5H6</td>\n",
       "      <td>kate@hotmail.com</td>\n",
       "      <td>0</td>\n",
       "      <td>0</td>\n",
       "    </tr>\n",
       "    <tr>\n",
       "      <th>5</th>\n",
       "      <td>Samer</td>\n",
       "      <td>Mo</td>\n",
       "      <td>100000.00</td>\n",
       "      <td>13</td>\n",
       "      <td>J7H 3HY</td>\n",
       "      <td>samer@gmail.com</td>\n",
       "      <td>0</td>\n",
       "      <td>0</td>\n",
       "    </tr>\n",
       "    <tr>\n",
       "      <th>6</th>\n",
       "      <td>Heba</td>\n",
       "      <td>Ismail</td>\n",
       "      <td>50000.00</td>\n",
       "      <td>7</td>\n",
       "      <td>K8Y 3M8</td>\n",
       "      <td>heba.ismail@hotmail.com</td>\n",
       "      <td>1</td>\n",
       "      <td>400000</td>\n",
       "    </tr>\n",
       "    <tr>\n",
       "      <th>7</th>\n",
       "      <td>Laila</td>\n",
       "      <td>Aly</td>\n",
       "      <td>20000.00</td>\n",
       "      <td>5</td>\n",
       "      <td>J8Y 3M0</td>\n",
       "      <td>Laila.a@hotmail.com</td>\n",
       "      <td>0</td>\n",
       "      <td>0</td>\n",
       "    </tr>\n",
       "    <tr>\n",
       "      <th>8</th>\n",
       "      <td>Joseph</td>\n",
       "      <td>Patton</td>\n",
       "      <td>2629.13</td>\n",
       "      <td>2</td>\n",
       "      <td>M6U 5U7</td>\n",
       "      <td>daafeja@boh.jm</td>\n",
       "      <td>0</td>\n",
       "      <td>0</td>\n",
       "    </tr>\n",
       "    <tr>\n",
       "      <th>9</th>\n",
       "      <td>Noah</td>\n",
       "      <td>Moran</td>\n",
       "      <td>8626.96</td>\n",
       "      <td>11</td>\n",
       "      <td>K2D 4M9</td>\n",
       "      <td>guutodi@bigwoc.kw</td>\n",
       "      <td>0</td>\n",
       "      <td>0</td>\n",
       "    </tr>\n",
       "  </tbody>\n",
       "</table>\n",
       "</div>"
      ],
      "text/plain": [
       "  First Name Last Name     Salary  Years with Company Postal Code  \\\n",
       "0       Mike       Moe    5000.00                   3     N94 3M0   \n",
       "1       Noah      Ryan   10000.00                   8     N8S 14K   \n",
       "2       Nina    Keller    9072.02                  17     S1T 4E6   \n",
       "3    Chanel      Steve   11072.02                  12     N7T 3E6   \n",
       "4       Kate      Noor    5000.00                  23     K8N 5H6   \n",
       "5      Samer        Mo  100000.00                  13     J7H 3HY   \n",
       "6       Heba    Ismail   50000.00                   7     K8Y 3M8   \n",
       "7      Laila       Aly   20000.00                   5     J8Y 3M0   \n",
       "8     Joseph    Patton    2629.13                   2     M6U 5U7   \n",
       "9       Noah     Moran    8626.96                  11     K2D 4M9   \n",
       "\n",
       "                     Email  Has Mortgage  MOrtgage Value  \n",
       "0           bird@gmail.com             1          200000  \n",
       "1       nsmall@hotmail.com             1         1130000  \n",
       "2          azikez@gahew.mr             0               0  \n",
       "3         chanel@gmail.com             0               0  \n",
       "4         kate@hotmail.com             0               0  \n",
       "5          samer@gmail.com             0               0  \n",
       "6  heba.ismail@hotmail.com             1          400000  \n",
       "7      Laila.a@hotmail.com             0               0  \n",
       "8           daafeja@boh.jm             0               0  \n",
       "9        guutodi@bigwoc.kw             0               0  "
      ]
     },
     "execution_count": 77,
     "metadata": {},
     "output_type": "execute_result"
    }
   ],
   "source": [
    "employee1_df['Has Mortgage'] =[1,1,0,0,0,0,1,0,0,0]\n",
    "employee1_df['MOrtgage Value']=[200000,1130000,0,0,0,0,400000,0,0,0]\n",
    "employee1_df"
   ]
  },
  {
   "cell_type": "markdown",
   "metadata": {
    "id": "WtI8x08dToq6"
   },
   "source": [
    "# 7. LABEL-BASED ELEMENTS SELECTION FROM A DATAFRAME \".LOC()\""
   ]
  },
  {
   "cell_type": "code",
   "execution_count": 78,
   "metadata": {
    "colab": {
     "base_uri": "https://localhost:8080/",
     "height": 373
    },
    "executionInfo": {
     "elapsed": 423,
     "status": "ok",
     "timestamp": 1618628473791,
     "user": {
      "displayName": "Stemplicity",
      "photoUrl": "https://lh3.googleusercontent.com/a-/AOh14Gj2vCFt-bD5mPBhUWX0QA6xiBgoXQXtwUm2jgjaCg=s64",
      "userId": "10668071569687886186"
     },
     "user_tz": 240
    },
    "id": "Eorr05DnToS_",
    "outputId": "6b8c9362-5560-4be0-a5a9-54e3291b64d0"
   },
   "outputs": [
    {
     "data": {
      "text/html": [
       "<div>\n",
       "<style scoped>\n",
       "    .dataframe tbody tr th:only-of-type {\n",
       "        vertical-align: middle;\n",
       "    }\n",
       "\n",
       "    .dataframe tbody tr th {\n",
       "        vertical-align: top;\n",
       "    }\n",
       "\n",
       "    .dataframe thead th {\n",
       "        text-align: right;\n",
       "    }\n",
       "</style>\n",
       "<table border=\"1\" class=\"dataframe\">\n",
       "  <thead>\n",
       "    <tr style=\"text-align: right;\">\n",
       "      <th></th>\n",
       "      <th>First Name</th>\n",
       "      <th>Salary</th>\n",
       "      <th>Years with Company</th>\n",
       "      <th>Postal Code</th>\n",
       "      <th>Email</th>\n",
       "    </tr>\n",
       "    <tr>\n",
       "      <th>Last Name</th>\n",
       "      <th></th>\n",
       "      <th></th>\n",
       "      <th></th>\n",
       "      <th></th>\n",
       "      <th></th>\n",
       "    </tr>\n",
       "  </thead>\n",
       "  <tbody>\n",
       "    <tr>\n",
       "      <th>Moe</th>\n",
       "      <td>Mike</td>\n",
       "      <td>5000.00</td>\n",
       "      <td>3</td>\n",
       "      <td>N94 3M0</td>\n",
       "      <td>bird@gmail.com</td>\n",
       "    </tr>\n",
       "    <tr>\n",
       "      <th>Ryan</th>\n",
       "      <td>Noah</td>\n",
       "      <td>10000.00</td>\n",
       "      <td>8</td>\n",
       "      <td>N8S 14K</td>\n",
       "      <td>nsmall@hotmail.com</td>\n",
       "    </tr>\n",
       "    <tr>\n",
       "      <th>Keller</th>\n",
       "      <td>Nina</td>\n",
       "      <td>9072.02</td>\n",
       "      <td>17</td>\n",
       "      <td>S1T 4E6</td>\n",
       "      <td>azikez@gahew.mr</td>\n",
       "    </tr>\n",
       "    <tr>\n",
       "      <th>Steve</th>\n",
       "      <td>Chanel</td>\n",
       "      <td>11072.02</td>\n",
       "      <td>12</td>\n",
       "      <td>N7T 3E6</td>\n",
       "      <td>chanel@gmail.com</td>\n",
       "    </tr>\n",
       "    <tr>\n",
       "      <th>Noor</th>\n",
       "      <td>Kate</td>\n",
       "      <td>5000.00</td>\n",
       "      <td>23</td>\n",
       "      <td>K8N 5H6</td>\n",
       "      <td>kate@hotmail.com</td>\n",
       "    </tr>\n",
       "    <tr>\n",
       "      <th>Mo</th>\n",
       "      <td>Samer</td>\n",
       "      <td>100000.00</td>\n",
       "      <td>13</td>\n",
       "      <td>J7H 3HY</td>\n",
       "      <td>samer@gmail.com</td>\n",
       "    </tr>\n",
       "    <tr>\n",
       "      <th>Ismail</th>\n",
       "      <td>Heba</td>\n",
       "      <td>50000.00</td>\n",
       "      <td>7</td>\n",
       "      <td>K8Y 3M8</td>\n",
       "      <td>heba.ismail@hotmail.com</td>\n",
       "    </tr>\n",
       "    <tr>\n",
       "      <th>Aly</th>\n",
       "      <td>Laila</td>\n",
       "      <td>20000.00</td>\n",
       "      <td>5</td>\n",
       "      <td>J8Y 3M0</td>\n",
       "      <td>Laila.a@hotmail.com</td>\n",
       "    </tr>\n",
       "    <tr>\n",
       "      <th>Patton</th>\n",
       "      <td>Joseph</td>\n",
       "      <td>2629.13</td>\n",
       "      <td>2</td>\n",
       "      <td>M6U 5U7</td>\n",
       "      <td>daafeja@boh.jm</td>\n",
       "    </tr>\n",
       "    <tr>\n",
       "      <th>Moran</th>\n",
       "      <td>Noah</td>\n",
       "      <td>8626.96</td>\n",
       "      <td>11</td>\n",
       "      <td>K2D 4M9</td>\n",
       "      <td>guutodi@bigwoc.kw</td>\n",
       "    </tr>\n",
       "  </tbody>\n",
       "</table>\n",
       "</div>"
      ],
      "text/plain": [
       "          First Name     Salary  Years with Company Postal Code  \\\n",
       "Last Name                                                         \n",
       "Moe             Mike    5000.00                   3     N94 3M0   \n",
       "Ryan            Noah   10000.00                   8     N8S 14K   \n",
       "Keller          Nina    9072.02                  17     S1T 4E6   \n",
       "Steve        Chanel    11072.02                  12     N7T 3E6   \n",
       "Noor            Kate    5000.00                  23     K8N 5H6   \n",
       "Mo             Samer  100000.00                  13     J7H 3HY   \n",
       "Ismail          Heba   50000.00                   7     K8Y 3M8   \n",
       "Aly            Laila   20000.00                   5     J8Y 3M0   \n",
       "Patton        Joseph    2629.13                   2     M6U 5U7   \n",
       "Moran           Noah    8626.96                  11     K2D 4M9   \n",
       "\n",
       "                             Email  \n",
       "Last Name                           \n",
       "Moe                 bird@gmail.com  \n",
       "Ryan            nsmall@hotmail.com  \n",
       "Keller             azikez@gahew.mr  \n",
       "Steve             chanel@gmail.com  \n",
       "Noor              kate@hotmail.com  \n",
       "Mo                 samer@gmail.com  \n",
       "Ismail     heba.ismail@hotmail.com  \n",
       "Aly            Laila.a@hotmail.com  \n",
       "Patton              daafeja@boh.jm  \n",
       "Moran            guutodi@bigwoc.kw  "
      ]
     },
     "execution_count": 78,
     "metadata": {},
     "output_type": "execute_result"
    }
   ],
   "source": [
    "# Load the csv file and set the last name as the index\n",
    "employee_df = pd.read_csv('employee_information.csv', index_col = 'Last Name')\n",
    "employee_df\n"
   ]
  },
  {
   "cell_type": "code",
   "execution_count": 82,
   "metadata": {
    "executionInfo": {
     "elapsed": 395,
     "status": "ok",
     "timestamp": 1618628473945,
     "user": {
      "displayName": "Stemplicity",
      "photoUrl": "https://lh3.googleusercontent.com/a-/AOh14Gj2vCFt-bD5mPBhUWX0QA6xiBgoXQXtwUm2jgjaCg=s64",
      "userId": "10668071569687886186"
     },
     "user_tz": 240
    },
    "id": "ivyfh2mrxMv9"
   },
   "outputs": [
    {
     "data": {
      "text/html": [
       "<div>\n",
       "<style scoped>\n",
       "    .dataframe tbody tr th:only-of-type {\n",
       "        vertical-align: middle;\n",
       "    }\n",
       "\n",
       "    .dataframe tbody tr th {\n",
       "        vertical-align: top;\n",
       "    }\n",
       "\n",
       "    .dataframe thead th {\n",
       "        text-align: right;\n",
       "    }\n",
       "</style>\n",
       "<table border=\"1\" class=\"dataframe\">\n",
       "  <thead>\n",
       "    <tr style=\"text-align: right;\">\n",
       "      <th></th>\n",
       "      <th>First Name</th>\n",
       "      <th>Salary</th>\n",
       "      <th>Years with Company</th>\n",
       "      <th>Postal Code</th>\n",
       "      <th>Email</th>\n",
       "    </tr>\n",
       "    <tr>\n",
       "      <th>Last Name</th>\n",
       "      <th></th>\n",
       "      <th></th>\n",
       "      <th></th>\n",
       "      <th></th>\n",
       "      <th></th>\n",
       "    </tr>\n",
       "  </thead>\n",
       "  <tbody>\n",
       "    <tr>\n",
       "      <th>Aly</th>\n",
       "      <td>Laila</td>\n",
       "      <td>20000.00</td>\n",
       "      <td>5</td>\n",
       "      <td>J8Y 3M0</td>\n",
       "      <td>Laila.a@hotmail.com</td>\n",
       "    </tr>\n",
       "    <tr>\n",
       "      <th>Ismail</th>\n",
       "      <td>Heba</td>\n",
       "      <td>50000.00</td>\n",
       "      <td>7</td>\n",
       "      <td>K8Y 3M8</td>\n",
       "      <td>heba.ismail@hotmail.com</td>\n",
       "    </tr>\n",
       "    <tr>\n",
       "      <th>Keller</th>\n",
       "      <td>Nina</td>\n",
       "      <td>9072.02</td>\n",
       "      <td>17</td>\n",
       "      <td>S1T 4E6</td>\n",
       "      <td>azikez@gahew.mr</td>\n",
       "    </tr>\n",
       "    <tr>\n",
       "      <th>Mo</th>\n",
       "      <td>Samer</td>\n",
       "      <td>100000.00</td>\n",
       "      <td>13</td>\n",
       "      <td>J7H 3HY</td>\n",
       "      <td>samer@gmail.com</td>\n",
       "    </tr>\n",
       "    <tr>\n",
       "      <th>Moe</th>\n",
       "      <td>Mike</td>\n",
       "      <td>5000.00</td>\n",
       "      <td>3</td>\n",
       "      <td>N94 3M0</td>\n",
       "      <td>bird@gmail.com</td>\n",
       "    </tr>\n",
       "    <tr>\n",
       "      <th>Moran</th>\n",
       "      <td>Noah</td>\n",
       "      <td>8626.96</td>\n",
       "      <td>11</td>\n",
       "      <td>K2D 4M9</td>\n",
       "      <td>guutodi@bigwoc.kw</td>\n",
       "    </tr>\n",
       "    <tr>\n",
       "      <th>Noor</th>\n",
       "      <td>Kate</td>\n",
       "      <td>5000.00</td>\n",
       "      <td>23</td>\n",
       "      <td>K8N 5H6</td>\n",
       "      <td>kate@hotmail.com</td>\n",
       "    </tr>\n",
       "    <tr>\n",
       "      <th>Patton</th>\n",
       "      <td>Joseph</td>\n",
       "      <td>2629.13</td>\n",
       "      <td>2</td>\n",
       "      <td>M6U 5U7</td>\n",
       "      <td>daafeja@boh.jm</td>\n",
       "    </tr>\n",
       "    <tr>\n",
       "      <th>Ryan</th>\n",
       "      <td>Noah</td>\n",
       "      <td>10000.00</td>\n",
       "      <td>8</td>\n",
       "      <td>N8S 14K</td>\n",
       "      <td>nsmall@hotmail.com</td>\n",
       "    </tr>\n",
       "    <tr>\n",
       "      <th>Steve</th>\n",
       "      <td>Chanel</td>\n",
       "      <td>11072.02</td>\n",
       "      <td>12</td>\n",
       "      <td>N7T 3E6</td>\n",
       "      <td>chanel@gmail.com</td>\n",
       "    </tr>\n",
       "  </tbody>\n",
       "</table>\n",
       "</div>"
      ],
      "text/plain": [
       "          First Name     Salary  Years with Company Postal Code  \\\n",
       "Last Name                                                         \n",
       "Aly            Laila   20000.00                   5     J8Y 3M0   \n",
       "Ismail          Heba   50000.00                   7     K8Y 3M8   \n",
       "Keller          Nina    9072.02                  17     S1T 4E6   \n",
       "Mo             Samer  100000.00                  13     J7H 3HY   \n",
       "Moe             Mike    5000.00                   3     N94 3M0   \n",
       "Moran           Noah    8626.96                  11     K2D 4M9   \n",
       "Noor            Kate    5000.00                  23     K8N 5H6   \n",
       "Patton        Joseph    2629.13                   2     M6U 5U7   \n",
       "Ryan            Noah   10000.00                   8     N8S 14K   \n",
       "Steve        Chanel    11072.02                  12     N7T 3E6   \n",
       "\n",
       "                             Email  \n",
       "Last Name                           \n",
       "Aly            Laila.a@hotmail.com  \n",
       "Ismail     heba.ismail@hotmail.com  \n",
       "Keller             azikez@gahew.mr  \n",
       "Mo                 samer@gmail.com  \n",
       "Moe                 bird@gmail.com  \n",
       "Moran            guutodi@bigwoc.kw  \n",
       "Noor              kate@hotmail.com  \n",
       "Patton              daafeja@boh.jm  \n",
       "Ryan            nsmall@hotmail.com  \n",
       "Steve             chanel@gmail.com  "
      ]
     },
     "execution_count": 82,
     "metadata": {},
     "output_type": "execute_result"
    }
   ],
   "source": [
    "# Sort the dataframe in an alphabetical order\n",
    "employee_df.sort_index(inplace=True)\n",
    "employee_df"
   ]
  },
  {
   "cell_type": "markdown",
   "metadata": {
    "colab": {
     "base_uri": "https://localhost:8080/",
     "height": 373
    },
    "executionInfo": {
     "elapsed": 324,
     "status": "ok",
     "timestamp": 1618628476097,
     "user": {
      "displayName": "Stemplicity",
      "photoUrl": "https://lh3.googleusercontent.com/a-/AOh14Gj2vCFt-bD5mPBhUWX0QA6xiBgoXQXtwUm2jgjaCg=s64",
      "userId": "10668071569687886186"
     },
     "user_tz": 240
    },
    "id": "we4M97AwUR7r",
    "outputId": "29ea9e0f-c8ad-4478-c77f-cb79d56116c8"
   },
   "source": []
  },
  {
   "cell_type": "code",
   "execution_count": 84,
   "metadata": {
    "colab": {
     "base_uri": "https://localhost:8080/"
    },
    "executionInfo": {
     "elapsed": 279,
     "status": "ok",
     "timestamp": 1618628504722,
     "user": {
      "displayName": "Stemplicity",
      "photoUrl": "https://lh3.googleusercontent.com/a-/AOh14Gj2vCFt-bD5mPBhUWX0QA6xiBgoXQXtwUm2jgjaCg=s64",
      "userId": "10668071569687886186"
     },
     "user_tz": 240
    },
    "id": "i3p0Abn2Ufdt",
    "outputId": "c34a17bf-28bc-4208-b03d-febca0e37abc"
   },
   "outputs": [
    {
     "data": {
      "text/plain": [
       "First Name                          Laila\n",
       "Salary                            20000.0\n",
       "Years with Company                      5\n",
       "Postal Code                       J8Y 3M0\n",
       "Email                 Laila.a@hotmail.com\n",
       "Name: Aly, dtype: object"
      ]
     },
     "execution_count": 84,
     "metadata": {},
     "output_type": "execute_result"
    }
   ],
   "source": [
    "# loc is used to filter rows and columns\n",
    "# loc is label-based meaning you need to give a name of the rows (or columns) that you are interested in selecting\n",
    "# Note that iloc is \"integer index-based\" meaning you can filter rows/columns by their integer index.\n",
    "# Note that we obtained a Series because last name \"Aly\" existed only once in the dataframe\n",
    "\n",
    "employee_df.loc['Aly']"
   ]
  },
  {
   "cell_type": "code",
   "execution_count": 85,
   "metadata": {
    "colab": {
     "base_uri": "https://localhost:8080/",
     "height": 284
    },
    "executionInfo": {
     "elapsed": 258,
     "status": "ok",
     "timestamp": 1618628547020,
     "user": {
      "displayName": "Stemplicity",
      "photoUrl": "https://lh3.googleusercontent.com/a-/AOh14Gj2vCFt-bD5mPBhUWX0QA6xiBgoXQXtwUm2jgjaCg=s64",
      "userId": "10668071569687886186"
     },
     "user_tz": 240
    },
    "id": "6ScVkgsDUfjg",
    "outputId": "01aea8a4-f19c-4957-867b-538c45ed8d16"
   },
   "outputs": [
    {
     "data": {
      "text/html": [
       "<div>\n",
       "<style scoped>\n",
       "    .dataframe tbody tr th:only-of-type {\n",
       "        vertical-align: middle;\n",
       "    }\n",
       "\n",
       "    .dataframe tbody tr th {\n",
       "        vertical-align: top;\n",
       "    }\n",
       "\n",
       "    .dataframe thead th {\n",
       "        text-align: right;\n",
       "    }\n",
       "</style>\n",
       "<table border=\"1\" class=\"dataframe\">\n",
       "  <thead>\n",
       "    <tr style=\"text-align: right;\">\n",
       "      <th></th>\n",
       "      <th>First Name</th>\n",
       "      <th>Salary</th>\n",
       "      <th>Years with Company</th>\n",
       "      <th>Postal Code</th>\n",
       "      <th>Email</th>\n",
       "    </tr>\n",
       "    <tr>\n",
       "      <th>Last Name</th>\n",
       "      <th></th>\n",
       "      <th></th>\n",
       "      <th></th>\n",
       "      <th></th>\n",
       "      <th></th>\n",
       "    </tr>\n",
       "  </thead>\n",
       "  <tbody>\n",
       "    <tr>\n",
       "      <th>Aly</th>\n",
       "      <td>Laila</td>\n",
       "      <td>20000.00</td>\n",
       "      <td>5</td>\n",
       "      <td>J8Y 3M0</td>\n",
       "      <td>Laila.a@hotmail.com</td>\n",
       "    </tr>\n",
       "    <tr>\n",
       "      <th>Ismail</th>\n",
       "      <td>Heba</td>\n",
       "      <td>50000.00</td>\n",
       "      <td>7</td>\n",
       "      <td>K8Y 3M8</td>\n",
       "      <td>heba.ismail@hotmail.com</td>\n",
       "    </tr>\n",
       "    <tr>\n",
       "      <th>Keller</th>\n",
       "      <td>Nina</td>\n",
       "      <td>9072.02</td>\n",
       "      <td>17</td>\n",
       "      <td>S1T 4E6</td>\n",
       "      <td>azikez@gahew.mr</td>\n",
       "    </tr>\n",
       "    <tr>\n",
       "      <th>Mo</th>\n",
       "      <td>Samer</td>\n",
       "      <td>100000.00</td>\n",
       "      <td>13</td>\n",
       "      <td>J7H 3HY</td>\n",
       "      <td>samer@gmail.com</td>\n",
       "    </tr>\n",
       "    <tr>\n",
       "      <th>Moe</th>\n",
       "      <td>Mike</td>\n",
       "      <td>5000.00</td>\n",
       "      <td>3</td>\n",
       "      <td>N94 3M0</td>\n",
       "      <td>bird@gmail.com</td>\n",
       "    </tr>\n",
       "    <tr>\n",
       "      <th>Moran</th>\n",
       "      <td>Noah</td>\n",
       "      <td>8626.96</td>\n",
       "      <td>11</td>\n",
       "      <td>K2D 4M9</td>\n",
       "      <td>guutodi@bigwoc.kw</td>\n",
       "    </tr>\n",
       "    <tr>\n",
       "      <th>Noor</th>\n",
       "      <td>Kate</td>\n",
       "      <td>5000.00</td>\n",
       "      <td>23</td>\n",
       "      <td>K8N 5H6</td>\n",
       "      <td>kate@hotmail.com</td>\n",
       "    </tr>\n",
       "    <tr>\n",
       "      <th>Patton</th>\n",
       "      <td>Joseph</td>\n",
       "      <td>2629.13</td>\n",
       "      <td>2</td>\n",
       "      <td>M6U 5U7</td>\n",
       "      <td>daafeja@boh.jm</td>\n",
       "    </tr>\n",
       "  </tbody>\n",
       "</table>\n",
       "</div>"
      ],
      "text/plain": [
       "          First Name     Salary  Years with Company Postal Code  \\\n",
       "Last Name                                                         \n",
       "Aly            Laila   20000.00                   5     J8Y 3M0   \n",
       "Ismail          Heba   50000.00                   7     K8Y 3M8   \n",
       "Keller          Nina    9072.02                  17     S1T 4E6   \n",
       "Mo             Samer  100000.00                  13     J7H 3HY   \n",
       "Moe             Mike    5000.00                   3     N94 3M0   \n",
       "Moran           Noah    8626.96                  11     K2D 4M9   \n",
       "Noor            Kate    5000.00                  23     K8N 5H6   \n",
       "Patton        Joseph    2629.13                   2     M6U 5U7   \n",
       "\n",
       "                             Email  \n",
       "Last Name                           \n",
       "Aly            Laila.a@hotmail.com  \n",
       "Ismail     heba.ismail@hotmail.com  \n",
       "Keller             azikez@gahew.mr  \n",
       "Mo                 samer@gmail.com  \n",
       "Moe                 bird@gmail.com  \n",
       "Moran            guutodi@bigwoc.kw  \n",
       "Noor              kate@hotmail.com  \n",
       "Patton              daafeja@boh.jm  "
      ]
     },
     "execution_count": 85,
     "metadata": {},
     "output_type": "execute_result"
    }
   ],
   "source": [
    "# Note that you can select multiple rows using \"colon :\"\n",
    "# Note that this is inclusive! meaning that \"Aly\" and \"Patton\" were selected in the output DataFrame\n",
    "# Headsup: this will be different if we use integer based index such as iloc()\n",
    "\n",
    "employee_df.loc['Aly':'Patton']"
   ]
  },
  {
   "cell_type": "code",
   "execution_count": null,
   "metadata": {
    "colab": {
     "base_uri": "https://localhost:8080/",
     "height": 166
    },
    "executionInfo": {
     "elapsed": 319,
     "status": "ok",
     "timestamp": 1618628563414,
     "user": {
      "displayName": "Stemplicity",
      "photoUrl": "https://lh3.googleusercontent.com/a-/AOh14Gj2vCFt-bD5mPBhUWX0QA6xiBgoXQXtwUm2jgjaCg=s64",
      "userId": "10668071569687886186"
     },
     "user_tz": 240
    },
    "id": "g6SC-G7WUfpx",
    "outputId": "18f9109e-5383-456c-94c1-7ad399b6ca1c"
   },
   "outputs": [],
   "source": [
    "# Select all elements up to and including 'Keller' index\n"
   ]
  },
  {
   "cell_type": "code",
   "execution_count": null,
   "metadata": {
    "colab": {
     "base_uri": "https://localhost:8080/",
     "height": 195
    },
    "executionInfo": {
     "elapsed": 270,
     "status": "ok",
     "timestamp": 1618628569001,
     "user": {
      "displayName": "Stemplicity",
      "photoUrl": "https://lh3.googleusercontent.com/a-/AOh14Gj2vCFt-bD5mPBhUWX0QA6xiBgoXQXtwUm2jgjaCg=s64",
      "userId": "10668071569687886186"
     },
     "user_tz": 240
    },
    "id": "06IarF0bXGu3",
    "outputId": "abc5eedd-cdcc-49a9-ff0a-ea32ff7c9159"
   },
   "outputs": [],
   "source": [
    "# if you want to select multiple rows, you can pass them as a list as follows\n"
   ]
  },
  {
   "cell_type": "code",
   "execution_count": 89,
   "metadata": {
    "colab": {
     "base_uri": "https://localhost:8080/",
     "height": 225
    },
    "executionInfo": {
     "elapsed": 305,
     "status": "ok",
     "timestamp": 1618628594590,
     "user": {
      "displayName": "Stemplicity",
      "photoUrl": "https://lh3.googleusercontent.com/a-/AOh14Gj2vCFt-bD5mPBhUWX0QA6xiBgoXQXtwUm2jgjaCg=s64",
      "userId": "10668071569687886186"
     },
     "user_tz": 240
    },
    "id": "drmMn3f_XGxz",
    "outputId": "83cae5fa-d911-4627-a9e9-7af51747b47d"
   },
   "outputs": [
    {
     "data": {
      "text/html": [
       "<div>\n",
       "<style scoped>\n",
       "    .dataframe tbody tr th:only-of-type {\n",
       "        vertical-align: middle;\n",
       "    }\n",
       "\n",
       "    .dataframe tbody tr th {\n",
       "        vertical-align: top;\n",
       "    }\n",
       "\n",
       "    .dataframe thead th {\n",
       "        text-align: right;\n",
       "    }\n",
       "</style>\n",
       "<table border=\"1\" class=\"dataframe\">\n",
       "  <thead>\n",
       "    <tr style=\"text-align: right;\">\n",
       "      <th></th>\n",
       "      <th>First Name</th>\n",
       "      <th>Salary</th>\n",
       "      <th>Years with Company</th>\n",
       "      <th>Postal Code</th>\n",
       "      <th>Email</th>\n",
       "    </tr>\n",
       "    <tr>\n",
       "      <th>Last Name</th>\n",
       "      <th></th>\n",
       "      <th></th>\n",
       "      <th></th>\n",
       "      <th></th>\n",
       "      <th></th>\n",
       "    </tr>\n",
       "  </thead>\n",
       "  <tbody>\n",
       "    <tr>\n",
       "      <th>Moe</th>\n",
       "      <td>Mike</td>\n",
       "      <td>5000.00</td>\n",
       "      <td>3</td>\n",
       "      <td>N94 3M0</td>\n",
       "      <td>bird@gmail.com</td>\n",
       "    </tr>\n",
       "    <tr>\n",
       "      <th>Moran</th>\n",
       "      <td>Noah</td>\n",
       "      <td>8626.96</td>\n",
       "      <td>11</td>\n",
       "      <td>K2D 4M9</td>\n",
       "      <td>guutodi@bigwoc.kw</td>\n",
       "    </tr>\n",
       "    <tr>\n",
       "      <th>Aly</th>\n",
       "      <td>Laila</td>\n",
       "      <td>20000.00</td>\n",
       "      <td>5</td>\n",
       "      <td>J8Y 3M0</td>\n",
       "      <td>Laila.a@hotmail.com</td>\n",
       "    </tr>\n",
       "    <tr>\n",
       "      <th>Mo</th>\n",
       "      <td>Samer</td>\n",
       "      <td>100000.00</td>\n",
       "      <td>13</td>\n",
       "      <td>J7H 3HY</td>\n",
       "      <td>samer@gmail.com</td>\n",
       "    </tr>\n",
       "    <tr>\n",
       "      <th>Patton</th>\n",
       "      <td>Joseph</td>\n",
       "      <td>2629.13</td>\n",
       "      <td>2</td>\n",
       "      <td>M6U 5U7</td>\n",
       "      <td>daafeja@boh.jm</td>\n",
       "    </tr>\n",
       "  </tbody>\n",
       "</table>\n",
       "</div>"
      ],
      "text/plain": [
       "          First Name     Salary  Years with Company Postal Code  \\\n",
       "Last Name                                                         \n",
       "Moe             Mike    5000.00                   3     N94 3M0   \n",
       "Moran           Noah    8626.96                  11     K2D 4M9   \n",
       "Aly            Laila   20000.00                   5     J8Y 3M0   \n",
       "Mo             Samer  100000.00                  13     J7H 3HY   \n",
       "Patton        Joseph    2629.13                   2     M6U 5U7   \n",
       "\n",
       "                         Email  \n",
       "Last Name                       \n",
       "Moe             bird@gmail.com  \n",
       "Moran        guutodi@bigwoc.kw  \n",
       "Aly        Laila.a@hotmail.com  \n",
       "Mo             samer@gmail.com  \n",
       "Patton          daafeja@boh.jm  "
      ]
     },
     "execution_count": 89,
     "metadata": {},
     "output_type": "execute_result"
    }
   ],
   "source": [
    "# You can also randomly select a fraction of the DataFrame\n",
    "# Setting axis = 0 means rows, setting index = 1 means columns\n",
    "employee_df.sample(n=5, axis=0)"
   ]
  },
  {
   "cell_type": "code",
   "execution_count": 91,
   "metadata": {
    "colab": {
     "base_uri": "https://localhost:8080/",
     "height": 166
    },
    "executionInfo": {
     "elapsed": 281,
     "status": "ok",
     "timestamp": 1618628598644,
     "user": {
      "displayName": "Stemplicity",
      "photoUrl": "https://lh3.googleusercontent.com/a-/AOh14Gj2vCFt-bD5mPBhUWX0QA6xiBgoXQXtwUm2jgjaCg=s64",
      "userId": "10668071569687886186"
     },
     "user_tz": 240
    },
    "id": "AJN9VJ_lfF0W",
    "outputId": "c459358b-76e9-4433-eaa4-9660174cb819"
   },
   "outputs": [
    {
     "data": {
      "text/html": [
       "<div>\n",
       "<style scoped>\n",
       "    .dataframe tbody tr th:only-of-type {\n",
       "        vertical-align: middle;\n",
       "    }\n",
       "\n",
       "    .dataframe tbody tr th {\n",
       "        vertical-align: top;\n",
       "    }\n",
       "\n",
       "    .dataframe thead th {\n",
       "        text-align: right;\n",
       "    }\n",
       "</style>\n",
       "<table border=\"1\" class=\"dataframe\">\n",
       "  <thead>\n",
       "    <tr style=\"text-align: right;\">\n",
       "      <th></th>\n",
       "      <th>First Name</th>\n",
       "      <th>Salary</th>\n",
       "      <th>Years with Company</th>\n",
       "      <th>Postal Code</th>\n",
       "      <th>Email</th>\n",
       "    </tr>\n",
       "    <tr>\n",
       "      <th>Last Name</th>\n",
       "      <th></th>\n",
       "      <th></th>\n",
       "      <th></th>\n",
       "      <th></th>\n",
       "      <th></th>\n",
       "    </tr>\n",
       "  </thead>\n",
       "  <tbody>\n",
       "    <tr>\n",
       "      <th>Aly</th>\n",
       "      <td>Laila</td>\n",
       "      <td>20000.00</td>\n",
       "      <td>5</td>\n",
       "      <td>J8Y 3M0</td>\n",
       "      <td>Laila.a@hotmail.com</td>\n",
       "    </tr>\n",
       "    <tr>\n",
       "      <th>Moran</th>\n",
       "      <td>Noah</td>\n",
       "      <td>8626.96</td>\n",
       "      <td>11</td>\n",
       "      <td>K2D 4M9</td>\n",
       "      <td>guutodi@bigwoc.kw</td>\n",
       "    </tr>\n",
       "    <tr>\n",
       "      <th>Patton</th>\n",
       "      <td>Joseph</td>\n",
       "      <td>2629.13</td>\n",
       "      <td>2</td>\n",
       "      <td>M6U 5U7</td>\n",
       "      <td>daafeja@boh.jm</td>\n",
       "    </tr>\n",
       "  </tbody>\n",
       "</table>\n",
       "</div>"
      ],
      "text/plain": [
       "          First Name    Salary  Years with Company Postal Code  \\\n",
       "Last Name                                                        \n",
       "Aly            Laila  20000.00                   5     J8Y 3M0   \n",
       "Moran           Noah   8626.96                  11     K2D 4M9   \n",
       "Patton        Joseph   2629.13                   2     M6U 5U7   \n",
       "\n",
       "                         Email  \n",
       "Last Name                       \n",
       "Aly        Laila.a@hotmail.com  \n",
       "Moran        guutodi@bigwoc.kw  \n",
       "Patton          daafeja@boh.jm  "
      ]
     },
     "execution_count": 91,
     "metadata": {},
     "output_type": "execute_result"
    }
   ],
   "source": [
    "# return a percentage (Ex: 30%) of the rows \n",
    "employee_df.sample(frac=0.3, axis=0)"
   ]
  },
  {
   "cell_type": "markdown",
   "metadata": {
    "id": "uJglOt5k4hj6"
   },
   "source": [
    "**MINI CHALLENGE #7:**\n",
    "- **Load the csv data and use the \"first name\" column as the index**\n",
    "- **Randomly select 2 rows from the DataFrame. Rerun the code and ensure that random rows are being selected**"
   ]
  },
  {
   "cell_type": "code",
   "execution_count": 92,
   "metadata": {
    "id": "3TvaC5LP4lEM"
   },
   "outputs": [],
   "source": [
    "employee_df = pd.read_csv('employee_information.csv', index_col = 'First Name')"
   ]
  },
  {
   "cell_type": "code",
   "execution_count": null,
   "metadata": {},
   "outputs": [],
   "source": []
  },
  {
   "cell_type": "markdown",
   "metadata": {},
   "source": [
    "       "
   ]
  },
  {
   "cell_type": "markdown",
   "metadata": {
    "id": "sjL2Y6fqXywF"
   },
   "source": [
    "# 8. INTEGER INDEX-BASED ELEMENTS SELECTION FROM A DATAFRAME \"iLOC()\""
   ]
  },
  {
   "cell_type": "code",
   "execution_count": null,
   "metadata": {},
   "outputs": [],
   "source": []
  },
  {
   "cell_type": "code",
   "execution_count": 93,
   "metadata": {
    "colab": {
     "base_uri": "https://localhost:8080/",
     "height": 343
    },
    "executionInfo": {
     "elapsed": 326,
     "status": "ok",
     "timestamp": 1618630356822,
     "user": {
      "displayName": "Stemplicity",
      "photoUrl": "https://lh3.googleusercontent.com/a-/AOh14Gj2vCFt-bD5mPBhUWX0QA6xiBgoXQXtwUm2jgjaCg=s64",
      "userId": "10668071569687886186"
     },
     "user_tz": 240
    },
    "id": "Am3tIX-wXG1P",
    "outputId": "19627360-30c2-4958-f04f-5d6ad996b18a"
   },
   "outputs": [
    {
     "data": {
      "text/html": [
       "<div>\n",
       "<style scoped>\n",
       "    .dataframe tbody tr th:only-of-type {\n",
       "        vertical-align: middle;\n",
       "    }\n",
       "\n",
       "    .dataframe tbody tr th {\n",
       "        vertical-align: top;\n",
       "    }\n",
       "\n",
       "    .dataframe thead th {\n",
       "        text-align: right;\n",
       "    }\n",
       "</style>\n",
       "<table border=\"1\" class=\"dataframe\">\n",
       "  <thead>\n",
       "    <tr style=\"text-align: right;\">\n",
       "      <th></th>\n",
       "      <th>First Name</th>\n",
       "      <th>Last Name</th>\n",
       "      <th>Salary</th>\n",
       "      <th>Years with Company</th>\n",
       "      <th>Postal Code</th>\n",
       "      <th>Email</th>\n",
       "    </tr>\n",
       "  </thead>\n",
       "  <tbody>\n",
       "    <tr>\n",
       "      <th>0</th>\n",
       "      <td>Mike</td>\n",
       "      <td>Moe</td>\n",
       "      <td>5000.00</td>\n",
       "      <td>3</td>\n",
       "      <td>N94 3M0</td>\n",
       "      <td>bird@gmail.com</td>\n",
       "    </tr>\n",
       "    <tr>\n",
       "      <th>1</th>\n",
       "      <td>Noah</td>\n",
       "      <td>Ryan</td>\n",
       "      <td>10000.00</td>\n",
       "      <td>8</td>\n",
       "      <td>N8S 14K</td>\n",
       "      <td>nsmall@hotmail.com</td>\n",
       "    </tr>\n",
       "    <tr>\n",
       "      <th>2</th>\n",
       "      <td>Nina</td>\n",
       "      <td>Keller</td>\n",
       "      <td>9072.02</td>\n",
       "      <td>17</td>\n",
       "      <td>S1T 4E6</td>\n",
       "      <td>azikez@gahew.mr</td>\n",
       "    </tr>\n",
       "    <tr>\n",
       "      <th>3</th>\n",
       "      <td>Chanel</td>\n",
       "      <td>Steve</td>\n",
       "      <td>11072.02</td>\n",
       "      <td>12</td>\n",
       "      <td>N7T 3E6</td>\n",
       "      <td>chanel@gmail.com</td>\n",
       "    </tr>\n",
       "    <tr>\n",
       "      <th>4</th>\n",
       "      <td>Kate</td>\n",
       "      <td>Noor</td>\n",
       "      <td>5000.00</td>\n",
       "      <td>23</td>\n",
       "      <td>K8N 5H6</td>\n",
       "      <td>kate@hotmail.com</td>\n",
       "    </tr>\n",
       "    <tr>\n",
       "      <th>5</th>\n",
       "      <td>Samer</td>\n",
       "      <td>Mo</td>\n",
       "      <td>100000.00</td>\n",
       "      <td>13</td>\n",
       "      <td>J7H 3HY</td>\n",
       "      <td>samer@gmail.com</td>\n",
       "    </tr>\n",
       "    <tr>\n",
       "      <th>6</th>\n",
       "      <td>Heba</td>\n",
       "      <td>Ismail</td>\n",
       "      <td>50000.00</td>\n",
       "      <td>7</td>\n",
       "      <td>K8Y 3M8</td>\n",
       "      <td>heba.ismail@hotmail.com</td>\n",
       "    </tr>\n",
       "    <tr>\n",
       "      <th>7</th>\n",
       "      <td>Laila</td>\n",
       "      <td>Aly</td>\n",
       "      <td>20000.00</td>\n",
       "      <td>5</td>\n",
       "      <td>J8Y 3M0</td>\n",
       "      <td>Laila.a@hotmail.com</td>\n",
       "    </tr>\n",
       "    <tr>\n",
       "      <th>8</th>\n",
       "      <td>Joseph</td>\n",
       "      <td>Patton</td>\n",
       "      <td>2629.13</td>\n",
       "      <td>2</td>\n",
       "      <td>M6U 5U7</td>\n",
       "      <td>daafeja@boh.jm</td>\n",
       "    </tr>\n",
       "    <tr>\n",
       "      <th>9</th>\n",
       "      <td>Noah</td>\n",
       "      <td>Moran</td>\n",
       "      <td>8626.96</td>\n",
       "      <td>11</td>\n",
       "      <td>K2D 4M9</td>\n",
       "      <td>guutodi@bigwoc.kw</td>\n",
       "    </tr>\n",
       "  </tbody>\n",
       "</table>\n",
       "</div>"
      ],
      "text/plain": [
       "  First Name Last Name     Salary  Years with Company Postal Code  \\\n",
       "0       Mike       Moe    5000.00                   3     N94 3M0   \n",
       "1       Noah      Ryan   10000.00                   8     N8S 14K   \n",
       "2       Nina    Keller    9072.02                  17     S1T 4E6   \n",
       "3    Chanel      Steve   11072.02                  12     N7T 3E6   \n",
       "4       Kate      Noor    5000.00                  23     K8N 5H6   \n",
       "5      Samer        Mo  100000.00                  13     J7H 3HY   \n",
       "6       Heba    Ismail   50000.00                   7     K8Y 3M8   \n",
       "7      Laila       Aly   20000.00                   5     J8Y 3M0   \n",
       "8     Joseph    Patton    2629.13                   2     M6U 5U7   \n",
       "9       Noah     Moran    8626.96                  11     K2D 4M9   \n",
       "\n",
       "                     Email  \n",
       "0           bird@gmail.com  \n",
       "1       nsmall@hotmail.com  \n",
       "2          azikez@gahew.mr  \n",
       "3         chanel@gmail.com  \n",
       "4         kate@hotmail.com  \n",
       "5          samer@gmail.com  \n",
       "6  heba.ismail@hotmail.com  \n",
       "7      Laila.a@hotmail.com  \n",
       "8           daafeja@boh.jm  \n",
       "9        guutodi@bigwoc.kw  "
      ]
     },
     "execution_count": 93,
     "metadata": {},
     "output_type": "execute_result"
    }
   ],
   "source": [
    "# Load the CSV file with default index\n",
    "employee_df = pd.read_csv('employee_information.csv')\n",
    "employee_df"
   ]
  },
  {
   "cell_type": "code",
   "execution_count": 94,
   "metadata": {
    "colab": {
     "base_uri": "https://localhost:8080/"
    },
    "executionInfo": {
     "elapsed": 281,
     "status": "ok",
     "timestamp": 1618630364568,
     "user": {
      "displayName": "Stemplicity",
      "photoUrl": "https://lh3.googleusercontent.com/a-/AOh14Gj2vCFt-bD5mPBhUWX0QA6xiBgoXQXtwUm2jgjaCg=s64",
      "userId": "10668071569687886186"
     },
     "user_tz": 240
    },
    "id": "ymJifM0PX81n",
    "outputId": "e10684d3-3cf6-4923-a69a-7ae584de3a57"
   },
   "outputs": [
    {
     "data": {
      "text/plain": [
       "First Name                         Noah\n",
       "Last Name                         Moran\n",
       "Salary                          8626.96\n",
       "Years with Company                   11\n",
       "Postal Code                     K2D 4M9\n",
       "Email                 guutodi@bigwoc.kw\n",
       "Name: 9, dtype: object"
      ]
     },
     "execution_count": 94,
     "metadata": {},
     "output_type": "execute_result"
    }
   ],
   "source": [
    "# You can access rows with their numeric index using iloc\n",
    "employee_df.iloc[9]"
   ]
  },
  {
   "cell_type": "code",
   "execution_count": 95,
   "metadata": {
    "colab": {
     "base_uri": "https://localhost:8080/",
     "height": 136
    },
    "executionInfo": {
     "elapsed": 278,
     "status": "ok",
     "timestamp": 1618630413862,
     "user": {
      "displayName": "Stemplicity",
      "photoUrl": "https://lh3.googleusercontent.com/a-/AOh14Gj2vCFt-bD5mPBhUWX0QA6xiBgoXQXtwUm2jgjaCg=s64",
      "userId": "10668071569687886186"
     },
     "user_tz": 240
    },
    "id": "-lykVrt8X84V",
    "outputId": "663f7653-573a-421b-a96d-6c3cd6fb7051"
   },
   "outputs": [
    {
     "data": {
      "text/html": [
       "<div>\n",
       "<style scoped>\n",
       "    .dataframe tbody tr th:only-of-type {\n",
       "        vertical-align: middle;\n",
       "    }\n",
       "\n",
       "    .dataframe tbody tr th {\n",
       "        vertical-align: top;\n",
       "    }\n",
       "\n",
       "    .dataframe thead th {\n",
       "        text-align: right;\n",
       "    }\n",
       "</style>\n",
       "<table border=\"1\" class=\"dataframe\">\n",
       "  <thead>\n",
       "    <tr style=\"text-align: right;\">\n",
       "      <th></th>\n",
       "      <th>First Name</th>\n",
       "      <th>Last Name</th>\n",
       "      <th>Salary</th>\n",
       "      <th>Years with Company</th>\n",
       "      <th>Postal Code</th>\n",
       "      <th>Email</th>\n",
       "    </tr>\n",
       "  </thead>\n",
       "  <tbody>\n",
       "    <tr>\n",
       "      <th>3</th>\n",
       "      <td>Chanel</td>\n",
       "      <td>Steve</td>\n",
       "      <td>11072.02</td>\n",
       "      <td>12</td>\n",
       "      <td>N7T 3E6</td>\n",
       "      <td>chanel@gmail.com</td>\n",
       "    </tr>\n",
       "    <tr>\n",
       "      <th>4</th>\n",
       "      <td>Kate</td>\n",
       "      <td>Noor</td>\n",
       "      <td>5000.00</td>\n",
       "      <td>23</td>\n",
       "      <td>K8N 5H6</td>\n",
       "      <td>kate@hotmail.com</td>\n",
       "    </tr>\n",
       "    <tr>\n",
       "      <th>5</th>\n",
       "      <td>Samer</td>\n",
       "      <td>Mo</td>\n",
       "      <td>100000.00</td>\n",
       "      <td>13</td>\n",
       "      <td>J7H 3HY</td>\n",
       "      <td>samer@gmail.com</td>\n",
       "    </tr>\n",
       "  </tbody>\n",
       "</table>\n",
       "</div>"
      ],
      "text/plain": [
       "  First Name Last Name     Salary  Years with Company Postal Code  \\\n",
       "3    Chanel      Steve   11072.02                  12     N7T 3E6   \n",
       "4       Kate      Noor    5000.00                  23     K8N 5H6   \n",
       "5      Samer        Mo  100000.00                  13     J7H 3HY   \n",
       "\n",
       "              Email  \n",
       "3  chanel@gmail.com  \n",
       "4  kate@hotmail.com  \n",
       "5   samer@gmail.com  "
      ]
     },
     "execution_count": 95,
     "metadata": {},
     "output_type": "execute_result"
    }
   ],
   "source": [
    "# You can access multiple rows with their numeric index using iloc and colon :\n",
    "# Note that using iloc is exclusive, meaning that we did not include the last element (quite confusing I know!)\n",
    "# We went from index = 2 up until and not including index 5 so index 2,3, and 4 are the one selected\n",
    "employee_df.iloc[3:6]"
   ]
  },
  {
   "cell_type": "code",
   "execution_count": null,
   "metadata": {
    "colab": {
     "base_uri": "https://localhost:8080/",
     "height": 166
    },
    "executionInfo": {
     "elapsed": 347,
     "status": "ok",
     "timestamp": 1618630423723,
     "user": {
      "displayName": "Stemplicity",
      "photoUrl": "https://lh3.googleusercontent.com/a-/AOh14Gj2vCFt-bD5mPBhUWX0QA6xiBgoXQXtwUm2jgjaCg=s64",
      "userId": "10668071569687886186"
     },
     "user_tz": 240
    },
    "id": "fN6Pq9duX87x",
    "outputId": "e873c3b3-baa9-479a-fdf3-ec301e438ad1"
   },
   "outputs": [],
   "source": [
    "# all up until and not including index 4\n"
   ]
  },
  {
   "cell_type": "code",
   "execution_count": 96,
   "metadata": {
    "colab": {
     "base_uri": "https://localhost:8080/",
     "height": 136
    },
    "executionInfo": {
     "elapsed": 308,
     "status": "ok",
     "timestamp": 1618630430151,
     "user": {
      "displayName": "Stemplicity",
      "photoUrl": "https://lh3.googleusercontent.com/a-/AOh14Gj2vCFt-bD5mPBhUWX0QA6xiBgoXQXtwUm2jgjaCg=s64",
      "userId": "10668071569687886186"
     },
     "user_tz": 240
    },
    "id": "erce1sNuX8_B",
    "outputId": "47373b89-3033-4706-90e8-fb0dedbb4e00"
   },
   "outputs": [
    {
     "data": {
      "text/html": [
       "<div>\n",
       "<style scoped>\n",
       "    .dataframe tbody tr th:only-of-type {\n",
       "        vertical-align: middle;\n",
       "    }\n",
       "\n",
       "    .dataframe tbody tr th {\n",
       "        vertical-align: top;\n",
       "    }\n",
       "\n",
       "    .dataframe thead th {\n",
       "        text-align: right;\n",
       "    }\n",
       "</style>\n",
       "<table border=\"1\" class=\"dataframe\">\n",
       "  <thead>\n",
       "    <tr style=\"text-align: right;\">\n",
       "      <th></th>\n",
       "      <th>First Name</th>\n",
       "      <th>Last Name</th>\n",
       "      <th>Salary</th>\n",
       "      <th>Years with Company</th>\n",
       "      <th>Postal Code</th>\n",
       "      <th>Email</th>\n",
       "    </tr>\n",
       "  </thead>\n",
       "  <tbody>\n",
       "    <tr>\n",
       "      <th>8</th>\n",
       "      <td>Joseph</td>\n",
       "      <td>Patton</td>\n",
       "      <td>2629.13</td>\n",
       "      <td>2</td>\n",
       "      <td>M6U 5U7</td>\n",
       "      <td>daafeja@boh.jm</td>\n",
       "    </tr>\n",
       "    <tr>\n",
       "      <th>5</th>\n",
       "      <td>Samer</td>\n",
       "      <td>Mo</td>\n",
       "      <td>100000.00</td>\n",
       "      <td>13</td>\n",
       "      <td>J7H 3HY</td>\n",
       "      <td>samer@gmail.com</td>\n",
       "    </tr>\n",
       "    <tr>\n",
       "      <th>3</th>\n",
       "      <td>Chanel</td>\n",
       "      <td>Steve</td>\n",
       "      <td>11072.02</td>\n",
       "      <td>12</td>\n",
       "      <td>N7T 3E6</td>\n",
       "      <td>chanel@gmail.com</td>\n",
       "    </tr>\n",
       "  </tbody>\n",
       "</table>\n",
       "</div>"
      ],
      "text/plain": [
       "  First Name Last Name     Salary  Years with Company Postal Code  \\\n",
       "8     Joseph    Patton    2629.13                   2     M6U 5U7   \n",
       "5      Samer        Mo  100000.00                  13     J7H 3HY   \n",
       "3    Chanel      Steve   11072.02                  12     N7T 3E6   \n",
       "\n",
       "              Email  \n",
       "8    daafeja@boh.jm  \n",
       "5   samer@gmail.com  \n",
       "3  chanel@gmail.com  "
      ]
     },
     "execution_count": 96,
     "metadata": {},
     "output_type": "execute_result"
    }
   ],
   "source": [
    "# Multiple elements are selected using a list of indexes \n",
    "employee_df.iloc[[8,5,3]]"
   ]
  },
  {
   "cell_type": "code",
   "execution_count": 97,
   "metadata": {
    "colab": {
     "base_uri": "https://localhost:8080/"
    },
    "executionInfo": {
     "elapsed": 371,
     "status": "ok",
     "timestamp": 1618630441685,
     "user": {
      "displayName": "Stemplicity",
      "photoUrl": "https://lh3.googleusercontent.com/a-/AOh14Gj2vCFt-bD5mPBhUWX0QA6xiBgoXQXtwUm2jgjaCg=s64",
      "userId": "10668071569687886186"
     },
     "user_tz": 240
    },
    "id": "HUmFP5YaXG4S",
    "outputId": "ad208e62-3fc6-4493-a5b6-1588f6bf0e19"
   },
   "outputs": [
    {
     "data": {
      "text/plain": [
       "First Name      Kate\n",
       "Last Name       Noor\n",
       "Salary        5000.0\n",
       "Name: 4, dtype: object"
      ]
     },
     "execution_count": 97,
     "metadata": {},
     "output_type": "execute_result"
    }
   ],
   "source": [
    "# Slicing a piece of the dataframe by selecting which row and column you would like to select\n",
    "employee_df.iloc[4,0:3]"
   ]
  },
  {
   "cell_type": "markdown",
   "metadata": {
    "id": "ahaEIS4f5zPK"
   },
   "source": [
    "**MINI CHALLENGE #8:**\n",
    "- **Write a code that selects the last two rows in the DataFrame using two different methods**"
   ]
  },
  {
   "cell_type": "code",
   "execution_count": 98,
   "metadata": {
    "id": "VgOhAvCk52IV"
   },
   "outputs": [
    {
     "data": {
      "text/html": [
       "<div>\n",
       "<style scoped>\n",
       "    .dataframe tbody tr th:only-of-type {\n",
       "        vertical-align: middle;\n",
       "    }\n",
       "\n",
       "    .dataframe tbody tr th {\n",
       "        vertical-align: top;\n",
       "    }\n",
       "\n",
       "    .dataframe thead th {\n",
       "        text-align: right;\n",
       "    }\n",
       "</style>\n",
       "<table border=\"1\" class=\"dataframe\">\n",
       "  <thead>\n",
       "    <tr style=\"text-align: right;\">\n",
       "      <th></th>\n",
       "      <th>First Name</th>\n",
       "      <th>Last Name</th>\n",
       "      <th>Salary</th>\n",
       "      <th>Years with Company</th>\n",
       "      <th>Postal Code</th>\n",
       "      <th>Email</th>\n",
       "    </tr>\n",
       "  </thead>\n",
       "  <tbody>\n",
       "    <tr>\n",
       "      <th>8</th>\n",
       "      <td>Joseph</td>\n",
       "      <td>Patton</td>\n",
       "      <td>2629.13</td>\n",
       "      <td>2</td>\n",
       "      <td>M6U 5U7</td>\n",
       "      <td>daafeja@boh.jm</td>\n",
       "    </tr>\n",
       "    <tr>\n",
       "      <th>9</th>\n",
       "      <td>Noah</td>\n",
       "      <td>Moran</td>\n",
       "      <td>8626.96</td>\n",
       "      <td>11</td>\n",
       "      <td>K2D 4M9</td>\n",
       "      <td>guutodi@bigwoc.kw</td>\n",
       "    </tr>\n",
       "  </tbody>\n",
       "</table>\n",
       "</div>"
      ],
      "text/plain": [
       "  First Name Last Name   Salary  Years with Company Postal Code  \\\n",
       "8     Joseph    Patton  2629.13                   2     M6U 5U7   \n",
       "9       Noah     Moran  8626.96                  11     K2D 4M9   \n",
       "\n",
       "               Email  \n",
       "8     daafeja@boh.jm  \n",
       "9  guutodi@bigwoc.kw  "
      ]
     },
     "execution_count": 98,
     "metadata": {},
     "output_type": "execute_result"
    }
   ],
   "source": [
    "employee_df.iloc[-2:]"
   ]
  },
  {
   "cell_type": "code",
   "execution_count": 99,
   "metadata": {},
   "outputs": [
    {
     "data": {
      "text/html": [
       "<div>\n",
       "<style scoped>\n",
       "    .dataframe tbody tr th:only-of-type {\n",
       "        vertical-align: middle;\n",
       "    }\n",
       "\n",
       "    .dataframe tbody tr th {\n",
       "        vertical-align: top;\n",
       "    }\n",
       "\n",
       "    .dataframe thead th {\n",
       "        text-align: right;\n",
       "    }\n",
       "</style>\n",
       "<table border=\"1\" class=\"dataframe\">\n",
       "  <thead>\n",
       "    <tr style=\"text-align: right;\">\n",
       "      <th></th>\n",
       "      <th>First Name</th>\n",
       "      <th>Last Name</th>\n",
       "      <th>Salary</th>\n",
       "      <th>Years with Company</th>\n",
       "      <th>Postal Code</th>\n",
       "      <th>Email</th>\n",
       "    </tr>\n",
       "  </thead>\n",
       "  <tbody>\n",
       "    <tr>\n",
       "      <th>8</th>\n",
       "      <td>Joseph</td>\n",
       "      <td>Patton</td>\n",
       "      <td>2629.13</td>\n",
       "      <td>2</td>\n",
       "      <td>M6U 5U7</td>\n",
       "      <td>daafeja@boh.jm</td>\n",
       "    </tr>\n",
       "    <tr>\n",
       "      <th>9</th>\n",
       "      <td>Noah</td>\n",
       "      <td>Moran</td>\n",
       "      <td>8626.96</td>\n",
       "      <td>11</td>\n",
       "      <td>K2D 4M9</td>\n",
       "      <td>guutodi@bigwoc.kw</td>\n",
       "    </tr>\n",
       "  </tbody>\n",
       "</table>\n",
       "</div>"
      ],
      "text/plain": [
       "  First Name Last Name   Salary  Years with Company Postal Code  \\\n",
       "8     Joseph    Patton  2629.13                   2     M6U 5U7   \n",
       "9       Noah     Moran  8626.96                  11     K2D 4M9   \n",
       "\n",
       "               Email  \n",
       "8     daafeja@boh.jm  \n",
       "9  guutodi@bigwoc.kw  "
      ]
     },
     "execution_count": 99,
     "metadata": {},
     "output_type": "execute_result"
    }
   ],
   "source": [
    "employee_df.iloc[8:]"
   ]
  },
  {
   "cell_type": "markdown",
   "metadata": {
    "id": "0vcp6-RzoxmL"
   },
   "source": [
    "# 9. BROADCASTING OPERATIONS & SETTING NEW DATAFRAME VALUES"
   ]
  },
  {
   "cell_type": "code",
   "execution_count": null,
   "metadata": {},
   "outputs": [],
   "source": []
  },
  {
   "cell_type": "code",
   "execution_count": 105,
   "metadata": {
    "colab": {
     "base_uri": "https://localhost:8080/",
     "height": 343
    },
    "executionInfo": {
     "elapsed": 286,
     "status": "ok",
     "timestamp": 1618631123947,
     "user": {
      "displayName": "Stemplicity",
      "photoUrl": "https://lh3.googleusercontent.com/a-/AOh14Gj2vCFt-bD5mPBhUWX0QA6xiBgoXQXtwUm2jgjaCg=s64",
      "userId": "10668071569687886186"
     },
     "user_tz": 240
    },
    "id": "1St4UOdTo2f0",
    "outputId": "5501e8e1-6cd6-4f31-ea06-9522633a8f86"
   },
   "outputs": [
    {
     "data": {
      "text/html": [
       "<div>\n",
       "<style scoped>\n",
       "    .dataframe tbody tr th:only-of-type {\n",
       "        vertical-align: middle;\n",
       "    }\n",
       "\n",
       "    .dataframe tbody tr th {\n",
       "        vertical-align: top;\n",
       "    }\n",
       "\n",
       "    .dataframe thead th {\n",
       "        text-align: right;\n",
       "    }\n",
       "</style>\n",
       "<table border=\"1\" class=\"dataframe\">\n",
       "  <thead>\n",
       "    <tr style=\"text-align: right;\">\n",
       "      <th></th>\n",
       "      <th>First Name</th>\n",
       "      <th>Last Name</th>\n",
       "      <th>Salary</th>\n",
       "      <th>Years with Company</th>\n",
       "      <th>Postal Code</th>\n",
       "      <th>Email</th>\n",
       "    </tr>\n",
       "  </thead>\n",
       "  <tbody>\n",
       "    <tr>\n",
       "      <th>0</th>\n",
       "      <td>Mike</td>\n",
       "      <td>Moe</td>\n",
       "      <td>5000.00</td>\n",
       "      <td>3</td>\n",
       "      <td>N94 3M0</td>\n",
       "      <td>bird@gmail.com</td>\n",
       "    </tr>\n",
       "    <tr>\n",
       "      <th>1</th>\n",
       "      <td>Noah</td>\n",
       "      <td>Ryan</td>\n",
       "      <td>10000.00</td>\n",
       "      <td>8</td>\n",
       "      <td>N8S 14K</td>\n",
       "      <td>nsmall@hotmail.com</td>\n",
       "    </tr>\n",
       "    <tr>\n",
       "      <th>2</th>\n",
       "      <td>Nina</td>\n",
       "      <td>Keller</td>\n",
       "      <td>9072.02</td>\n",
       "      <td>17</td>\n",
       "      <td>S1T 4E6</td>\n",
       "      <td>azikez@gahew.mr</td>\n",
       "    </tr>\n",
       "    <tr>\n",
       "      <th>3</th>\n",
       "      <td>Chanel</td>\n",
       "      <td>Steve</td>\n",
       "      <td>11072.02</td>\n",
       "      <td>12</td>\n",
       "      <td>N7T 3E6</td>\n",
       "      <td>chanel@gmail.com</td>\n",
       "    </tr>\n",
       "    <tr>\n",
       "      <th>4</th>\n",
       "      <td>Kate</td>\n",
       "      <td>Noor</td>\n",
       "      <td>5000.00</td>\n",
       "      <td>23</td>\n",
       "      <td>K8N 5H6</td>\n",
       "      <td>kate@hotmail.com</td>\n",
       "    </tr>\n",
       "    <tr>\n",
       "      <th>5</th>\n",
       "      <td>Samer</td>\n",
       "      <td>Mo</td>\n",
       "      <td>100000.00</td>\n",
       "      <td>13</td>\n",
       "      <td>J7H 3HY</td>\n",
       "      <td>samer@gmail.com</td>\n",
       "    </tr>\n",
       "    <tr>\n",
       "      <th>6</th>\n",
       "      <td>Heba</td>\n",
       "      <td>Ismail</td>\n",
       "      <td>50000.00</td>\n",
       "      <td>7</td>\n",
       "      <td>K8Y 3M8</td>\n",
       "      <td>heba.ismail@hotmail.com</td>\n",
       "    </tr>\n",
       "    <tr>\n",
       "      <th>7</th>\n",
       "      <td>Laila</td>\n",
       "      <td>Aly</td>\n",
       "      <td>20000.00</td>\n",
       "      <td>5</td>\n",
       "      <td>J8Y 3M0</td>\n",
       "      <td>Laila.a@hotmail.com</td>\n",
       "    </tr>\n",
       "    <tr>\n",
       "      <th>8</th>\n",
       "      <td>Joseph</td>\n",
       "      <td>Patton</td>\n",
       "      <td>2629.13</td>\n",
       "      <td>2</td>\n",
       "      <td>M6U 5U7</td>\n",
       "      <td>daafeja@boh.jm</td>\n",
       "    </tr>\n",
       "    <tr>\n",
       "      <th>9</th>\n",
       "      <td>Noah</td>\n",
       "      <td>Moran</td>\n",
       "      <td>8626.96</td>\n",
       "      <td>11</td>\n",
       "      <td>K2D 4M9</td>\n",
       "      <td>guutodi@bigwoc.kw</td>\n",
       "    </tr>\n",
       "  </tbody>\n",
       "</table>\n",
       "</div>"
      ],
      "text/plain": [
       "  First Name Last Name     Salary  Years with Company Postal Code  \\\n",
       "0       Mike       Moe    5000.00                   3     N94 3M0   \n",
       "1       Noah      Ryan   10000.00                   8     N8S 14K   \n",
       "2       Nina    Keller    9072.02                  17     S1T 4E6   \n",
       "3    Chanel      Steve   11072.02                  12     N7T 3E6   \n",
       "4       Kate      Noor    5000.00                  23     K8N 5H6   \n",
       "5      Samer        Mo  100000.00                  13     J7H 3HY   \n",
       "6       Heba    Ismail   50000.00                   7     K8Y 3M8   \n",
       "7      Laila       Aly   20000.00                   5     J8Y 3M0   \n",
       "8     Joseph    Patton    2629.13                   2     M6U 5U7   \n",
       "9       Noah     Moran    8626.96                  11     K2D 4M9   \n",
       "\n",
       "                     Email  \n",
       "0           bird@gmail.com  \n",
       "1       nsmall@hotmail.com  \n",
       "2          azikez@gahew.mr  \n",
       "3         chanel@gmail.com  \n",
       "4         kate@hotmail.com  \n",
       "5          samer@gmail.com  \n",
       "6  heba.ismail@hotmail.com  \n",
       "7      Laila.a@hotmail.com  \n",
       "8           daafeja@boh.jm  \n",
       "9        guutodi@bigwoc.kw  "
      ]
     },
     "execution_count": 105,
     "metadata": {},
     "output_type": "execute_result"
    }
   ],
   "source": [
    "# Pandas is used to read a csv file and store data in a DataFrame\n",
    "employee_df = pd.read_csv('employee_information.csv')\n",
    "employee_df"
   ]
  },
  {
   "cell_type": "code",
   "execution_count": 106,
   "metadata": {
    "executionInfo": {
     "elapsed": 264,
     "status": "ok",
     "timestamp": 1618631131375,
     "user": {
      "displayName": "Stemplicity",
      "photoUrl": "https://lh3.googleusercontent.com/a-/AOh14Gj2vCFt-bD5mPBhUWX0QA6xiBgoXQXtwUm2jgjaCg=s64",
      "userId": "10668071569687886186"
     },
     "user_tz": 240
    },
    "id": "iIJRcZCRo2iA"
   },
   "outputs": [
    {
     "data": {
      "text/html": [
       "<div>\n",
       "<style scoped>\n",
       "    .dataframe tbody tr th:only-of-type {\n",
       "        vertical-align: middle;\n",
       "    }\n",
       "\n",
       "    .dataframe tbody tr th {\n",
       "        vertical-align: top;\n",
       "    }\n",
       "\n",
       "    .dataframe thead th {\n",
       "        text-align: right;\n",
       "    }\n",
       "</style>\n",
       "<table border=\"1\" class=\"dataframe\">\n",
       "  <thead>\n",
       "    <tr style=\"text-align: right;\">\n",
       "      <th></th>\n",
       "      <th>First Name</th>\n",
       "      <th>Last Name</th>\n",
       "      <th>Salary</th>\n",
       "      <th>Years with Company</th>\n",
       "      <th>Postal Code</th>\n",
       "      <th>Email</th>\n",
       "    </tr>\n",
       "  </thead>\n",
       "  <tbody>\n",
       "    <tr>\n",
       "      <th>0</th>\n",
       "      <td>Mike</td>\n",
       "      <td>Moe</td>\n",
       "      <td>6000.00</td>\n",
       "      <td>3</td>\n",
       "      <td>N94 3M0</td>\n",
       "      <td>bird@gmail.com</td>\n",
       "    </tr>\n",
       "    <tr>\n",
       "      <th>1</th>\n",
       "      <td>Noah</td>\n",
       "      <td>Ryan</td>\n",
       "      <td>11000.00</td>\n",
       "      <td>8</td>\n",
       "      <td>N8S 14K</td>\n",
       "      <td>nsmall@hotmail.com</td>\n",
       "    </tr>\n",
       "    <tr>\n",
       "      <th>2</th>\n",
       "      <td>Nina</td>\n",
       "      <td>Keller</td>\n",
       "      <td>10072.02</td>\n",
       "      <td>17</td>\n",
       "      <td>S1T 4E6</td>\n",
       "      <td>azikez@gahew.mr</td>\n",
       "    </tr>\n",
       "    <tr>\n",
       "      <th>3</th>\n",
       "      <td>Chanel</td>\n",
       "      <td>Steve</td>\n",
       "      <td>12072.02</td>\n",
       "      <td>12</td>\n",
       "      <td>N7T 3E6</td>\n",
       "      <td>chanel@gmail.com</td>\n",
       "    </tr>\n",
       "    <tr>\n",
       "      <th>4</th>\n",
       "      <td>Kate</td>\n",
       "      <td>Noor</td>\n",
       "      <td>6000.00</td>\n",
       "      <td>23</td>\n",
       "      <td>K8N 5H6</td>\n",
       "      <td>kate@hotmail.com</td>\n",
       "    </tr>\n",
       "    <tr>\n",
       "      <th>5</th>\n",
       "      <td>Samer</td>\n",
       "      <td>Mo</td>\n",
       "      <td>101000.00</td>\n",
       "      <td>13</td>\n",
       "      <td>J7H 3HY</td>\n",
       "      <td>samer@gmail.com</td>\n",
       "    </tr>\n",
       "    <tr>\n",
       "      <th>6</th>\n",
       "      <td>Heba</td>\n",
       "      <td>Ismail</td>\n",
       "      <td>51000.00</td>\n",
       "      <td>7</td>\n",
       "      <td>K8Y 3M8</td>\n",
       "      <td>heba.ismail@hotmail.com</td>\n",
       "    </tr>\n",
       "    <tr>\n",
       "      <th>7</th>\n",
       "      <td>Laila</td>\n",
       "      <td>Aly</td>\n",
       "      <td>21000.00</td>\n",
       "      <td>5</td>\n",
       "      <td>J8Y 3M0</td>\n",
       "      <td>Laila.a@hotmail.com</td>\n",
       "    </tr>\n",
       "    <tr>\n",
       "      <th>8</th>\n",
       "      <td>Joseph</td>\n",
       "      <td>Patton</td>\n",
       "      <td>3629.13</td>\n",
       "      <td>2</td>\n",
       "      <td>M6U 5U7</td>\n",
       "      <td>daafeja@boh.jm</td>\n",
       "    </tr>\n",
       "    <tr>\n",
       "      <th>9</th>\n",
       "      <td>Noah</td>\n",
       "      <td>Moran</td>\n",
       "      <td>9626.96</td>\n",
       "      <td>11</td>\n",
       "      <td>K2D 4M9</td>\n",
       "      <td>guutodi@bigwoc.kw</td>\n",
       "    </tr>\n",
       "  </tbody>\n",
       "</table>\n",
       "</div>"
      ],
      "text/plain": [
       "  First Name Last Name     Salary  Years with Company Postal Code  \\\n",
       "0       Mike       Moe    6000.00                   3     N94 3M0   \n",
       "1       Noah      Ryan   11000.00                   8     N8S 14K   \n",
       "2       Nina    Keller   10072.02                  17     S1T 4E6   \n",
       "3    Chanel      Steve   12072.02                  12     N7T 3E6   \n",
       "4       Kate      Noor    6000.00                  23     K8N 5H6   \n",
       "5      Samer        Mo  101000.00                  13     J7H 3HY   \n",
       "6       Heba    Ismail   51000.00                   7     K8Y 3M8   \n",
       "7      Laila       Aly   21000.00                   5     J8Y 3M0   \n",
       "8     Joseph    Patton    3629.13                   2     M6U 5U7   \n",
       "9       Noah     Moran    9626.96                  11     K2D 4M9   \n",
       "\n",
       "                     Email  \n",
       "0           bird@gmail.com  \n",
       "1       nsmall@hotmail.com  \n",
       "2          azikez@gahew.mr  \n",
       "3         chanel@gmail.com  \n",
       "4         kate@hotmail.com  \n",
       "5          samer@gmail.com  \n",
       "6  heba.ismail@hotmail.com  \n",
       "7      Laila.a@hotmail.com  \n",
       "8           daafeja@boh.jm  \n",
       "9        guutodi@bigwoc.kw  "
      ]
     },
     "execution_count": 106,
     "metadata": {},
     "output_type": "execute_result"
    }
   ],
   "source": [
    "# Let's assume that we want to update the salaries of all our employees by $1000\n",
    "employee_df['Salary'] += 1000\n",
    "employee_df"
   ]
  },
  {
   "cell_type": "code",
   "execution_count": null,
   "metadata": {
    "colab": {
     "base_uri": "https://localhost:8080/",
     "height": 343
    },
    "executionInfo": {
     "elapsed": 305,
     "status": "ok",
     "timestamp": 1618631134387,
     "user": {
      "displayName": "Stemplicity",
      "photoUrl": "https://lh3.googleusercontent.com/a-/AOh14Gj2vCFt-bD5mPBhUWX0QA6xiBgoXQXtwUm2jgjaCg=s64",
      "userId": "10668071569687886186"
     },
     "user_tz": 240
    },
    "id": "_oygvwkwo2kt",
    "outputId": "49984644-8818-470a-ad0e-b777522a610d"
   },
   "outputs": [],
   "source": []
  },
  {
   "cell_type": "code",
   "execution_count": null,
   "metadata": {
    "colab": {
     "base_uri": "https://localhost:8080/",
     "height": 343
    },
    "executionInfo": {
     "elapsed": 335,
     "status": "ok",
     "timestamp": 1618631167868,
     "user": {
      "displayName": "Stemplicity",
      "photoUrl": "https://lh3.googleusercontent.com/a-/AOh14Gj2vCFt-bD5mPBhUWX0QA6xiBgoXQXtwUm2jgjaCg=s64",
      "userId": "10668071569687886186"
     },
     "user_tz": 240
    },
    "id": "pzVlxLmApbEt",
    "outputId": "33c032d5-e2db-4da2-d3f7-ecfdd368514a"
   },
   "outputs": [],
   "source": [
    "# Alternatively, you can add or subtract as follows\n"
   ]
  },
  {
   "cell_type": "code",
   "execution_count": 108,
   "metadata": {
    "colab": {
     "base_uri": "https://localhost:8080/",
     "height": 343
    },
    "executionInfo": {
     "elapsed": 278,
     "status": "ok",
     "timestamp": 1618631194037,
     "user": {
      "displayName": "Stemplicity",
      "photoUrl": "https://lh3.googleusercontent.com/a-/AOh14Gj2vCFt-bD5mPBhUWX0QA6xiBgoXQXtwUm2jgjaCg=s64",
      "userId": "10668071569687886186"
     },
     "user_tz": 240
    },
    "id": "9sVuAqhlqGIn",
    "outputId": "59c88f70-d422-4f1c-df36-8575ac3edcb3"
   },
   "outputs": [
    {
     "data": {
      "text/html": [
       "<div>\n",
       "<style scoped>\n",
       "    .dataframe tbody tr th:only-of-type {\n",
       "        vertical-align: middle;\n",
       "    }\n",
       "\n",
       "    .dataframe tbody tr th {\n",
       "        vertical-align: top;\n",
       "    }\n",
       "\n",
       "    .dataframe thead th {\n",
       "        text-align: right;\n",
       "    }\n",
       "</style>\n",
       "<table border=\"1\" class=\"dataframe\">\n",
       "  <thead>\n",
       "    <tr style=\"text-align: right;\">\n",
       "      <th></th>\n",
       "      <th>First Name</th>\n",
       "      <th>Last Name</th>\n",
       "      <th>Salary</th>\n",
       "      <th>Years with Company</th>\n",
       "      <th>Postal Code</th>\n",
       "      <th>Email</th>\n",
       "      <th>Salary CA[$]</th>\n",
       "    </tr>\n",
       "  </thead>\n",
       "  <tbody>\n",
       "    <tr>\n",
       "      <th>0</th>\n",
       "      <td>Mike</td>\n",
       "      <td>Moe</td>\n",
       "      <td>6000.00</td>\n",
       "      <td>3</td>\n",
       "      <td>N94 3M0</td>\n",
       "      <td>bird@gmail.com</td>\n",
       "      <td>7800.000</td>\n",
       "    </tr>\n",
       "    <tr>\n",
       "      <th>1</th>\n",
       "      <td>Noah</td>\n",
       "      <td>Ryan</td>\n",
       "      <td>11000.00</td>\n",
       "      <td>8</td>\n",
       "      <td>N8S 14K</td>\n",
       "      <td>nsmall@hotmail.com</td>\n",
       "      <td>14300.000</td>\n",
       "    </tr>\n",
       "    <tr>\n",
       "      <th>2</th>\n",
       "      <td>Nina</td>\n",
       "      <td>Keller</td>\n",
       "      <td>10072.02</td>\n",
       "      <td>17</td>\n",
       "      <td>S1T 4E6</td>\n",
       "      <td>azikez@gahew.mr</td>\n",
       "      <td>13093.626</td>\n",
       "    </tr>\n",
       "    <tr>\n",
       "      <th>3</th>\n",
       "      <td>Chanel</td>\n",
       "      <td>Steve</td>\n",
       "      <td>12072.02</td>\n",
       "      <td>12</td>\n",
       "      <td>N7T 3E6</td>\n",
       "      <td>chanel@gmail.com</td>\n",
       "      <td>15693.626</td>\n",
       "    </tr>\n",
       "    <tr>\n",
       "      <th>4</th>\n",
       "      <td>Kate</td>\n",
       "      <td>Noor</td>\n",
       "      <td>6000.00</td>\n",
       "      <td>23</td>\n",
       "      <td>K8N 5H6</td>\n",
       "      <td>kate@hotmail.com</td>\n",
       "      <td>7800.000</td>\n",
       "    </tr>\n",
       "    <tr>\n",
       "      <th>5</th>\n",
       "      <td>Samer</td>\n",
       "      <td>Mo</td>\n",
       "      <td>101000.00</td>\n",
       "      <td>13</td>\n",
       "      <td>J7H 3HY</td>\n",
       "      <td>samer@gmail.com</td>\n",
       "      <td>131300.000</td>\n",
       "    </tr>\n",
       "    <tr>\n",
       "      <th>6</th>\n",
       "      <td>Heba</td>\n",
       "      <td>Ismail</td>\n",
       "      <td>51000.00</td>\n",
       "      <td>7</td>\n",
       "      <td>K8Y 3M8</td>\n",
       "      <td>heba.ismail@hotmail.com</td>\n",
       "      <td>66300.000</td>\n",
       "    </tr>\n",
       "    <tr>\n",
       "      <th>7</th>\n",
       "      <td>Laila</td>\n",
       "      <td>Aly</td>\n",
       "      <td>21000.00</td>\n",
       "      <td>5</td>\n",
       "      <td>J8Y 3M0</td>\n",
       "      <td>Laila.a@hotmail.com</td>\n",
       "      <td>27300.000</td>\n",
       "    </tr>\n",
       "    <tr>\n",
       "      <th>8</th>\n",
       "      <td>Joseph</td>\n",
       "      <td>Patton</td>\n",
       "      <td>3629.13</td>\n",
       "      <td>2</td>\n",
       "      <td>M6U 5U7</td>\n",
       "      <td>daafeja@boh.jm</td>\n",
       "      <td>4717.869</td>\n",
       "    </tr>\n",
       "    <tr>\n",
       "      <th>9</th>\n",
       "      <td>Noah</td>\n",
       "      <td>Moran</td>\n",
       "      <td>9626.96</td>\n",
       "      <td>11</td>\n",
       "      <td>K2D 4M9</td>\n",
       "      <td>guutodi@bigwoc.kw</td>\n",
       "      <td>12515.048</td>\n",
       "    </tr>\n",
       "  </tbody>\n",
       "</table>\n",
       "</div>"
      ],
      "text/plain": [
       "  First Name Last Name     Salary  Years with Company Postal Code  \\\n",
       "0       Mike       Moe    6000.00                   3     N94 3M0   \n",
       "1       Noah      Ryan   11000.00                   8     N8S 14K   \n",
       "2       Nina    Keller   10072.02                  17     S1T 4E6   \n",
       "3    Chanel      Steve   12072.02                  12     N7T 3E6   \n",
       "4       Kate      Noor    6000.00                  23     K8N 5H6   \n",
       "5      Samer        Mo  101000.00                  13     J7H 3HY   \n",
       "6       Heba    Ismail   51000.00                   7     K8Y 3M8   \n",
       "7      Laila       Aly   21000.00                   5     J8Y 3M0   \n",
       "8     Joseph    Patton    3629.13                   2     M6U 5U7   \n",
       "9       Noah     Moran    9626.96                  11     K2D 4M9   \n",
       "\n",
       "                     Email  Salary CA[$]  \n",
       "0           bird@gmail.com      7800.000  \n",
       "1       nsmall@hotmail.com     14300.000  \n",
       "2          azikez@gahew.mr     13093.626  \n",
       "3         chanel@gmail.com     15693.626  \n",
       "4         kate@hotmail.com      7800.000  \n",
       "5          samer@gmail.com    131300.000  \n",
       "6  heba.ismail@hotmail.com     66300.000  \n",
       "7      Laila.a@hotmail.com     27300.000  \n",
       "8           daafeja@boh.jm      4717.869  \n",
       "9        guutodi@bigwoc.kw     12515.048  "
      ]
     },
     "execution_count": 108,
     "metadata": {},
     "output_type": "execute_result"
    }
   ],
   "source": [
    "# Let's convert from USD to CAD using the exchange rate 1 USD = 1.3 CAD \n",
    "employee_df['Salary CA[$]'] = employee_df['Salary'].multiply(1.3)\n",
    "employee_df"
   ]
  },
  {
   "cell_type": "code",
   "execution_count": null,
   "metadata": {
    "executionInfo": {
     "elapsed": 295,
     "status": "ok",
     "timestamp": 1618631220660,
     "user": {
      "displayName": "Stemplicity",
      "photoUrl": "https://lh3.googleusercontent.com/a-/AOh14Gj2vCFt-bD5mPBhUWX0QA6xiBgoXQXtwUm2jgjaCg=s64",
      "userId": "10668071569687886186"
     },
     "user_tz": 240
    },
    "id": "JHn2UP_sZzqZ"
   },
   "outputs": [],
   "source": [
    "# Decided to update the email address of a given customer\n"
   ]
  },
  {
   "cell_type": "code",
   "execution_count": 109,
   "metadata": {
    "colab": {
     "base_uri": "https://localhost:8080/",
     "height": 343
    },
    "executionInfo": {
     "elapsed": 290,
     "status": "ok",
     "timestamp": 1618631236385,
     "user": {
      "displayName": "Stemplicity",
      "photoUrl": "https://lh3.googleusercontent.com/a-/AOh14Gj2vCFt-bD5mPBhUWX0QA6xiBgoXQXtwUm2jgjaCg=s64",
      "userId": "10668071569687886186"
     },
     "user_tz": 240
    },
    "id": "3_OzDffuZzzk",
    "outputId": "e6e2a4da-a82d-4fab-cf96-e1dea9885612"
   },
   "outputs": [
    {
     "data": {
      "text/html": [
       "<div>\n",
       "<style scoped>\n",
       "    .dataframe tbody tr th:only-of-type {\n",
       "        vertical-align: middle;\n",
       "    }\n",
       "\n",
       "    .dataframe tbody tr th {\n",
       "        vertical-align: top;\n",
       "    }\n",
       "\n",
       "    .dataframe thead th {\n",
       "        text-align: right;\n",
       "    }\n",
       "</style>\n",
       "<table border=\"1\" class=\"dataframe\">\n",
       "  <thead>\n",
       "    <tr style=\"text-align: right;\">\n",
       "      <th></th>\n",
       "      <th>First Name</th>\n",
       "      <th>Last Name</th>\n",
       "      <th>Salary</th>\n",
       "      <th>Years with Company</th>\n",
       "      <th>Postal Code</th>\n",
       "      <th>Email</th>\n",
       "      <th>Salary CA[$]</th>\n",
       "    </tr>\n",
       "  </thead>\n",
       "  <tbody>\n",
       "    <tr>\n",
       "      <th>0</th>\n",
       "      <td>Mike</td>\n",
       "      <td>Moe</td>\n",
       "      <td>6000.00</td>\n",
       "      <td>3</td>\n",
       "      <td>N94 3M0</td>\n",
       "      <td>bird@gmail.com</td>\n",
       "      <td>7800.000</td>\n",
       "    </tr>\n",
       "    <tr>\n",
       "      <th>1</th>\n",
       "      <td>Noah</td>\n",
       "      <td>Ryan</td>\n",
       "      <td>11000.00</td>\n",
       "      <td>8</td>\n",
       "      <td>N8S 14K</td>\n",
       "      <td>nsmall@hotmail.com</td>\n",
       "      <td>14300.000</td>\n",
       "    </tr>\n",
       "    <tr>\n",
       "      <th>2</th>\n",
       "      <td>Nina</td>\n",
       "      <td>Keller</td>\n",
       "      <td>10072.02</td>\n",
       "      <td>17</td>\n",
       "      <td>S1T 4E6</td>\n",
       "      <td>azikez@gahew.mr</td>\n",
       "      <td>13093.626</td>\n",
       "    </tr>\n",
       "    <tr>\n",
       "      <th>3</th>\n",
       "      <td>Chanel</td>\n",
       "      <td>Steve</td>\n",
       "      <td>12072.02</td>\n",
       "      <td>12</td>\n",
       "      <td>N7T 3E6</td>\n",
       "      <td>chanel@gmail.com</td>\n",
       "      <td>15693.626</td>\n",
       "    </tr>\n",
       "    <tr>\n",
       "      <th>4</th>\n",
       "      <td>Kate</td>\n",
       "      <td>Noor</td>\n",
       "      <td>6000.00</td>\n",
       "      <td>23</td>\n",
       "      <td>K8N 5H6</td>\n",
       "      <td>kate.noor@gmail.com</td>\n",
       "      <td>7800.000</td>\n",
       "    </tr>\n",
       "    <tr>\n",
       "      <th>5</th>\n",
       "      <td>Samer</td>\n",
       "      <td>Mo</td>\n",
       "      <td>101000.00</td>\n",
       "      <td>13</td>\n",
       "      <td>J7H 3HY</td>\n",
       "      <td>samer@gmail.com</td>\n",
       "      <td>131300.000</td>\n",
       "    </tr>\n",
       "    <tr>\n",
       "      <th>6</th>\n",
       "      <td>Heba</td>\n",
       "      <td>Ismail</td>\n",
       "      <td>51000.00</td>\n",
       "      <td>7</td>\n",
       "      <td>K8Y 3M8</td>\n",
       "      <td>heba.ismail@hotmail.com</td>\n",
       "      <td>66300.000</td>\n",
       "    </tr>\n",
       "    <tr>\n",
       "      <th>7</th>\n",
       "      <td>Laila</td>\n",
       "      <td>Aly</td>\n",
       "      <td>21000.00</td>\n",
       "      <td>5</td>\n",
       "      <td>J8Y 3M0</td>\n",
       "      <td>Laila.a@hotmail.com</td>\n",
       "      <td>27300.000</td>\n",
       "    </tr>\n",
       "    <tr>\n",
       "      <th>8</th>\n",
       "      <td>Joseph</td>\n",
       "      <td>Patton</td>\n",
       "      <td>3629.13</td>\n",
       "      <td>2</td>\n",
       "      <td>M6U 5U7</td>\n",
       "      <td>daafeja@boh.jm</td>\n",
       "      <td>4717.869</td>\n",
       "    </tr>\n",
       "    <tr>\n",
       "      <th>9</th>\n",
       "      <td>Noah</td>\n",
       "      <td>Moran</td>\n",
       "      <td>9626.96</td>\n",
       "      <td>11</td>\n",
       "      <td>K2D 4M9</td>\n",
       "      <td>guutodi@bigwoc.kw</td>\n",
       "      <td>12515.048</td>\n",
       "    </tr>\n",
       "  </tbody>\n",
       "</table>\n",
       "</div>"
      ],
      "text/plain": [
       "  First Name Last Name     Salary  Years with Company Postal Code  \\\n",
       "0       Mike       Moe    6000.00                   3     N94 3M0   \n",
       "1       Noah      Ryan   11000.00                   8     N8S 14K   \n",
       "2       Nina    Keller   10072.02                  17     S1T 4E6   \n",
       "3    Chanel      Steve   12072.02                  12     N7T 3E6   \n",
       "4       Kate      Noor    6000.00                  23     K8N 5H6   \n",
       "5      Samer        Mo  101000.00                  13     J7H 3HY   \n",
       "6       Heba    Ismail   51000.00                   7     K8Y 3M8   \n",
       "7      Laila       Aly   21000.00                   5     J8Y 3M0   \n",
       "8     Joseph    Patton    3629.13                   2     M6U 5U7   \n",
       "9       Noah     Moran    9626.96                  11     K2D 4M9   \n",
       "\n",
       "                     Email  Salary CA[$]  \n",
       "0           bird@gmail.com      7800.000  \n",
       "1       nsmall@hotmail.com     14300.000  \n",
       "2          azikez@gahew.mr     13093.626  \n",
       "3         chanel@gmail.com     15693.626  \n",
       "4      kate.noor@gmail.com      7800.000  \n",
       "5          samer@gmail.com    131300.000  \n",
       "6  heba.ismail@hotmail.com     66300.000  \n",
       "7      Laila.a@hotmail.com     27300.000  \n",
       "8           daafeja@boh.jm      4717.869  \n",
       "9        guutodi@bigwoc.kw     12515.048  "
      ]
     },
     "execution_count": 109,
     "metadata": {},
     "output_type": "execute_result"
    }
   ],
   "source": [
    "employee_df.iloc[4,5] = 'kate.noor@gmail.com'\n",
    "employee_df"
   ]
  },
  {
   "cell_type": "markdown",
   "metadata": {
    "id": "C6IyBcLP-QzD"
   },
   "source": [
    "**MINI CHALLENGE #9:**\n",
    "- **Let's assume that all employees have been performing really well and their salaries have increased by 12% annualy. Calculate the sum of all employees salaries.** "
   ]
  },
  {
   "cell_type": "code",
   "execution_count": 113,
   "metadata": {
    "id": "Hji1ZOln-Uoz"
   },
   "outputs": [
    {
     "data": {
      "text/plain": [
       "259168.14560000002"
      ]
     },
     "execution_count": 113,
     "metadata": {},
     "output_type": "execute_result"
    }
   ],
   "source": [
    "employee_df['Salary'].multiply(1.12).sum()"
   ]
  },
  {
   "cell_type": "code",
   "execution_count": null,
   "metadata": {},
   "outputs": [],
   "source": []
  },
  {
   "cell_type": "markdown",
   "metadata": {
    "id": "LKDuJ94RvB85"
   },
   "source": [
    "# 10. SORTING AND ORDERING"
   ]
  },
  {
   "cell_type": "code",
   "execution_count": 114,
   "metadata": {
    "colab": {
     "base_uri": "https://localhost:8080/",
     "height": 343
    },
    "executionInfo": {
     "elapsed": 408,
     "status": "ok",
     "timestamp": 1618631866986,
     "user": {
      "displayName": "Stemplicity",
      "photoUrl": "https://lh3.googleusercontent.com/a-/AOh14Gj2vCFt-bD5mPBhUWX0QA6xiBgoXQXtwUm2jgjaCg=s64",
      "userId": "10668071569687886186"
     },
     "user_tz": 240
    },
    "id": "f-aRTmn9u7DA",
    "outputId": "f2b0d444-76bd-4fd2-b622-08a01ef51fea"
   },
   "outputs": [
    {
     "data": {
      "text/html": [
       "<div>\n",
       "<style scoped>\n",
       "    .dataframe tbody tr th:only-of-type {\n",
       "        vertical-align: middle;\n",
       "    }\n",
       "\n",
       "    .dataframe tbody tr th {\n",
       "        vertical-align: top;\n",
       "    }\n",
       "\n",
       "    .dataframe thead th {\n",
       "        text-align: right;\n",
       "    }\n",
       "</style>\n",
       "<table border=\"1\" class=\"dataframe\">\n",
       "  <thead>\n",
       "    <tr style=\"text-align: right;\">\n",
       "      <th></th>\n",
       "      <th>First Name</th>\n",
       "      <th>Last Name</th>\n",
       "      <th>Salary</th>\n",
       "      <th>Years with Company</th>\n",
       "      <th>Postal Code</th>\n",
       "      <th>Email</th>\n",
       "    </tr>\n",
       "  </thead>\n",
       "  <tbody>\n",
       "    <tr>\n",
       "      <th>0</th>\n",
       "      <td>Mike</td>\n",
       "      <td>Moe</td>\n",
       "      <td>5000.00</td>\n",
       "      <td>3</td>\n",
       "      <td>N94 3M0</td>\n",
       "      <td>bird@gmail.com</td>\n",
       "    </tr>\n",
       "    <tr>\n",
       "      <th>1</th>\n",
       "      <td>Noah</td>\n",
       "      <td>Ryan</td>\n",
       "      <td>10000.00</td>\n",
       "      <td>8</td>\n",
       "      <td>N8S 14K</td>\n",
       "      <td>nsmall@hotmail.com</td>\n",
       "    </tr>\n",
       "    <tr>\n",
       "      <th>2</th>\n",
       "      <td>Nina</td>\n",
       "      <td>Keller</td>\n",
       "      <td>9072.02</td>\n",
       "      <td>17</td>\n",
       "      <td>S1T 4E6</td>\n",
       "      <td>azikez@gahew.mr</td>\n",
       "    </tr>\n",
       "    <tr>\n",
       "      <th>3</th>\n",
       "      <td>Chanel</td>\n",
       "      <td>Steve</td>\n",
       "      <td>11072.02</td>\n",
       "      <td>12</td>\n",
       "      <td>N7T 3E6</td>\n",
       "      <td>chanel@gmail.com</td>\n",
       "    </tr>\n",
       "    <tr>\n",
       "      <th>4</th>\n",
       "      <td>Kate</td>\n",
       "      <td>Noor</td>\n",
       "      <td>5000.00</td>\n",
       "      <td>23</td>\n",
       "      <td>K8N 5H6</td>\n",
       "      <td>kate@hotmail.com</td>\n",
       "    </tr>\n",
       "    <tr>\n",
       "      <th>5</th>\n",
       "      <td>Samer</td>\n",
       "      <td>Mo</td>\n",
       "      <td>100000.00</td>\n",
       "      <td>13</td>\n",
       "      <td>J7H 3HY</td>\n",
       "      <td>samer@gmail.com</td>\n",
       "    </tr>\n",
       "    <tr>\n",
       "      <th>6</th>\n",
       "      <td>Heba</td>\n",
       "      <td>Ismail</td>\n",
       "      <td>50000.00</td>\n",
       "      <td>7</td>\n",
       "      <td>K8Y 3M8</td>\n",
       "      <td>heba.ismail@hotmail.com</td>\n",
       "    </tr>\n",
       "    <tr>\n",
       "      <th>7</th>\n",
       "      <td>Laila</td>\n",
       "      <td>Aly</td>\n",
       "      <td>20000.00</td>\n",
       "      <td>5</td>\n",
       "      <td>J8Y 3M0</td>\n",
       "      <td>Laila.a@hotmail.com</td>\n",
       "    </tr>\n",
       "    <tr>\n",
       "      <th>8</th>\n",
       "      <td>Joseph</td>\n",
       "      <td>Patton</td>\n",
       "      <td>2629.13</td>\n",
       "      <td>2</td>\n",
       "      <td>M6U 5U7</td>\n",
       "      <td>daafeja@boh.jm</td>\n",
       "    </tr>\n",
       "    <tr>\n",
       "      <th>9</th>\n",
       "      <td>Noah</td>\n",
       "      <td>Moran</td>\n",
       "      <td>8626.96</td>\n",
       "      <td>11</td>\n",
       "      <td>K2D 4M9</td>\n",
       "      <td>guutodi@bigwoc.kw</td>\n",
       "    </tr>\n",
       "  </tbody>\n",
       "</table>\n",
       "</div>"
      ],
      "text/plain": [
       "  First Name Last Name     Salary  Years with Company Postal Code  \\\n",
       "0       Mike       Moe    5000.00                   3     N94 3M0   \n",
       "1       Noah      Ryan   10000.00                   8     N8S 14K   \n",
       "2       Nina    Keller    9072.02                  17     S1T 4E6   \n",
       "3    Chanel      Steve   11072.02                  12     N7T 3E6   \n",
       "4       Kate      Noor    5000.00                  23     K8N 5H6   \n",
       "5      Samer        Mo  100000.00                  13     J7H 3HY   \n",
       "6       Heba    Ismail   50000.00                   7     K8Y 3M8   \n",
       "7      Laila       Aly   20000.00                   5     J8Y 3M0   \n",
       "8     Joseph    Patton    2629.13                   2     M6U 5U7   \n",
       "9       Noah     Moran    8626.96                  11     K2D 4M9   \n",
       "\n",
       "                     Email  \n",
       "0           bird@gmail.com  \n",
       "1       nsmall@hotmail.com  \n",
       "2          azikez@gahew.mr  \n",
       "3         chanel@gmail.com  \n",
       "4         kate@hotmail.com  \n",
       "5          samer@gmail.com  \n",
       "6  heba.ismail@hotmail.com  \n",
       "7      Laila.a@hotmail.com  \n",
       "8           daafeja@boh.jm  \n",
       "9        guutodi@bigwoc.kw  "
      ]
     },
     "execution_count": 114,
     "metadata": {},
     "output_type": "execute_result"
    }
   ],
   "source": [
    "# Let's read a CSV file using Pandas as follows\n",
    "employee_df = pd.read_csv('employee_information.csv')\n",
    "employee_df"
   ]
  },
  {
   "cell_type": "code",
   "execution_count": 118,
   "metadata": {
    "colab": {
     "base_uri": "https://localhost:8080/",
     "height": 343
    },
    "executionInfo": {
     "elapsed": 765,
     "status": "ok",
     "timestamp": 1618631872067,
     "user": {
      "displayName": "Stemplicity",
      "photoUrl": "https://lh3.googleusercontent.com/a-/AOh14Gj2vCFt-bD5mPBhUWX0QA6xiBgoXQXtwUm2jgjaCg=s64",
      "userId": "10668071569687886186"
     },
     "user_tz": 240
    },
    "id": "DaglhPNevFYC",
    "outputId": "49f18e57-8acf-45a8-d21c-ed95e5604762"
   },
   "outputs": [
    {
     "data": {
      "text/html": [
       "<div>\n",
       "<style scoped>\n",
       "    .dataframe tbody tr th:only-of-type {\n",
       "        vertical-align: middle;\n",
       "    }\n",
       "\n",
       "    .dataframe tbody tr th {\n",
       "        vertical-align: top;\n",
       "    }\n",
       "\n",
       "    .dataframe thead th {\n",
       "        text-align: right;\n",
       "    }\n",
       "</style>\n",
       "<table border=\"1\" class=\"dataframe\">\n",
       "  <thead>\n",
       "    <tr style=\"text-align: right;\">\n",
       "      <th></th>\n",
       "      <th>First Name</th>\n",
       "      <th>Last Name</th>\n",
       "      <th>Salary</th>\n",
       "      <th>Years with Company</th>\n",
       "      <th>Postal Code</th>\n",
       "      <th>Email</th>\n",
       "    </tr>\n",
       "  </thead>\n",
       "  <tbody>\n",
       "    <tr>\n",
       "      <th>8</th>\n",
       "      <td>Joseph</td>\n",
       "      <td>Patton</td>\n",
       "      <td>2629.13</td>\n",
       "      <td>2</td>\n",
       "      <td>M6U 5U7</td>\n",
       "      <td>daafeja@boh.jm</td>\n",
       "    </tr>\n",
       "    <tr>\n",
       "      <th>0</th>\n",
       "      <td>Mike</td>\n",
       "      <td>Moe</td>\n",
       "      <td>5000.00</td>\n",
       "      <td>3</td>\n",
       "      <td>N94 3M0</td>\n",
       "      <td>bird@gmail.com</td>\n",
       "    </tr>\n",
       "    <tr>\n",
       "      <th>7</th>\n",
       "      <td>Laila</td>\n",
       "      <td>Aly</td>\n",
       "      <td>20000.00</td>\n",
       "      <td>5</td>\n",
       "      <td>J8Y 3M0</td>\n",
       "      <td>Laila.a@hotmail.com</td>\n",
       "    </tr>\n",
       "    <tr>\n",
       "      <th>6</th>\n",
       "      <td>Heba</td>\n",
       "      <td>Ismail</td>\n",
       "      <td>50000.00</td>\n",
       "      <td>7</td>\n",
       "      <td>K8Y 3M8</td>\n",
       "      <td>heba.ismail@hotmail.com</td>\n",
       "    </tr>\n",
       "    <tr>\n",
       "      <th>1</th>\n",
       "      <td>Noah</td>\n",
       "      <td>Ryan</td>\n",
       "      <td>10000.00</td>\n",
       "      <td>8</td>\n",
       "      <td>N8S 14K</td>\n",
       "      <td>nsmall@hotmail.com</td>\n",
       "    </tr>\n",
       "    <tr>\n",
       "      <th>9</th>\n",
       "      <td>Noah</td>\n",
       "      <td>Moran</td>\n",
       "      <td>8626.96</td>\n",
       "      <td>11</td>\n",
       "      <td>K2D 4M9</td>\n",
       "      <td>guutodi@bigwoc.kw</td>\n",
       "    </tr>\n",
       "    <tr>\n",
       "      <th>3</th>\n",
       "      <td>Chanel</td>\n",
       "      <td>Steve</td>\n",
       "      <td>11072.02</td>\n",
       "      <td>12</td>\n",
       "      <td>N7T 3E6</td>\n",
       "      <td>chanel@gmail.com</td>\n",
       "    </tr>\n",
       "    <tr>\n",
       "      <th>5</th>\n",
       "      <td>Samer</td>\n",
       "      <td>Mo</td>\n",
       "      <td>100000.00</td>\n",
       "      <td>13</td>\n",
       "      <td>J7H 3HY</td>\n",
       "      <td>samer@gmail.com</td>\n",
       "    </tr>\n",
       "    <tr>\n",
       "      <th>2</th>\n",
       "      <td>Nina</td>\n",
       "      <td>Keller</td>\n",
       "      <td>9072.02</td>\n",
       "      <td>17</td>\n",
       "      <td>S1T 4E6</td>\n",
       "      <td>azikez@gahew.mr</td>\n",
       "    </tr>\n",
       "    <tr>\n",
       "      <th>4</th>\n",
       "      <td>Kate</td>\n",
       "      <td>Noor</td>\n",
       "      <td>5000.00</td>\n",
       "      <td>23</td>\n",
       "      <td>K8N 5H6</td>\n",
       "      <td>kate@hotmail.com</td>\n",
       "    </tr>\n",
       "  </tbody>\n",
       "</table>\n",
       "</div>"
      ],
      "text/plain": [
       "  First Name Last Name     Salary  Years with Company Postal Code  \\\n",
       "8     Joseph    Patton    2629.13                   2     M6U 5U7   \n",
       "0       Mike       Moe    5000.00                   3     N94 3M0   \n",
       "7      Laila       Aly   20000.00                   5     J8Y 3M0   \n",
       "6       Heba    Ismail   50000.00                   7     K8Y 3M8   \n",
       "1       Noah      Ryan   10000.00                   8     N8S 14K   \n",
       "9       Noah     Moran    8626.96                  11     K2D 4M9   \n",
       "3    Chanel      Steve   11072.02                  12     N7T 3E6   \n",
       "5      Samer        Mo  100000.00                  13     J7H 3HY   \n",
       "2       Nina    Keller    9072.02                  17     S1T 4E6   \n",
       "4       Kate      Noor    5000.00                  23     K8N 5H6   \n",
       "\n",
       "                     Email  \n",
       "8           daafeja@boh.jm  \n",
       "0           bird@gmail.com  \n",
       "7      Laila.a@hotmail.com  \n",
       "6  heba.ismail@hotmail.com  \n",
       "1       nsmall@hotmail.com  \n",
       "9        guutodi@bigwoc.kw  \n",
       "3         chanel@gmail.com  \n",
       "5          samer@gmail.com  \n",
       "2          azikez@gahew.mr  \n",
       "4         kate@hotmail.com  "
      ]
     },
     "execution_count": 118,
     "metadata": {},
     "output_type": "execute_result"
    }
   ],
   "source": [
    "# You can sort the values in the dataframe according to number of years with bank\n",
    "employee_df.sort_values(by='Years with Company', inplace = True)\n",
    "employee_df"
   ]
  },
  {
   "cell_type": "code",
   "execution_count": null,
   "metadata": {
    "colab": {
     "base_uri": "https://localhost:8080/",
     "height": 343
    },
    "executionInfo": {
     "elapsed": 322,
     "status": "ok",
     "timestamp": 1618631872889,
     "user": {
      "displayName": "Stemplicity",
      "photoUrl": "https://lh3.googleusercontent.com/a-/AOh14Gj2vCFt-bD5mPBhUWX0QA6xiBgoXQXtwUm2jgjaCg=s64",
      "userId": "10668071569687886186"
     },
     "user_tz": 240
    },
    "id": "AjzLtDlevFaW",
    "outputId": "1246e049-7504-429e-824c-f2e3917c0521"
   },
   "outputs": [],
   "source": [
    "# Note that nothing changed in memory! you have to make sure that inplace is set to True\n"
   ]
  },
  {
   "cell_type": "code",
   "execution_count": null,
   "metadata": {
    "executionInfo": {
     "elapsed": 301,
     "status": "ok",
     "timestamp": 1618631880677,
     "user": {
      "displayName": "Stemplicity",
      "photoUrl": "https://lh3.googleusercontent.com/a-/AOh14Gj2vCFt-bD5mPBhUWX0QA6xiBgoXQXtwUm2jgjaCg=s64",
      "userId": "10668071569687886186"
     },
     "user_tz": 240
    },
    "id": "Pgt25eXmvFce"
   },
   "outputs": [],
   "source": [
    "# Set inplace = True to ensure that change has taken place in memory \n"
   ]
  },
  {
   "cell_type": "code",
   "execution_count": null,
   "metadata": {
    "colab": {
     "base_uri": "https://localhost:8080/",
     "height": 343
    },
    "executionInfo": {
     "elapsed": 231,
     "status": "ok",
     "timestamp": 1618631882232,
     "user": {
      "displayName": "Stemplicity",
      "photoUrl": "https://lh3.googleusercontent.com/a-/AOh14Gj2vCFt-bD5mPBhUWX0QA6xiBgoXQXtwUm2jgjaCg=s64",
      "userId": "10668071569687886186"
     },
     "user_tz": 240
    },
    "id": "jEw2Gw_hu7Fo",
    "outputId": "f86d286d-b651-462e-8040-908906f737f4"
   },
   "outputs": [],
   "source": [
    "# Note that now the change (ordering) took place \n"
   ]
  },
  {
   "cell_type": "code",
   "execution_count": 122,
   "metadata": {
    "colab": {
     "base_uri": "https://localhost:8080/",
     "height": 343
    },
    "executionInfo": {
     "elapsed": 324,
     "status": "ok",
     "timestamp": 1618631887672,
     "user": {
      "displayName": "Stemplicity",
      "photoUrl": "https://lh3.googleusercontent.com/a-/AOh14Gj2vCFt-bD5mPBhUWX0QA6xiBgoXQXtwUm2jgjaCg=s64",
      "userId": "10668071569687886186"
     },
     "user_tz": 240
    },
    "id": "w7El5c7PZw_B",
    "outputId": "bdedc976-78bf-4d32-daf2-537ebe7bdc55"
   },
   "outputs": [
    {
     "data": {
      "text/html": [
       "<div>\n",
       "<style scoped>\n",
       "    .dataframe tbody tr th:only-of-type {\n",
       "        vertical-align: middle;\n",
       "    }\n",
       "\n",
       "    .dataframe tbody tr th {\n",
       "        vertical-align: top;\n",
       "    }\n",
       "\n",
       "    .dataframe thead th {\n",
       "        text-align: right;\n",
       "    }\n",
       "</style>\n",
       "<table border=\"1\" class=\"dataframe\">\n",
       "  <thead>\n",
       "    <tr style=\"text-align: right;\">\n",
       "      <th></th>\n",
       "      <th>First Name</th>\n",
       "      <th>Last Name</th>\n",
       "      <th>Salary</th>\n",
       "      <th>Years with Company</th>\n",
       "      <th>Postal Code</th>\n",
       "      <th>Email</th>\n",
       "    </tr>\n",
       "  </thead>\n",
       "  <tbody>\n",
       "    <tr>\n",
       "      <th>5</th>\n",
       "      <td>Samer</td>\n",
       "      <td>Mo</td>\n",
       "      <td>100000.00</td>\n",
       "      <td>13</td>\n",
       "      <td>J7H 3HY</td>\n",
       "      <td>samer@gmail.com</td>\n",
       "    </tr>\n",
       "    <tr>\n",
       "      <th>1</th>\n",
       "      <td>Noah</td>\n",
       "      <td>Ryan</td>\n",
       "      <td>10000.00</td>\n",
       "      <td>8</td>\n",
       "      <td>N8S 14K</td>\n",
       "      <td>nsmall@hotmail.com</td>\n",
       "    </tr>\n",
       "    <tr>\n",
       "      <th>9</th>\n",
       "      <td>Noah</td>\n",
       "      <td>Moran</td>\n",
       "      <td>8626.96</td>\n",
       "      <td>11</td>\n",
       "      <td>K2D 4M9</td>\n",
       "      <td>guutodi@bigwoc.kw</td>\n",
       "    </tr>\n",
       "    <tr>\n",
       "      <th>2</th>\n",
       "      <td>Nina</td>\n",
       "      <td>Keller</td>\n",
       "      <td>9072.02</td>\n",
       "      <td>17</td>\n",
       "      <td>S1T 4E6</td>\n",
       "      <td>azikez@gahew.mr</td>\n",
       "    </tr>\n",
       "    <tr>\n",
       "      <th>0</th>\n",
       "      <td>Mike</td>\n",
       "      <td>Moe</td>\n",
       "      <td>5000.00</td>\n",
       "      <td>3</td>\n",
       "      <td>N94 3M0</td>\n",
       "      <td>bird@gmail.com</td>\n",
       "    </tr>\n",
       "    <tr>\n",
       "      <th>7</th>\n",
       "      <td>Laila</td>\n",
       "      <td>Aly</td>\n",
       "      <td>20000.00</td>\n",
       "      <td>5</td>\n",
       "      <td>J8Y 3M0</td>\n",
       "      <td>Laila.a@hotmail.com</td>\n",
       "    </tr>\n",
       "    <tr>\n",
       "      <th>4</th>\n",
       "      <td>Kate</td>\n",
       "      <td>Noor</td>\n",
       "      <td>5000.00</td>\n",
       "      <td>23</td>\n",
       "      <td>K8N 5H6</td>\n",
       "      <td>kate@hotmail.com</td>\n",
       "    </tr>\n",
       "    <tr>\n",
       "      <th>8</th>\n",
       "      <td>Joseph</td>\n",
       "      <td>Patton</td>\n",
       "      <td>2629.13</td>\n",
       "      <td>2</td>\n",
       "      <td>M6U 5U7</td>\n",
       "      <td>daafeja@boh.jm</td>\n",
       "    </tr>\n",
       "    <tr>\n",
       "      <th>6</th>\n",
       "      <td>Heba</td>\n",
       "      <td>Ismail</td>\n",
       "      <td>50000.00</td>\n",
       "      <td>7</td>\n",
       "      <td>K8Y 3M8</td>\n",
       "      <td>heba.ismail@hotmail.com</td>\n",
       "    </tr>\n",
       "    <tr>\n",
       "      <th>3</th>\n",
       "      <td>Chanel</td>\n",
       "      <td>Steve</td>\n",
       "      <td>11072.02</td>\n",
       "      <td>12</td>\n",
       "      <td>N7T 3E6</td>\n",
       "      <td>chanel@gmail.com</td>\n",
       "    </tr>\n",
       "  </tbody>\n",
       "</table>\n",
       "</div>"
      ],
      "text/plain": [
       "  First Name Last Name     Salary  Years with Company Postal Code  \\\n",
       "5      Samer        Mo  100000.00                  13     J7H 3HY   \n",
       "1       Noah      Ryan   10000.00                   8     N8S 14K   \n",
       "9       Noah     Moran    8626.96                  11     K2D 4M9   \n",
       "2       Nina    Keller    9072.02                  17     S1T 4E6   \n",
       "0       Mike       Moe    5000.00                   3     N94 3M0   \n",
       "7      Laila       Aly   20000.00                   5     J8Y 3M0   \n",
       "4       Kate      Noor    5000.00                  23     K8N 5H6   \n",
       "8     Joseph    Patton    2629.13                   2     M6U 5U7   \n",
       "6       Heba    Ismail   50000.00                   7     K8Y 3M8   \n",
       "3    Chanel      Steve   11072.02                  12     N7T 3E6   \n",
       "\n",
       "                     Email  \n",
       "5          samer@gmail.com  \n",
       "1       nsmall@hotmail.com  \n",
       "9        guutodi@bigwoc.kw  \n",
       "2          azikez@gahew.mr  \n",
       "0           bird@gmail.com  \n",
       "7      Laila.a@hotmail.com  \n",
       "4         kate@hotmail.com  \n",
       "8           daafeja@boh.jm  \n",
       "6  heba.ismail@hotmail.com  \n",
       "3         chanel@gmail.com  "
      ]
     },
     "execution_count": 122,
     "metadata": {},
     "output_type": "execute_result"
    }
   ],
   "source": [
    "# You can sort the values in a descending order as follows\n",
    "employee_df.sort_values(by='First Name', ascending = False, inplace = True)\n",
    "employee_df"
   ]
  },
  {
   "cell_type": "code",
   "execution_count": 124,
   "metadata": {
    "colab": {
     "base_uri": "https://localhost:8080/",
     "height": 343
    },
    "executionInfo": {
     "elapsed": 299,
     "status": "ok",
     "timestamp": 1618631890293,
     "user": {
      "displayName": "Stemplicity",
      "photoUrl": "https://lh3.googleusercontent.com/a-/AOh14Gj2vCFt-bD5mPBhUWX0QA6xiBgoXQXtwUm2jgjaCg=s64",
      "userId": "10668071569687886186"
     },
     "user_tz": 240
    },
    "id": "KT1Lh6fZaILI",
    "outputId": "cf46990a-1436-4dea-8587-fee5b1a20d0c"
   },
   "outputs": [
    {
     "data": {
      "text/html": [
       "<div>\n",
       "<style scoped>\n",
       "    .dataframe tbody tr th:only-of-type {\n",
       "        vertical-align: middle;\n",
       "    }\n",
       "\n",
       "    .dataframe tbody tr th {\n",
       "        vertical-align: top;\n",
       "    }\n",
       "\n",
       "    .dataframe thead th {\n",
       "        text-align: right;\n",
       "    }\n",
       "</style>\n",
       "<table border=\"1\" class=\"dataframe\">\n",
       "  <thead>\n",
       "    <tr style=\"text-align: right;\">\n",
       "      <th></th>\n",
       "      <th>First Name</th>\n",
       "      <th>Last Name</th>\n",
       "      <th>Salary</th>\n",
       "      <th>Years with Company</th>\n",
       "      <th>Postal Code</th>\n",
       "      <th>Email</th>\n",
       "    </tr>\n",
       "  </thead>\n",
       "  <tbody>\n",
       "    <tr>\n",
       "      <th>0</th>\n",
       "      <td>Mike</td>\n",
       "      <td>Moe</td>\n",
       "      <td>5000.00</td>\n",
       "      <td>3</td>\n",
       "      <td>N94 3M0</td>\n",
       "      <td>bird@gmail.com</td>\n",
       "    </tr>\n",
       "    <tr>\n",
       "      <th>1</th>\n",
       "      <td>Noah</td>\n",
       "      <td>Ryan</td>\n",
       "      <td>10000.00</td>\n",
       "      <td>8</td>\n",
       "      <td>N8S 14K</td>\n",
       "      <td>nsmall@hotmail.com</td>\n",
       "    </tr>\n",
       "    <tr>\n",
       "      <th>2</th>\n",
       "      <td>Nina</td>\n",
       "      <td>Keller</td>\n",
       "      <td>9072.02</td>\n",
       "      <td>17</td>\n",
       "      <td>S1T 4E6</td>\n",
       "      <td>azikez@gahew.mr</td>\n",
       "    </tr>\n",
       "    <tr>\n",
       "      <th>3</th>\n",
       "      <td>Chanel</td>\n",
       "      <td>Steve</td>\n",
       "      <td>11072.02</td>\n",
       "      <td>12</td>\n",
       "      <td>N7T 3E6</td>\n",
       "      <td>chanel@gmail.com</td>\n",
       "    </tr>\n",
       "    <tr>\n",
       "      <th>4</th>\n",
       "      <td>Kate</td>\n",
       "      <td>Noor</td>\n",
       "      <td>5000.00</td>\n",
       "      <td>23</td>\n",
       "      <td>K8N 5H6</td>\n",
       "      <td>kate@hotmail.com</td>\n",
       "    </tr>\n",
       "    <tr>\n",
       "      <th>5</th>\n",
       "      <td>Samer</td>\n",
       "      <td>Mo</td>\n",
       "      <td>100000.00</td>\n",
       "      <td>13</td>\n",
       "      <td>J7H 3HY</td>\n",
       "      <td>samer@gmail.com</td>\n",
       "    </tr>\n",
       "    <tr>\n",
       "      <th>6</th>\n",
       "      <td>Heba</td>\n",
       "      <td>Ismail</td>\n",
       "      <td>50000.00</td>\n",
       "      <td>7</td>\n",
       "      <td>K8Y 3M8</td>\n",
       "      <td>heba.ismail@hotmail.com</td>\n",
       "    </tr>\n",
       "    <tr>\n",
       "      <th>7</th>\n",
       "      <td>Laila</td>\n",
       "      <td>Aly</td>\n",
       "      <td>20000.00</td>\n",
       "      <td>5</td>\n",
       "      <td>J8Y 3M0</td>\n",
       "      <td>Laila.a@hotmail.com</td>\n",
       "    </tr>\n",
       "    <tr>\n",
       "      <th>8</th>\n",
       "      <td>Joseph</td>\n",
       "      <td>Patton</td>\n",
       "      <td>2629.13</td>\n",
       "      <td>2</td>\n",
       "      <td>M6U 5U7</td>\n",
       "      <td>daafeja@boh.jm</td>\n",
       "    </tr>\n",
       "    <tr>\n",
       "      <th>9</th>\n",
       "      <td>Noah</td>\n",
       "      <td>Moran</td>\n",
       "      <td>8626.96</td>\n",
       "      <td>11</td>\n",
       "      <td>K2D 4M9</td>\n",
       "      <td>guutodi@bigwoc.kw</td>\n",
       "    </tr>\n",
       "  </tbody>\n",
       "</table>\n",
       "</div>"
      ],
      "text/plain": [
       "  First Name Last Name     Salary  Years with Company Postal Code  \\\n",
       "0       Mike       Moe    5000.00                   3     N94 3M0   \n",
       "1       Noah      Ryan   10000.00                   8     N8S 14K   \n",
       "2       Nina    Keller    9072.02                  17     S1T 4E6   \n",
       "3    Chanel      Steve   11072.02                  12     N7T 3E6   \n",
       "4       Kate      Noor    5000.00                  23     K8N 5H6   \n",
       "5      Samer        Mo  100000.00                  13     J7H 3HY   \n",
       "6       Heba    Ismail   50000.00                   7     K8Y 3M8   \n",
       "7      Laila       Aly   20000.00                   5     J8Y 3M0   \n",
       "8     Joseph    Patton    2629.13                   2     M6U 5U7   \n",
       "9       Noah     Moran    8626.96                  11     K2D 4M9   \n",
       "\n",
       "                     Email  \n",
       "0           bird@gmail.com  \n",
       "1       nsmall@hotmail.com  \n",
       "2          azikez@gahew.mr  \n",
       "3         chanel@gmail.com  \n",
       "4         kate@hotmail.com  \n",
       "5          samer@gmail.com  \n",
       "6  heba.ismail@hotmail.com  \n",
       "7      Laila.a@hotmail.com  \n",
       "8           daafeja@boh.jm  \n",
       "9        guutodi@bigwoc.kw  "
      ]
     },
     "execution_count": 124,
     "metadata": {},
     "output_type": "execute_result"
    }
   ],
   "source": [
    "# You can sort the dataframe with index instead of values as follows\n",
    "employee_df.sort_index(inplace=True)\n",
    "employee_df"
   ]
  },
  {
   "cell_type": "markdown",
   "metadata": {
    "id": "7bV_Yaq46ZTg"
   },
   "source": [
    "**MINI CHALLENGE #10:**\n",
    "- **Sort employees by salaries instead of years with Company. Make sure to update values in-memory.**"
   ]
  },
  {
   "cell_type": "code",
   "execution_count": 127,
   "metadata": {
    "executionInfo": {
     "elapsed": 3342,
     "status": "aborted",
     "timestamp": 1618625934397,
     "user": {
      "displayName": "Stemplicity",
      "photoUrl": "https://lh3.googleusercontent.com/a-/AOh14Gj2vCFt-bD5mPBhUWX0QA6xiBgoXQXtwUm2jgjaCg=s64",
      "userId": "10668071569687886186"
     },
     "user_tz": 240
    },
    "id": "wLyH7CnC4Vjj"
   },
   "outputs": [
    {
     "data": {
      "text/html": [
       "<div>\n",
       "<style scoped>\n",
       "    .dataframe tbody tr th:only-of-type {\n",
       "        vertical-align: middle;\n",
       "    }\n",
       "\n",
       "    .dataframe tbody tr th {\n",
       "        vertical-align: top;\n",
       "    }\n",
       "\n",
       "    .dataframe thead th {\n",
       "        text-align: right;\n",
       "    }\n",
       "</style>\n",
       "<table border=\"1\" class=\"dataframe\">\n",
       "  <thead>\n",
       "    <tr style=\"text-align: right;\">\n",
       "      <th></th>\n",
       "      <th>First Name</th>\n",
       "      <th>Last Name</th>\n",
       "      <th>Salary</th>\n",
       "      <th>Years with Company</th>\n",
       "      <th>Postal Code</th>\n",
       "      <th>Email</th>\n",
       "    </tr>\n",
       "  </thead>\n",
       "  <tbody>\n",
       "    <tr>\n",
       "      <th>8</th>\n",
       "      <td>Joseph</td>\n",
       "      <td>Patton</td>\n",
       "      <td>2629.13</td>\n",
       "      <td>2</td>\n",
       "      <td>M6U 5U7</td>\n",
       "      <td>daafeja@boh.jm</td>\n",
       "    </tr>\n",
       "    <tr>\n",
       "      <th>0</th>\n",
       "      <td>Mike</td>\n",
       "      <td>Moe</td>\n",
       "      <td>5000.00</td>\n",
       "      <td>3</td>\n",
       "      <td>N94 3M0</td>\n",
       "      <td>bird@gmail.com</td>\n",
       "    </tr>\n",
       "    <tr>\n",
       "      <th>4</th>\n",
       "      <td>Kate</td>\n",
       "      <td>Noor</td>\n",
       "      <td>5000.00</td>\n",
       "      <td>23</td>\n",
       "      <td>K8N 5H6</td>\n",
       "      <td>kate@hotmail.com</td>\n",
       "    </tr>\n",
       "    <tr>\n",
       "      <th>9</th>\n",
       "      <td>Noah</td>\n",
       "      <td>Moran</td>\n",
       "      <td>8626.96</td>\n",
       "      <td>11</td>\n",
       "      <td>K2D 4M9</td>\n",
       "      <td>guutodi@bigwoc.kw</td>\n",
       "    </tr>\n",
       "    <tr>\n",
       "      <th>2</th>\n",
       "      <td>Nina</td>\n",
       "      <td>Keller</td>\n",
       "      <td>9072.02</td>\n",
       "      <td>17</td>\n",
       "      <td>S1T 4E6</td>\n",
       "      <td>azikez@gahew.mr</td>\n",
       "    </tr>\n",
       "    <tr>\n",
       "      <th>1</th>\n",
       "      <td>Noah</td>\n",
       "      <td>Ryan</td>\n",
       "      <td>10000.00</td>\n",
       "      <td>8</td>\n",
       "      <td>N8S 14K</td>\n",
       "      <td>nsmall@hotmail.com</td>\n",
       "    </tr>\n",
       "    <tr>\n",
       "      <th>3</th>\n",
       "      <td>Chanel</td>\n",
       "      <td>Steve</td>\n",
       "      <td>11072.02</td>\n",
       "      <td>12</td>\n",
       "      <td>N7T 3E6</td>\n",
       "      <td>chanel@gmail.com</td>\n",
       "    </tr>\n",
       "    <tr>\n",
       "      <th>7</th>\n",
       "      <td>Laila</td>\n",
       "      <td>Aly</td>\n",
       "      <td>20000.00</td>\n",
       "      <td>5</td>\n",
       "      <td>J8Y 3M0</td>\n",
       "      <td>Laila.a@hotmail.com</td>\n",
       "    </tr>\n",
       "    <tr>\n",
       "      <th>6</th>\n",
       "      <td>Heba</td>\n",
       "      <td>Ismail</td>\n",
       "      <td>50000.00</td>\n",
       "      <td>7</td>\n",
       "      <td>K8Y 3M8</td>\n",
       "      <td>heba.ismail@hotmail.com</td>\n",
       "    </tr>\n",
       "    <tr>\n",
       "      <th>5</th>\n",
       "      <td>Samer</td>\n",
       "      <td>Mo</td>\n",
       "      <td>100000.00</td>\n",
       "      <td>13</td>\n",
       "      <td>J7H 3HY</td>\n",
       "      <td>samer@gmail.com</td>\n",
       "    </tr>\n",
       "  </tbody>\n",
       "</table>\n",
       "</div>"
      ],
      "text/plain": [
       "  First Name Last Name     Salary  Years with Company Postal Code  \\\n",
       "8     Joseph    Patton    2629.13                   2     M6U 5U7   \n",
       "0       Mike       Moe    5000.00                   3     N94 3M0   \n",
       "4       Kate      Noor    5000.00                  23     K8N 5H6   \n",
       "9       Noah     Moran    8626.96                  11     K2D 4M9   \n",
       "2       Nina    Keller    9072.02                  17     S1T 4E6   \n",
       "1       Noah      Ryan   10000.00                   8     N8S 14K   \n",
       "3    Chanel      Steve   11072.02                  12     N7T 3E6   \n",
       "7      Laila       Aly   20000.00                   5     J8Y 3M0   \n",
       "6       Heba    Ismail   50000.00                   7     K8Y 3M8   \n",
       "5      Samer        Mo  100000.00                  13     J7H 3HY   \n",
       "\n",
       "                     Email  \n",
       "8           daafeja@boh.jm  \n",
       "0           bird@gmail.com  \n",
       "4         kate@hotmail.com  \n",
       "9        guutodi@bigwoc.kw  \n",
       "2          azikez@gahew.mr  \n",
       "1       nsmall@hotmail.com  \n",
       "3         chanel@gmail.com  \n",
       "7      Laila.a@hotmail.com  \n",
       "6  heba.ismail@hotmail.com  \n",
       "5          samer@gmail.com  "
      ]
     },
     "execution_count": 127,
     "metadata": {},
     "output_type": "execute_result"
    }
   ],
   "source": [
    "employee_df.sort_values(by='Salary', inplace = True)\n",
    "employee_df"
   ]
  },
  {
   "cell_type": "markdown",
   "metadata": {
    "id": "i1gJS3K7vlxd"
   },
   "source": [
    "# EXCELLENT JOB!"
   ]
  },
  {
   "cell_type": "markdown",
   "metadata": {
    "id": "MF2SdJZ_vn4z"
   },
   "source": [
    "# MINI CHALLENGE SOLUTIONS"
   ]
  },
  {
   "cell_type": "markdown",
   "metadata": {
    "id": "Y6fUsXPv1Wom"
   },
   "source": [
    "**MINI CHALLENGE #1 SOLUTION:**\n",
    "- **A porfolio contains a collection of securities such as stocks, bonds and ETFs. Define a dataframe named 'portfolio_df' that holds 3 different stock ticker symbols, number of shares, and price per share (feel free to choose any stocks)**\n",
    "- **Calculate the total value of the porfolio including all stocks**"
   ]
  },
  {
   "cell_type": "code",
   "execution_count": null,
   "metadata": {
    "colab": {
     "base_uri": "https://localhost:8080/",
     "height": 136
    },
    "executionInfo": {
     "elapsed": 278,
     "status": "ok",
     "timestamp": 1618626244107,
     "user": {
      "displayName": "Stemplicity",
      "photoUrl": "https://lh3.googleusercontent.com/a-/AOh14Gj2vCFt-bD5mPBhUWX0QA6xiBgoXQXtwUm2jgjaCg=s64",
      "userId": "10668071569687886186"
     },
     "user_tz": 240
    },
    "id": "8pftwyY81Wos",
    "outputId": "1b4f2af7-cc36-4648-b622-f3d6556798d2"
   },
   "outputs": [],
   "source": [
    "portfolio_df = pd.DataFrame({'stock ticker symbols':['FB', 'TSLA', 'T'],\n",
    "                             'price per share [$]':[3800, 300, 400], \n",
    "                             'Number of stocks':[4, 7, 10]})\n",
    "portfolio_df"
   ]
  },
  {
   "cell_type": "code",
   "execution_count": null,
   "metadata": {
    "colab": {
     "base_uri": "https://localhost:8080/"
    },
    "executionInfo": {
     "elapsed": 282,
     "status": "ok",
     "timestamp": 1618626276371,
     "user": {
      "displayName": "Stemplicity",
      "photoUrl": "https://lh3.googleusercontent.com/a-/AOh14Gj2vCFt-bD5mPBhUWX0QA6xiBgoXQXtwUm2jgjaCg=s64",
      "userId": "10668071569687886186"
     },
     "user_tz": 240
    },
    "id": "zTgj_BoE1Woy",
    "outputId": "f1c5899d-377d-4934-d4f7-969ffa89f0e7"
   },
   "outputs": [],
   "source": [
    "stocks_dollar_value = portfolio_df['price per share [$]'] * portfolio_df['Number of stocks']\n",
    "print(stocks_dollar_value)"
   ]
  },
  {
   "cell_type": "code",
   "execution_count": null,
   "metadata": {
    "colab": {
     "base_uri": "https://localhost:8080/"
    },
    "executionInfo": {
     "elapsed": 303,
     "status": "ok",
     "timestamp": 1618626287027,
     "user": {
      "displayName": "Stemplicity",
      "photoUrl": "https://lh3.googleusercontent.com/a-/AOh14Gj2vCFt-bD5mPBhUWX0QA6xiBgoXQXtwUm2jgjaCg=s64",
      "userId": "10668071569687886186"
     },
     "user_tz": 240
    },
    "id": "bzC7aM1EpMoy",
    "outputId": "5517c715-1bc5-4f3e-af32-ca9a16a9670a"
   },
   "outputs": [],
   "source": [
    "print('Total portfolio value = {}'.format(stocks_dollar_value.sum()))"
   ]
  },
  {
   "cell_type": "markdown",
   "metadata": {
    "id": "5YQ1rFW723fN"
   },
   "source": [
    "**MINI CHALLENGE #2 SOLUTION:**\n",
    "- **Write a code that uses Pandas to read tabular US retirement data**\n",
    "- **You can use data from here: https://www.ssa.gov/oact/progdata/nra.html** "
   ]
  },
  {
   "cell_type": "code",
   "execution_count": null,
   "metadata": {
    "colab": {
     "base_uri": "https://localhost:8080/"
    },
    "executionInfo": {
     "elapsed": 353,
     "status": "ok",
     "timestamp": 1618626395788,
     "user": {
      "displayName": "Stemplicity",
      "photoUrl": "https://lh3.googleusercontent.com/a-/AOh14Gj2vCFt-bD5mPBhUWX0QA6xiBgoXQXtwUm2jgjaCg=s64",
      "userId": "10668071569687886186"
     },
     "user_tz": 240
    },
    "id": "mmWTN7yD23fQ",
    "outputId": "3556592e-20ee-42c9-f1ae-03d647adf40d"
   },
   "outputs": [],
   "source": [
    "# Read tabular data using read_html\n",
    "retirement_age_df = pd.read_html('https://www.ssa.gov/oact/progdata/nra.html')\n",
    "retirement_age_df"
   ]
  },
  {
   "cell_type": "code",
   "execution_count": null,
   "metadata": {
    "id": "BGK-MDB6r8x_"
   },
   "outputs": [],
   "source": []
  },
  {
   "cell_type": "markdown",
   "metadata": {
    "id": "bfv3kZNDqYUr"
   },
   "source": [
    "**MINI CHALLENGE #3 SOLUTION:**\n",
    "- **Use set index = False and rerun the cell. Comment on the output CSV.**"
   ]
  },
  {
   "cell_type": "code",
   "execution_count": null,
   "metadata": {
    "id": "WFoOPpKwrtSe"
   },
   "outputs": [],
   "source": [
    "# write to a csv file without an index\n",
    "employee_df.to_csv('employee_info_noindex.csv', index = False)"
   ]
  },
  {
   "cell_type": "code",
   "execution_count": null,
   "metadata": {
    "id": "jUB-jDZutE72"
   },
   "outputs": [],
   "source": []
  },
  {
   "cell_type": "markdown",
   "metadata": {
    "id": "VS454-0PsTMj"
   },
   "source": [
    "**MINI CHALLENGE #4 SOLUTION:**\n",
    "- **Load the employee_information.csv and then set the \"Last Name\" column as the index**"
   ]
  },
  {
   "cell_type": "code",
   "execution_count": null,
   "metadata": {
    "colab": {
     "base_uri": "https://localhost:8080/",
     "height": 343
    },
    "executionInfo": {
     "elapsed": 291,
     "status": "ok",
     "timestamp": 1618627228414,
     "user": {
      "displayName": "Stemplicity",
      "photoUrl": "https://lh3.googleusercontent.com/a-/AOh14Gj2vCFt-bD5mPBhUWX0QA6xiBgoXQXtwUm2jgjaCg=s64",
      "userId": "10668071569687886186"
     },
     "user_tz": 240
    },
    "id": "-h9TefREskjH",
    "outputId": "ca40d02a-23f7-48cf-e8c2-bf1035c48c84"
   },
   "outputs": [],
   "source": [
    "employee_df = pd.read_csv('employee_information.csv')\n",
    "employee_df"
   ]
  },
  {
   "cell_type": "code",
   "execution_count": null,
   "metadata": {
    "colab": {
     "base_uri": "https://localhost:8080/",
     "height": 373
    },
    "executionInfo": {
     "elapsed": 327,
     "status": "ok",
     "timestamp": 1618627239849,
     "user": {
      "displayName": "Stemplicity",
      "photoUrl": "https://lh3.googleusercontent.com/a-/AOh14Gj2vCFt-bD5mPBhUWX0QA6xiBgoXQXtwUm2jgjaCg=s64",
      "userId": "10668071569687886186"
     },
     "user_tz": 240
    },
    "id": "OFERUpzYshCR",
    "outputId": "7fa69d37-68fa-459a-c7b9-21e5122793ac"
   },
   "outputs": [],
   "source": [
    "# You can assign a specific column to be the index as follows\n",
    "employee_df.set_index(\"Last Name\", inplace = True)\n",
    "employee_df"
   ]
  },
  {
   "cell_type": "code",
   "execution_count": null,
   "metadata": {
    "id": "ROKmCA7ntFB4"
   },
   "outputs": [],
   "source": []
  },
  {
   "cell_type": "markdown",
   "metadata": {
    "id": "642g9mlnuRqA"
   },
   "source": [
    "**MINI CHALLENGE #5 SOLUTION:**\n",
    "- **Select the following columns from the dataFrame Salary, Years with Company, and Postal Code**"
   ]
  },
  {
   "cell_type": "code",
   "execution_count": null,
   "metadata": {
    "colab": {
     "base_uri": "https://localhost:8080/",
     "height": 343
    },
    "executionInfo": {
     "elapsed": 294,
     "status": "ok",
     "timestamp": 1618627723624,
     "user": {
      "displayName": "Stemplicity",
      "photoUrl": "https://lh3.googleusercontent.com/a-/AOh14Gj2vCFt-bD5mPBhUWX0QA6xiBgoXQXtwUm2jgjaCg=s64",
      "userId": "10668071569687886186"
     },
     "user_tz": 240
    },
    "id": "pfYiCdlxulaW",
    "outputId": "9986425d-11f2-4a8d-aab1-d85095cf16d3"
   },
   "outputs": [],
   "source": [
    "my_selected_columns = ['Salary', 'Years with Company', 'Postal Code']\n",
    "sample = employee_df[my_selected_columns]\n",
    "sample"
   ]
  },
  {
   "cell_type": "markdown",
   "metadata": {
    "id": "tAV4-2jfve8A"
   },
   "source": [
    "**MINI CHALLENGE #6 SOLUTION:**\n",
    "- **load the employee_information.csv file and perform the following: (assume any reasonable values)** \n",
    "    - **Add a column indicating whether the employee has a mortgage or not**\n",
    "    - **Add a column indicating the value of mortage in dollars**  "
   ]
  },
  {
   "cell_type": "code",
   "execution_count": null,
   "metadata": {
    "id": "wq4haYfxwTkx"
   },
   "outputs": [],
   "source": [
    "# Pandas is used to read a csv file and store data in a DataFrame\n",
    "employee_df = pd.read_csv('employee_information.csv')\n",
    "employee_df\n",
    "\n",
    "# Let's assume that we want to add a new column to the dataframe\n",
    "employee_df['Has Mortage'] = [1, 1, 0, 0, 0, 0, 1, 0, 0, 0]\n",
    "employee_df['Mortage Value'] = [200000, 130000, 0, 0, 0, 0, 400000, 0, 0, 0]\n",
    "employee_df"
   ]
  },
  {
   "cell_type": "code",
   "execution_count": null,
   "metadata": {
    "id": "22PFGu9ou_V-"
   },
   "outputs": [],
   "source": []
  },
  {
   "cell_type": "markdown",
   "metadata": {
    "id": "ZSiWSFD-yY2o"
   },
   "source": [
    "**MINI CHALLENGE #7 SOLUTION:**\n",
    "- **Load the csv data and use the \"first name\" column as the index**\n",
    "- **Randomly select 2 rows from the DataFrame. Rerun the code and ensure that random rows are being selected**"
   ]
  },
  {
   "cell_type": "code",
   "execution_count": null,
   "metadata": {
    "colab": {
     "base_uri": "https://localhost:8080/",
     "height": 136
    },
    "executionInfo": {
     "elapsed": 222,
     "status": "ok",
     "timestamp": 1618630269333,
     "user": {
      "displayName": "Stemplicity",
      "photoUrl": "https://lh3.googleusercontent.com/a-/AOh14Gj2vCFt-bD5mPBhUWX0QA6xiBgoXQXtwUm2jgjaCg=s64",
      "userId": "10668071569687886186"
     },
     "user_tz": 240
    },
    "id": "YYv0kNpCy3yk",
    "outputId": "3132d2ed-ed68-4fa0-f6b5-247a6b06e1a1"
   },
   "outputs": [],
   "source": [
    "# Load the csv file and set the last name as the index\n",
    "employee_df = pd.read_csv('employee_information.csv', index_col = 'First Name')\n",
    "employee_df\n",
    "\n",
    "# You can also randomly select a fraction of the DataFrame\n",
    "# Setting axis = 0 means rows, setting index = 1 means columns\n",
    "employee_df.sample(n = 2, axis = 0)"
   ]
  },
  {
   "cell_type": "code",
   "execution_count": null,
   "metadata": {
    "id": "7Dtlss0lu_Zh"
   },
   "outputs": [],
   "source": []
  },
  {
   "cell_type": "markdown",
   "metadata": {
    "id": "38Ewb1Dr5Nex"
   },
   "source": [
    "**MINI CHALLENGE #8 SOLUTION:**\n",
    "- **Write a code that selects the last two rows in the DataFrame using two different methods**"
   ]
  },
  {
   "cell_type": "code",
   "execution_count": null,
   "metadata": {
    "colab": {
     "base_uri": "https://localhost:8080/",
     "height": 106
    },
    "executionInfo": {
     "elapsed": 387,
     "status": "ok",
     "timestamp": 1618630600658,
     "user": {
      "displayName": "Stemplicity",
      "photoUrl": "https://lh3.googleusercontent.com/a-/AOh14Gj2vCFt-bD5mPBhUWX0QA6xiBgoXQXtwUm2jgjaCg=s64",
      "userId": "10668071569687886186"
     },
     "user_tz": 240
    },
    "id": "nKug8EL85p-X",
    "outputId": "954753d6-22fb-4f26-ffb0-72b376a4077f"
   },
   "outputs": [],
   "source": [
    "employee_df.iloc[8:]"
   ]
  },
  {
   "cell_type": "code",
   "execution_count": null,
   "metadata": {
    "colab": {
     "base_uri": "https://localhost:8080/",
     "height": 106
    },
    "executionInfo": {
     "elapsed": 350,
     "status": "ok",
     "timestamp": 1618630546506,
     "user": {
      "displayName": "Stemplicity",
      "photoUrl": "https://lh3.googleusercontent.com/a-/AOh14Gj2vCFt-bD5mPBhUWX0QA6xiBgoXQXtwUm2jgjaCg=s64",
      "userId": "10668071569687886186"
     },
     "user_tz": 240
    },
    "id": "kJ5u8wQc5Xp5",
    "outputId": "70cd9170-bd70-4256-d545-82149bdf242b"
   },
   "outputs": [],
   "source": [
    "employee_df.iloc[-2:]"
   ]
  },
  {
   "cell_type": "code",
   "execution_count": null,
   "metadata": {
    "id": "ugnEjco-u_cf"
   },
   "outputs": [],
   "source": []
  },
  {
   "cell_type": "code",
   "execution_count": null,
   "metadata": {
    "id": "FfijqpQ4u_fX"
   },
   "outputs": [],
   "source": []
  },
  {
   "cell_type": "markdown",
   "metadata": {
    "id": "k7VI7tmA8mf_"
   },
   "source": [
    "**MINI CHALLENGE #9 SOLUTION:**\n",
    "- **Let's assume that all employees have been performing really well and their salaries have increased by 12% annualy. Calculate the sum of all employees salaries.** "
   ]
  },
  {
   "cell_type": "code",
   "execution_count": null,
   "metadata": {
    "colab": {
     "base_uri": "https://localhost:8080/",
     "height": 343
    },
    "executionInfo": {
     "elapsed": 353,
     "status": "ok",
     "timestamp": 1618631580902,
     "user": {
      "displayName": "Stemplicity",
      "photoUrl": "https://lh3.googleusercontent.com/a-/AOh14Gj2vCFt-bD5mPBhUWX0QA6xiBgoXQXtwUm2jgjaCg=s64",
      "userId": "10668071569687886186"
     },
     "user_tz": 240
    },
    "id": "e84LHKrJ9HsX",
    "outputId": "836f5c69-b3d1-4630-949b-d9c67d5a14bc"
   },
   "outputs": [],
   "source": [
    "# Pandas is used to read a csv file and store data in a DataFrame\n",
    "employee_df = pd.read_csv('employee_information.csv')\n",
    "employee_df"
   ]
  },
  {
   "cell_type": "code",
   "execution_count": null,
   "metadata": {
    "colab": {
     "base_uri": "https://localhost:8080/",
     "height": 343
    },
    "executionInfo": {
     "elapsed": 330,
     "status": "ok",
     "timestamp": 1618631581891,
     "user": {
      "displayName": "Stemplicity",
      "photoUrl": "https://lh3.googleusercontent.com/a-/AOh14Gj2vCFt-bD5mPBhUWX0QA6xiBgoXQXtwUm2jgjaCg=s64",
      "userId": "10668071569687886186"
     },
     "user_tz": 240
    },
    "id": "CHGbBhZW9L8z",
    "outputId": "269aa3fd-3c15-4960-acf8-9e78177e540c"
   },
   "outputs": [],
   "source": [
    "# Let's convert from USD to CAD using the exchange rate 1 USD = 1.3 CAD \n",
    "employee_df['Salary New'] = employee_df['Salary'].mul(1.12)\n",
    "employee_df"
   ]
  },
  {
   "cell_type": "code",
   "execution_count": null,
   "metadata": {
    "colab": {
     "base_uri": "https://localhost:8080/"
    },
    "executionInfo": {
     "elapsed": 440,
     "status": "ok",
     "timestamp": 1618631718203,
     "user": {
      "displayName": "Stemplicity",
      "photoUrl": "https://lh3.googleusercontent.com/a-/AOh14Gj2vCFt-bD5mPBhUWX0QA6xiBgoXQXtwUm2jgjaCg=s64",
      "userId": "10668071569687886186"
     },
     "user_tz": 240
    },
    "id": "siwbuJn69-pg",
    "outputId": "1430b7ea-00ae-4c9d-c4dd-08e08b5bbd6a"
   },
   "outputs": [],
   "source": [
    "employee_df['Salary New'].sum()"
   ]
  },
  {
   "cell_type": "code",
   "execution_count": null,
   "metadata": {
    "colab": {
     "base_uri": "https://localhost:8080/"
    },
    "executionInfo": {
     "elapsed": 235,
     "status": "ok",
     "timestamp": 1618631761643,
     "user": {
      "displayName": "Stemplicity",
      "photoUrl": "https://lh3.googleusercontent.com/a-/AOh14Gj2vCFt-bD5mPBhUWX0QA6xiBgoXQXtwUm2jgjaCg=s64",
      "userId": "10668071569687886186"
     },
     "user_tz": 240
    },
    "id": "HfZlaA1O9MAu",
    "outputId": "b5164bbf-bdba-45a8-849b-3ff965a0a008"
   },
   "outputs": [],
   "source": [
    "print(\"Total networth for all clients = ${}\".format( employee_df['Salary New'].sum()))"
   ]
  },
  {
   "cell_type": "markdown",
   "metadata": {
    "id": "Trx36mNb62JX"
   },
   "source": [
    "**MINI CHALLENGE #10 SOLUTION:**\n",
    "- **Sort employees by salaries instead of years with Company. Make sure to update values in-memory.**"
   ]
  },
  {
   "cell_type": "code",
   "execution_count": null,
   "metadata": {
    "colab": {
     "base_uri": "https://localhost:8080/",
     "height": 343
    },
    "executionInfo": {
     "elapsed": 334,
     "status": "ok",
     "timestamp": 1618632036193,
     "user": {
      "displayName": "Stemplicity",
      "photoUrl": "https://lh3.googleusercontent.com/a-/AOh14Gj2vCFt-bD5mPBhUWX0QA6xiBgoXQXtwUm2jgjaCg=s64",
      "userId": "10668071569687886186"
     },
     "user_tz": 240
    },
    "id": "b4nvA-VQ62Ja",
    "outputId": "8bc1c522-52d1-4aea-a129-dac944ab5384"
   },
   "outputs": [],
   "source": [
    "# You can sort the values in the dataframe according to number of years with bank\n",
    "employee_df.sort_values(by = 'Salary', inplace = True) \n",
    "employee_df"
   ]
  }
 ],
 "metadata": {
  "colab": {
   "authorship_tag": "ABX9TyOhB/EtaVdxmF8OCwGSA3zM",
   "collapsed_sections": [],
   "name": "2. Pandas Fundamentals - DataFrames.ipynb",
   "provenance": [],
   "toc_visible": true
  },
  "kernelspec": {
   "display_name": "Python 3 (ipykernel)",
   "language": "python",
   "name": "python3"
  },
  "language_info": {
   "codemirror_mode": {
    "name": "ipython",
    "version": 3
   },
   "file_extension": ".py",
   "mimetype": "text/x-python",
   "name": "python",
   "nbconvert_exporter": "python",
   "pygments_lexer": "ipython3",
   "version": "3.10.10"
  }
 },
 "nbformat": 4,
 "nbformat_minor": 1
}
