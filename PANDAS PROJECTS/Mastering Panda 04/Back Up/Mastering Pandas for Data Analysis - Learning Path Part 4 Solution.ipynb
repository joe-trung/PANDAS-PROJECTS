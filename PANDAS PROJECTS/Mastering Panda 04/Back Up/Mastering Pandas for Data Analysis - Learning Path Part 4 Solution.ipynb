{
 "cells": [
  {
   "cell_type": "markdown",
   "metadata": {
    "id": "jKoO1rwMYpgu"
   },
   "source": [
    "# TASK #1. IMPORT AND EXPLORE DATASET"
   ]
  },
  {
   "cell_type": "code",
   "execution_count": 1,
   "metadata": {
    "executionInfo": {
     "elapsed": 1235,
     "status": "ok",
     "timestamp": 1618723127126,
     "user": {
      "displayName": "Stemplicity",
      "photoUrl": "https://lh3.googleusercontent.com/a-/AOh14Gj2vCFt-bD5mPBhUWX0QA6xiBgoXQXtwUm2jgjaCg=s64",
      "userId": "10668071569687886186"
     },
     "user_tz": 240
    },
    "id": "5xYHzxzIX96P"
   },
   "outputs": [],
   "source": [
    "import pandas as pd"
   ]
  },
  {
   "cell_type": "code",
   "execution_count": 2,
   "metadata": {
    "colab": {
     "base_uri": "https://localhost:8080/",
     "height": 402
    },
    "executionInfo": {
     "elapsed": 1863,
     "status": "ok",
     "timestamp": 1618723226302,
     "user": {
      "displayName": "Stemplicity",
      "photoUrl": "https://lh3.googleusercontent.com/a-/AOh14Gj2vCFt-bD5mPBhUWX0QA6xiBgoXQXtwUm2jgjaCg=s64",
      "userId": "10668071569687886186"
     },
     "user_tz": 240
    },
    "id": "4V9HiClKV0a9",
    "outputId": "ec937a60-1c7e-49c9-d039-9432484d3a58"
   },
   "outputs": [
    {
     "data": {
      "text/html": [
       "<div>\n",
       "<style scoped>\n",
       "    .dataframe tbody tr th:only-of-type {\n",
       "        vertical-align: middle;\n",
       "    }\n",
       "\n",
       "    .dataframe tbody tr th {\n",
       "        vertical-align: top;\n",
       "    }\n",
       "\n",
       "    .dataframe thead th {\n",
       "        text-align: right;\n",
       "    }\n",
       "</style>\n",
       "<table border=\"1\" class=\"dataframe\">\n",
       "  <thead>\n",
       "    <tr style=\"text-align: right;\">\n",
       "      <th></th>\n",
       "      <th>InvoiceNo</th>\n",
       "      <th>StockCode</th>\n",
       "      <th>Description</th>\n",
       "      <th>Quantity</th>\n",
       "      <th>InvoiceDate</th>\n",
       "      <th>UnitPrice</th>\n",
       "      <th>CustomerID</th>\n",
       "      <th>Country</th>\n",
       "    </tr>\n",
       "  </thead>\n",
       "  <tbody>\n",
       "    <tr>\n",
       "      <th>0</th>\n",
       "      <td>536365</td>\n",
       "      <td>85123A</td>\n",
       "      <td>WHITE HANGING HEART T-LIGHT HOLDER</td>\n",
       "      <td>6</td>\n",
       "      <td>12/1/2010 8:26</td>\n",
       "      <td>2.55</td>\n",
       "      <td>17850.0</td>\n",
       "      <td>United Kingdom</td>\n",
       "    </tr>\n",
       "    <tr>\n",
       "      <th>1</th>\n",
       "      <td>536365</td>\n",
       "      <td>71053</td>\n",
       "      <td>WHITE METAL LANTERN</td>\n",
       "      <td>6</td>\n",
       "      <td>12/1/2010 8:26</td>\n",
       "      <td>3.39</td>\n",
       "      <td>17850.0</td>\n",
       "      <td>United Kingdom</td>\n",
       "    </tr>\n",
       "    <tr>\n",
       "      <th>2</th>\n",
       "      <td>536365</td>\n",
       "      <td>84406B</td>\n",
       "      <td>CREAM CUPID HEARTS COAT HANGER</td>\n",
       "      <td>8</td>\n",
       "      <td>12/1/2010 8:26</td>\n",
       "      <td>2.75</td>\n",
       "      <td>17850.0</td>\n",
       "      <td>United Kingdom</td>\n",
       "    </tr>\n",
       "    <tr>\n",
       "      <th>3</th>\n",
       "      <td>536365</td>\n",
       "      <td>84029G</td>\n",
       "      <td>KNITTED UNION FLAG HOT WATER BOTTLE</td>\n",
       "      <td>6</td>\n",
       "      <td>12/1/2010 8:26</td>\n",
       "      <td>3.39</td>\n",
       "      <td>17850.0</td>\n",
       "      <td>United Kingdom</td>\n",
       "    </tr>\n",
       "    <tr>\n",
       "      <th>4</th>\n",
       "      <td>536365</td>\n",
       "      <td>84029E</td>\n",
       "      <td>RED WOOLLY HOTTIE WHITE HEART.</td>\n",
       "      <td>6</td>\n",
       "      <td>12/1/2010 8:26</td>\n",
       "      <td>3.39</td>\n",
       "      <td>17850.0</td>\n",
       "      <td>United Kingdom</td>\n",
       "    </tr>\n",
       "    <tr>\n",
       "      <th>...</th>\n",
       "      <td>...</td>\n",
       "      <td>...</td>\n",
       "      <td>...</td>\n",
       "      <td>...</td>\n",
       "      <td>...</td>\n",
       "      <td>...</td>\n",
       "      <td>...</td>\n",
       "      <td>...</td>\n",
       "    </tr>\n",
       "    <tr>\n",
       "      <th>541904</th>\n",
       "      <td>581587</td>\n",
       "      <td>22613</td>\n",
       "      <td>PACK OF 20 SPACEBOY NAPKINS</td>\n",
       "      <td>12</td>\n",
       "      <td>12/9/2011 12:50</td>\n",
       "      <td>0.85</td>\n",
       "      <td>12680.0</td>\n",
       "      <td>France</td>\n",
       "    </tr>\n",
       "    <tr>\n",
       "      <th>541905</th>\n",
       "      <td>581587</td>\n",
       "      <td>22899</td>\n",
       "      <td>CHILDREN'S APRON DOLLY GIRL</td>\n",
       "      <td>6</td>\n",
       "      <td>12/9/2011 12:50</td>\n",
       "      <td>2.10</td>\n",
       "      <td>12680.0</td>\n",
       "      <td>France</td>\n",
       "    </tr>\n",
       "    <tr>\n",
       "      <th>541906</th>\n",
       "      <td>581587</td>\n",
       "      <td>23254</td>\n",
       "      <td>CHILDRENS CUTLERY DOLLY GIRL</td>\n",
       "      <td>4</td>\n",
       "      <td>12/9/2011 12:50</td>\n",
       "      <td>4.15</td>\n",
       "      <td>12680.0</td>\n",
       "      <td>France</td>\n",
       "    </tr>\n",
       "    <tr>\n",
       "      <th>541907</th>\n",
       "      <td>581587</td>\n",
       "      <td>23255</td>\n",
       "      <td>CHILDRENS CUTLERY CIRCUS PARADE</td>\n",
       "      <td>4</td>\n",
       "      <td>12/9/2011 12:50</td>\n",
       "      <td>4.15</td>\n",
       "      <td>12680.0</td>\n",
       "      <td>France</td>\n",
       "    </tr>\n",
       "    <tr>\n",
       "      <th>541908</th>\n",
       "      <td>581587</td>\n",
       "      <td>22138</td>\n",
       "      <td>BAKING SET 9 PIECE RETROSPOT</td>\n",
       "      <td>3</td>\n",
       "      <td>12/9/2011 12:50</td>\n",
       "      <td>4.95</td>\n",
       "      <td>12680.0</td>\n",
       "      <td>France</td>\n",
       "    </tr>\n",
       "  </tbody>\n",
       "</table>\n",
       "<p>541909 rows × 8 columns</p>\n",
       "</div>"
      ],
      "text/plain": [
       "       InvoiceNo StockCode                          Description  Quantity  \\\n",
       "0         536365    85123A   WHITE HANGING HEART T-LIGHT HOLDER         6   \n",
       "1         536365     71053                  WHITE METAL LANTERN         6   \n",
       "2         536365    84406B       CREAM CUPID HEARTS COAT HANGER         8   \n",
       "3         536365    84029G  KNITTED UNION FLAG HOT WATER BOTTLE         6   \n",
       "4         536365    84029E       RED WOOLLY HOTTIE WHITE HEART.         6   \n",
       "...          ...       ...                                  ...       ...   \n",
       "541904    581587     22613          PACK OF 20 SPACEBOY NAPKINS        12   \n",
       "541905    581587     22899         CHILDREN'S APRON DOLLY GIRL          6   \n",
       "541906    581587     23254        CHILDRENS CUTLERY DOLLY GIRL          4   \n",
       "541907    581587     23255      CHILDRENS CUTLERY CIRCUS PARADE         4   \n",
       "541908    581587     22138        BAKING SET 9 PIECE RETROSPOT          3   \n",
       "\n",
       "            InvoiceDate  UnitPrice  CustomerID         Country  \n",
       "0        12/1/2010 8:26       2.55     17850.0  United Kingdom  \n",
       "1        12/1/2010 8:26       3.39     17850.0  United Kingdom  \n",
       "2        12/1/2010 8:26       2.75     17850.0  United Kingdom  \n",
       "3        12/1/2010 8:26       3.39     17850.0  United Kingdom  \n",
       "4        12/1/2010 8:26       3.39     17850.0  United Kingdom  \n",
       "...                 ...        ...         ...             ...  \n",
       "541904  12/9/2011 12:50       0.85     12680.0          France  \n",
       "541905  12/9/2011 12:50       2.10     12680.0          France  \n",
       "541906  12/9/2011 12:50       4.15     12680.0          France  \n",
       "541907  12/9/2011 12:50       4.15     12680.0          France  \n",
       "541908  12/9/2011 12:50       4.95     12680.0          France  \n",
       "\n",
       "[541909 rows x 8 columns]"
      ]
     },
     "execution_count": 2,
     "metadata": {},
     "output_type": "execute_result"
    }
   ],
   "source": [
    "# Import dataset using Pandas\n",
    "# Link to Dataset: https://www.kaggle.com/carrie1/ecommerce-data\n",
    "# Data contains transactions details between 01/12/2010 and 09/12/2011 for a UK-based non-store online retail.\n",
    "# The company specializes in selling unique gifts\n",
    "sales_df = pd.read_csv('ecommerce_sales.csv', encoding = 'unicode_escape')\n",
    "sales_df"
   ]
  },
  {
   "cell_type": "code",
   "execution_count": 3,
   "metadata": {
    "colab": {
     "base_uri": "https://localhost:8080/"
    },
    "executionInfo": {
     "elapsed": 1646,
     "status": "ok",
     "timestamp": 1618723226303,
     "user": {
      "displayName": "Stemplicity",
      "photoUrl": "https://lh3.googleusercontent.com/a-/AOh14Gj2vCFt-bD5mPBhUWX0QA6xiBgoXQXtwUm2jgjaCg=s64",
      "userId": "10668071569687886186"
     },
     "user_tz": 240
    },
    "id": "SUvuMDoaXfmR",
    "outputId": "615d1376-2601-476d-8683-5edb38770ac2"
   },
   "outputs": [
    {
     "name": "stdout",
     "output_type": "stream",
     "text": [
      "<class 'pandas.core.frame.DataFrame'>\n",
      "RangeIndex: 541909 entries, 0 to 541908\n",
      "Data columns (total 8 columns):\n",
      " #   Column       Non-Null Count   Dtype  \n",
      "---  ------       --------------   -----  \n",
      " 0   InvoiceNo    541909 non-null  object \n",
      " 1   StockCode    541909 non-null  object \n",
      " 2   Description  540455 non-null  object \n",
      " 3   Quantity     541909 non-null  int64  \n",
      " 4   InvoiceDate  541909 non-null  object \n",
      " 5   UnitPrice    541909 non-null  float64\n",
      " 6   CustomerID   406829 non-null  float64\n",
      " 7   Country      541909 non-null  object \n",
      "dtypes: float64(2), int64(1), object(5)\n",
      "memory usage: 33.1+ MB\n"
     ]
    }
   ],
   "source": [
    "# Let's view the types of data\n",
    "# Note that InvoiceDate is in object format, we will need to convert it into Datetime format\n",
    "sales_df.info()"
   ]
  },
  {
   "cell_type": "code",
   "execution_count": 4,
   "metadata": {
    "executionInfo": {
     "elapsed": 4986,
     "status": "ok",
     "timestamp": 1618723229792,
     "user": {
      "displayName": "Stemplicity",
      "photoUrl": "https://lh3.googleusercontent.com/a-/AOh14Gj2vCFt-bD5mPBhUWX0QA6xiBgoXQXtwUm2jgjaCg=s64",
      "userId": "10668071569687886186"
     },
     "user_tz": 240
    },
    "id": "3OqZHku_kte7"
   },
   "outputs": [],
   "source": [
    "# Convert Invoice date to datetime format\n",
    "sales_df['InvoiceDate'] = pd.to_datetime(sales_df['InvoiceDate'])\n"
   ]
  },
  {
   "cell_type": "code",
   "execution_count": 5,
   "metadata": {
    "colab": {
     "base_uri": "https://localhost:8080/"
    },
    "executionInfo": {
     "elapsed": 4785,
     "status": "ok",
     "timestamp": 1618723229802,
     "user": {
      "displayName": "Stemplicity",
      "photoUrl": "https://lh3.googleusercontent.com/a-/AOh14Gj2vCFt-bD5mPBhUWX0QA6xiBgoXQXtwUm2jgjaCg=s64",
      "userId": "10668071569687886186"
     },
     "user_tz": 240
    },
    "id": "jeWktbLylF9S",
    "outputId": "ec744da2-0e05-4ba7-eace-6f0653580bc2"
   },
   "outputs": [
    {
     "name": "stdout",
     "output_type": "stream",
     "text": [
      "<class 'pandas.core.frame.DataFrame'>\n",
      "RangeIndex: 541909 entries, 0 to 541908\n",
      "Data columns (total 8 columns):\n",
      " #   Column       Non-Null Count   Dtype         \n",
      "---  ------       --------------   -----         \n",
      " 0   InvoiceNo    541909 non-null  object        \n",
      " 1   StockCode    541909 non-null  object        \n",
      " 2   Description  540455 non-null  object        \n",
      " 3   Quantity     541909 non-null  int64         \n",
      " 4   InvoiceDate  541909 non-null  datetime64[ns]\n",
      " 5   UnitPrice    541909 non-null  float64       \n",
      " 6   CustomerID   406829 non-null  float64       \n",
      " 7   Country      541909 non-null  object        \n",
      "dtypes: datetime64[ns](1), float64(2), int64(1), object(4)\n",
      "memory usage: 33.1+ MB\n"
     ]
    }
   ],
   "source": [
    "# Check datatype again to confirm!\n",
    "sales_df.info()"
   ]
  },
  {
   "cell_type": "code",
   "execution_count": 6,
   "metadata": {
    "colab": {
     "base_uri": "https://localhost:8080/"
    },
    "executionInfo": {
     "elapsed": 4657,
     "status": "ok",
     "timestamp": 1618723229803,
     "user": {
      "displayName": "Stemplicity",
      "photoUrl": "https://lh3.googleusercontent.com/a-/AOh14Gj2vCFt-bD5mPBhUWX0QA6xiBgoXQXtwUm2jgjaCg=s64",
      "userId": "10668071569687886186"
     },
     "user_tz": 240
    },
    "id": "Yjrmrf2zYSz8",
    "outputId": "ef1fd68a-62bd-4665-add0-b7ee7e1b9c0c"
   },
   "outputs": [
    {
     "data": {
      "text/plain": [
       "InvoiceNo           0\n",
       "StockCode           0\n",
       "Description      1454\n",
       "Quantity            0\n",
       "InvoiceDate         0\n",
       "UnitPrice           0\n",
       "CustomerID     135080\n",
       "Country             0\n",
       "dtype: int64"
      ]
     },
     "execution_count": 6,
     "metadata": {},
     "output_type": "execute_result"
    }
   ],
   "source": [
    "# Check the number of Null values in the data\n",
    "sales_df.isnull().sum()"
   ]
  },
  {
   "cell_type": "markdown",
   "metadata": {
    "id": "kHbNxpzHL905"
   },
   "source": [
    "**MINI CHALLENGE #1:**\n",
    "- **How many unique countries are present in the dataset? List all countries**"
   ]
  },
  {
   "cell_type": "code",
   "execution_count": null,
   "metadata": {
    "executionInfo": {
     "elapsed": 4312,
     "status": "ok",
     "timestamp": 1618723229803,
     "user": {
      "displayName": "Stemplicity",
      "photoUrl": "https://lh3.googleusercontent.com/a-/AOh14Gj2vCFt-bD5mPBhUWX0QA6xiBgoXQXtwUm2jgjaCg=s64",
      "userId": "10668071569687886186"
     },
     "user_tz": 240
    },
    "id": "C2nvW606MWwc"
   },
   "outputs": [],
   "source": []
  },
  {
   "cell_type": "markdown",
   "metadata": {
    "id": "GvntzUsa2q9n"
   },
   "source": [
    "# TASK #2. GROUPBY"
   ]
  },
  {
   "cell_type": "code",
   "execution_count": 7,
   "metadata": {
    "colab": {
     "base_uri": "https://localhost:8080/",
     "height": 402
    },
    "executionInfo": {
     "elapsed": 3944,
     "status": "ok",
     "timestamp": 1618723229804,
     "user": {
      "displayName": "Stemplicity",
      "photoUrl": "https://lh3.googleusercontent.com/a-/AOh14Gj2vCFt-bD5mPBhUWX0QA6xiBgoXQXtwUm2jgjaCg=s64",
      "userId": "10668071569687886186"
     },
     "user_tz": 240
    },
    "id": "Q6ECCoVR2trv",
    "outputId": "3623c38c-1266-4e26-981f-540219bd7ff0"
   },
   "outputs": [
    {
     "data": {
      "text/html": [
       "<div>\n",
       "<style scoped>\n",
       "    .dataframe tbody tr th:only-of-type {\n",
       "        vertical-align: middle;\n",
       "    }\n",
       "\n",
       "    .dataframe tbody tr th {\n",
       "        vertical-align: top;\n",
       "    }\n",
       "\n",
       "    .dataframe thead th {\n",
       "        text-align: right;\n",
       "    }\n",
       "</style>\n",
       "<table border=\"1\" class=\"dataframe\">\n",
       "  <thead>\n",
       "    <tr style=\"text-align: right;\">\n",
       "      <th></th>\n",
       "      <th>InvoiceNo</th>\n",
       "      <th>StockCode</th>\n",
       "      <th>Description</th>\n",
       "      <th>Quantity</th>\n",
       "      <th>InvoiceDate</th>\n",
       "      <th>UnitPrice</th>\n",
       "      <th>CustomerID</th>\n",
       "      <th>Country</th>\n",
       "    </tr>\n",
       "  </thead>\n",
       "  <tbody>\n",
       "    <tr>\n",
       "      <th>0</th>\n",
       "      <td>536365</td>\n",
       "      <td>85123A</td>\n",
       "      <td>WHITE HANGING HEART T-LIGHT HOLDER</td>\n",
       "      <td>6</td>\n",
       "      <td>2010-12-01 08:26:00</td>\n",
       "      <td>2.55</td>\n",
       "      <td>17850.0</td>\n",
       "      <td>United Kingdom</td>\n",
       "    </tr>\n",
       "    <tr>\n",
       "      <th>1</th>\n",
       "      <td>536365</td>\n",
       "      <td>71053</td>\n",
       "      <td>WHITE METAL LANTERN</td>\n",
       "      <td>6</td>\n",
       "      <td>2010-12-01 08:26:00</td>\n",
       "      <td>3.39</td>\n",
       "      <td>17850.0</td>\n",
       "      <td>United Kingdom</td>\n",
       "    </tr>\n",
       "    <tr>\n",
       "      <th>2</th>\n",
       "      <td>536365</td>\n",
       "      <td>84406B</td>\n",
       "      <td>CREAM CUPID HEARTS COAT HANGER</td>\n",
       "      <td>8</td>\n",
       "      <td>2010-12-01 08:26:00</td>\n",
       "      <td>2.75</td>\n",
       "      <td>17850.0</td>\n",
       "      <td>United Kingdom</td>\n",
       "    </tr>\n",
       "    <tr>\n",
       "      <th>3</th>\n",
       "      <td>536365</td>\n",
       "      <td>84029G</td>\n",
       "      <td>KNITTED UNION FLAG HOT WATER BOTTLE</td>\n",
       "      <td>6</td>\n",
       "      <td>2010-12-01 08:26:00</td>\n",
       "      <td>3.39</td>\n",
       "      <td>17850.0</td>\n",
       "      <td>United Kingdom</td>\n",
       "    </tr>\n",
       "    <tr>\n",
       "      <th>4</th>\n",
       "      <td>536365</td>\n",
       "      <td>84029E</td>\n",
       "      <td>RED WOOLLY HOTTIE WHITE HEART.</td>\n",
       "      <td>6</td>\n",
       "      <td>2010-12-01 08:26:00</td>\n",
       "      <td>3.39</td>\n",
       "      <td>17850.0</td>\n",
       "      <td>United Kingdom</td>\n",
       "    </tr>\n",
       "    <tr>\n",
       "      <th>...</th>\n",
       "      <td>...</td>\n",
       "      <td>...</td>\n",
       "      <td>...</td>\n",
       "      <td>...</td>\n",
       "      <td>...</td>\n",
       "      <td>...</td>\n",
       "      <td>...</td>\n",
       "      <td>...</td>\n",
       "    </tr>\n",
       "    <tr>\n",
       "      <th>541904</th>\n",
       "      <td>581587</td>\n",
       "      <td>22613</td>\n",
       "      <td>PACK OF 20 SPACEBOY NAPKINS</td>\n",
       "      <td>12</td>\n",
       "      <td>2011-12-09 12:50:00</td>\n",
       "      <td>0.85</td>\n",
       "      <td>12680.0</td>\n",
       "      <td>France</td>\n",
       "    </tr>\n",
       "    <tr>\n",
       "      <th>541905</th>\n",
       "      <td>581587</td>\n",
       "      <td>22899</td>\n",
       "      <td>CHILDREN'S APRON DOLLY GIRL</td>\n",
       "      <td>6</td>\n",
       "      <td>2011-12-09 12:50:00</td>\n",
       "      <td>2.10</td>\n",
       "      <td>12680.0</td>\n",
       "      <td>France</td>\n",
       "    </tr>\n",
       "    <tr>\n",
       "      <th>541906</th>\n",
       "      <td>581587</td>\n",
       "      <td>23254</td>\n",
       "      <td>CHILDRENS CUTLERY DOLLY GIRL</td>\n",
       "      <td>4</td>\n",
       "      <td>2011-12-09 12:50:00</td>\n",
       "      <td>4.15</td>\n",
       "      <td>12680.0</td>\n",
       "      <td>France</td>\n",
       "    </tr>\n",
       "    <tr>\n",
       "      <th>541907</th>\n",
       "      <td>581587</td>\n",
       "      <td>23255</td>\n",
       "      <td>CHILDRENS CUTLERY CIRCUS PARADE</td>\n",
       "      <td>4</td>\n",
       "      <td>2011-12-09 12:50:00</td>\n",
       "      <td>4.15</td>\n",
       "      <td>12680.0</td>\n",
       "      <td>France</td>\n",
       "    </tr>\n",
       "    <tr>\n",
       "      <th>541908</th>\n",
       "      <td>581587</td>\n",
       "      <td>22138</td>\n",
       "      <td>BAKING SET 9 PIECE RETROSPOT</td>\n",
       "      <td>3</td>\n",
       "      <td>2011-12-09 12:50:00</td>\n",
       "      <td>4.95</td>\n",
       "      <td>12680.0</td>\n",
       "      <td>France</td>\n",
       "    </tr>\n",
       "  </tbody>\n",
       "</table>\n",
       "<p>541909 rows × 8 columns</p>\n",
       "</div>"
      ],
      "text/plain": [
       "       InvoiceNo StockCode                          Description  Quantity  \\\n",
       "0         536365    85123A   WHITE HANGING HEART T-LIGHT HOLDER         6   \n",
       "1         536365     71053                  WHITE METAL LANTERN         6   \n",
       "2         536365    84406B       CREAM CUPID HEARTS COAT HANGER         8   \n",
       "3         536365    84029G  KNITTED UNION FLAG HOT WATER BOTTLE         6   \n",
       "4         536365    84029E       RED WOOLLY HOTTIE WHITE HEART.         6   \n",
       "...          ...       ...                                  ...       ...   \n",
       "541904    581587     22613          PACK OF 20 SPACEBOY NAPKINS        12   \n",
       "541905    581587     22899         CHILDREN'S APRON DOLLY GIRL          6   \n",
       "541906    581587     23254        CHILDRENS CUTLERY DOLLY GIRL          4   \n",
       "541907    581587     23255      CHILDRENS CUTLERY CIRCUS PARADE         4   \n",
       "541908    581587     22138        BAKING SET 9 PIECE RETROSPOT          3   \n",
       "\n",
       "               InvoiceDate  UnitPrice  CustomerID         Country  \n",
       "0      2010-12-01 08:26:00       2.55     17850.0  United Kingdom  \n",
       "1      2010-12-01 08:26:00       3.39     17850.0  United Kingdom  \n",
       "2      2010-12-01 08:26:00       2.75     17850.0  United Kingdom  \n",
       "3      2010-12-01 08:26:00       3.39     17850.0  United Kingdom  \n",
       "4      2010-12-01 08:26:00       3.39     17850.0  United Kingdom  \n",
       "...                    ...        ...         ...             ...  \n",
       "541904 2011-12-09 12:50:00       0.85     12680.0          France  \n",
       "541905 2011-12-09 12:50:00       2.10     12680.0          France  \n",
       "541906 2011-12-09 12:50:00       4.15     12680.0          France  \n",
       "541907 2011-12-09 12:50:00       4.15     12680.0          France  \n",
       "541908 2011-12-09 12:50:00       4.95     12680.0          France  \n",
       "\n",
       "[541909 rows x 8 columns]"
      ]
     },
     "execution_count": 7,
     "metadata": {},
     "output_type": "execute_result"
    }
   ],
   "source": [
    "sales_df"
   ]
  },
  {
   "cell_type": "code",
   "execution_count": 8,
   "metadata": {
    "colab": {
     "base_uri": "https://localhost:8080/"
    },
    "executionInfo": {
     "elapsed": 3770,
     "status": "ok",
     "timestamp": 1618723229805,
     "user": {
      "displayName": "Stemplicity",
      "photoUrl": "https://lh3.googleusercontent.com/a-/AOh14Gj2vCFt-bD5mPBhUWX0QA6xiBgoXQXtwUm2jgjaCg=s64",
      "userId": "10668071569687886186"
     },
     "user_tz": 240
    },
    "id": "L-ouZdVz2tvb",
    "outputId": "50c0efef-462c-426c-b9d6-489054ec2b66"
   },
   "outputs": [
    {
     "data": {
      "text/plain": [
       "Country\n",
       "Australia                 3.220612\n",
       "Austria                   4.243192\n",
       "Bahrain                   4.556316\n",
       "Belgium                   3.644335\n",
       "Brazil                    4.456250\n",
       "Canada                    6.030331\n",
       "Channel Islands           4.932124\n",
       "Cyprus                    6.302363\n",
       "Czech Republic            2.938333\n",
       "Denmark                   3.256941\n",
       "EIRE                      5.911077\n",
       "European Community        4.820492\n",
       "Finland                   5.448705\n",
       "France                    5.028864\n",
       "Germany                   3.966930\n",
       "Greece                    4.885548\n",
       "Hong Kong                42.505208\n",
       "Iceland                   2.644011\n",
       "Israel                    3.633131\n",
       "Italy                     4.831121\n",
       "Japan                     2.276145\n",
       "Lebanon                   5.387556\n",
       "Lithuania                 2.841143\n",
       "Malta                     5.244173\n",
       "Netherlands               2.738317\n",
       "Norway                    6.012026\n",
       "Poland                    4.170880\n",
       "Portugal                  8.582976\n",
       "RSA                       4.277586\n",
       "Saudi Arabia              2.411000\n",
       "Singapore               109.645808\n",
       "Spain                     4.987544\n",
       "Sweden                    3.910887\n",
       "Switzerland               3.403442\n",
       "USA                       2.216426\n",
       "United Arab Emirates      3.380735\n",
       "United Kingdom            4.532422\n",
       "Unspecified               2.699574\n",
       "Name: UnitPrice, dtype: float64"
      ]
     },
     "execution_count": 8,
     "metadata": {},
     "output_type": "execute_result"
    }
   ],
   "source": [
    "# A groupby operation involves some combination of splitting the object, applying a function, and combining the results. \n",
    "# This can be used to group large amounts of data and compute operations on these groups.\n",
    "# Link: https://pandas.pydata.org/pandas-docs/stable/reference/api/pandas.DataFrame.groupby.html\n",
    "sales_df.groupby('Country')['UnitPrice'].mean()"
   ]
  },
  {
   "cell_type": "code",
   "execution_count": 9,
   "metadata": {
    "colab": {
     "base_uri": "https://localhost:8080/"
    },
    "executionInfo": {
     "elapsed": 3578,
     "status": "ok",
     "timestamp": 1618723229805,
     "user": {
      "displayName": "Stemplicity",
      "photoUrl": "https://lh3.googleusercontent.com/a-/AOh14Gj2vCFt-bD5mPBhUWX0QA6xiBgoXQXtwUm2jgjaCg=s64",
      "userId": "10668071569687886186"
     },
     "user_tz": 240
    },
    "id": "Den792Gf2tx1",
    "outputId": "13c913a8-051d-4815-e757-2f64421d7ade"
   },
   "outputs": [
    {
     "data": {
      "text/plain": [
       "Country\n",
       "Australia                   0.00\n",
       "Austria                     0.12\n",
       "Bahrain                     1.25\n",
       "Belgium                     0.12\n",
       "Brazil                      0.85\n",
       "Canada                      0.10\n",
       "Channel Islands             0.19\n",
       "Cyprus                      0.12\n",
       "Czech Republic              0.29\n",
       "Denmark                     0.21\n",
       "EIRE                        0.00\n",
       "European Community          0.55\n",
       "Finland                     0.12\n",
       "France                      0.00\n",
       "Germany                     0.00\n",
       "Greece                      0.14\n",
       "Hong Kong                   0.21\n",
       "Iceland                     0.25\n",
       "Israel                      0.06\n",
       "Italy                       0.12\n",
       "Japan                       0.21\n",
       "Lebanon                     0.55\n",
       "Lithuania                   1.25\n",
       "Malta                       0.19\n",
       "Netherlands                 0.00\n",
       "Norway                      0.00\n",
       "Poland                      0.19\n",
       "Portugal                    0.12\n",
       "RSA                         0.00\n",
       "Saudi Arabia                0.42\n",
       "Singapore                   0.19\n",
       "Spain                       0.00\n",
       "Sweden                      0.19\n",
       "Switzerland                 0.00\n",
       "USA                         0.42\n",
       "United Arab Emirates        0.29\n",
       "United Kingdom         -11062.06\n",
       "Unspecified                 0.19\n",
       "Name: UnitPrice, dtype: float64"
      ]
     },
     "execution_count": 9,
     "metadata": {},
     "output_type": "execute_result"
    }
   ],
   "source": [
    "sales_df.groupby('Country')['UnitPrice'].min()"
   ]
  },
  {
   "cell_type": "code",
   "execution_count": 10,
   "metadata": {
    "colab": {
     "base_uri": "https://localhost:8080/"
    },
    "executionInfo": {
     "elapsed": 3391,
     "status": "ok",
     "timestamp": 1618723229806,
     "user": {
      "displayName": "Stemplicity",
      "photoUrl": "https://lh3.googleusercontent.com/a-/AOh14Gj2vCFt-bD5mPBhUWX0QA6xiBgoXQXtwUm2jgjaCg=s64",
      "userId": "10668071569687886186"
     },
     "user_tz": 240
    },
    "id": "ppqf8-XB2t0i",
    "outputId": "c9f82594-2e8a-4aad-deb0-b9d0c7d4d56e"
   },
   "outputs": [
    {
     "data": {
      "text/plain": [
       "Country\n",
       "Australia                 350.00\n",
       "Austria                    40.00\n",
       "Bahrain                    12.75\n",
       "Belgium                    39.95\n",
       "Brazil                     10.95\n",
       "Canada                    550.94\n",
       "Channel Islands           293.00\n",
       "Cyprus                    320.69\n",
       "Czech Republic             40.00\n",
       "Denmark                    18.00\n",
       "EIRE                     1917.00\n",
       "European Community         18.00\n",
       "Finland                   275.60\n",
       "France                   4161.06\n",
       "Germany                   599.50\n",
       "Greece                     50.00\n",
       "Hong Kong                2653.95\n",
       "Iceland                    12.75\n",
       "Israel                    125.00\n",
       "Italy                     300.00\n",
       "Japan                      45.57\n",
       "Lebanon                    14.95\n",
       "Lithuania                   5.95\n",
       "Malta                      65.00\n",
       "Netherlands               206.40\n",
       "Norway                    700.00\n",
       "Poland                     40.00\n",
       "Portugal                 1241.98\n",
       "RSA                        14.95\n",
       "Saudi Arabia                5.49\n",
       "Singapore                3949.32\n",
       "Spain                    1715.85\n",
       "Sweden                     40.00\n",
       "Switzerland                40.00\n",
       "USA                        16.95\n",
       "United Arab Emirates       37.50\n",
       "United Kingdom          38970.00\n",
       "Unspecified                16.95\n",
       "Name: UnitPrice, dtype: float64"
      ]
     },
     "execution_count": 10,
     "metadata": {},
     "output_type": "execute_result"
    }
   ],
   "source": [
    "sales_df.groupby('Country')['UnitPrice'].max()"
   ]
  },
  {
   "cell_type": "code",
   "execution_count": 11,
   "metadata": {
    "colab": {
     "base_uri": "https://localhost:8080/"
    },
    "executionInfo": {
     "elapsed": 3249,
     "status": "ok",
     "timestamp": 1618723229807,
     "user": {
      "displayName": "Stemplicity",
      "photoUrl": "https://lh3.googleusercontent.com/a-/AOh14Gj2vCFt-bD5mPBhUWX0QA6xiBgoXQXtwUm2jgjaCg=s64",
      "userId": "10668071569687886186"
     },
     "user_tz": 240
    },
    "id": "TFGRhpKb41i6",
    "outputId": "25919e64-5516-4e2e-bb83-deb50e3c62ad"
   },
   "outputs": [
    {
     "data": {
      "text/plain": [
       "InvoiceDate\n",
       "2010-12-01 08:26:00    3.910000\n",
       "2010-12-01 08:28:00    1.850000\n",
       "2010-12-01 08:34:00    4.833750\n",
       "2010-12-01 08:35:00    5.950000\n",
       "2010-12-01 08:45:00    2.764500\n",
       "                         ...   \n",
       "2011-12-09 12:23:00    1.650000\n",
       "2011-12-09 12:25:00    1.285000\n",
       "2011-12-09 12:31:00    1.799048\n",
       "2011-12-09 12:49:00    5.057500\n",
       "2011-12-09 12:50:00    2.966667\n",
       "Name: UnitPrice, Length: 23260, dtype: float64"
      ]
     },
     "execution_count": 11,
     "metadata": {},
     "output_type": "execute_result"
    }
   ],
   "source": [
    "sales_df.groupby('InvoiceDate')['UnitPrice'].mean()"
   ]
  },
  {
   "cell_type": "code",
   "execution_count": 12,
   "metadata": {
    "colab": {
     "base_uri": "https://localhost:8080/"
    },
    "executionInfo": {
     "elapsed": 3042,
     "status": "ok",
     "timestamp": 1618723229808,
     "user": {
      "displayName": "Stemplicity",
      "photoUrl": "https://lh3.googleusercontent.com/a-/AOh14Gj2vCFt-bD5mPBhUWX0QA6xiBgoXQXtwUm2jgjaCg=s64",
      "userId": "10668071569687886186"
     },
     "user_tz": 240
    },
    "id": "EjDRIhPo2t29",
    "outputId": "ba020c42-2f52-4eab-cafe-dcafc9c33fe6"
   },
   "outputs": [
    {
     "data": {
      "text/plain": [
       "Country      InvoiceDate        \n",
       "Australia    2010-12-01 10:03:00    5.278571\n",
       "             2010-12-08 09:53:00    2.726250\n",
       "             2010-12-14 11:12:00    4.283333\n",
       "             2010-12-17 14:10:00    3.510000\n",
       "             2011-01-06 11:12:00    1.871304\n",
       "                                      ...   \n",
       "Unspecified  2011-08-22 10:18:00    2.381429\n",
       "             2011-08-22 13:32:00    8.115000\n",
       "             2011-09-02 12:17:00    1.642879\n",
       "             2011-11-16 10:18:00    2.339474\n",
       "             2011-11-24 14:55:00    2.107353\n",
       "Name: UnitPrice, Length: 23616, dtype: float64"
      ]
     },
     "execution_count": 12,
     "metadata": {},
     "output_type": "execute_result"
    }
   ],
   "source": [
    "sales_df.groupby(['Country', 'InvoiceDate'])['UnitPrice'].mean()"
   ]
  },
  {
   "cell_type": "code",
   "execution_count": null,
   "metadata": {
    "executionInfo": {
     "elapsed": 2878,
     "status": "ok",
     "timestamp": 1618723229808,
     "user": {
      "displayName": "Stemplicity",
      "photoUrl": "https://lh3.googleusercontent.com/a-/AOh14Gj2vCFt-bD5mPBhUWX0QA6xiBgoXQXtwUm2jgjaCg=s64",
      "userId": "10668071569687886186"
     },
     "user_tz": 240
    },
    "id": "5cE53P4w2t5Y"
   },
   "outputs": [],
   "source": []
  },
  {
   "cell_type": "markdown",
   "metadata": {
    "id": "KftQG_rRRa2b"
   },
   "source": [
    "**MINI CHALLENGE #2:**\n",
    "- **What is the maximum and minimum prices at 2011-12-09 12:25:00**"
   ]
  },
  {
   "cell_type": "code",
   "execution_count": null,
   "metadata": {
    "executionInfo": {
     "elapsed": 2439,
     "status": "ok",
     "timestamp": 1618723229809,
     "user": {
      "displayName": "Stemplicity",
      "photoUrl": "https://lh3.googleusercontent.com/a-/AOh14Gj2vCFt-bD5mPBhUWX0QA6xiBgoXQXtwUm2jgjaCg=s64",
      "userId": "10668071569687886186"
     },
     "user_tz": 240
    },
    "id": "uzp16oavUjL-"
   },
   "outputs": [],
   "source": []
  },
  {
   "cell_type": "markdown",
   "metadata": {
    "id": "Skt-35zeYyDl"
   },
   "source": [
    "# TASK #3. CREATE MULTI-INDEXED DATAFRAME"
   ]
  },
  {
   "cell_type": "code",
   "execution_count": 13,
   "metadata": {
    "colab": {
     "base_uri": "https://localhost:8080/",
     "height": 402
    },
    "executionInfo": {
     "elapsed": 3041,
     "status": "ok",
     "timestamp": 1618723230975,
     "user": {
      "displayName": "Stemplicity",
      "photoUrl": "https://lh3.googleusercontent.com/a-/AOh14Gj2vCFt-bD5mPBhUWX0QA6xiBgoXQXtwUm2jgjaCg=s64",
      "userId": "10668071569687886186"
     },
     "user_tz": 240
    },
    "id": "SouGsc0BY25T",
    "outputId": "f5650d49-d336-41ac-ea0c-7e4179122a5c"
   },
   "outputs": [
    {
     "data": {
      "text/html": [
       "<div>\n",
       "<style scoped>\n",
       "    .dataframe tbody tr th:only-of-type {\n",
       "        vertical-align: middle;\n",
       "    }\n",
       "\n",
       "    .dataframe tbody tr th {\n",
       "        vertical-align: top;\n",
       "    }\n",
       "\n",
       "    .dataframe thead th {\n",
       "        text-align: right;\n",
       "    }\n",
       "</style>\n",
       "<table border=\"1\" class=\"dataframe\">\n",
       "  <thead>\n",
       "    <tr style=\"text-align: right;\">\n",
       "      <th></th>\n",
       "      <th>InvoiceNo</th>\n",
       "      <th>StockCode</th>\n",
       "      <th>Description</th>\n",
       "      <th>Quantity</th>\n",
       "      <th>InvoiceDate</th>\n",
       "      <th>UnitPrice</th>\n",
       "      <th>CustomerID</th>\n",
       "      <th>Country</th>\n",
       "    </tr>\n",
       "  </thead>\n",
       "  <tbody>\n",
       "    <tr>\n",
       "      <th>0</th>\n",
       "      <td>536365</td>\n",
       "      <td>85123A</td>\n",
       "      <td>WHITE HANGING HEART T-LIGHT HOLDER</td>\n",
       "      <td>6</td>\n",
       "      <td>12/1/2010 8:26</td>\n",
       "      <td>2.55</td>\n",
       "      <td>17850.0</td>\n",
       "      <td>United Kingdom</td>\n",
       "    </tr>\n",
       "    <tr>\n",
       "      <th>1</th>\n",
       "      <td>536365</td>\n",
       "      <td>71053</td>\n",
       "      <td>WHITE METAL LANTERN</td>\n",
       "      <td>6</td>\n",
       "      <td>12/1/2010 8:26</td>\n",
       "      <td>3.39</td>\n",
       "      <td>17850.0</td>\n",
       "      <td>United Kingdom</td>\n",
       "    </tr>\n",
       "    <tr>\n",
       "      <th>2</th>\n",
       "      <td>536365</td>\n",
       "      <td>84406B</td>\n",
       "      <td>CREAM CUPID HEARTS COAT HANGER</td>\n",
       "      <td>8</td>\n",
       "      <td>12/1/2010 8:26</td>\n",
       "      <td>2.75</td>\n",
       "      <td>17850.0</td>\n",
       "      <td>United Kingdom</td>\n",
       "    </tr>\n",
       "    <tr>\n",
       "      <th>3</th>\n",
       "      <td>536365</td>\n",
       "      <td>84029G</td>\n",
       "      <td>KNITTED UNION FLAG HOT WATER BOTTLE</td>\n",
       "      <td>6</td>\n",
       "      <td>12/1/2010 8:26</td>\n",
       "      <td>3.39</td>\n",
       "      <td>17850.0</td>\n",
       "      <td>United Kingdom</td>\n",
       "    </tr>\n",
       "    <tr>\n",
       "      <th>4</th>\n",
       "      <td>536365</td>\n",
       "      <td>84029E</td>\n",
       "      <td>RED WOOLLY HOTTIE WHITE HEART.</td>\n",
       "      <td>6</td>\n",
       "      <td>12/1/2010 8:26</td>\n",
       "      <td>3.39</td>\n",
       "      <td>17850.0</td>\n",
       "      <td>United Kingdom</td>\n",
       "    </tr>\n",
       "    <tr>\n",
       "      <th>...</th>\n",
       "      <td>...</td>\n",
       "      <td>...</td>\n",
       "      <td>...</td>\n",
       "      <td>...</td>\n",
       "      <td>...</td>\n",
       "      <td>...</td>\n",
       "      <td>...</td>\n",
       "      <td>...</td>\n",
       "    </tr>\n",
       "    <tr>\n",
       "      <th>541904</th>\n",
       "      <td>581587</td>\n",
       "      <td>22613</td>\n",
       "      <td>PACK OF 20 SPACEBOY NAPKINS</td>\n",
       "      <td>12</td>\n",
       "      <td>12/9/2011 12:50</td>\n",
       "      <td>0.85</td>\n",
       "      <td>12680.0</td>\n",
       "      <td>France</td>\n",
       "    </tr>\n",
       "    <tr>\n",
       "      <th>541905</th>\n",
       "      <td>581587</td>\n",
       "      <td>22899</td>\n",
       "      <td>CHILDREN'S APRON DOLLY GIRL</td>\n",
       "      <td>6</td>\n",
       "      <td>12/9/2011 12:50</td>\n",
       "      <td>2.10</td>\n",
       "      <td>12680.0</td>\n",
       "      <td>France</td>\n",
       "    </tr>\n",
       "    <tr>\n",
       "      <th>541906</th>\n",
       "      <td>581587</td>\n",
       "      <td>23254</td>\n",
       "      <td>CHILDRENS CUTLERY DOLLY GIRL</td>\n",
       "      <td>4</td>\n",
       "      <td>12/9/2011 12:50</td>\n",
       "      <td>4.15</td>\n",
       "      <td>12680.0</td>\n",
       "      <td>France</td>\n",
       "    </tr>\n",
       "    <tr>\n",
       "      <th>541907</th>\n",
       "      <td>581587</td>\n",
       "      <td>23255</td>\n",
       "      <td>CHILDRENS CUTLERY CIRCUS PARADE</td>\n",
       "      <td>4</td>\n",
       "      <td>12/9/2011 12:50</td>\n",
       "      <td>4.15</td>\n",
       "      <td>12680.0</td>\n",
       "      <td>France</td>\n",
       "    </tr>\n",
       "    <tr>\n",
       "      <th>541908</th>\n",
       "      <td>581587</td>\n",
       "      <td>22138</td>\n",
       "      <td>BAKING SET 9 PIECE RETROSPOT</td>\n",
       "      <td>3</td>\n",
       "      <td>12/9/2011 12:50</td>\n",
       "      <td>4.95</td>\n",
       "      <td>12680.0</td>\n",
       "      <td>France</td>\n",
       "    </tr>\n",
       "  </tbody>\n",
       "</table>\n",
       "<p>541909 rows × 8 columns</p>\n",
       "</div>"
      ],
      "text/plain": [
       "       InvoiceNo StockCode                          Description  Quantity  \\\n",
       "0         536365    85123A   WHITE HANGING HEART T-LIGHT HOLDER         6   \n",
       "1         536365     71053                  WHITE METAL LANTERN         6   \n",
       "2         536365    84406B       CREAM CUPID HEARTS COAT HANGER         8   \n",
       "3         536365    84029G  KNITTED UNION FLAG HOT WATER BOTTLE         6   \n",
       "4         536365    84029E       RED WOOLLY HOTTIE WHITE HEART.         6   \n",
       "...          ...       ...                                  ...       ...   \n",
       "541904    581587     22613          PACK OF 20 SPACEBOY NAPKINS        12   \n",
       "541905    581587     22899         CHILDREN'S APRON DOLLY GIRL          6   \n",
       "541906    581587     23254        CHILDRENS CUTLERY DOLLY GIRL          4   \n",
       "541907    581587     23255      CHILDRENS CUTLERY CIRCUS PARADE         4   \n",
       "541908    581587     22138        BAKING SET 9 PIECE RETROSPOT          3   \n",
       "\n",
       "            InvoiceDate  UnitPrice  CustomerID         Country  \n",
       "0        12/1/2010 8:26       2.55     17850.0  United Kingdom  \n",
       "1        12/1/2010 8:26       3.39     17850.0  United Kingdom  \n",
       "2        12/1/2010 8:26       2.75     17850.0  United Kingdom  \n",
       "3        12/1/2010 8:26       3.39     17850.0  United Kingdom  \n",
       "4        12/1/2010 8:26       3.39     17850.0  United Kingdom  \n",
       "...                 ...        ...         ...             ...  \n",
       "541904  12/9/2011 12:50       0.85     12680.0          France  \n",
       "541905  12/9/2011 12:50       2.10     12680.0          France  \n",
       "541906  12/9/2011 12:50       4.15     12680.0          France  \n",
       "541907  12/9/2011 12:50       4.15     12680.0          France  \n",
       "541908  12/9/2011 12:50       4.95     12680.0          France  \n",
       "\n",
       "[541909 rows x 8 columns]"
      ]
     },
     "execution_count": 13,
     "metadata": {},
     "output_type": "execute_result"
    }
   ],
   "source": [
    "sales_df = pd.read_csv('ecommerce_sales.csv', encoding = 'unicode_escape')\n",
    "sales_df"
   ]
  },
  {
   "cell_type": "code",
   "execution_count": 14,
   "metadata": {
    "colab": {
     "base_uri": "https://localhost:8080/",
     "height": 431
    },
    "executionInfo": {
     "elapsed": 2773,
     "status": "ok",
     "timestamp": 1618723230975,
     "user": {
      "displayName": "Stemplicity",
      "photoUrl": "https://lh3.googleusercontent.com/a-/AOh14Gj2vCFt-bD5mPBhUWX0QA6xiBgoXQXtwUm2jgjaCg=s64",
      "userId": "10668071569687886186"
     },
     "user_tz": 240
    },
    "id": "a2Y6U6VlY27-",
    "outputId": "d1617836-6ffc-4d1d-ff4d-371af93f2e02"
   },
   "outputs": [
    {
     "data": {
      "text/html": [
       "<div>\n",
       "<style scoped>\n",
       "    .dataframe tbody tr th:only-of-type {\n",
       "        vertical-align: middle;\n",
       "    }\n",
       "\n",
       "    .dataframe tbody tr th {\n",
       "        vertical-align: top;\n",
       "    }\n",
       "\n",
       "    .dataframe thead th {\n",
       "        text-align: right;\n",
       "    }\n",
       "</style>\n",
       "<table border=\"1\" class=\"dataframe\">\n",
       "  <thead>\n",
       "    <tr style=\"text-align: right;\">\n",
       "      <th></th>\n",
       "      <th>InvoiceNo</th>\n",
       "      <th>StockCode</th>\n",
       "      <th>Description</th>\n",
       "      <th>Quantity</th>\n",
       "      <th>UnitPrice</th>\n",
       "      <th>CustomerID</th>\n",
       "      <th>Country</th>\n",
       "    </tr>\n",
       "    <tr>\n",
       "      <th>InvoiceDate</th>\n",
       "      <th></th>\n",
       "      <th></th>\n",
       "      <th></th>\n",
       "      <th></th>\n",
       "      <th></th>\n",
       "      <th></th>\n",
       "      <th></th>\n",
       "    </tr>\n",
       "  </thead>\n",
       "  <tbody>\n",
       "    <tr>\n",
       "      <th>12/1/2010 8:26</th>\n",
       "      <td>536365</td>\n",
       "      <td>85123A</td>\n",
       "      <td>WHITE HANGING HEART T-LIGHT HOLDER</td>\n",
       "      <td>6</td>\n",
       "      <td>2.55</td>\n",
       "      <td>17850.0</td>\n",
       "      <td>United Kingdom</td>\n",
       "    </tr>\n",
       "    <tr>\n",
       "      <th>12/1/2010 8:26</th>\n",
       "      <td>536365</td>\n",
       "      <td>71053</td>\n",
       "      <td>WHITE METAL LANTERN</td>\n",
       "      <td>6</td>\n",
       "      <td>3.39</td>\n",
       "      <td>17850.0</td>\n",
       "      <td>United Kingdom</td>\n",
       "    </tr>\n",
       "    <tr>\n",
       "      <th>12/1/2010 8:26</th>\n",
       "      <td>536365</td>\n",
       "      <td>84406B</td>\n",
       "      <td>CREAM CUPID HEARTS COAT HANGER</td>\n",
       "      <td>8</td>\n",
       "      <td>2.75</td>\n",
       "      <td>17850.0</td>\n",
       "      <td>United Kingdom</td>\n",
       "    </tr>\n",
       "    <tr>\n",
       "      <th>12/1/2010 8:26</th>\n",
       "      <td>536365</td>\n",
       "      <td>84029G</td>\n",
       "      <td>KNITTED UNION FLAG HOT WATER BOTTLE</td>\n",
       "      <td>6</td>\n",
       "      <td>3.39</td>\n",
       "      <td>17850.0</td>\n",
       "      <td>United Kingdom</td>\n",
       "    </tr>\n",
       "    <tr>\n",
       "      <th>12/1/2010 8:26</th>\n",
       "      <td>536365</td>\n",
       "      <td>84029E</td>\n",
       "      <td>RED WOOLLY HOTTIE WHITE HEART.</td>\n",
       "      <td>6</td>\n",
       "      <td>3.39</td>\n",
       "      <td>17850.0</td>\n",
       "      <td>United Kingdom</td>\n",
       "    </tr>\n",
       "    <tr>\n",
       "      <th>...</th>\n",
       "      <td>...</td>\n",
       "      <td>...</td>\n",
       "      <td>...</td>\n",
       "      <td>...</td>\n",
       "      <td>...</td>\n",
       "      <td>...</td>\n",
       "      <td>...</td>\n",
       "    </tr>\n",
       "    <tr>\n",
       "      <th>12/9/2011 12:50</th>\n",
       "      <td>581587</td>\n",
       "      <td>22613</td>\n",
       "      <td>PACK OF 20 SPACEBOY NAPKINS</td>\n",
       "      <td>12</td>\n",
       "      <td>0.85</td>\n",
       "      <td>12680.0</td>\n",
       "      <td>France</td>\n",
       "    </tr>\n",
       "    <tr>\n",
       "      <th>12/9/2011 12:50</th>\n",
       "      <td>581587</td>\n",
       "      <td>22899</td>\n",
       "      <td>CHILDREN'S APRON DOLLY GIRL</td>\n",
       "      <td>6</td>\n",
       "      <td>2.10</td>\n",
       "      <td>12680.0</td>\n",
       "      <td>France</td>\n",
       "    </tr>\n",
       "    <tr>\n",
       "      <th>12/9/2011 12:50</th>\n",
       "      <td>581587</td>\n",
       "      <td>23254</td>\n",
       "      <td>CHILDRENS CUTLERY DOLLY GIRL</td>\n",
       "      <td>4</td>\n",
       "      <td>4.15</td>\n",
       "      <td>12680.0</td>\n",
       "      <td>France</td>\n",
       "    </tr>\n",
       "    <tr>\n",
       "      <th>12/9/2011 12:50</th>\n",
       "      <td>581587</td>\n",
       "      <td>23255</td>\n",
       "      <td>CHILDRENS CUTLERY CIRCUS PARADE</td>\n",
       "      <td>4</td>\n",
       "      <td>4.15</td>\n",
       "      <td>12680.0</td>\n",
       "      <td>France</td>\n",
       "    </tr>\n",
       "    <tr>\n",
       "      <th>12/9/2011 12:50</th>\n",
       "      <td>581587</td>\n",
       "      <td>22138</td>\n",
       "      <td>BAKING SET 9 PIECE RETROSPOT</td>\n",
       "      <td>3</td>\n",
       "      <td>4.95</td>\n",
       "      <td>12680.0</td>\n",
       "      <td>France</td>\n",
       "    </tr>\n",
       "  </tbody>\n",
       "</table>\n",
       "<p>541909 rows × 7 columns</p>\n",
       "</div>"
      ],
      "text/plain": [
       "                InvoiceNo StockCode                          Description  \\\n",
       "InvoiceDate                                                                \n",
       "12/1/2010 8:26     536365    85123A   WHITE HANGING HEART T-LIGHT HOLDER   \n",
       "12/1/2010 8:26     536365     71053                  WHITE METAL LANTERN   \n",
       "12/1/2010 8:26     536365    84406B       CREAM CUPID HEARTS COAT HANGER   \n",
       "12/1/2010 8:26     536365    84029G  KNITTED UNION FLAG HOT WATER BOTTLE   \n",
       "12/1/2010 8:26     536365    84029E       RED WOOLLY HOTTIE WHITE HEART.   \n",
       "...                   ...       ...                                  ...   \n",
       "12/9/2011 12:50    581587     22613          PACK OF 20 SPACEBOY NAPKINS   \n",
       "12/9/2011 12:50    581587     22899         CHILDREN'S APRON DOLLY GIRL    \n",
       "12/9/2011 12:50    581587     23254        CHILDRENS CUTLERY DOLLY GIRL    \n",
       "12/9/2011 12:50    581587     23255      CHILDRENS CUTLERY CIRCUS PARADE   \n",
       "12/9/2011 12:50    581587     22138        BAKING SET 9 PIECE RETROSPOT    \n",
       "\n",
       "                 Quantity  UnitPrice  CustomerID         Country  \n",
       "InvoiceDate                                                       \n",
       "12/1/2010 8:26          6       2.55     17850.0  United Kingdom  \n",
       "12/1/2010 8:26          6       3.39     17850.0  United Kingdom  \n",
       "12/1/2010 8:26          8       2.75     17850.0  United Kingdom  \n",
       "12/1/2010 8:26          6       3.39     17850.0  United Kingdom  \n",
       "12/1/2010 8:26          6       3.39     17850.0  United Kingdom  \n",
       "...                   ...        ...         ...             ...  \n",
       "12/9/2011 12:50        12       0.85     12680.0          France  \n",
       "12/9/2011 12:50         6       2.10     12680.0          France  \n",
       "12/9/2011 12:50         4       4.15     12680.0          France  \n",
       "12/9/2011 12:50         4       4.15     12680.0          France  \n",
       "12/9/2011 12:50         3       4.95     12680.0          France  \n",
       "\n",
       "[541909 rows x 7 columns]"
      ]
     },
     "execution_count": 14,
     "metadata": {},
     "output_type": "execute_result"
    }
   ],
   "source": [
    "# You can select any column to be the index for the DataFrame\n",
    "# Use one column only as follows:\n",
    "sales_df.set_index(keys = [\"InvoiceDate\"], inplace = True)\n",
    "sales_df"
   ]
  },
  {
   "cell_type": "code",
   "execution_count": 15,
   "metadata": {
    "colab": {
     "base_uri": "https://localhost:8080/"
    },
    "executionInfo": {
     "elapsed": 2574,
     "status": "ok",
     "timestamp": 1618723230977,
     "user": {
      "displayName": "Stemplicity",
      "photoUrl": "https://lh3.googleusercontent.com/a-/AOh14Gj2vCFt-bD5mPBhUWX0QA6xiBgoXQXtwUm2jgjaCg=s64",
      "userId": "10668071569687886186"
     },
     "user_tz": 240
    },
    "id": "hSedV2YAaWbk",
    "outputId": "2f96cc69-e2ea-47ea-e1f4-607ec1270749"
   },
   "outputs": [
    {
     "data": {
      "text/plain": [
       "array(['United Kingdom', 'France', 'Australia', 'Netherlands', 'Germany',\n",
       "       'Norway', 'EIRE', 'Switzerland', 'Spain', 'Poland', 'Portugal',\n",
       "       'Italy', 'Belgium', 'Lithuania', 'Japan', 'Iceland',\n",
       "       'Channel Islands', 'Denmark', 'Cyprus', 'Sweden', 'Austria',\n",
       "       'Israel', 'Finland', 'Bahrain', 'Greece', 'Hong Kong', 'Singapore',\n",
       "       'Lebanon', 'United Arab Emirates', 'Saudi Arabia',\n",
       "       'Czech Republic', 'Canada', 'Unspecified', 'Brazil', 'USA',\n",
       "       'European Community', 'Malta', 'RSA'], dtype=object)"
      ]
     },
     "execution_count": 15,
     "metadata": {},
     "output_type": "execute_result"
    }
   ],
   "source": [
    "# Let's see how many unique countries are present in the dataframe\n",
    "sales_df['Country'].unique()"
   ]
  },
  {
   "cell_type": "code",
   "execution_count": 16,
   "metadata": {
    "colab": {
     "base_uri": "https://localhost:8080/",
     "height": 431
    },
    "executionInfo": {
     "elapsed": 3293,
     "status": "ok",
     "timestamp": 1618723231938,
     "user": {
      "displayName": "Stemplicity",
      "photoUrl": "https://lh3.googleusercontent.com/a-/AOh14Gj2vCFt-bD5mPBhUWX0QA6xiBgoXQXtwUm2jgjaCg=s64",
      "userId": "10668071569687886186"
     },
     "user_tz": 240
    },
    "id": "ojE8OQF7Y2_3",
    "outputId": "eae20c8b-87fa-49fa-86c1-7a032366dbf0"
   },
   "outputs": [
    {
     "data": {
      "text/html": [
       "<div>\n",
       "<style scoped>\n",
       "    .dataframe tbody tr th:only-of-type {\n",
       "        vertical-align: middle;\n",
       "    }\n",
       "\n",
       "    .dataframe tbody tr th {\n",
       "        vertical-align: top;\n",
       "    }\n",
       "\n",
       "    .dataframe thead th {\n",
       "        text-align: right;\n",
       "    }\n",
       "</style>\n",
       "<table border=\"1\" class=\"dataframe\">\n",
       "  <thead>\n",
       "    <tr style=\"text-align: right;\">\n",
       "      <th></th>\n",
       "      <th></th>\n",
       "      <th>InvoiceNo</th>\n",
       "      <th>StockCode</th>\n",
       "      <th>Description</th>\n",
       "      <th>Quantity</th>\n",
       "      <th>UnitPrice</th>\n",
       "      <th>CustomerID</th>\n",
       "    </tr>\n",
       "    <tr>\n",
       "      <th>Country</th>\n",
       "      <th>InvoiceDate</th>\n",
       "      <th></th>\n",
       "      <th></th>\n",
       "      <th></th>\n",
       "      <th></th>\n",
       "      <th></th>\n",
       "      <th></th>\n",
       "    </tr>\n",
       "  </thead>\n",
       "  <tbody>\n",
       "    <tr>\n",
       "      <th rowspan=\"5\" valign=\"top\">United Kingdom</th>\n",
       "      <th>12/1/2010 8:26</th>\n",
       "      <td>536365</td>\n",
       "      <td>85123A</td>\n",
       "      <td>WHITE HANGING HEART T-LIGHT HOLDER</td>\n",
       "      <td>6</td>\n",
       "      <td>2.55</td>\n",
       "      <td>17850.0</td>\n",
       "    </tr>\n",
       "    <tr>\n",
       "      <th>12/1/2010 8:26</th>\n",
       "      <td>536365</td>\n",
       "      <td>71053</td>\n",
       "      <td>WHITE METAL LANTERN</td>\n",
       "      <td>6</td>\n",
       "      <td>3.39</td>\n",
       "      <td>17850.0</td>\n",
       "    </tr>\n",
       "    <tr>\n",
       "      <th>12/1/2010 8:26</th>\n",
       "      <td>536365</td>\n",
       "      <td>84406B</td>\n",
       "      <td>CREAM CUPID HEARTS COAT HANGER</td>\n",
       "      <td>8</td>\n",
       "      <td>2.75</td>\n",
       "      <td>17850.0</td>\n",
       "    </tr>\n",
       "    <tr>\n",
       "      <th>12/1/2010 8:26</th>\n",
       "      <td>536365</td>\n",
       "      <td>84029G</td>\n",
       "      <td>KNITTED UNION FLAG HOT WATER BOTTLE</td>\n",
       "      <td>6</td>\n",
       "      <td>3.39</td>\n",
       "      <td>17850.0</td>\n",
       "    </tr>\n",
       "    <tr>\n",
       "      <th>12/1/2010 8:26</th>\n",
       "      <td>536365</td>\n",
       "      <td>84029E</td>\n",
       "      <td>RED WOOLLY HOTTIE WHITE HEART.</td>\n",
       "      <td>6</td>\n",
       "      <td>3.39</td>\n",
       "      <td>17850.0</td>\n",
       "    </tr>\n",
       "    <tr>\n",
       "      <th>...</th>\n",
       "      <th>...</th>\n",
       "      <td>...</td>\n",
       "      <td>...</td>\n",
       "      <td>...</td>\n",
       "      <td>...</td>\n",
       "      <td>...</td>\n",
       "      <td>...</td>\n",
       "    </tr>\n",
       "    <tr>\n",
       "      <th rowspan=\"5\" valign=\"top\">France</th>\n",
       "      <th>12/9/2011 12:50</th>\n",
       "      <td>581587</td>\n",
       "      <td>22613</td>\n",
       "      <td>PACK OF 20 SPACEBOY NAPKINS</td>\n",
       "      <td>12</td>\n",
       "      <td>0.85</td>\n",
       "      <td>12680.0</td>\n",
       "    </tr>\n",
       "    <tr>\n",
       "      <th>12/9/2011 12:50</th>\n",
       "      <td>581587</td>\n",
       "      <td>22899</td>\n",
       "      <td>CHILDREN'S APRON DOLLY GIRL</td>\n",
       "      <td>6</td>\n",
       "      <td>2.10</td>\n",
       "      <td>12680.0</td>\n",
       "    </tr>\n",
       "    <tr>\n",
       "      <th>12/9/2011 12:50</th>\n",
       "      <td>581587</td>\n",
       "      <td>23254</td>\n",
       "      <td>CHILDRENS CUTLERY DOLLY GIRL</td>\n",
       "      <td>4</td>\n",
       "      <td>4.15</td>\n",
       "      <td>12680.0</td>\n",
       "    </tr>\n",
       "    <tr>\n",
       "      <th>12/9/2011 12:50</th>\n",
       "      <td>581587</td>\n",
       "      <td>23255</td>\n",
       "      <td>CHILDRENS CUTLERY CIRCUS PARADE</td>\n",
       "      <td>4</td>\n",
       "      <td>4.15</td>\n",
       "      <td>12680.0</td>\n",
       "    </tr>\n",
       "    <tr>\n",
       "      <th>12/9/2011 12:50</th>\n",
       "      <td>581587</td>\n",
       "      <td>22138</td>\n",
       "      <td>BAKING SET 9 PIECE RETROSPOT</td>\n",
       "      <td>3</td>\n",
       "      <td>4.95</td>\n",
       "      <td>12680.0</td>\n",
       "    </tr>\n",
       "  </tbody>\n",
       "</table>\n",
       "<p>541909 rows × 6 columns</p>\n",
       "</div>"
      ],
      "text/plain": [
       "                               InvoiceNo StockCode  \\\n",
       "Country        InvoiceDate                           \n",
       "United Kingdom 12/1/2010 8:26     536365    85123A   \n",
       "               12/1/2010 8:26     536365     71053   \n",
       "               12/1/2010 8:26     536365    84406B   \n",
       "               12/1/2010 8:26     536365    84029G   \n",
       "               12/1/2010 8:26     536365    84029E   \n",
       "...                                  ...       ...   \n",
       "France         12/9/2011 12:50    581587     22613   \n",
       "               12/9/2011 12:50    581587     22899   \n",
       "               12/9/2011 12:50    581587     23254   \n",
       "               12/9/2011 12:50    581587     23255   \n",
       "               12/9/2011 12:50    581587     22138   \n",
       "\n",
       "                                                        Description  Quantity  \\\n",
       "Country        InvoiceDate                                                      \n",
       "United Kingdom 12/1/2010 8:26    WHITE HANGING HEART T-LIGHT HOLDER         6   \n",
       "               12/1/2010 8:26                   WHITE METAL LANTERN         6   \n",
       "               12/1/2010 8:26        CREAM CUPID HEARTS COAT HANGER         8   \n",
       "               12/1/2010 8:26   KNITTED UNION FLAG HOT WATER BOTTLE         6   \n",
       "               12/1/2010 8:26        RED WOOLLY HOTTIE WHITE HEART.         6   \n",
       "...                                                             ...       ...   \n",
       "France         12/9/2011 12:50          PACK OF 20 SPACEBOY NAPKINS        12   \n",
       "               12/9/2011 12:50         CHILDREN'S APRON DOLLY GIRL          6   \n",
       "               12/9/2011 12:50        CHILDRENS CUTLERY DOLLY GIRL          4   \n",
       "               12/9/2011 12:50      CHILDRENS CUTLERY CIRCUS PARADE         4   \n",
       "               12/9/2011 12:50        BAKING SET 9 PIECE RETROSPOT          3   \n",
       "\n",
       "                                UnitPrice  CustomerID  \n",
       "Country        InvoiceDate                             \n",
       "United Kingdom 12/1/2010 8:26        2.55     17850.0  \n",
       "               12/1/2010 8:26        3.39     17850.0  \n",
       "               12/1/2010 8:26        2.75     17850.0  \n",
       "               12/1/2010 8:26        3.39     17850.0  \n",
       "               12/1/2010 8:26        3.39     17850.0  \n",
       "...                                   ...         ...  \n",
       "France         12/9/2011 12:50       0.85     12680.0  \n",
       "               12/9/2011 12:50       2.10     12680.0  \n",
       "               12/9/2011 12:50       4.15     12680.0  \n",
       "               12/9/2011 12:50       4.15     12680.0  \n",
       "               12/9/2011 12:50       4.95     12680.0  \n",
       "\n",
       "[541909 rows x 6 columns]"
      ]
     },
     "execution_count": 16,
     "metadata": {},
     "output_type": "execute_result"
    }
   ],
   "source": [
    "# Alternatively, We can have multiple keys (indexes) using Pandas Multi-indexing\n",
    "# Take the columns with the least number of unique values and use it for the outermost index\n",
    "\n",
    "# Let's import the dataset again using Pandas\n",
    "sales_df = pd.read_csv('ecommerce_sales.csv', encoding = 'unicode_escape')\n",
    "sales_df.set_index(keys = [\"Country\", \"InvoiceDate\"], inplace = True)\n",
    "sales_df"
   ]
  },
  {
   "cell_type": "code",
   "execution_count": 17,
   "metadata": {
    "colab": {
     "base_uri": "https://localhost:8080/",
     "height": 431
    },
    "executionInfo": {
     "elapsed": 2760,
     "status": "ok",
     "timestamp": 1618723231939,
     "user": {
      "displayName": "Stemplicity",
      "photoUrl": "https://lh3.googleusercontent.com/a-/AOh14Gj2vCFt-bD5mPBhUWX0QA6xiBgoXQXtwUm2jgjaCg=s64",
      "userId": "10668071569687886186"
     },
     "user_tz": 240
    },
    "id": "lAm9yjqMkazG",
    "outputId": "2edd44de-d842-47d6-eebd-402a48f0e5d4"
   },
   "outputs": [
    {
     "data": {
      "text/html": [
       "<div>\n",
       "<style scoped>\n",
       "    .dataframe tbody tr th:only-of-type {\n",
       "        vertical-align: middle;\n",
       "    }\n",
       "\n",
       "    .dataframe tbody tr th {\n",
       "        vertical-align: top;\n",
       "    }\n",
       "\n",
       "    .dataframe thead th {\n",
       "        text-align: right;\n",
       "    }\n",
       "</style>\n",
       "<table border=\"1\" class=\"dataframe\">\n",
       "  <thead>\n",
       "    <tr style=\"text-align: right;\">\n",
       "      <th></th>\n",
       "      <th></th>\n",
       "      <th>InvoiceNo</th>\n",
       "      <th>StockCode</th>\n",
       "      <th>Description</th>\n",
       "      <th>Quantity</th>\n",
       "      <th>UnitPrice</th>\n",
       "      <th>CustomerID</th>\n",
       "    </tr>\n",
       "    <tr>\n",
       "      <th>Country</th>\n",
       "      <th>InvoiceDate</th>\n",
       "      <th></th>\n",
       "      <th></th>\n",
       "      <th></th>\n",
       "      <th></th>\n",
       "      <th></th>\n",
       "      <th></th>\n",
       "    </tr>\n",
       "  </thead>\n",
       "  <tbody>\n",
       "    <tr>\n",
       "      <th rowspan=\"5\" valign=\"top\">Australia</th>\n",
       "      <th>1/10/2011 9:58</th>\n",
       "      <td>540557</td>\n",
       "      <td>22523</td>\n",
       "      <td>CHILDS GARDEN FORK PINK</td>\n",
       "      <td>96</td>\n",
       "      <td>0.85</td>\n",
       "      <td>12415.0</td>\n",
       "    </tr>\n",
       "    <tr>\n",
       "      <th>1/11/2011 9:47</th>\n",
       "      <td>540700</td>\n",
       "      <td>21581</td>\n",
       "      <td>SKULLS  DESIGN  COTTON TOTE BAG</td>\n",
       "      <td>6</td>\n",
       "      <td>2.25</td>\n",
       "      <td>12393.0</td>\n",
       "    </tr>\n",
       "    <tr>\n",
       "      <th>1/11/2011 9:47</th>\n",
       "      <td>540700</td>\n",
       "      <td>22619</td>\n",
       "      <td>SET OF 6 SOLDIER SKITTLES</td>\n",
       "      <td>8</td>\n",
       "      <td>3.75</td>\n",
       "      <td>12393.0</td>\n",
       "    </tr>\n",
       "    <tr>\n",
       "      <th>1/11/2011 9:47</th>\n",
       "      <td>540700</td>\n",
       "      <td>84997B</td>\n",
       "      <td>RED 3 PIECE RETROSPOT CUTLERY SET</td>\n",
       "      <td>6</td>\n",
       "      <td>3.75</td>\n",
       "      <td>12393.0</td>\n",
       "    </tr>\n",
       "    <tr>\n",
       "      <th>1/11/2011 9:47</th>\n",
       "      <td>540700</td>\n",
       "      <td>20727</td>\n",
       "      <td>LUNCH BAG  BLACK SKULL.</td>\n",
       "      <td>20</td>\n",
       "      <td>1.65</td>\n",
       "      <td>12393.0</td>\n",
       "    </tr>\n",
       "    <tr>\n",
       "      <th>...</th>\n",
       "      <th>...</th>\n",
       "      <td>...</td>\n",
       "      <td>...</td>\n",
       "      <td>...</td>\n",
       "      <td>...</td>\n",
       "      <td>...</td>\n",
       "      <td>...</td>\n",
       "    </tr>\n",
       "    <tr>\n",
       "      <th rowspan=\"5\" valign=\"top\">Unspecified</th>\n",
       "      <th>9/2/2011 12:17</th>\n",
       "      <td>565303</td>\n",
       "      <td>85227</td>\n",
       "      <td>SET OF 6 3D KIT CARDS FOR KIDS</td>\n",
       "      <td>4</td>\n",
       "      <td>0.85</td>\n",
       "      <td>NaN</td>\n",
       "    </tr>\n",
       "    <tr>\n",
       "      <th>9/2/2011 12:17</th>\n",
       "      <td>565303</td>\n",
       "      <td>22138</td>\n",
       "      <td>BAKING SET 9 PIECE RETROSPOT</td>\n",
       "      <td>2</td>\n",
       "      <td>4.95</td>\n",
       "      <td>NaN</td>\n",
       "    </tr>\n",
       "    <tr>\n",
       "      <th>9/2/2011 12:17</th>\n",
       "      <td>565303</td>\n",
       "      <td>21889</td>\n",
       "      <td>WOODEN BOX OF DOMINOES</td>\n",
       "      <td>5</td>\n",
       "      <td>1.25</td>\n",
       "      <td>NaN</td>\n",
       "    </tr>\n",
       "    <tr>\n",
       "      <th>9/2/2011 12:17</th>\n",
       "      <td>565303</td>\n",
       "      <td>22550</td>\n",
       "      <td>HOLIDAY FUN LUDO</td>\n",
       "      <td>2</td>\n",
       "      <td>3.75</td>\n",
       "      <td>NaN</td>\n",
       "    </tr>\n",
       "    <tr>\n",
       "      <th>9/2/2011 12:17</th>\n",
       "      <td>565303</td>\n",
       "      <td>23127</td>\n",
       "      <td>FELTCRAFT GIRL NICOLE KIT</td>\n",
       "      <td>1</td>\n",
       "      <td>4.95</td>\n",
       "      <td>NaN</td>\n",
       "    </tr>\n",
       "  </tbody>\n",
       "</table>\n",
       "<p>541909 rows × 6 columns</p>\n",
       "</div>"
      ],
      "text/plain": [
       "                           InvoiceNo StockCode  \\\n",
       "Country     InvoiceDate                          \n",
       "Australia   1/10/2011 9:58    540557     22523   \n",
       "            1/11/2011 9:47    540700     21581   \n",
       "            1/11/2011 9:47    540700     22619   \n",
       "            1/11/2011 9:47    540700    84997B   \n",
       "            1/11/2011 9:47    540700     20727   \n",
       "...                              ...       ...   \n",
       "Unspecified 9/2/2011 12:17    565303     85227   \n",
       "            9/2/2011 12:17    565303     22138   \n",
       "            9/2/2011 12:17    565303     21889   \n",
       "            9/2/2011 12:17    565303     22550   \n",
       "            9/2/2011 12:17    565303     23127   \n",
       "\n",
       "                                                  Description  Quantity  \\\n",
       "Country     InvoiceDate                                                   \n",
       "Australia   1/10/2011 9:58            CHILDS GARDEN FORK PINK        96   \n",
       "            1/11/2011 9:47    SKULLS  DESIGN  COTTON TOTE BAG         6   \n",
       "            1/11/2011 9:47          SET OF 6 SOLDIER SKITTLES         8   \n",
       "            1/11/2011 9:47  RED 3 PIECE RETROSPOT CUTLERY SET         6   \n",
       "            1/11/2011 9:47            LUNCH BAG  BLACK SKULL.        20   \n",
       "...                                                       ...       ...   \n",
       "Unspecified 9/2/2011 12:17     SET OF 6 3D KIT CARDS FOR KIDS         4   \n",
       "            9/2/2011 12:17      BAKING SET 9 PIECE RETROSPOT          2   \n",
       "            9/2/2011 12:17             WOODEN BOX OF DOMINOES         5   \n",
       "            9/2/2011 12:17                   HOLIDAY FUN LUDO         2   \n",
       "            9/2/2011 12:17          FELTCRAFT GIRL NICOLE KIT         1   \n",
       "\n",
       "                            UnitPrice  CustomerID  \n",
       "Country     InvoiceDate                            \n",
       "Australia   1/10/2011 9:58       0.85     12415.0  \n",
       "            1/11/2011 9:47       2.25     12393.0  \n",
       "            1/11/2011 9:47       3.75     12393.0  \n",
       "            1/11/2011 9:47       3.75     12393.0  \n",
       "            1/11/2011 9:47       1.65     12393.0  \n",
       "...                               ...         ...  \n",
       "Unspecified 9/2/2011 12:17       0.85         NaN  \n",
       "            9/2/2011 12:17       4.95         NaN  \n",
       "            9/2/2011 12:17       1.25         NaN  \n",
       "            9/2/2011 12:17       3.75         NaN  \n",
       "            9/2/2011 12:17       4.95         NaN  \n",
       "\n",
       "[541909 rows x 6 columns]"
      ]
     },
     "execution_count": 17,
     "metadata": {},
     "output_type": "execute_result"
    }
   ],
   "source": [
    "# Sort countries to start with alphabetical order\n",
    "sales_df.sort_index(inplace = True)\n",
    "sales_df"
   ]
  },
  {
   "cell_type": "code",
   "execution_count": 18,
   "metadata": {
    "colab": {
     "base_uri": "https://localhost:8080/"
    },
    "executionInfo": {
     "elapsed": 2864,
     "status": "ok",
     "timestamp": 1618723232378,
     "user": {
      "displayName": "Stemplicity",
      "photoUrl": "https://lh3.googleusercontent.com/a-/AOh14Gj2vCFt-bD5mPBhUWX0QA6xiBgoXQXtwUm2jgjaCg=s64",
      "userId": "10668071569687886186"
     },
     "user_tz": 240
    },
    "id": "1MKNr_9WkkQn",
    "outputId": "40e60a6b-22db-44ed-b7a2-8921f3fd616a"
   },
   "outputs": [
    {
     "data": {
      "text/plain": [
       "MultiIndex([(  'Australia', '1/10/2011 9:58'),\n",
       "            (  'Australia', '1/11/2011 9:47'),\n",
       "            (  'Australia', '1/11/2011 9:47'),\n",
       "            (  'Australia', '1/11/2011 9:47'),\n",
       "            (  'Australia', '1/11/2011 9:47'),\n",
       "            (  'Australia', '1/11/2011 9:47'),\n",
       "            (  'Australia', '1/11/2011 9:47'),\n",
       "            (  'Australia', '1/11/2011 9:47'),\n",
       "            (  'Australia', '1/11/2011 9:47'),\n",
       "            (  'Australia', '1/11/2011 9:47'),\n",
       "            ...\n",
       "            ('Unspecified', '9/2/2011 12:17'),\n",
       "            ('Unspecified', '9/2/2011 12:17'),\n",
       "            ('Unspecified', '9/2/2011 12:17'),\n",
       "            ('Unspecified', '9/2/2011 12:17'),\n",
       "            ('Unspecified', '9/2/2011 12:17'),\n",
       "            ('Unspecified', '9/2/2011 12:17'),\n",
       "            ('Unspecified', '9/2/2011 12:17'),\n",
       "            ('Unspecified', '9/2/2011 12:17'),\n",
       "            ('Unspecified', '9/2/2011 12:17'),\n",
       "            ('Unspecified', '9/2/2011 12:17')],\n",
       "           names=['Country', 'InvoiceDate'], length=541909)"
      ]
     },
     "execution_count": 18,
     "metadata": {},
     "output_type": "execute_result"
    }
   ],
   "source": [
    "# Now you need more than one index to access any element\n",
    "sales_df.index"
   ]
  },
  {
   "cell_type": "code",
   "execution_count": 19,
   "metadata": {
    "colab": {
     "base_uri": "https://localhost:8080/"
    },
    "executionInfo": {
     "elapsed": 2327,
     "status": "ok",
     "timestamp": 1618723232379,
     "user": {
      "displayName": "Stemplicity",
      "photoUrl": "https://lh3.googleusercontent.com/a-/AOh14Gj2vCFt-bD5mPBhUWX0QA6xiBgoXQXtwUm2jgjaCg=s64",
      "userId": "10668071569687886186"
     },
     "user_tz": 240
    },
    "id": "ullJMBP6kpi7",
    "outputId": "050f99c7-93b9-482d-815a-45cce8ef9005"
   },
   "outputs": [
    {
     "data": {
      "text/plain": [
       "FrozenList(['Country', 'InvoiceDate'])"
      ]
     },
     "execution_count": 19,
     "metadata": {},
     "output_type": "execute_result"
    }
   ],
   "source": [
    "sales_df.index.names"
   ]
  },
  {
   "cell_type": "code",
   "execution_count": 20,
   "metadata": {
    "colab": {
     "base_uri": "https://localhost:8080/"
    },
    "executionInfo": {
     "elapsed": 1963,
     "status": "ok",
     "timestamp": 1618723232380,
     "user": {
      "displayName": "Stemplicity",
      "photoUrl": "https://lh3.googleusercontent.com/a-/AOh14Gj2vCFt-bD5mPBhUWX0QA6xiBgoXQXtwUm2jgjaCg=s64",
      "userId": "10668071569687886186"
     },
     "user_tz": 240
    },
    "id": "XpRZZy31kpli",
    "outputId": "2f125b20-43c4-4c9c-d279-c20a584776e7"
   },
   "outputs": [
    {
     "data": {
      "text/plain": [
       "pandas.core.indexes.multi.MultiIndex"
      ]
     },
     "execution_count": 20,
     "metadata": {},
     "output_type": "execute_result"
    }
   ],
   "source": [
    "# Multiindex objects\n",
    "type(sales_df.index)"
   ]
  },
  {
   "cell_type": "code",
   "execution_count": 21,
   "metadata": {
    "colab": {
     "base_uri": "https://localhost:8080/"
    },
    "executionInfo": {
     "elapsed": 1350,
     "status": "ok",
     "timestamp": 1618723232381,
     "user": {
      "displayName": "Stemplicity",
      "photoUrl": "https://lh3.googleusercontent.com/a-/AOh14Gj2vCFt-bD5mPBhUWX0QA6xiBgoXQXtwUm2jgjaCg=s64",
      "userId": "10668071569687886186"
     },
     "user_tz": 240
    },
    "id": "VWSectKNkpoT",
    "outputId": "6297f188-014c-4702-b504-a747631b7d70"
   },
   "outputs": [
    {
     "data": {
      "text/plain": [
       "('Australia', '1/10/2011 9:58')"
      ]
     },
     "execution_count": 21,
     "metadata": {},
     "output_type": "execute_result"
    }
   ],
   "source": [
    "# It gives out the datetime and the country as well\n",
    "sales_df.index[0]"
   ]
  },
  {
   "cell_type": "markdown",
   "metadata": {
    "id": "bcjijKoOVy72"
   },
   "source": [
    "**MINI CHALLENGE #3:**\n",
    "- **Sort the DataFrame in a descending order (countries and dates)**"
   ]
  },
  {
   "cell_type": "code",
   "execution_count": null,
   "metadata": {
    "executionInfo": {
     "elapsed": 535,
     "status": "ok",
     "timestamp": 1618723234488,
     "user": {
      "displayName": "Stemplicity",
      "photoUrl": "https://lh3.googleusercontent.com/a-/AOh14Gj2vCFt-bD5mPBhUWX0QA6xiBgoXQXtwUm2jgjaCg=s64",
      "userId": "10668071569687886186"
     },
     "user_tz": 240
    },
    "id": "g58yGNL-XcyN"
   },
   "outputs": [],
   "source": []
  },
  {
   "cell_type": "markdown",
   "metadata": {
    "id": "ZXor3Qk3mPbu"
   },
   "source": [
    "# TASK #4. MULTI-INDEXING OPERATIONS - PART #1"
   ]
  },
  {
   "cell_type": "code",
   "execution_count": 22,
   "metadata": {
    "colab": {
     "base_uri": "https://localhost:8080/",
     "height": 431
    },
    "executionInfo": {
     "elapsed": 1845,
     "status": "ok",
     "timestamp": 1618723236678,
     "user": {
      "displayName": "Stemplicity",
      "photoUrl": "https://lh3.googleusercontent.com/a-/AOh14Gj2vCFt-bD5mPBhUWX0QA6xiBgoXQXtwUm2jgjaCg=s64",
      "userId": "10668071569687886186"
     },
     "user_tz": 240
    },
    "id": "brgnizTfmaRM",
    "outputId": "c71517d7-9d83-4331-8dd1-c3a5e63c8e68"
   },
   "outputs": [
    {
     "data": {
      "text/html": [
       "<div>\n",
       "<style scoped>\n",
       "    .dataframe tbody tr th:only-of-type {\n",
       "        vertical-align: middle;\n",
       "    }\n",
       "\n",
       "    .dataframe tbody tr th {\n",
       "        vertical-align: top;\n",
       "    }\n",
       "\n",
       "    .dataframe thead th {\n",
       "        text-align: right;\n",
       "    }\n",
       "</style>\n",
       "<table border=\"1\" class=\"dataframe\">\n",
       "  <thead>\n",
       "    <tr style=\"text-align: right;\">\n",
       "      <th></th>\n",
       "      <th></th>\n",
       "      <th>InvoiceNo</th>\n",
       "      <th>StockCode</th>\n",
       "      <th>Description</th>\n",
       "      <th>Quantity</th>\n",
       "      <th>UnitPrice</th>\n",
       "      <th>CustomerID</th>\n",
       "    </tr>\n",
       "    <tr>\n",
       "      <th>Country</th>\n",
       "      <th>InvoiceDate</th>\n",
       "      <th></th>\n",
       "      <th></th>\n",
       "      <th></th>\n",
       "      <th></th>\n",
       "      <th></th>\n",
       "      <th></th>\n",
       "    </tr>\n",
       "  </thead>\n",
       "  <tbody>\n",
       "    <tr>\n",
       "      <th rowspan=\"5\" valign=\"top\">United Kingdom</th>\n",
       "      <th>12/1/2010 8:26</th>\n",
       "      <td>536365</td>\n",
       "      <td>85123A</td>\n",
       "      <td>WHITE HANGING HEART T-LIGHT HOLDER</td>\n",
       "      <td>6</td>\n",
       "      <td>2.55</td>\n",
       "      <td>17850.0</td>\n",
       "    </tr>\n",
       "    <tr>\n",
       "      <th>12/1/2010 8:26</th>\n",
       "      <td>536365</td>\n",
       "      <td>71053</td>\n",
       "      <td>WHITE METAL LANTERN</td>\n",
       "      <td>6</td>\n",
       "      <td>3.39</td>\n",
       "      <td>17850.0</td>\n",
       "    </tr>\n",
       "    <tr>\n",
       "      <th>12/1/2010 8:26</th>\n",
       "      <td>536365</td>\n",
       "      <td>84406B</td>\n",
       "      <td>CREAM CUPID HEARTS COAT HANGER</td>\n",
       "      <td>8</td>\n",
       "      <td>2.75</td>\n",
       "      <td>17850.0</td>\n",
       "    </tr>\n",
       "    <tr>\n",
       "      <th>12/1/2010 8:26</th>\n",
       "      <td>536365</td>\n",
       "      <td>84029G</td>\n",
       "      <td>KNITTED UNION FLAG HOT WATER BOTTLE</td>\n",
       "      <td>6</td>\n",
       "      <td>3.39</td>\n",
       "      <td>17850.0</td>\n",
       "    </tr>\n",
       "    <tr>\n",
       "      <th>12/1/2010 8:26</th>\n",
       "      <td>536365</td>\n",
       "      <td>84029E</td>\n",
       "      <td>RED WOOLLY HOTTIE WHITE HEART.</td>\n",
       "      <td>6</td>\n",
       "      <td>3.39</td>\n",
       "      <td>17850.0</td>\n",
       "    </tr>\n",
       "    <tr>\n",
       "      <th>...</th>\n",
       "      <th>...</th>\n",
       "      <td>...</td>\n",
       "      <td>...</td>\n",
       "      <td>...</td>\n",
       "      <td>...</td>\n",
       "      <td>...</td>\n",
       "      <td>...</td>\n",
       "    </tr>\n",
       "    <tr>\n",
       "      <th rowspan=\"5\" valign=\"top\">France</th>\n",
       "      <th>12/9/2011 12:50</th>\n",
       "      <td>581587</td>\n",
       "      <td>22613</td>\n",
       "      <td>PACK OF 20 SPACEBOY NAPKINS</td>\n",
       "      <td>12</td>\n",
       "      <td>0.85</td>\n",
       "      <td>12680.0</td>\n",
       "    </tr>\n",
       "    <tr>\n",
       "      <th>12/9/2011 12:50</th>\n",
       "      <td>581587</td>\n",
       "      <td>22899</td>\n",
       "      <td>CHILDREN'S APRON DOLLY GIRL</td>\n",
       "      <td>6</td>\n",
       "      <td>2.10</td>\n",
       "      <td>12680.0</td>\n",
       "    </tr>\n",
       "    <tr>\n",
       "      <th>12/9/2011 12:50</th>\n",
       "      <td>581587</td>\n",
       "      <td>23254</td>\n",
       "      <td>CHILDRENS CUTLERY DOLLY GIRL</td>\n",
       "      <td>4</td>\n",
       "      <td>4.15</td>\n",
       "      <td>12680.0</td>\n",
       "    </tr>\n",
       "    <tr>\n",
       "      <th>12/9/2011 12:50</th>\n",
       "      <td>581587</td>\n",
       "      <td>23255</td>\n",
       "      <td>CHILDRENS CUTLERY CIRCUS PARADE</td>\n",
       "      <td>4</td>\n",
       "      <td>4.15</td>\n",
       "      <td>12680.0</td>\n",
       "    </tr>\n",
       "    <tr>\n",
       "      <th>12/9/2011 12:50</th>\n",
       "      <td>581587</td>\n",
       "      <td>22138</td>\n",
       "      <td>BAKING SET 9 PIECE RETROSPOT</td>\n",
       "      <td>3</td>\n",
       "      <td>4.95</td>\n",
       "      <td>12680.0</td>\n",
       "    </tr>\n",
       "  </tbody>\n",
       "</table>\n",
       "<p>541909 rows × 6 columns</p>\n",
       "</div>"
      ],
      "text/plain": [
       "                               InvoiceNo StockCode  \\\n",
       "Country        InvoiceDate                           \n",
       "United Kingdom 12/1/2010 8:26     536365    85123A   \n",
       "               12/1/2010 8:26     536365     71053   \n",
       "               12/1/2010 8:26     536365    84406B   \n",
       "               12/1/2010 8:26     536365    84029G   \n",
       "               12/1/2010 8:26     536365    84029E   \n",
       "...                                  ...       ...   \n",
       "France         12/9/2011 12:50    581587     22613   \n",
       "               12/9/2011 12:50    581587     22899   \n",
       "               12/9/2011 12:50    581587     23254   \n",
       "               12/9/2011 12:50    581587     23255   \n",
       "               12/9/2011 12:50    581587     22138   \n",
       "\n",
       "                                                        Description  Quantity  \\\n",
       "Country        InvoiceDate                                                      \n",
       "United Kingdom 12/1/2010 8:26    WHITE HANGING HEART T-LIGHT HOLDER         6   \n",
       "               12/1/2010 8:26                   WHITE METAL LANTERN         6   \n",
       "               12/1/2010 8:26        CREAM CUPID HEARTS COAT HANGER         8   \n",
       "               12/1/2010 8:26   KNITTED UNION FLAG HOT WATER BOTTLE         6   \n",
       "               12/1/2010 8:26        RED WOOLLY HOTTIE WHITE HEART.         6   \n",
       "...                                                             ...       ...   \n",
       "France         12/9/2011 12:50          PACK OF 20 SPACEBOY NAPKINS        12   \n",
       "               12/9/2011 12:50         CHILDREN'S APRON DOLLY GIRL          6   \n",
       "               12/9/2011 12:50        CHILDRENS CUTLERY DOLLY GIRL          4   \n",
       "               12/9/2011 12:50      CHILDRENS CUTLERY CIRCUS PARADE         4   \n",
       "               12/9/2011 12:50        BAKING SET 9 PIECE RETROSPOT          3   \n",
       "\n",
       "                                UnitPrice  CustomerID  \n",
       "Country        InvoiceDate                             \n",
       "United Kingdom 12/1/2010 8:26        2.55     17850.0  \n",
       "               12/1/2010 8:26        3.39     17850.0  \n",
       "               12/1/2010 8:26        2.75     17850.0  \n",
       "               12/1/2010 8:26        3.39     17850.0  \n",
       "               12/1/2010 8:26        3.39     17850.0  \n",
       "...                                   ...         ...  \n",
       "France         12/9/2011 12:50       0.85     12680.0  \n",
       "               12/9/2011 12:50       2.10     12680.0  \n",
       "               12/9/2011 12:50       4.15     12680.0  \n",
       "               12/9/2011 12:50       4.15     12680.0  \n",
       "               12/9/2011 12:50       4.95     12680.0  \n",
       "\n",
       "[541909 rows x 6 columns]"
      ]
     },
     "execution_count": 22,
     "metadata": {},
     "output_type": "execute_result"
    }
   ],
   "source": [
    "sales_df = pd.read_csv('ecommerce_sales.csv', encoding = 'unicode_escape')\n",
    "sales_df.set_index(keys = [\"Country\", \"InvoiceDate\"], inplace = True)\n",
    "sales_df"
   ]
  },
  {
   "cell_type": "code",
   "execution_count": 23,
   "metadata": {
    "colab": {
     "base_uri": "https://localhost:8080/"
    },
    "executionInfo": {
     "elapsed": 644,
     "status": "ok",
     "timestamp": 1618723238181,
     "user": {
      "displayName": "Stemplicity",
      "photoUrl": "https://lh3.googleusercontent.com/a-/AOh14Gj2vCFt-bD5mPBhUWX0QA6xiBgoXQXtwUm2jgjaCg=s64",
      "userId": "10668071569687886186"
     },
     "user_tz": 240
    },
    "id": "sYxbJcZnmVS2",
    "outputId": "a9c0711f-1773-4bf8-8575-d6fa20f1b8dc"
   },
   "outputs": [
    {
     "data": {
      "text/plain": [
       "Index(['United Kingdom', 'United Kingdom', 'United Kingdom', 'United Kingdom',\n",
       "       'United Kingdom', 'United Kingdom', 'United Kingdom', 'United Kingdom',\n",
       "       'United Kingdom', 'United Kingdom',\n",
       "       ...\n",
       "       'France', 'France', 'France', 'France', 'France', 'France', 'France',\n",
       "       'France', 'France', 'France'],\n",
       "      dtype='object', name='Country', length=541909)"
      ]
     },
     "execution_count": 23,
     "metadata": {},
     "output_type": "execute_result"
    }
   ],
   "source": [
    "sales_df.index.get_level_values(0)"
   ]
  },
  {
   "cell_type": "code",
   "execution_count": 24,
   "metadata": {
    "colab": {
     "base_uri": "https://localhost:8080/"
    },
    "executionInfo": {
     "elapsed": 1044,
     "status": "ok",
     "timestamp": 1618723239033,
     "user": {
      "displayName": "Stemplicity",
      "photoUrl": "https://lh3.googleusercontent.com/a-/AOh14Gj2vCFt-bD5mPBhUWX0QA6xiBgoXQXtwUm2jgjaCg=s64",
      "userId": "10668071569687886186"
     },
     "user_tz": 240
    },
    "id": "M-YKNsOqmVVA",
    "outputId": "263154aa-a4dd-4cec-9515-da90ae21cef5"
   },
   "outputs": [
    {
     "data": {
      "text/plain": [
       "Index(['12/1/2010 8:26', '12/1/2010 8:26', '12/1/2010 8:26', '12/1/2010 8:26',\n",
       "       '12/1/2010 8:26', '12/1/2010 8:26', '12/1/2010 8:26', '12/1/2010 8:28',\n",
       "       '12/1/2010 8:28', '12/1/2010 8:34',\n",
       "       ...\n",
       "       '12/9/2011 12:50', '12/9/2011 12:50', '12/9/2011 12:50',\n",
       "       '12/9/2011 12:50', '12/9/2011 12:50', '12/9/2011 12:50',\n",
       "       '12/9/2011 12:50', '12/9/2011 12:50', '12/9/2011 12:50',\n",
       "       '12/9/2011 12:50'],\n",
       "      dtype='object', name='InvoiceDate', length=541909)"
      ]
     },
     "execution_count": 24,
     "metadata": {},
     "output_type": "execute_result"
    }
   ],
   "source": [
    "sales_df.index.get_level_values(1)"
   ]
  },
  {
   "cell_type": "code",
   "execution_count": 25,
   "metadata": {
    "colab": {
     "base_uri": "https://localhost:8080/"
    },
    "executionInfo": {
     "elapsed": 1085,
     "status": "ok",
     "timestamp": 1618723239381,
     "user": {
      "displayName": "Stemplicity",
      "photoUrl": "https://lh3.googleusercontent.com/a-/AOh14Gj2vCFt-bD5mPBhUWX0QA6xiBgoXQXtwUm2jgjaCg=s64",
      "userId": "10668071569687886186"
     },
     "user_tz": 240
    },
    "id": "uzjCn7gWmVXi",
    "outputId": "251d13a4-38a1-45d3-fbef-24bc9732ad15"
   },
   "outputs": [
    {
     "data": {
      "text/plain": [
       "Index(['United Kingdom', 'United Kingdom', 'United Kingdom', 'United Kingdom',\n",
       "       'United Kingdom', 'United Kingdom', 'United Kingdom', 'United Kingdom',\n",
       "       'United Kingdom', 'United Kingdom',\n",
       "       ...\n",
       "       'France', 'France', 'France', 'France', 'France', 'France', 'France',\n",
       "       'France', 'France', 'France'],\n",
       "      dtype='object', name='Country', length=541909)"
      ]
     },
     "execution_count": 25,
     "metadata": {},
     "output_type": "execute_result"
    }
   ],
   "source": [
    "sales_df.index.get_level_values(\"Country\")"
   ]
  },
  {
   "cell_type": "code",
   "execution_count": 26,
   "metadata": {
    "colab": {
     "base_uri": "https://localhost:8080/"
    },
    "executionInfo": {
     "elapsed": 900,
     "status": "ok",
     "timestamp": 1618723239381,
     "user": {
      "displayName": "Stemplicity",
      "photoUrl": "https://lh3.googleusercontent.com/a-/AOh14Gj2vCFt-bD5mPBhUWX0QA6xiBgoXQXtwUm2jgjaCg=s64",
      "userId": "10668071569687886186"
     },
     "user_tz": 240
    },
    "id": "7m8lVXpNmVad",
    "outputId": "b8db61ea-010e-4ba4-b98e-ced7439a8918"
   },
   "outputs": [
    {
     "data": {
      "text/plain": [
       "Index(['12/1/2010 8:26', '12/1/2010 8:26', '12/1/2010 8:26', '12/1/2010 8:26',\n",
       "       '12/1/2010 8:26', '12/1/2010 8:26', '12/1/2010 8:26', '12/1/2010 8:28',\n",
       "       '12/1/2010 8:28', '12/1/2010 8:34',\n",
       "       ...\n",
       "       '12/9/2011 12:50', '12/9/2011 12:50', '12/9/2011 12:50',\n",
       "       '12/9/2011 12:50', '12/9/2011 12:50', '12/9/2011 12:50',\n",
       "       '12/9/2011 12:50', '12/9/2011 12:50', '12/9/2011 12:50',\n",
       "       '12/9/2011 12:50'],\n",
       "      dtype='object', name='InvoiceDate', length=541909)"
      ]
     },
     "execution_count": 26,
     "metadata": {},
     "output_type": "execute_result"
    }
   ],
   "source": [
    "sales_df.index.get_level_values(\"InvoiceDate\")"
   ]
  },
  {
   "cell_type": "code",
   "execution_count": 27,
   "metadata": {
    "colab": {
     "base_uri": "https://localhost:8080/",
     "height": 431
    },
    "executionInfo": {
     "elapsed": 1119,
     "status": "ok",
     "timestamp": 1618723239875,
     "user": {
      "displayName": "Stemplicity",
      "photoUrl": "https://lh3.googleusercontent.com/a-/AOh14Gj2vCFt-bD5mPBhUWX0QA6xiBgoXQXtwUm2jgjaCg=s64",
      "userId": "10668071569687886186"
     },
     "user_tz": 240
    },
    "id": "-NRh69EImVcQ",
    "outputId": "1fb90eef-74fb-4eea-cacf-502ebe7a0842"
   },
   "outputs": [
    {
     "data": {
      "text/html": [
       "<div>\n",
       "<style scoped>\n",
       "    .dataframe tbody tr th:only-of-type {\n",
       "        vertical-align: middle;\n",
       "    }\n",
       "\n",
       "    .dataframe tbody tr th {\n",
       "        vertical-align: top;\n",
       "    }\n",
       "\n",
       "    .dataframe thead th {\n",
       "        text-align: right;\n",
       "    }\n",
       "</style>\n",
       "<table border=\"1\" class=\"dataframe\">\n",
       "  <thead>\n",
       "    <tr style=\"text-align: right;\">\n",
       "      <th></th>\n",
       "      <th></th>\n",
       "      <th>InvoiceNo</th>\n",
       "      <th>StockCode</th>\n",
       "      <th>Description</th>\n",
       "      <th>Quantity</th>\n",
       "      <th>UnitPrice</th>\n",
       "      <th>CustomerID</th>\n",
       "    </tr>\n",
       "    <tr>\n",
       "      <th>Transaction Date</th>\n",
       "      <th>Transaction Location</th>\n",
       "      <th></th>\n",
       "      <th></th>\n",
       "      <th></th>\n",
       "      <th></th>\n",
       "      <th></th>\n",
       "      <th></th>\n",
       "    </tr>\n",
       "  </thead>\n",
       "  <tbody>\n",
       "    <tr>\n",
       "      <th rowspan=\"5\" valign=\"top\">United Kingdom</th>\n",
       "      <th>12/1/2010 8:26</th>\n",
       "      <td>536365</td>\n",
       "      <td>85123A</td>\n",
       "      <td>WHITE HANGING HEART T-LIGHT HOLDER</td>\n",
       "      <td>6</td>\n",
       "      <td>2.55</td>\n",
       "      <td>17850.0</td>\n",
       "    </tr>\n",
       "    <tr>\n",
       "      <th>12/1/2010 8:26</th>\n",
       "      <td>536365</td>\n",
       "      <td>71053</td>\n",
       "      <td>WHITE METAL LANTERN</td>\n",
       "      <td>6</td>\n",
       "      <td>3.39</td>\n",
       "      <td>17850.0</td>\n",
       "    </tr>\n",
       "    <tr>\n",
       "      <th>12/1/2010 8:26</th>\n",
       "      <td>536365</td>\n",
       "      <td>84406B</td>\n",
       "      <td>CREAM CUPID HEARTS COAT HANGER</td>\n",
       "      <td>8</td>\n",
       "      <td>2.75</td>\n",
       "      <td>17850.0</td>\n",
       "    </tr>\n",
       "    <tr>\n",
       "      <th>12/1/2010 8:26</th>\n",
       "      <td>536365</td>\n",
       "      <td>84029G</td>\n",
       "      <td>KNITTED UNION FLAG HOT WATER BOTTLE</td>\n",
       "      <td>6</td>\n",
       "      <td>3.39</td>\n",
       "      <td>17850.0</td>\n",
       "    </tr>\n",
       "    <tr>\n",
       "      <th>12/1/2010 8:26</th>\n",
       "      <td>536365</td>\n",
       "      <td>84029E</td>\n",
       "      <td>RED WOOLLY HOTTIE WHITE HEART.</td>\n",
       "      <td>6</td>\n",
       "      <td>3.39</td>\n",
       "      <td>17850.0</td>\n",
       "    </tr>\n",
       "    <tr>\n",
       "      <th>...</th>\n",
       "      <th>...</th>\n",
       "      <td>...</td>\n",
       "      <td>...</td>\n",
       "      <td>...</td>\n",
       "      <td>...</td>\n",
       "      <td>...</td>\n",
       "      <td>...</td>\n",
       "    </tr>\n",
       "    <tr>\n",
       "      <th rowspan=\"5\" valign=\"top\">France</th>\n",
       "      <th>12/9/2011 12:50</th>\n",
       "      <td>581587</td>\n",
       "      <td>22613</td>\n",
       "      <td>PACK OF 20 SPACEBOY NAPKINS</td>\n",
       "      <td>12</td>\n",
       "      <td>0.85</td>\n",
       "      <td>12680.0</td>\n",
       "    </tr>\n",
       "    <tr>\n",
       "      <th>12/9/2011 12:50</th>\n",
       "      <td>581587</td>\n",
       "      <td>22899</td>\n",
       "      <td>CHILDREN'S APRON DOLLY GIRL</td>\n",
       "      <td>6</td>\n",
       "      <td>2.10</td>\n",
       "      <td>12680.0</td>\n",
       "    </tr>\n",
       "    <tr>\n",
       "      <th>12/9/2011 12:50</th>\n",
       "      <td>581587</td>\n",
       "      <td>23254</td>\n",
       "      <td>CHILDRENS CUTLERY DOLLY GIRL</td>\n",
       "      <td>4</td>\n",
       "      <td>4.15</td>\n",
       "      <td>12680.0</td>\n",
       "    </tr>\n",
       "    <tr>\n",
       "      <th>12/9/2011 12:50</th>\n",
       "      <td>581587</td>\n",
       "      <td>23255</td>\n",
       "      <td>CHILDRENS CUTLERY CIRCUS PARADE</td>\n",
       "      <td>4</td>\n",
       "      <td>4.15</td>\n",
       "      <td>12680.0</td>\n",
       "    </tr>\n",
       "    <tr>\n",
       "      <th>12/9/2011 12:50</th>\n",
       "      <td>581587</td>\n",
       "      <td>22138</td>\n",
       "      <td>BAKING SET 9 PIECE RETROSPOT</td>\n",
       "      <td>3</td>\n",
       "      <td>4.95</td>\n",
       "      <td>12680.0</td>\n",
       "    </tr>\n",
       "  </tbody>\n",
       "</table>\n",
       "<p>541909 rows × 6 columns</p>\n",
       "</div>"
      ],
      "text/plain": [
       "                                      InvoiceNo StockCode  \\\n",
       "Transaction Date Transaction Location                       \n",
       "United Kingdom   12/1/2010 8:26          536365    85123A   \n",
       "                 12/1/2010 8:26          536365     71053   \n",
       "                 12/1/2010 8:26          536365    84406B   \n",
       "                 12/1/2010 8:26          536365    84029G   \n",
       "                 12/1/2010 8:26          536365    84029E   \n",
       "...                                         ...       ...   \n",
       "France           12/9/2011 12:50         581587     22613   \n",
       "                 12/9/2011 12:50         581587     22899   \n",
       "                 12/9/2011 12:50         581587     23254   \n",
       "                 12/9/2011 12:50         581587     23255   \n",
       "                 12/9/2011 12:50         581587     22138   \n",
       "\n",
       "                                                               Description  \\\n",
       "Transaction Date Transaction Location                                        \n",
       "United Kingdom   12/1/2010 8:26         WHITE HANGING HEART T-LIGHT HOLDER   \n",
       "                 12/1/2010 8:26                        WHITE METAL LANTERN   \n",
       "                 12/1/2010 8:26             CREAM CUPID HEARTS COAT HANGER   \n",
       "                 12/1/2010 8:26        KNITTED UNION FLAG HOT WATER BOTTLE   \n",
       "                 12/1/2010 8:26             RED WOOLLY HOTTIE WHITE HEART.   \n",
       "...                                                                    ...   \n",
       "France           12/9/2011 12:50               PACK OF 20 SPACEBOY NAPKINS   \n",
       "                 12/9/2011 12:50              CHILDREN'S APRON DOLLY GIRL    \n",
       "                 12/9/2011 12:50             CHILDRENS CUTLERY DOLLY GIRL    \n",
       "                 12/9/2011 12:50           CHILDRENS CUTLERY CIRCUS PARADE   \n",
       "                 12/9/2011 12:50             BAKING SET 9 PIECE RETROSPOT    \n",
       "\n",
       "                                       Quantity  UnitPrice  CustomerID  \n",
       "Transaction Date Transaction Location                                   \n",
       "United Kingdom   12/1/2010 8:26               6       2.55     17850.0  \n",
       "                 12/1/2010 8:26               6       3.39     17850.0  \n",
       "                 12/1/2010 8:26               8       2.75     17850.0  \n",
       "                 12/1/2010 8:26               6       3.39     17850.0  \n",
       "                 12/1/2010 8:26               6       3.39     17850.0  \n",
       "...                                         ...        ...         ...  \n",
       "France           12/9/2011 12:50             12       0.85     12680.0  \n",
       "                 12/9/2011 12:50              6       2.10     12680.0  \n",
       "                 12/9/2011 12:50              4       4.15     12680.0  \n",
       "                 12/9/2011 12:50              4       4.15     12680.0  \n",
       "                 12/9/2011 12:50              3       4.95     12680.0  \n",
       "\n",
       "[541909 rows x 6 columns]"
      ]
     },
     "execution_count": 27,
     "metadata": {},
     "output_type": "execute_result"
    }
   ],
   "source": [
    "# You can change the names of the DataFrame by invoking the set_names method\n",
    "sales_df.index.set_names(names = ['Transaction Date', 'Transaction Location'], inplace = True)\n",
    "sales_df"
   ]
  },
  {
   "cell_type": "markdown",
   "metadata": {
    "id": "YqGCOQvnaVQP"
   },
   "source": [
    "**MINI CHALLENGE #4:**\n",
    "- **Use InvoiceDate and Country in order as the multi-index**"
   ]
  },
  {
   "cell_type": "code",
   "execution_count": null,
   "metadata": {
    "executionInfo": {
     "elapsed": 1226,
     "status": "ok",
     "timestamp": 1618723241008,
     "user": {
      "displayName": "Stemplicity",
      "photoUrl": "https://lh3.googleusercontent.com/a-/AOh14Gj2vCFt-bD5mPBhUWX0QA6xiBgoXQXtwUm2jgjaCg=s64",
      "userId": "10668071569687886186"
     },
     "user_tz": 240
    },
    "id": "0YwPgE6PalfV"
   },
   "outputs": [],
   "source": []
  },
  {
   "cell_type": "markdown",
   "metadata": {
    "id": "vHHj-T8RYnu8"
   },
   "source": [
    "# TASK #5. MULTI-INDEXING OPERATIONS - PART #2"
   ]
  },
  {
   "cell_type": "code",
   "execution_count": 28,
   "metadata": {
    "colab": {
     "base_uri": "https://localhost:8080/",
     "height": 431
    },
    "executionInfo": {
     "elapsed": 1764,
     "status": "ok",
     "timestamp": 1618723688777,
     "user": {
      "displayName": "Stemplicity",
      "photoUrl": "https://lh3.googleusercontent.com/a-/AOh14Gj2vCFt-bD5mPBhUWX0QA6xiBgoXQXtwUm2jgjaCg=s64",
      "userId": "10668071569687886186"
     },
     "user_tz": 240
    },
    "id": "BIuOHrxCctUX",
    "outputId": "5d1192d8-e813-4b2f-d536-3025e50549a3"
   },
   "outputs": [
    {
     "data": {
      "text/html": [
       "<div>\n",
       "<style scoped>\n",
       "    .dataframe tbody tr th:only-of-type {\n",
       "        vertical-align: middle;\n",
       "    }\n",
       "\n",
       "    .dataframe tbody tr th {\n",
       "        vertical-align: top;\n",
       "    }\n",
       "\n",
       "    .dataframe thead th {\n",
       "        text-align: right;\n",
       "    }\n",
       "</style>\n",
       "<table border=\"1\" class=\"dataframe\">\n",
       "  <thead>\n",
       "    <tr style=\"text-align: right;\">\n",
       "      <th></th>\n",
       "      <th></th>\n",
       "      <th>InvoiceNo</th>\n",
       "      <th>StockCode</th>\n",
       "      <th>Description</th>\n",
       "      <th>Quantity</th>\n",
       "      <th>UnitPrice</th>\n",
       "      <th>CustomerID</th>\n",
       "    </tr>\n",
       "    <tr>\n",
       "      <th>Country</th>\n",
       "      <th>InvoiceDate</th>\n",
       "      <th></th>\n",
       "      <th></th>\n",
       "      <th></th>\n",
       "      <th></th>\n",
       "      <th></th>\n",
       "      <th></th>\n",
       "    </tr>\n",
       "  </thead>\n",
       "  <tbody>\n",
       "    <tr>\n",
       "      <th rowspan=\"5\" valign=\"top\">Australia</th>\n",
       "      <th>1/10/2011 9:58</th>\n",
       "      <td>540557</td>\n",
       "      <td>22523</td>\n",
       "      <td>CHILDS GARDEN FORK PINK</td>\n",
       "      <td>96</td>\n",
       "      <td>0.85</td>\n",
       "      <td>12415.0</td>\n",
       "    </tr>\n",
       "    <tr>\n",
       "      <th>1/11/2011 9:47</th>\n",
       "      <td>540700</td>\n",
       "      <td>21581</td>\n",
       "      <td>SKULLS  DESIGN  COTTON TOTE BAG</td>\n",
       "      <td>6</td>\n",
       "      <td>2.25</td>\n",
       "      <td>12393.0</td>\n",
       "    </tr>\n",
       "    <tr>\n",
       "      <th>1/11/2011 9:47</th>\n",
       "      <td>540700</td>\n",
       "      <td>22619</td>\n",
       "      <td>SET OF 6 SOLDIER SKITTLES</td>\n",
       "      <td>8</td>\n",
       "      <td>3.75</td>\n",
       "      <td>12393.0</td>\n",
       "    </tr>\n",
       "    <tr>\n",
       "      <th>1/11/2011 9:47</th>\n",
       "      <td>540700</td>\n",
       "      <td>84997B</td>\n",
       "      <td>RED 3 PIECE RETROSPOT CUTLERY SET</td>\n",
       "      <td>6</td>\n",
       "      <td>3.75</td>\n",
       "      <td>12393.0</td>\n",
       "    </tr>\n",
       "    <tr>\n",
       "      <th>1/11/2011 9:47</th>\n",
       "      <td>540700</td>\n",
       "      <td>20727</td>\n",
       "      <td>LUNCH BAG  BLACK SKULL.</td>\n",
       "      <td>20</td>\n",
       "      <td>1.65</td>\n",
       "      <td>12393.0</td>\n",
       "    </tr>\n",
       "    <tr>\n",
       "      <th>...</th>\n",
       "      <th>...</th>\n",
       "      <td>...</td>\n",
       "      <td>...</td>\n",
       "      <td>...</td>\n",
       "      <td>...</td>\n",
       "      <td>...</td>\n",
       "      <td>...</td>\n",
       "    </tr>\n",
       "    <tr>\n",
       "      <th rowspan=\"5\" valign=\"top\">Unspecified</th>\n",
       "      <th>9/2/2011 12:17</th>\n",
       "      <td>565303</td>\n",
       "      <td>85227</td>\n",
       "      <td>SET OF 6 3D KIT CARDS FOR KIDS</td>\n",
       "      <td>4</td>\n",
       "      <td>0.85</td>\n",
       "      <td>NaN</td>\n",
       "    </tr>\n",
       "    <tr>\n",
       "      <th>9/2/2011 12:17</th>\n",
       "      <td>565303</td>\n",
       "      <td>22138</td>\n",
       "      <td>BAKING SET 9 PIECE RETROSPOT</td>\n",
       "      <td>2</td>\n",
       "      <td>4.95</td>\n",
       "      <td>NaN</td>\n",
       "    </tr>\n",
       "    <tr>\n",
       "      <th>9/2/2011 12:17</th>\n",
       "      <td>565303</td>\n",
       "      <td>21889</td>\n",
       "      <td>WOODEN BOX OF DOMINOES</td>\n",
       "      <td>5</td>\n",
       "      <td>1.25</td>\n",
       "      <td>NaN</td>\n",
       "    </tr>\n",
       "    <tr>\n",
       "      <th>9/2/2011 12:17</th>\n",
       "      <td>565303</td>\n",
       "      <td>22550</td>\n",
       "      <td>HOLIDAY FUN LUDO</td>\n",
       "      <td>2</td>\n",
       "      <td>3.75</td>\n",
       "      <td>NaN</td>\n",
       "    </tr>\n",
       "    <tr>\n",
       "      <th>9/2/2011 12:17</th>\n",
       "      <td>565303</td>\n",
       "      <td>23127</td>\n",
       "      <td>FELTCRAFT GIRL NICOLE KIT</td>\n",
       "      <td>1</td>\n",
       "      <td>4.95</td>\n",
       "      <td>NaN</td>\n",
       "    </tr>\n",
       "  </tbody>\n",
       "</table>\n",
       "<p>541909 rows × 6 columns</p>\n",
       "</div>"
      ],
      "text/plain": [
       "                           InvoiceNo StockCode  \\\n",
       "Country     InvoiceDate                          \n",
       "Australia   1/10/2011 9:58    540557     22523   \n",
       "            1/11/2011 9:47    540700     21581   \n",
       "            1/11/2011 9:47    540700     22619   \n",
       "            1/11/2011 9:47    540700    84997B   \n",
       "            1/11/2011 9:47    540700     20727   \n",
       "...                              ...       ...   \n",
       "Unspecified 9/2/2011 12:17    565303     85227   \n",
       "            9/2/2011 12:17    565303     22138   \n",
       "            9/2/2011 12:17    565303     21889   \n",
       "            9/2/2011 12:17    565303     22550   \n",
       "            9/2/2011 12:17    565303     23127   \n",
       "\n",
       "                                                  Description  Quantity  \\\n",
       "Country     InvoiceDate                                                   \n",
       "Australia   1/10/2011 9:58            CHILDS GARDEN FORK PINK        96   \n",
       "            1/11/2011 9:47    SKULLS  DESIGN  COTTON TOTE BAG         6   \n",
       "            1/11/2011 9:47          SET OF 6 SOLDIER SKITTLES         8   \n",
       "            1/11/2011 9:47  RED 3 PIECE RETROSPOT CUTLERY SET         6   \n",
       "            1/11/2011 9:47            LUNCH BAG  BLACK SKULL.        20   \n",
       "...                                                       ...       ...   \n",
       "Unspecified 9/2/2011 12:17     SET OF 6 3D KIT CARDS FOR KIDS         4   \n",
       "            9/2/2011 12:17      BAKING SET 9 PIECE RETROSPOT          2   \n",
       "            9/2/2011 12:17             WOODEN BOX OF DOMINOES         5   \n",
       "            9/2/2011 12:17                   HOLIDAY FUN LUDO         2   \n",
       "            9/2/2011 12:17          FELTCRAFT GIRL NICOLE KIT         1   \n",
       "\n",
       "                            UnitPrice  CustomerID  \n",
       "Country     InvoiceDate                            \n",
       "Australia   1/10/2011 9:58       0.85     12415.0  \n",
       "            1/11/2011 9:47       2.25     12393.0  \n",
       "            1/11/2011 9:47       3.75     12393.0  \n",
       "            1/11/2011 9:47       3.75     12393.0  \n",
       "            1/11/2011 9:47       1.65     12393.0  \n",
       "...                               ...         ...  \n",
       "Unspecified 9/2/2011 12:17       0.85         NaN  \n",
       "            9/2/2011 12:17       4.95         NaN  \n",
       "            9/2/2011 12:17       1.25         NaN  \n",
       "            9/2/2011 12:17       3.75         NaN  \n",
       "            9/2/2011 12:17       4.95         NaN  \n",
       "\n",
       "[541909 rows x 6 columns]"
      ]
     },
     "execution_count": 28,
     "metadata": {},
     "output_type": "execute_result"
    }
   ],
   "source": [
    "sales_df = pd.read_csv('ecommerce_sales.csv', encoding = 'unicode_escape')\n",
    "sales_df.set_index(keys = [\"Country\", \"InvoiceDate\"], inplace = True)\n",
    "# Sort countries to start with alphabetical order\n",
    "sales_df.sort_index(inplace = True)\n",
    "sales_df"
   ]
  },
  {
   "cell_type": "code",
   "execution_count": 29,
   "metadata": {
    "colab": {
     "base_uri": "https://localhost:8080/",
     "height": 639
    },
    "executionInfo": {
     "elapsed": 462,
     "status": "ok",
     "timestamp": 1618723693816,
     "user": {
      "displayName": "Stemplicity",
      "photoUrl": "https://lh3.googleusercontent.com/a-/AOh14Gj2vCFt-bD5mPBhUWX0QA6xiBgoXQXtwUm2jgjaCg=s64",
      "userId": "10668071569687886186"
     },
     "user_tz": 240
    },
    "id": "UpKX3zQnmVf8",
    "outputId": "66ce3b09-7b56-4a6f-fc39-a7a532e0a3f8"
   },
   "outputs": [
    {
     "data": {
      "text/html": [
       "<div>\n",
       "<style scoped>\n",
       "    .dataframe tbody tr th:only-of-type {\n",
       "        vertical-align: middle;\n",
       "    }\n",
       "\n",
       "    .dataframe tbody tr th {\n",
       "        vertical-align: top;\n",
       "    }\n",
       "\n",
       "    .dataframe thead th {\n",
       "        text-align: right;\n",
       "    }\n",
       "</style>\n",
       "<table border=\"1\" class=\"dataframe\">\n",
       "  <thead>\n",
       "    <tr style=\"text-align: right;\">\n",
       "      <th></th>\n",
       "      <th></th>\n",
       "      <th>InvoiceNo</th>\n",
       "      <th>StockCode</th>\n",
       "      <th>Description</th>\n",
       "      <th>Quantity</th>\n",
       "      <th>UnitPrice</th>\n",
       "      <th>CustomerID</th>\n",
       "    </tr>\n",
       "    <tr>\n",
       "      <th>Country</th>\n",
       "      <th>InvoiceDate</th>\n",
       "      <th></th>\n",
       "      <th></th>\n",
       "      <th></th>\n",
       "      <th></th>\n",
       "      <th></th>\n",
       "      <th></th>\n",
       "    </tr>\n",
       "  </thead>\n",
       "  <tbody>\n",
       "    <tr>\n",
       "      <th rowspan=\"19\" valign=\"top\">Australia</th>\n",
       "      <th>1/11/2011 9:47</th>\n",
       "      <td>540700</td>\n",
       "      <td>21581</td>\n",
       "      <td>SKULLS  DESIGN  COTTON TOTE BAG</td>\n",
       "      <td>6</td>\n",
       "      <td>2.25</td>\n",
       "      <td>12393.0</td>\n",
       "    </tr>\n",
       "    <tr>\n",
       "      <th>1/11/2011 9:47</th>\n",
       "      <td>540700</td>\n",
       "      <td>22619</td>\n",
       "      <td>SET OF 6 SOLDIER SKITTLES</td>\n",
       "      <td>8</td>\n",
       "      <td>3.75</td>\n",
       "      <td>12393.0</td>\n",
       "    </tr>\n",
       "    <tr>\n",
       "      <th>1/11/2011 9:47</th>\n",
       "      <td>540700</td>\n",
       "      <td>84997B</td>\n",
       "      <td>RED 3 PIECE RETROSPOT CUTLERY SET</td>\n",
       "      <td>6</td>\n",
       "      <td>3.75</td>\n",
       "      <td>12393.0</td>\n",
       "    </tr>\n",
       "    <tr>\n",
       "      <th>1/11/2011 9:47</th>\n",
       "      <td>540700</td>\n",
       "      <td>20727</td>\n",
       "      <td>LUNCH BAG  BLACK SKULL.</td>\n",
       "      <td>20</td>\n",
       "      <td>1.65</td>\n",
       "      <td>12393.0</td>\n",
       "    </tr>\n",
       "    <tr>\n",
       "      <th>1/11/2011 9:47</th>\n",
       "      <td>540700</td>\n",
       "      <td>20726</td>\n",
       "      <td>LUNCH BAG WOODLAND</td>\n",
       "      <td>20</td>\n",
       "      <td>1.65</td>\n",
       "      <td>12393.0</td>\n",
       "    </tr>\n",
       "    <tr>\n",
       "      <th>1/11/2011 9:47</th>\n",
       "      <td>540700</td>\n",
       "      <td>22383</td>\n",
       "      <td>LUNCH BAG SUKI  DESIGN</td>\n",
       "      <td>10</td>\n",
       "      <td>1.65</td>\n",
       "      <td>12393.0</td>\n",
       "    </tr>\n",
       "    <tr>\n",
       "      <th>1/11/2011 9:47</th>\n",
       "      <td>540700</td>\n",
       "      <td>21249</td>\n",
       "      <td>WOODLAND  HEIGHT CHART STICKERS</td>\n",
       "      <td>6</td>\n",
       "      <td>2.95</td>\n",
       "      <td>12393.0</td>\n",
       "    </tr>\n",
       "    <tr>\n",
       "      <th>1/11/2011 9:47</th>\n",
       "      <td>540700</td>\n",
       "      <td>22378</td>\n",
       "      <td>WALL TIDY RETROSPOT</td>\n",
       "      <td>20</td>\n",
       "      <td>0.85</td>\n",
       "      <td>12393.0</td>\n",
       "    </tr>\n",
       "    <tr>\n",
       "      <th>1/11/2011 9:47</th>\n",
       "      <td>540700</td>\n",
       "      <td>22175</td>\n",
       "      <td>PINK OWL SOFT TOY</td>\n",
       "      <td>12</td>\n",
       "      <td>2.95</td>\n",
       "      <td>12393.0</td>\n",
       "    </tr>\n",
       "    <tr>\n",
       "      <th>1/11/2011 9:47</th>\n",
       "      <td>540700</td>\n",
       "      <td>22176</td>\n",
       "      <td>BLUE OWL SOFT TOY</td>\n",
       "      <td>12</td>\n",
       "      <td>2.95</td>\n",
       "      <td>12393.0</td>\n",
       "    </tr>\n",
       "    <tr>\n",
       "      <th>1/11/2011 9:47</th>\n",
       "      <td>540700</td>\n",
       "      <td>84997C</td>\n",
       "      <td>BLUE 3 PIECE POLKADOT CUTLERY SET</td>\n",
       "      <td>6</td>\n",
       "      <td>3.75</td>\n",
       "      <td>12393.0</td>\n",
       "    </tr>\n",
       "    <tr>\n",
       "      <th>1/11/2011 9:47</th>\n",
       "      <td>540700</td>\n",
       "      <td>20728</td>\n",
       "      <td>LUNCH BAG CARS BLUE</td>\n",
       "      <td>20</td>\n",
       "      <td>1.65</td>\n",
       "      <td>12393.0</td>\n",
       "    </tr>\n",
       "    <tr>\n",
       "      <th>1/11/2011 9:47</th>\n",
       "      <td>540700</td>\n",
       "      <td>22382</td>\n",
       "      <td>LUNCH BAG SPACEBOY DESIGN</td>\n",
       "      <td>20</td>\n",
       "      <td>1.65</td>\n",
       "      <td>12393.0</td>\n",
       "    </tr>\n",
       "    <tr>\n",
       "      <th>1/11/2011 9:47</th>\n",
       "      <td>540700</td>\n",
       "      <td>21915</td>\n",
       "      <td>RED  HARMONICA IN BOX</td>\n",
       "      <td>12</td>\n",
       "      <td>1.25</td>\n",
       "      <td>12393.0</td>\n",
       "    </tr>\n",
       "    <tr>\n",
       "      <th>1/11/2011 9:47</th>\n",
       "      <td>540700</td>\n",
       "      <td>22549</td>\n",
       "      <td>PICTURE DOMINOES</td>\n",
       "      <td>12</td>\n",
       "      <td>1.45</td>\n",
       "      <td>12393.0</td>\n",
       "    </tr>\n",
       "    <tr>\n",
       "      <th>1/11/2011 9:47</th>\n",
       "      <td>540700</td>\n",
       "      <td>21578</td>\n",
       "      <td>WOODLAND DESIGN  COTTON TOTE BAG</td>\n",
       "      <td>12</td>\n",
       "      <td>2.25</td>\n",
       "      <td>12393.0</td>\n",
       "    </tr>\n",
       "    <tr>\n",
       "      <th>1/11/2011 9:47</th>\n",
       "      <td>540700</td>\n",
       "      <td>21577</td>\n",
       "      <td>SAVE THE PLANET COTTON TOTE BAG</td>\n",
       "      <td>12</td>\n",
       "      <td>2.25</td>\n",
       "      <td>12393.0</td>\n",
       "    </tr>\n",
       "    <tr>\n",
       "      <th>1/11/2011 9:47</th>\n",
       "      <td>540700</td>\n",
       "      <td>22245</td>\n",
       "      <td>HOOK, 1 HANGER ,MAGIC GARDEN</td>\n",
       "      <td>12</td>\n",
       "      <td>0.85</td>\n",
       "      <td>12393.0</td>\n",
       "    </tr>\n",
       "    <tr>\n",
       "      <th>1/11/2011 9:47</th>\n",
       "      <td>540700</td>\n",
       "      <td>22244</td>\n",
       "      <td>3 HOOK HANGER MAGIC GARDEN</td>\n",
       "      <td>12</td>\n",
       "      <td>1.95</td>\n",
       "      <td>12393.0</td>\n",
       "    </tr>\n",
       "  </tbody>\n",
       "</table>\n",
       "</div>"
      ],
      "text/plain": [
       "                         InvoiceNo StockCode  \\\n",
       "Country   InvoiceDate                          \n",
       "Australia 1/11/2011 9:47    540700     21581   \n",
       "          1/11/2011 9:47    540700     22619   \n",
       "          1/11/2011 9:47    540700    84997B   \n",
       "          1/11/2011 9:47    540700     20727   \n",
       "          1/11/2011 9:47    540700     20726   \n",
       "          1/11/2011 9:47    540700     22383   \n",
       "          1/11/2011 9:47    540700     21249   \n",
       "          1/11/2011 9:47    540700     22378   \n",
       "          1/11/2011 9:47    540700     22175   \n",
       "          1/11/2011 9:47    540700     22176   \n",
       "          1/11/2011 9:47    540700    84997C   \n",
       "          1/11/2011 9:47    540700     20728   \n",
       "          1/11/2011 9:47    540700     22382   \n",
       "          1/11/2011 9:47    540700     21915   \n",
       "          1/11/2011 9:47    540700     22549   \n",
       "          1/11/2011 9:47    540700     21578   \n",
       "          1/11/2011 9:47    540700     21577   \n",
       "          1/11/2011 9:47    540700     22245   \n",
       "          1/11/2011 9:47    540700     22244   \n",
       "\n",
       "                                                Description  Quantity  \\\n",
       "Country   InvoiceDate                                                   \n",
       "Australia 1/11/2011 9:47    SKULLS  DESIGN  COTTON TOTE BAG         6   \n",
       "          1/11/2011 9:47          SET OF 6 SOLDIER SKITTLES         8   \n",
       "          1/11/2011 9:47  RED 3 PIECE RETROSPOT CUTLERY SET         6   \n",
       "          1/11/2011 9:47            LUNCH BAG  BLACK SKULL.        20   \n",
       "          1/11/2011 9:47                 LUNCH BAG WOODLAND        20   \n",
       "          1/11/2011 9:47            LUNCH BAG SUKI  DESIGN         10   \n",
       "          1/11/2011 9:47   WOODLAND  HEIGHT CHART STICKERS          6   \n",
       "          1/11/2011 9:47               WALL TIDY RETROSPOT         20   \n",
       "          1/11/2011 9:47                  PINK OWL SOFT TOY        12   \n",
       "          1/11/2011 9:47                  BLUE OWL SOFT TOY        12   \n",
       "          1/11/2011 9:47  BLUE 3 PIECE POLKADOT CUTLERY SET         6   \n",
       "          1/11/2011 9:47                LUNCH BAG CARS BLUE        20   \n",
       "          1/11/2011 9:47         LUNCH BAG SPACEBOY DESIGN         20   \n",
       "          1/11/2011 9:47             RED  HARMONICA IN BOX         12   \n",
       "          1/11/2011 9:47                   PICTURE DOMINOES        12   \n",
       "          1/11/2011 9:47   WOODLAND DESIGN  COTTON TOTE BAG        12   \n",
       "          1/11/2011 9:47    SAVE THE PLANET COTTON TOTE BAG        12   \n",
       "          1/11/2011 9:47       HOOK, 1 HANGER ,MAGIC GARDEN        12   \n",
       "          1/11/2011 9:47         3 HOOK HANGER MAGIC GARDEN        12   \n",
       "\n",
       "                          UnitPrice  CustomerID  \n",
       "Country   InvoiceDate                            \n",
       "Australia 1/11/2011 9:47       2.25     12393.0  \n",
       "          1/11/2011 9:47       3.75     12393.0  \n",
       "          1/11/2011 9:47       3.75     12393.0  \n",
       "          1/11/2011 9:47       1.65     12393.0  \n",
       "          1/11/2011 9:47       1.65     12393.0  \n",
       "          1/11/2011 9:47       1.65     12393.0  \n",
       "          1/11/2011 9:47       2.95     12393.0  \n",
       "          1/11/2011 9:47       0.85     12393.0  \n",
       "          1/11/2011 9:47       2.95     12393.0  \n",
       "          1/11/2011 9:47       2.95     12393.0  \n",
       "          1/11/2011 9:47       3.75     12393.0  \n",
       "          1/11/2011 9:47       1.65     12393.0  \n",
       "          1/11/2011 9:47       1.65     12393.0  \n",
       "          1/11/2011 9:47       1.25     12393.0  \n",
       "          1/11/2011 9:47       1.45     12393.0  \n",
       "          1/11/2011 9:47       2.25     12393.0  \n",
       "          1/11/2011 9:47       2.25     12393.0  \n",
       "          1/11/2011 9:47       0.85     12393.0  \n",
       "          1/11/2011 9:47       1.95     12393.0  "
      ]
     },
     "execution_count": 29,
     "metadata": {},
     "output_type": "execute_result"
    }
   ],
   "source": [
    "# you can use a multi-index reference to access specific elements \n",
    "# Alternatively, you can use a column name instead \n",
    "sales_df.loc[ \"Australia\", \"1/11/2011 9:47\"]"
   ]
  },
  {
   "cell_type": "code",
   "execution_count": 30,
   "metadata": {
    "colab": {
     "base_uri": "https://localhost:8080/"
    },
    "executionInfo": {
     "elapsed": 644,
     "status": "ok",
     "timestamp": 1618723696540,
     "user": {
      "displayName": "Stemplicity",
      "photoUrl": "https://lh3.googleusercontent.com/a-/AOh14Gj2vCFt-bD5mPBhUWX0QA6xiBgoXQXtwUm2jgjaCg=s64",
      "userId": "10668071569687886186"
     },
     "user_tz": 240
    },
    "id": "0hK5lwwtmVh1",
    "outputId": "9e61d467-133b-49d5-b337-48fb7ed80dfd"
   },
   "outputs": [
    {
     "data": {
      "text/plain": [
       "Country    InvoiceDate   \n",
       "Australia  1/11/2011 9:47    2.25\n",
       "           1/11/2011 9:47    3.75\n",
       "           1/11/2011 9:47    3.75\n",
       "           1/11/2011 9:47    1.65\n",
       "           1/11/2011 9:47    1.65\n",
       "           1/11/2011 9:47    1.65\n",
       "           1/11/2011 9:47    2.95\n",
       "           1/11/2011 9:47    0.85\n",
       "           1/11/2011 9:47    2.95\n",
       "           1/11/2011 9:47    2.95\n",
       "           1/11/2011 9:47    3.75\n",
       "           1/11/2011 9:47    1.65\n",
       "           1/11/2011 9:47    1.65\n",
       "           1/11/2011 9:47    1.25\n",
       "           1/11/2011 9:47    1.45\n",
       "           1/11/2011 9:47    2.25\n",
       "           1/11/2011 9:47    2.25\n",
       "           1/11/2011 9:47    0.85\n",
       "           1/11/2011 9:47    1.95\n",
       "Name: UnitPrice, dtype: float64"
      ]
     },
     "execution_count": 30,
     "metadata": {},
     "output_type": "execute_result"
    }
   ],
   "source": [
    "# feed index as a tuple (important to avoid confusion)\n",
    "# first argument references rows and the second argument references a column\n",
    "sales_df.loc[(\"Australia\", \"1/11/2011 9:47\"), \"UnitPrice\"]"
   ]
  },
  {
   "cell_type": "code",
   "execution_count": 31,
   "metadata": {
    "colab": {
     "base_uri": "https://localhost:8080/",
     "height": 431
    },
    "executionInfo": {
     "elapsed": 530,
     "status": "ok",
     "timestamp": 1618723700479,
     "user": {
      "displayName": "Stemplicity",
      "photoUrl": "https://lh3.googleusercontent.com/a-/AOh14Gj2vCFt-bD5mPBhUWX0QA6xiBgoXQXtwUm2jgjaCg=s64",
      "userId": "10668071569687886186"
     },
     "user_tz": 240
    },
    "id": "aLsIvuMAbk-H",
    "outputId": "1b877820-ffa3-4bd9-cbf2-5472a2a1dcb3"
   },
   "outputs": [
    {
     "data": {
      "text/html": [
       "<div>\n",
       "<style scoped>\n",
       "    .dataframe tbody tr th:only-of-type {\n",
       "        vertical-align: middle;\n",
       "    }\n",
       "\n",
       "    .dataframe tbody tr th {\n",
       "        vertical-align: top;\n",
       "    }\n",
       "\n",
       "    .dataframe thead th {\n",
       "        text-align: right;\n",
       "    }\n",
       "</style>\n",
       "<table border=\"1\" class=\"dataframe\">\n",
       "  <thead>\n",
       "    <tr style=\"text-align: right;\">\n",
       "      <th></th>\n",
       "      <th></th>\n",
       "      <th>InvoiceNo</th>\n",
       "      <th>StockCode</th>\n",
       "      <th>Description</th>\n",
       "      <th>Quantity</th>\n",
       "      <th>UnitPrice</th>\n",
       "      <th>CustomerID</th>\n",
       "    </tr>\n",
       "    <tr>\n",
       "      <th>Country</th>\n",
       "      <th>InvoiceDate</th>\n",
       "      <th></th>\n",
       "      <th></th>\n",
       "      <th></th>\n",
       "      <th></th>\n",
       "      <th></th>\n",
       "      <th></th>\n",
       "    </tr>\n",
       "  </thead>\n",
       "  <tbody>\n",
       "    <tr>\n",
       "      <th rowspan=\"5\" valign=\"top\">Australia</th>\n",
       "      <th>1/10/2011 9:58</th>\n",
       "      <td>540557</td>\n",
       "      <td>22523</td>\n",
       "      <td>CHILDS GARDEN FORK PINK</td>\n",
       "      <td>96</td>\n",
       "      <td>0.85</td>\n",
       "      <td>12415.0</td>\n",
       "    </tr>\n",
       "    <tr>\n",
       "      <th>1/11/2011 9:47</th>\n",
       "      <td>540700</td>\n",
       "      <td>21581</td>\n",
       "      <td>SKULLS  DESIGN  COTTON TOTE BAG</td>\n",
       "      <td>6</td>\n",
       "      <td>2.25</td>\n",
       "      <td>12393.0</td>\n",
       "    </tr>\n",
       "    <tr>\n",
       "      <th>1/11/2011 9:47</th>\n",
       "      <td>540700</td>\n",
       "      <td>22619</td>\n",
       "      <td>SET OF 6 SOLDIER SKITTLES</td>\n",
       "      <td>8</td>\n",
       "      <td>3.75</td>\n",
       "      <td>12393.0</td>\n",
       "    </tr>\n",
       "    <tr>\n",
       "      <th>1/11/2011 9:47</th>\n",
       "      <td>540700</td>\n",
       "      <td>84997B</td>\n",
       "      <td>RED 3 PIECE RETROSPOT CUTLERY SET</td>\n",
       "      <td>6</td>\n",
       "      <td>3.75</td>\n",
       "      <td>12393.0</td>\n",
       "    </tr>\n",
       "    <tr>\n",
       "      <th>1/11/2011 9:47</th>\n",
       "      <td>540700</td>\n",
       "      <td>20727</td>\n",
       "      <td>LUNCH BAG  BLACK SKULL.</td>\n",
       "      <td>20</td>\n",
       "      <td>1.65</td>\n",
       "      <td>12393.0</td>\n",
       "    </tr>\n",
       "    <tr>\n",
       "      <th>...</th>\n",
       "      <th>...</th>\n",
       "      <td>...</td>\n",
       "      <td>...</td>\n",
       "      <td>...</td>\n",
       "      <td>...</td>\n",
       "      <td>...</td>\n",
       "      <td>...</td>\n",
       "    </tr>\n",
       "    <tr>\n",
       "      <th rowspan=\"5\" valign=\"top\">Unspecified</th>\n",
       "      <th>9/2/2011 12:17</th>\n",
       "      <td>565303</td>\n",
       "      <td>85227</td>\n",
       "      <td>SET OF 6 3D KIT CARDS FOR KIDS</td>\n",
       "      <td>4</td>\n",
       "      <td>0.85</td>\n",
       "      <td>NaN</td>\n",
       "    </tr>\n",
       "    <tr>\n",
       "      <th>9/2/2011 12:17</th>\n",
       "      <td>565303</td>\n",
       "      <td>22138</td>\n",
       "      <td>BAKING SET 9 PIECE RETROSPOT</td>\n",
       "      <td>2</td>\n",
       "      <td>4.95</td>\n",
       "      <td>NaN</td>\n",
       "    </tr>\n",
       "    <tr>\n",
       "      <th>9/2/2011 12:17</th>\n",
       "      <td>565303</td>\n",
       "      <td>21889</td>\n",
       "      <td>WOODEN BOX OF DOMINOES</td>\n",
       "      <td>5</td>\n",
       "      <td>1.25</td>\n",
       "      <td>NaN</td>\n",
       "    </tr>\n",
       "    <tr>\n",
       "      <th>9/2/2011 12:17</th>\n",
       "      <td>565303</td>\n",
       "      <td>22550</td>\n",
       "      <td>HOLIDAY FUN LUDO</td>\n",
       "      <td>2</td>\n",
       "      <td>3.75</td>\n",
       "      <td>NaN</td>\n",
       "    </tr>\n",
       "    <tr>\n",
       "      <th>9/2/2011 12:17</th>\n",
       "      <td>565303</td>\n",
       "      <td>23127</td>\n",
       "      <td>FELTCRAFT GIRL NICOLE KIT</td>\n",
       "      <td>1</td>\n",
       "      <td>4.95</td>\n",
       "      <td>NaN</td>\n",
       "    </tr>\n",
       "  </tbody>\n",
       "</table>\n",
       "<p>541909 rows × 6 columns</p>\n",
       "</div>"
      ],
      "text/plain": [
       "                           InvoiceNo StockCode  \\\n",
       "Country     InvoiceDate                          \n",
       "Australia   1/10/2011 9:58    540557     22523   \n",
       "            1/11/2011 9:47    540700     21581   \n",
       "            1/11/2011 9:47    540700     22619   \n",
       "            1/11/2011 9:47    540700    84997B   \n",
       "            1/11/2011 9:47    540700     20727   \n",
       "...                              ...       ...   \n",
       "Unspecified 9/2/2011 12:17    565303     85227   \n",
       "            9/2/2011 12:17    565303     22138   \n",
       "            9/2/2011 12:17    565303     21889   \n",
       "            9/2/2011 12:17    565303     22550   \n",
       "            9/2/2011 12:17    565303     23127   \n",
       "\n",
       "                                                  Description  Quantity  \\\n",
       "Country     InvoiceDate                                                   \n",
       "Australia   1/10/2011 9:58            CHILDS GARDEN FORK PINK        96   \n",
       "            1/11/2011 9:47    SKULLS  DESIGN  COTTON TOTE BAG         6   \n",
       "            1/11/2011 9:47          SET OF 6 SOLDIER SKITTLES         8   \n",
       "            1/11/2011 9:47  RED 3 PIECE RETROSPOT CUTLERY SET         6   \n",
       "            1/11/2011 9:47            LUNCH BAG  BLACK SKULL.        20   \n",
       "...                                                       ...       ...   \n",
       "Unspecified 9/2/2011 12:17     SET OF 6 3D KIT CARDS FOR KIDS         4   \n",
       "            9/2/2011 12:17      BAKING SET 9 PIECE RETROSPOT          2   \n",
       "            9/2/2011 12:17             WOODEN BOX OF DOMINOES         5   \n",
       "            9/2/2011 12:17                   HOLIDAY FUN LUDO         2   \n",
       "            9/2/2011 12:17          FELTCRAFT GIRL NICOLE KIT         1   \n",
       "\n",
       "                            UnitPrice  CustomerID  \n",
       "Country     InvoiceDate                            \n",
       "Australia   1/10/2011 9:58       0.85     12415.0  \n",
       "            1/11/2011 9:47       2.25     12393.0  \n",
       "            1/11/2011 9:47       3.75     12393.0  \n",
       "            1/11/2011 9:47       3.75     12393.0  \n",
       "            1/11/2011 9:47       1.65     12393.0  \n",
       "...                               ...         ...  \n",
       "Unspecified 9/2/2011 12:17       0.85         NaN  \n",
       "            9/2/2011 12:17       4.95         NaN  \n",
       "            9/2/2011 12:17       1.25         NaN  \n",
       "            9/2/2011 12:17       3.75         NaN  \n",
       "            9/2/2011 12:17       4.95         NaN  \n",
       "\n",
       "[541909 rows x 6 columns]"
      ]
     },
     "execution_count": 31,
     "metadata": {},
     "output_type": "execute_result"
    }
   ],
   "source": [
    "sales_df"
   ]
  },
  {
   "cell_type": "code",
   "execution_count": 32,
   "metadata": {
    "colab": {
     "base_uri": "https://localhost:8080/"
    },
    "executionInfo": {
     "elapsed": 445,
     "status": "ok",
     "timestamp": 1618723703670,
     "user": {
      "displayName": "Stemplicity",
      "photoUrl": "https://lh3.googleusercontent.com/a-/AOh14Gj2vCFt-bD5mPBhUWX0QA6xiBgoXQXtwUm2jgjaCg=s64",
      "userId": "10668071569687886186"
     },
     "user_tz": 240
    },
    "id": "sOQkkZZgoJnK",
    "outputId": "a77ef2fe-bca4-46ce-fb90-f346c4b6272d"
   },
   "outputs": [
    {
     "data": {
      "text/plain": [
       "InvoiceNo                       540557\n",
       "StockCode                        22523\n",
       "Description    CHILDS GARDEN FORK PINK\n",
       "Quantity                            96\n",
       "UnitPrice                         0.85\n",
       "CustomerID                       12415\n",
       "Name: (Australia, 1/10/2011 9:58), dtype: object"
      ]
     },
     "execution_count": 32,
     "metadata": {},
     "output_type": "execute_result"
    }
   ],
   "source": [
    "# no issues with numeric indexing, you can use one index so no tuples are required\n",
    "sales_df.iloc[0]\n"
   ]
  },
  {
   "cell_type": "code",
   "execution_count": 33,
   "metadata": {
    "colab": {
     "base_uri": "https://localhost:8080/",
     "height": 35
    },
    "executionInfo": {
     "elapsed": 437,
     "status": "ok",
     "timestamp": 1618723706246,
     "user": {
      "displayName": "Stemplicity",
      "photoUrl": "https://lh3.googleusercontent.com/a-/AOh14Gj2vCFt-bD5mPBhUWX0QA6xiBgoXQXtwUm2jgjaCg=s64",
      "userId": "10668071569687886186"
     },
     "user_tz": 240
    },
    "id": "Xk1YPclVoZ1Z",
    "outputId": "15ee723f-702e-43dc-a893-20b983f79766"
   },
   "outputs": [
    {
     "data": {
      "text/plain": [
       "'540557'"
      ]
     },
     "execution_count": 33,
     "metadata": {},
     "output_type": "execute_result"
    }
   ],
   "source": [
    "# no issues with numeric indexing\n",
    "sales_df.iloc[0, 0]"
   ]
  },
  {
   "cell_type": "code",
   "execution_count": 34,
   "metadata": {
    "colab": {
     "base_uri": "https://localhost:8080/",
     "height": 404
    },
    "executionInfo": {
     "elapsed": 26520,
     "status": "ok",
     "timestamp": 1618723734806,
     "user": {
      "displayName": "Stemplicity",
      "photoUrl": "https://lh3.googleusercontent.com/a-/AOh14Gj2vCFt-bD5mPBhUWX0QA6xiBgoXQXtwUm2jgjaCg=s64",
      "userId": "10668071569687886186"
     },
     "user_tz": 240
    },
    "id": "dar-a3ZjxN7e",
    "outputId": "769ee402-899a-4e37-f781-777bd04a9b02"
   },
   "outputs": [
    {
     "data": {
      "text/html": [
       "<div>\n",
       "<style scoped>\n",
       "    .dataframe tbody tr th:only-of-type {\n",
       "        vertical-align: middle;\n",
       "    }\n",
       "\n",
       "    .dataframe tbody tr th {\n",
       "        vertical-align: top;\n",
       "    }\n",
       "\n",
       "    .dataframe thead tr th {\n",
       "        text-align: left;\n",
       "    }\n",
       "</style>\n",
       "<table border=\"1\" class=\"dataframe\">\n",
       "  <thead>\n",
       "    <tr>\n",
       "      <th>Country</th>\n",
       "      <th colspan=\"10\" halign=\"left\">Australia</th>\n",
       "      <th>...</th>\n",
       "      <th colspan=\"10\" halign=\"left\">Unspecified</th>\n",
       "    </tr>\n",
       "    <tr>\n",
       "      <th>InvoiceDate</th>\n",
       "      <th>1/10/2011 9:58</th>\n",
       "      <th>1/11/2011 9:47</th>\n",
       "      <th>1/11/2011 9:47</th>\n",
       "      <th>1/11/2011 9:47</th>\n",
       "      <th>1/11/2011 9:47</th>\n",
       "      <th>1/11/2011 9:47</th>\n",
       "      <th>1/11/2011 9:47</th>\n",
       "      <th>1/11/2011 9:47</th>\n",
       "      <th>1/11/2011 9:47</th>\n",
       "      <th>1/11/2011 9:47</th>\n",
       "      <th>...</th>\n",
       "      <th>9/2/2011 12:17</th>\n",
       "      <th>9/2/2011 12:17</th>\n",
       "      <th>9/2/2011 12:17</th>\n",
       "      <th>9/2/2011 12:17</th>\n",
       "      <th>9/2/2011 12:17</th>\n",
       "      <th>9/2/2011 12:17</th>\n",
       "      <th>9/2/2011 12:17</th>\n",
       "      <th>9/2/2011 12:17</th>\n",
       "      <th>9/2/2011 12:17</th>\n",
       "      <th>9/2/2011 12:17</th>\n",
       "    </tr>\n",
       "  </thead>\n",
       "  <tbody>\n",
       "    <tr>\n",
       "      <th>InvoiceNo</th>\n",
       "      <td>540557</td>\n",
       "      <td>540700</td>\n",
       "      <td>540700</td>\n",
       "      <td>540700</td>\n",
       "      <td>540700</td>\n",
       "      <td>540700</td>\n",
       "      <td>540700</td>\n",
       "      <td>540700</td>\n",
       "      <td>540700</td>\n",
       "      <td>540700</td>\n",
       "      <td>...</td>\n",
       "      <td>565303</td>\n",
       "      <td>565303</td>\n",
       "      <td>565303</td>\n",
       "      <td>565303</td>\n",
       "      <td>565303</td>\n",
       "      <td>565303</td>\n",
       "      <td>565303</td>\n",
       "      <td>565303</td>\n",
       "      <td>565303</td>\n",
       "      <td>565303</td>\n",
       "    </tr>\n",
       "    <tr>\n",
       "      <th>StockCode</th>\n",
       "      <td>22523</td>\n",
       "      <td>21581</td>\n",
       "      <td>22619</td>\n",
       "      <td>84997B</td>\n",
       "      <td>20727</td>\n",
       "      <td>20726</td>\n",
       "      <td>22383</td>\n",
       "      <td>21249</td>\n",
       "      <td>22378</td>\n",
       "      <td>22175</td>\n",
       "      <td>...</td>\n",
       "      <td>20983</td>\n",
       "      <td>20977</td>\n",
       "      <td>20982</td>\n",
       "      <td>23084</td>\n",
       "      <td>22549</td>\n",
       "      <td>85227</td>\n",
       "      <td>22138</td>\n",
       "      <td>21889</td>\n",
       "      <td>22550</td>\n",
       "      <td>23127</td>\n",
       "    </tr>\n",
       "    <tr>\n",
       "      <th>Description</th>\n",
       "      <td>CHILDS GARDEN FORK PINK</td>\n",
       "      <td>SKULLS  DESIGN  COTTON TOTE BAG</td>\n",
       "      <td>SET OF 6 SOLDIER SKITTLES</td>\n",
       "      <td>RED 3 PIECE RETROSPOT CUTLERY SET</td>\n",
       "      <td>LUNCH BAG  BLACK SKULL.</td>\n",
       "      <td>LUNCH BAG WOODLAND</td>\n",
       "      <td>LUNCH BAG SUKI  DESIGN</td>\n",
       "      <td>WOODLAND  HEIGHT CHART STICKERS</td>\n",
       "      <td>WALL TIDY RETROSPOT</td>\n",
       "      <td>PINK OWL SOFT TOY</td>\n",
       "      <td>...</td>\n",
       "      <td>12 PENCILS TALL TUBE RED RETROSPOT</td>\n",
       "      <td>36 PENCILS TUBE WOODLAND</td>\n",
       "      <td>12 PENCILS TALL TUBE SKULLS</td>\n",
       "      <td>RABBIT NIGHT LIGHT</td>\n",
       "      <td>PICTURE DOMINOES</td>\n",
       "      <td>SET OF 6 3D KIT CARDS FOR KIDS</td>\n",
       "      <td>BAKING SET 9 PIECE RETROSPOT</td>\n",
       "      <td>WOODEN BOX OF DOMINOES</td>\n",
       "      <td>HOLIDAY FUN LUDO</td>\n",
       "      <td>FELTCRAFT GIRL NICOLE KIT</td>\n",
       "    </tr>\n",
       "    <tr>\n",
       "      <th>Quantity</th>\n",
       "      <td>96</td>\n",
       "      <td>6</td>\n",
       "      <td>8</td>\n",
       "      <td>6</td>\n",
       "      <td>20</td>\n",
       "      <td>20</td>\n",
       "      <td>10</td>\n",
       "      <td>6</td>\n",
       "      <td>20</td>\n",
       "      <td>12</td>\n",
       "      <td>...</td>\n",
       "      <td>4</td>\n",
       "      <td>4</td>\n",
       "      <td>5</td>\n",
       "      <td>1</td>\n",
       "      <td>1</td>\n",
       "      <td>4</td>\n",
       "      <td>2</td>\n",
       "      <td>5</td>\n",
       "      <td>2</td>\n",
       "      <td>1</td>\n",
       "    </tr>\n",
       "    <tr>\n",
       "      <th>UnitPrice</th>\n",
       "      <td>0.85</td>\n",
       "      <td>2.25</td>\n",
       "      <td>3.75</td>\n",
       "      <td>3.75</td>\n",
       "      <td>1.65</td>\n",
       "      <td>1.65</td>\n",
       "      <td>1.65</td>\n",
       "      <td>2.95</td>\n",
       "      <td>0.85</td>\n",
       "      <td>2.95</td>\n",
       "      <td>...</td>\n",
       "      <td>0.85</td>\n",
       "      <td>1.25</td>\n",
       "      <td>0.85</td>\n",
       "      <td>2.08</td>\n",
       "      <td>1.45</td>\n",
       "      <td>0.85</td>\n",
       "      <td>4.95</td>\n",
       "      <td>1.25</td>\n",
       "      <td>3.75</td>\n",
       "      <td>4.95</td>\n",
       "    </tr>\n",
       "    <tr>\n",
       "      <th>CustomerID</th>\n",
       "      <td>12415</td>\n",
       "      <td>12393</td>\n",
       "      <td>12393</td>\n",
       "      <td>12393</td>\n",
       "      <td>12393</td>\n",
       "      <td>12393</td>\n",
       "      <td>12393</td>\n",
       "      <td>12393</td>\n",
       "      <td>12393</td>\n",
       "      <td>12393</td>\n",
       "      <td>...</td>\n",
       "      <td>NaN</td>\n",
       "      <td>NaN</td>\n",
       "      <td>NaN</td>\n",
       "      <td>NaN</td>\n",
       "      <td>NaN</td>\n",
       "      <td>NaN</td>\n",
       "      <td>NaN</td>\n",
       "      <td>NaN</td>\n",
       "      <td>NaN</td>\n",
       "      <td>NaN</td>\n",
       "    </tr>\n",
       "  </tbody>\n",
       "</table>\n",
       "<p>6 rows × 541909 columns</p>\n",
       "</div>"
      ],
      "text/plain": [
       "Country                    Australia                                   \\\n",
       "InvoiceDate           1/10/2011 9:58                   1/11/2011 9:47   \n",
       "InvoiceNo                     540557                           540700   \n",
       "StockCode                      22523                            21581   \n",
       "Description  CHILDS GARDEN FORK PINK  SKULLS  DESIGN  COTTON TOTE BAG   \n",
       "Quantity                          96                                6   \n",
       "UnitPrice                       0.85                             2.25   \n",
       "CustomerID                     12415                            12393   \n",
       "\n",
       "Country                                                                    \\\n",
       "InvoiceDate             1/11/2011 9:47                     1/11/2011 9:47   \n",
       "InvoiceNo                       540700                             540700   \n",
       "StockCode                        22619                             84997B   \n",
       "Description  SET OF 6 SOLDIER SKITTLES  RED 3 PIECE RETROSPOT CUTLERY SET   \n",
       "Quantity                             8                                  6   \n",
       "UnitPrice                         3.75                               3.75   \n",
       "CustomerID                       12393                              12393   \n",
       "\n",
       "Country                                                   \\\n",
       "InvoiceDate           1/11/2011 9:47      1/11/2011 9:47   \n",
       "InvoiceNo                     540700              540700   \n",
       "StockCode                      20727               20726   \n",
       "Description  LUNCH BAG  BLACK SKULL.  LUNCH BAG WOODLAND   \n",
       "Quantity                          20                  20   \n",
       "UnitPrice                       1.65                1.65   \n",
       "CustomerID                     12393               12393   \n",
       "\n",
       "Country                                                                 \\\n",
       "InvoiceDate           1/11/2011 9:47                    1/11/2011 9:47   \n",
       "InvoiceNo                     540700                            540700   \n",
       "StockCode                      22383                             21249   \n",
       "Description  LUNCH BAG SUKI  DESIGN   WOODLAND  HEIGHT CHART STICKERS    \n",
       "Quantity                          10                                 6   \n",
       "UnitPrice                       1.65                              2.95   \n",
       "CustomerID                     12393                             12393   \n",
       "\n",
       "Country                                               ...  \\\n",
       "InvoiceDate        1/11/2011 9:47     1/11/2011 9:47  ...   \n",
       "InvoiceNo                  540700             540700  ...   \n",
       "StockCode                   22378              22175  ...   \n",
       "Description  WALL TIDY RETROSPOT   PINK OWL SOFT TOY  ...   \n",
       "Quantity                       20                 12  ...   \n",
       "UnitPrice                    0.85               2.95  ...   \n",
       "CustomerID                  12393              12393  ...   \n",
       "\n",
       "Country                             Unspecified                            \\\n",
       "InvoiceDate                      9/2/2011 12:17            9/2/2011 12:17   \n",
       "InvoiceNo                                565303                    565303   \n",
       "StockCode                                 20983                     20977   \n",
       "Description  12 PENCILS TALL TUBE RED RETROSPOT  36 PENCILS TUBE WOODLAND   \n",
       "Quantity                                      4                         4   \n",
       "UnitPrice                                  0.85                      1.25   \n",
       "CustomerID                                  NaN                       NaN   \n",
       "\n",
       "Country                                                       \\\n",
       "InvoiceDate               9/2/2011 12:17      9/2/2011 12:17   \n",
       "InvoiceNo                         565303              565303   \n",
       "StockCode                          20982               23084   \n",
       "Description  12 PENCILS TALL TUBE SKULLS  RABBIT NIGHT LIGHT   \n",
       "Quantity                               5                   1   \n",
       "UnitPrice                           0.85                2.08   \n",
       "CustomerID                           NaN                 NaN   \n",
       "\n",
       "Country                                                        \\\n",
       "InvoiceDate    9/2/2011 12:17                  9/2/2011 12:17   \n",
       "InvoiceNo              565303                          565303   \n",
       "StockCode               22549                           85227   \n",
       "Description  PICTURE DOMINOES  SET OF 6 3D KIT CARDS FOR KIDS   \n",
       "Quantity                    1                               4   \n",
       "UnitPrice                1.45                            0.85   \n",
       "CustomerID                NaN                             NaN   \n",
       "\n",
       "Country                                                             \\\n",
       "InvoiceDate                 9/2/2011 12:17          9/2/2011 12:17   \n",
       "InvoiceNo                           565303                  565303   \n",
       "StockCode                            22138                   21889   \n",
       "Description  BAKING SET 9 PIECE RETROSPOT   WOODEN BOX OF DOMINOES   \n",
       "Quantity                                 2                       5   \n",
       "UnitPrice                             4.95                    1.25   \n",
       "CustomerID                             NaN                     NaN   \n",
       "\n",
       "Country                                                   \n",
       "InvoiceDate    9/2/2011 12:17             9/2/2011 12:17  \n",
       "InvoiceNo              565303                     565303  \n",
       "StockCode               22550                      23127  \n",
       "Description  HOLIDAY FUN LUDO  FELTCRAFT GIRL NICOLE KIT  \n",
       "Quantity                    2                          1  \n",
       "UnitPrice                3.75                       4.95  \n",
       "CustomerID                NaN                        NaN  \n",
       "\n",
       "[6 rows x 541909 columns]"
      ]
     },
     "execution_count": 34,
     "metadata": {},
     "output_type": "execute_result"
    }
   ],
   "source": [
    "# You can use transpose to Transpose indexes and columns\n",
    "# reflect the DataFrame over its main diagonal by writing rows as columns and vice-versa. \n",
    "sales_df = sales_df.transpose()\n",
    "sales_df.head(10)\n"
   ]
  },
  {
   "cell_type": "code",
   "execution_count": 35,
   "metadata": {
    "colab": {
     "base_uri": "https://localhost:8080/"
    },
    "executionInfo": {
     "elapsed": 432,
     "status": "ok",
     "timestamp": 1618723738346,
     "user": {
      "displayName": "Stemplicity",
      "photoUrl": "https://lh3.googleusercontent.com/a-/AOh14Gj2vCFt-bD5mPBhUWX0QA6xiBgoXQXtwUm2jgjaCg=s64",
      "userId": "10668071569687886186"
     },
     "user_tz": 240
    },
    "id": "4DhO2mApy_Vq",
    "outputId": "b0eef4a8-1ab4-4a15-8914-4d67d591aedd"
   },
   "outputs": [
    {
     "data": {
      "text/plain": [
       "Country    InvoiceDate   \n",
       "Australia  1/10/2011 9:58    0.85\n",
       "Name: UnitPrice, dtype: object"
      ]
     },
     "execution_count": 35,
     "metadata": {},
     "output_type": "execute_result"
    }
   ],
   "source": [
    "sales_df.loc['UnitPrice', ('Australia', '1/10/2011 9:58')]"
   ]
  },
  {
   "cell_type": "code",
   "execution_count": 36,
   "metadata": {
    "colab": {
     "base_uri": "https://localhost:8080/"
    },
    "executionInfo": {
     "elapsed": 563,
     "status": "ok",
     "timestamp": 1618723748904,
     "user": {
      "displayName": "Stemplicity",
      "photoUrl": "https://lh3.googleusercontent.com/a-/AOh14Gj2vCFt-bD5mPBhUWX0QA6xiBgoXQXtwUm2jgjaCg=s64",
      "userId": "10668071569687886186"
     },
     "user_tz": 240
    },
    "id": "6isf4IJYxN-V",
    "outputId": "68262c68-98cc-451d-c1a1-6155315f0d78"
   },
   "outputs": [
    {
     "data": {
      "text/plain": [
       "Country    InvoiceDate   \n",
       "Australia  1/10/2011 9:58    0.85\n",
       "           1/11/2011 9:47    2.25\n",
       "           1/11/2011 9:47    3.75\n",
       "           1/11/2011 9:47    3.75\n",
       "           1/11/2011 9:47    1.65\n",
       "                             ... \n",
       "Bahrain    5/9/2011 13:49    2.95\n",
       "           5/9/2011 13:49    2.95\n",
       "           5/9/2011 13:49    4.25\n",
       "           5/9/2011 13:49    4.25\n",
       "           5/9/2011 13:49    4.25\n",
       "Name: UnitPrice, Length: 1679, dtype: object"
      ]
     },
     "execution_count": 36,
     "metadata": {},
     "output_type": "execute_result"
    }
   ],
   "source": [
    "sales_df.loc['UnitPrice', ('Australia', '1/10/2011 9:58'):('Belgium', '1/10/2011 9:58')]"
   ]
  },
  {
   "cell_type": "code",
   "execution_count": 37,
   "metadata": {
    "colab": {
     "base_uri": "https://localhost:8080/",
     "height": 172
    },
    "executionInfo": {
     "elapsed": 903,
     "status": "ok",
     "timestamp": 1618723758875,
     "user": {
      "displayName": "Stemplicity",
      "photoUrl": "https://lh3.googleusercontent.com/a-/AOh14Gj2vCFt-bD5mPBhUWX0QA6xiBgoXQXtwUm2jgjaCg=s64",
      "userId": "10668071569687886186"
     },
     "user_tz": 240
    },
    "id": "CngUVV4GxOBF",
    "outputId": "d0b5235c-104f-4cf7-dbdf-de2c0b8f925f"
   },
   "outputs": [
    {
     "data": {
      "text/html": [
       "<div>\n",
       "<style scoped>\n",
       "    .dataframe tbody tr th:only-of-type {\n",
       "        vertical-align: middle;\n",
       "    }\n",
       "\n",
       "    .dataframe tbody tr th {\n",
       "        vertical-align: top;\n",
       "    }\n",
       "\n",
       "    .dataframe thead tr th {\n",
       "        text-align: left;\n",
       "    }\n",
       "</style>\n",
       "<table border=\"1\" class=\"dataframe\">\n",
       "  <thead>\n",
       "    <tr>\n",
       "      <th>Country</th>\n",
       "      <th colspan=\"10\" halign=\"left\">Australia</th>\n",
       "      <th>...</th>\n",
       "      <th colspan=\"10\" halign=\"left\">Bahrain</th>\n",
       "    </tr>\n",
       "    <tr>\n",
       "      <th>InvoiceDate</th>\n",
       "      <th>1/10/2011 9:58</th>\n",
       "      <th>1/11/2011 9:47</th>\n",
       "      <th>1/11/2011 9:47</th>\n",
       "      <th>1/11/2011 9:47</th>\n",
       "      <th>1/11/2011 9:47</th>\n",
       "      <th>1/11/2011 9:47</th>\n",
       "      <th>1/11/2011 9:47</th>\n",
       "      <th>1/11/2011 9:47</th>\n",
       "      <th>1/11/2011 9:47</th>\n",
       "      <th>1/11/2011 9:47</th>\n",
       "      <th>...</th>\n",
       "      <th>5/9/2011 13:49</th>\n",
       "      <th>5/9/2011 13:49</th>\n",
       "      <th>5/9/2011 13:49</th>\n",
       "      <th>5/9/2011 13:49</th>\n",
       "      <th>5/9/2011 13:49</th>\n",
       "      <th>5/9/2011 13:49</th>\n",
       "      <th>5/9/2011 13:49</th>\n",
       "      <th>5/9/2011 13:49</th>\n",
       "      <th>5/9/2011 13:49</th>\n",
       "      <th>5/9/2011 13:49</th>\n",
       "    </tr>\n",
       "  </thead>\n",
       "  <tbody>\n",
       "    <tr>\n",
       "      <th>UnitPrice</th>\n",
       "      <td>0.85</td>\n",
       "      <td>2.25</td>\n",
       "      <td>3.75</td>\n",
       "      <td>3.75</td>\n",
       "      <td>1.65</td>\n",
       "      <td>1.65</td>\n",
       "      <td>1.65</td>\n",
       "      <td>2.95</td>\n",
       "      <td>0.85</td>\n",
       "      <td>2.95</td>\n",
       "      <td>...</td>\n",
       "      <td>9.95</td>\n",
       "      <td>4.95</td>\n",
       "      <td>12.75</td>\n",
       "      <td>1.65</td>\n",
       "      <td>2.95</td>\n",
       "      <td>2.95</td>\n",
       "      <td>2.95</td>\n",
       "      <td>4.25</td>\n",
       "      <td>4.25</td>\n",
       "      <td>4.25</td>\n",
       "    </tr>\n",
       "  </tbody>\n",
       "</table>\n",
       "<p>1 rows × 1679 columns</p>\n",
       "</div>"
      ],
      "text/plain": [
       "Country          Australia                                               \\\n",
       "InvoiceDate 1/10/2011 9:58 1/11/2011 9:47 1/11/2011 9:47 1/11/2011 9:47   \n",
       "UnitPrice             0.85           2.25           3.75           3.75   \n",
       "\n",
       "Country                                                                  \\\n",
       "InvoiceDate 1/11/2011 9:47 1/11/2011 9:47 1/11/2011 9:47 1/11/2011 9:47   \n",
       "UnitPrice             1.65           1.65           1.65           2.95   \n",
       "\n",
       "Country                                    ...        Bahrain                 \\\n",
       "InvoiceDate 1/11/2011 9:47 1/11/2011 9:47  ... 5/9/2011 13:49 5/9/2011 13:49   \n",
       "UnitPrice             0.85           2.95  ...           9.95           4.95   \n",
       "\n",
       "Country                                                                  \\\n",
       "InvoiceDate 5/9/2011 13:49 5/9/2011 13:49 5/9/2011 13:49 5/9/2011 13:49   \n",
       "UnitPrice            12.75           1.65           2.95           2.95   \n",
       "\n",
       "Country                                                                  \n",
       "InvoiceDate 5/9/2011 13:49 5/9/2011 13:49 5/9/2011 13:49 5/9/2011 13:49  \n",
       "UnitPrice             2.95           4.25           4.25           4.25  \n",
       "\n",
       "[1 rows x 1679 columns]"
      ]
     },
     "execution_count": 37,
     "metadata": {},
     "output_type": "execute_result"
    }
   ],
   "source": [
    "sales_df.loc[('UnitPrice',), ('Australia', '1/10/2011 9:58'):('Belgium', '1/10/2011 9:58')]"
   ]
  },
  {
   "cell_type": "markdown",
   "metadata": {
    "id": "kHRHQLLne907"
   },
   "source": [
    "**MINI CHALLENGE #5:**\n",
    "- **Calculate the average unit price for transactions occured in \"United Kingdom\" at \"12/1/2010 8:26\"**"
   ]
  },
  {
   "cell_type": "code",
   "execution_count": null,
   "metadata": {},
   "outputs": [],
   "source": []
  },
  {
   "cell_type": "markdown",
   "metadata": {
    "id": "jDBN00YtfVsc"
   },
   "source": [
    "# TASK #6. DEALING WITH DATE TIME - BASIC PYTHON DATETIME MODULE"
   ]
  },
  {
   "cell_type": "code",
   "execution_count": 38,
   "metadata": {},
   "outputs": [
    {
     "data": {
      "text/plain": [
       "datetime.date(2020, 3, 22)"
      ]
     },
     "execution_count": 38,
     "metadata": {},
     "output_type": "execute_result"
    }
   ],
   "source": [
    "# datetime is one of Python's core standard libraries \n",
    "# We are going to use two methods to deal with dates/times: (1) date and (2) dateime\n",
    "# date: helps us define dates only without including time (month, day, year)\n",
    "# datetime: helps us define times and dates together (month, day, year, hour, second, microsecond)\n",
    "# Let's import datetime module as dt\n",
    "import datetime as dt\n",
    "\n",
    "# Pick a date using Python's date method inside the datetime module\n",
    "my_date = dt.date(2020, 3, 22)\n",
    "my_date"
   ]
  },
  {
   "cell_type": "code",
   "execution_count": 39,
   "metadata": {},
   "outputs": [
    {
     "data": {
      "text/plain": [
       "datetime.date"
      ]
     },
     "execution_count": 39,
     "metadata": {},
     "output_type": "execute_result"
    }
   ],
   "source": [
    "# Check the data type (datetime object)\n",
    "type(my_date)"
   ]
  },
  {
   "cell_type": "code",
   "execution_count": 40,
   "metadata": {},
   "outputs": [
    {
     "data": {
      "text/plain": [
       "'2020-03-22'"
      ]
     },
     "execution_count": 40,
     "metadata": {},
     "output_type": "execute_result"
    }
   ],
   "source": [
    "# Convert it into string to view the date and time\n",
    "str(my_date)"
   ]
  },
  {
   "cell_type": "code",
   "execution_count": 41,
   "metadata": {},
   "outputs": [
    {
     "data": {
      "text/plain": [
       "22"
      ]
     },
     "execution_count": 41,
     "metadata": {},
     "output_type": "execute_result"
    }
   ],
   "source": [
    "# Attribute day will return the day contained in the datetime object\n",
    "my_date.day"
   ]
  },
  {
   "cell_type": "code",
   "execution_count": 42,
   "metadata": {},
   "outputs": [
    {
     "data": {
      "text/plain": [
       "3"
      ]
     },
     "execution_count": 42,
     "metadata": {},
     "output_type": "execute_result"
    }
   ],
   "source": [
    "# Month attribute will return the month contained in the datetime object\n",
    "my_date.month"
   ]
  },
  {
   "cell_type": "code",
   "execution_count": 43,
   "metadata": {},
   "outputs": [
    {
     "data": {
      "text/plain": [
       "2020"
      ]
     },
     "execution_count": 43,
     "metadata": {},
     "output_type": "execute_result"
    }
   ],
   "source": [
    "# year attribute will return the year contained in the datetime object\n",
    "my_date.year\n"
   ]
  },
  {
   "cell_type": "code",
   "execution_count": 44,
   "metadata": {},
   "outputs": [],
   "source": [
    "# Let's define a datetime using datetime method as follows\n",
    "my_datetime = dt.datetime(2020, 3, 22, 8, 20, 50)\n"
   ]
  },
  {
   "cell_type": "code",
   "execution_count": 45,
   "metadata": {},
   "outputs": [
    {
     "data": {
      "text/plain": [
       "'2020-03-22 08:20:50'"
      ]
     },
     "execution_count": 45,
     "metadata": {},
     "output_type": "execute_result"
    }
   ],
   "source": [
    "# Convert it into string to view the date time\n",
    "str(my_datetime)"
   ]
  },
  {
   "cell_type": "code",
   "execution_count": 46,
   "metadata": {},
   "outputs": [
    {
     "data": {
      "text/plain": [
       "8"
      ]
     },
     "execution_count": 46,
     "metadata": {},
     "output_type": "execute_result"
    }
   ],
   "source": [
    "# Obtain the hour contained in the datetime object\n",
    "my_datetime.hour"
   ]
  },
  {
   "cell_type": "code",
   "execution_count": 47,
   "metadata": {},
   "outputs": [
    {
     "data": {
      "text/plain": [
       "20"
      ]
     },
     "execution_count": 47,
     "metadata": {},
     "output_type": "execute_result"
    }
   ],
   "source": [
    "# Obtain the minutes contained in the datetime object\n",
    "my_datetime.minute"
   ]
  },
  {
   "cell_type": "code",
   "execution_count": 48,
   "metadata": {},
   "outputs": [
    {
     "name": "stdout",
     "output_type": "stream",
     "text": [
      "     March 2021\n",
      "Mo Tu We Th Fr Sa Su\n",
      " 1  2  3  4  5  6  7\n",
      " 8  9 10 11 12 13 14\n",
      "15 16 17 18 19 20 21\n",
      "22 23 24 25 26 27 28\n",
      "29 30 31\n",
      "\n"
     ]
    }
   ],
   "source": [
    "# print out calendar!\n",
    "import calendar\n",
    "print(calendar.month(2021, 3))\n"
   ]
  },
  {
   "cell_type": "code",
   "execution_count": 49,
   "metadata": {},
   "outputs": [
    {
     "data": {
      "text/plain": [
       "0          2020/03/22\n",
       "1          2020-08-25\n",
       "2    March 22nd, 2020\n",
       "dtype: object"
      ]
     },
     "execution_count": 49,
     "metadata": {},
     "output_type": "execute_result"
    }
   ],
   "source": [
    "# You can also use pd.datetime to convert a regular Pandas Series into datetime as follows:\n",
    "dates = pd.Series([\"2020/03/22\", \"2020-08-25\", \"March 22nd, 2020\"])\n",
    "dates\n"
   ]
  },
  {
   "cell_type": "code",
   "execution_count": 50,
   "metadata": {},
   "outputs": [
    {
     "data": {
      "text/plain": [
       "0   2020-03-22\n",
       "1   2020-08-25\n",
       "2   2020-03-22\n",
       "dtype: datetime64[ns]"
      ]
     },
     "execution_count": 50,
     "metadata": {},
     "output_type": "execute_result"
    }
   ],
   "source": [
    "# The to_datetime() method converts the date and time in string format to a DateTime object:\n",
    "my_dates = pd.to_datetime(dates)\n",
    "my_dates"
   ]
  },
  {
   "cell_type": "markdown",
   "metadata": {},
   "source": [
    "**MINI CHALLENGE #6:**\n",
    "- **Use Python's datetime method to write your date and time of your birth! Convert it into string format**\n"
   ]
  },
  {
   "cell_type": "code",
   "execution_count": null,
   "metadata": {},
   "outputs": [],
   "source": []
  },
  {
   "cell_type": "markdown",
   "metadata": {},
   "source": [
    "# TASK #7. DEALING WITH DATE TIME - HANDLING DATES AND TIMES USING PANDAS "
   ]
  },
  {
   "cell_type": "code",
   "execution_count": 51,
   "metadata": {},
   "outputs": [
    {
     "data": {
      "text/plain": [
       "Timestamp('2020-03-22 00:00:00')"
      ]
     },
     "execution_count": 51,
     "metadata": {},
     "output_type": "execute_result"
    }
   ],
   "source": [
    "# Timestamp is the pandas equivalent of python’s Datetime and is interchangeable with it in most cases. \n",
    "# It’s the type used for the entries that make up a DatetimeIndex, and other timeseries oriented data structures in pandas.\n",
    "# Check this out: https://pandas.pydata.org/docs/reference/api/pandas.Timestamp.html\n",
    "pd.Timestamp('2020, 3, 22')"
   ]
  },
  {
   "cell_type": "code",
   "execution_count": 52,
   "metadata": {},
   "outputs": [
    {
     "data": {
      "text/plain": [
       "Timestamp('2020-03-22 10:00:00')"
      ]
     },
     "execution_count": 52,
     "metadata": {},
     "output_type": "execute_result"
    }
   ],
   "source": [
    "pd.Timestamp('2020, 3, 22, 10')"
   ]
  },
  {
   "cell_type": "code",
   "execution_count": 53,
   "metadata": {},
   "outputs": [
    {
     "data": {
      "text/plain": [
       "Timestamp('2020-03-22 08:20:50')"
      ]
     },
     "execution_count": 53,
     "metadata": {},
     "output_type": "execute_result"
    }
   ],
   "source": [
    "# Or you can define a Pandas Timestamp using Python datetime object \n",
    "pd.Timestamp(dt.datetime(2020, 3, 22, 8, 20, 50))"
   ]
  },
  {
   "cell_type": "code",
   "execution_count": 54,
   "metadata": {},
   "outputs": [
    {
     "name": "stdout",
     "output_type": "stream",
     "text": [
      "8401 days 00:00:00\n"
     ]
    }
   ],
   "source": [
    "# Calculate difference between two dates\n",
    "day_1 = pd.Timestamp('1998, 3, 22, 10')\n",
    "day_2 = pd.Timestamp('2021, 3, 22, 10')\n",
    "delta = day_2-day_1\n",
    "print(delta)\n"
   ]
  },
  {
   "cell_type": "code",
   "execution_count": 55,
   "metadata": {},
   "outputs": [],
   "source": [
    "# Let's define 3 dates for 3 separate transactions\n",
    "date_1 = dt.date(2020, 3, 22)\n",
    "date_2 = dt.date(2020, 4, 22)\n",
    "date_3 = dt.date(2020, 5, 22)\n",
    "\n",
    "# Let's put the 3 dates in a list as follows\n",
    "dates_list = [date_1, date_2, date_3]\n"
   ]
  },
  {
   "cell_type": "code",
   "execution_count": 56,
   "metadata": {},
   "outputs": [
    {
     "data": {
      "text/plain": [
       "DatetimeIndex(['2020-03-22', '2020-04-22', '2020-05-22'], dtype='datetime64[ns]', freq=None)"
      ]
     },
     "execution_count": 56,
     "metadata": {},
     "output_type": "execute_result"
    }
   ],
   "source": [
    "# Use Pandas DateTimeIndex to convert the list into datetime datatype as follows\n",
    "# Datetime index constructor method creates a collection of dates\n",
    "dates_index = pd.DatetimeIndex(dates_list)\n",
    "dates_index"
   ]
  },
  {
   "cell_type": "code",
   "execution_count": 57,
   "metadata": {},
   "outputs": [],
   "source": [
    "# Define a list that carries 3 values corresponding to store sales\n",
    "sales = [50, 55, 60]"
   ]
  },
  {
   "cell_type": "code",
   "execution_count": 58,
   "metadata": {},
   "outputs": [
    {
     "data": {
      "text/plain": [
       "2020-03-22    50\n",
       "2020-04-22    55\n",
       "2020-05-22    60\n",
       "dtype: int64"
      ]
     },
     "execution_count": 58,
     "metadata": {},
     "output_type": "execute_result"
    }
   ],
   "source": [
    "# Define a Pandas Series using datetime and values as follows:\n",
    "sales = pd.Series(data = sales, index = dates_index) # Series constructor method\n",
    "sales\n"
   ]
  },
  {
   "cell_type": "code",
   "execution_count": 59,
   "metadata": {},
   "outputs": [
    {
     "data": {
      "text/plain": [
       "DatetimeIndex(['2020-01-01', '2020-01-02', '2020-01-03', '2020-01-04',\n",
       "               '2020-01-05', '2020-01-06', '2020-01-07', '2020-01-08',\n",
       "               '2020-01-09', '2020-01-10', '2020-01-11', '2020-01-12',\n",
       "               '2020-01-13', '2020-01-14', '2020-01-15', '2020-01-16',\n",
       "               '2020-01-17', '2020-01-18', '2020-01-19', '2020-01-20',\n",
       "               '2020-01-21', '2020-01-22', '2020-01-23', '2020-01-24',\n",
       "               '2020-01-25', '2020-01-26', '2020-01-27', '2020-01-28',\n",
       "               '2020-01-29', '2020-01-30', '2020-01-31', '2020-02-01',\n",
       "               '2020-02-02', '2020-02-03', '2020-02-04', '2020-02-05',\n",
       "               '2020-02-06', '2020-02-07', '2020-02-08', '2020-02-09',\n",
       "               '2020-02-10', '2020-02-11', '2020-02-12', '2020-02-13',\n",
       "               '2020-02-14', '2020-02-15', '2020-02-16', '2020-02-17',\n",
       "               '2020-02-18', '2020-02-19', '2020-02-20', '2020-02-21',\n",
       "               '2020-02-22', '2020-02-23', '2020-02-24', '2020-02-25',\n",
       "               '2020-02-26', '2020-02-27', '2020-02-28', '2020-02-29',\n",
       "               '2020-03-01', '2020-03-02', '2020-03-03', '2020-03-04',\n",
       "               '2020-03-05', '2020-03-06', '2020-03-07', '2020-03-08',\n",
       "               '2020-03-09', '2020-03-10', '2020-03-11', '2020-03-12',\n",
       "               '2020-03-13', '2020-03-14', '2020-03-15', '2020-03-16',\n",
       "               '2020-03-17', '2020-03-18', '2020-03-19', '2020-03-20',\n",
       "               '2020-03-21', '2020-03-22', '2020-03-23', '2020-03-24',\n",
       "               '2020-03-25', '2020-03-26', '2020-03-27', '2020-03-28',\n",
       "               '2020-03-29', '2020-03-30', '2020-03-31', '2020-04-01'],\n",
       "              dtype='datetime64[ns]', freq='D')"
      ]
     },
     "execution_count": 59,
     "metadata": {},
     "output_type": "execute_result"
    }
   ],
   "source": [
    "# you can also define a range of dates as follows:\n",
    "my_days = pd.date_range(start = \"2020-01-01\", end = \"2020-04-01\", freq = \"D\")\n",
    "my_days\n"
   ]
  },
  {
   "cell_type": "code",
   "execution_count": 60,
   "metadata": {},
   "outputs": [
    {
     "data": {
      "text/plain": [
       "pandas.core.indexes.datetimes.DatetimeIndex"
      ]
     },
     "execution_count": 60,
     "metadata": {},
     "output_type": "execute_result"
    }
   ],
   "source": [
    "# Datatype is a datetimeindex (which is a collection of dates!)\n",
    "type(my_days)\n"
   ]
  },
  {
   "cell_type": "code",
   "execution_count": 61,
   "metadata": {},
   "outputs": [
    {
     "data": {
      "text/plain": [
       "pandas._libs.tslibs.timestamps.Timestamp"
      ]
     },
     "execution_count": 61,
     "metadata": {},
     "output_type": "execute_result"
    }
   ],
   "source": [
    "# If you pick any sample date, it's represented in timestamp datatype\n",
    "type(my_days[4])\n"
   ]
  },
  {
   "cell_type": "code",
   "execution_count": 62,
   "metadata": {},
   "outputs": [
    {
     "data": {
      "text/plain": [
       "DatetimeIndex(['2020-01-31', '2020-02-29', '2020-03-31', '2020-04-30',\n",
       "               '2020-05-31', '2020-06-30', '2020-07-31'],\n",
       "              dtype='datetime64[ns]', freq='M')"
      ]
     },
     "execution_count": 62,
     "metadata": {},
     "output_type": "execute_result"
    }
   ],
   "source": [
    "# you can also define a range of dates using M which stands for month end as follows:\n",
    "my_days = pd.date_range(start = \"2020-01-01\", end = \"2020-08-01\", freq = \"M\")\n",
    "my_days\n"
   ]
  },
  {
   "cell_type": "markdown",
   "metadata": {},
   "source": [
    "**MINI CHALLENGE #7:**\n",
    "- **Obtain the business days between 2020-01-01 and 2020-04-01**"
   ]
  },
  {
   "cell_type": "code",
   "execution_count": null,
   "metadata": {},
   "outputs": [],
   "source": []
  },
  {
   "cell_type": "markdown",
   "metadata": {
    "id": "Xq3Dbr58Mb3h"
   },
   "source": [
    "# MINI CHALLENGE SOLUTIONS"
   ]
  },
  {
   "cell_type": "markdown",
   "metadata": {
    "id": "_dIF3jt6MSyz"
   },
   "source": [
    "**MINI CHALLENGE #1 SOLUTION:**\n",
    "- **How many unique countries are present in the dataset? List all countries**"
   ]
  },
  {
   "cell_type": "code",
   "execution_count": 63,
   "metadata": {},
   "outputs": [
    {
     "data": {
      "text/html": [
       "<div>\n",
       "<style scoped>\n",
       "    .dataframe tbody tr th:only-of-type {\n",
       "        vertical-align: middle;\n",
       "    }\n",
       "\n",
       "    .dataframe tbody tr th {\n",
       "        vertical-align: top;\n",
       "    }\n",
       "\n",
       "    .dataframe thead th {\n",
       "        text-align: right;\n",
       "    }\n",
       "</style>\n",
       "<table border=\"1\" class=\"dataframe\">\n",
       "  <thead>\n",
       "    <tr style=\"text-align: right;\">\n",
       "      <th></th>\n",
       "      <th>InvoiceNo</th>\n",
       "      <th>StockCode</th>\n",
       "      <th>Description</th>\n",
       "      <th>Quantity</th>\n",
       "      <th>InvoiceDate</th>\n",
       "      <th>UnitPrice</th>\n",
       "      <th>CustomerID</th>\n",
       "      <th>Country</th>\n",
       "    </tr>\n",
       "  </thead>\n",
       "  <tbody>\n",
       "    <tr>\n",
       "      <th>0</th>\n",
       "      <td>536365</td>\n",
       "      <td>85123A</td>\n",
       "      <td>WHITE HANGING HEART T-LIGHT HOLDER</td>\n",
       "      <td>6</td>\n",
       "      <td>12/1/2010 8:26</td>\n",
       "      <td>2.55</td>\n",
       "      <td>17850.0</td>\n",
       "      <td>United Kingdom</td>\n",
       "    </tr>\n",
       "    <tr>\n",
       "      <th>1</th>\n",
       "      <td>536365</td>\n",
       "      <td>71053</td>\n",
       "      <td>WHITE METAL LANTERN</td>\n",
       "      <td>6</td>\n",
       "      <td>12/1/2010 8:26</td>\n",
       "      <td>3.39</td>\n",
       "      <td>17850.0</td>\n",
       "      <td>United Kingdom</td>\n",
       "    </tr>\n",
       "    <tr>\n",
       "      <th>2</th>\n",
       "      <td>536365</td>\n",
       "      <td>84406B</td>\n",
       "      <td>CREAM CUPID HEARTS COAT HANGER</td>\n",
       "      <td>8</td>\n",
       "      <td>12/1/2010 8:26</td>\n",
       "      <td>2.75</td>\n",
       "      <td>17850.0</td>\n",
       "      <td>United Kingdom</td>\n",
       "    </tr>\n",
       "    <tr>\n",
       "      <th>3</th>\n",
       "      <td>536365</td>\n",
       "      <td>84029G</td>\n",
       "      <td>KNITTED UNION FLAG HOT WATER BOTTLE</td>\n",
       "      <td>6</td>\n",
       "      <td>12/1/2010 8:26</td>\n",
       "      <td>3.39</td>\n",
       "      <td>17850.0</td>\n",
       "      <td>United Kingdom</td>\n",
       "    </tr>\n",
       "    <tr>\n",
       "      <th>4</th>\n",
       "      <td>536365</td>\n",
       "      <td>84029E</td>\n",
       "      <td>RED WOOLLY HOTTIE WHITE HEART.</td>\n",
       "      <td>6</td>\n",
       "      <td>12/1/2010 8:26</td>\n",
       "      <td>3.39</td>\n",
       "      <td>17850.0</td>\n",
       "      <td>United Kingdom</td>\n",
       "    </tr>\n",
       "    <tr>\n",
       "      <th>...</th>\n",
       "      <td>...</td>\n",
       "      <td>...</td>\n",
       "      <td>...</td>\n",
       "      <td>...</td>\n",
       "      <td>...</td>\n",
       "      <td>...</td>\n",
       "      <td>...</td>\n",
       "      <td>...</td>\n",
       "    </tr>\n",
       "    <tr>\n",
       "      <th>541904</th>\n",
       "      <td>581587</td>\n",
       "      <td>22613</td>\n",
       "      <td>PACK OF 20 SPACEBOY NAPKINS</td>\n",
       "      <td>12</td>\n",
       "      <td>12/9/2011 12:50</td>\n",
       "      <td>0.85</td>\n",
       "      <td>12680.0</td>\n",
       "      <td>France</td>\n",
       "    </tr>\n",
       "    <tr>\n",
       "      <th>541905</th>\n",
       "      <td>581587</td>\n",
       "      <td>22899</td>\n",
       "      <td>CHILDREN'S APRON DOLLY GIRL</td>\n",
       "      <td>6</td>\n",
       "      <td>12/9/2011 12:50</td>\n",
       "      <td>2.10</td>\n",
       "      <td>12680.0</td>\n",
       "      <td>France</td>\n",
       "    </tr>\n",
       "    <tr>\n",
       "      <th>541906</th>\n",
       "      <td>581587</td>\n",
       "      <td>23254</td>\n",
       "      <td>CHILDRENS CUTLERY DOLLY GIRL</td>\n",
       "      <td>4</td>\n",
       "      <td>12/9/2011 12:50</td>\n",
       "      <td>4.15</td>\n",
       "      <td>12680.0</td>\n",
       "      <td>France</td>\n",
       "    </tr>\n",
       "    <tr>\n",
       "      <th>541907</th>\n",
       "      <td>581587</td>\n",
       "      <td>23255</td>\n",
       "      <td>CHILDRENS CUTLERY CIRCUS PARADE</td>\n",
       "      <td>4</td>\n",
       "      <td>12/9/2011 12:50</td>\n",
       "      <td>4.15</td>\n",
       "      <td>12680.0</td>\n",
       "      <td>France</td>\n",
       "    </tr>\n",
       "    <tr>\n",
       "      <th>541908</th>\n",
       "      <td>581587</td>\n",
       "      <td>22138</td>\n",
       "      <td>BAKING SET 9 PIECE RETROSPOT</td>\n",
       "      <td>3</td>\n",
       "      <td>12/9/2011 12:50</td>\n",
       "      <td>4.95</td>\n",
       "      <td>12680.0</td>\n",
       "      <td>France</td>\n",
       "    </tr>\n",
       "  </tbody>\n",
       "</table>\n",
       "<p>541909 rows × 8 columns</p>\n",
       "</div>"
      ],
      "text/plain": [
       "       InvoiceNo StockCode                          Description  Quantity  \\\n",
       "0         536365    85123A   WHITE HANGING HEART T-LIGHT HOLDER         6   \n",
       "1         536365     71053                  WHITE METAL LANTERN         6   \n",
       "2         536365    84406B       CREAM CUPID HEARTS COAT HANGER         8   \n",
       "3         536365    84029G  KNITTED UNION FLAG HOT WATER BOTTLE         6   \n",
       "4         536365    84029E       RED WOOLLY HOTTIE WHITE HEART.         6   \n",
       "...          ...       ...                                  ...       ...   \n",
       "541904    581587     22613          PACK OF 20 SPACEBOY NAPKINS        12   \n",
       "541905    581587     22899         CHILDREN'S APRON DOLLY GIRL          6   \n",
       "541906    581587     23254        CHILDRENS CUTLERY DOLLY GIRL          4   \n",
       "541907    581587     23255      CHILDRENS CUTLERY CIRCUS PARADE         4   \n",
       "541908    581587     22138        BAKING SET 9 PIECE RETROSPOT          3   \n",
       "\n",
       "            InvoiceDate  UnitPrice  CustomerID         Country  \n",
       "0        12/1/2010 8:26       2.55     17850.0  United Kingdom  \n",
       "1        12/1/2010 8:26       3.39     17850.0  United Kingdom  \n",
       "2        12/1/2010 8:26       2.75     17850.0  United Kingdom  \n",
       "3        12/1/2010 8:26       3.39     17850.0  United Kingdom  \n",
       "4        12/1/2010 8:26       3.39     17850.0  United Kingdom  \n",
       "...                 ...        ...         ...             ...  \n",
       "541904  12/9/2011 12:50       0.85     12680.0          France  \n",
       "541905  12/9/2011 12:50       2.10     12680.0          France  \n",
       "541906  12/9/2011 12:50       4.15     12680.0          France  \n",
       "541907  12/9/2011 12:50       4.15     12680.0          France  \n",
       "541908  12/9/2011 12:50       4.95     12680.0          France  \n",
       "\n",
       "[541909 rows x 8 columns]"
      ]
     },
     "execution_count": 63,
     "metadata": {},
     "output_type": "execute_result"
    }
   ],
   "source": [
    "# Import dataset using Pandas\n",
    "# Link to Dataset: https://www.kaggle.com/carrie1/ecommerce-data\n",
    "# Data contains transactions details between 01/12/2010 and 09/12/2011 for a UK-based non-store online retail.\n",
    "# The company specializes in selling unique gifts\n",
    "sales_df = pd.read_csv('ecommerce_sales.csv', encoding = 'unicode_escape')\n",
    "sales_df"
   ]
  },
  {
   "cell_type": "code",
   "execution_count": 64,
   "metadata": {
    "executionInfo": {
     "elapsed": 39979,
     "status": "aborted",
     "timestamp": 1618723166414,
     "user": {
      "displayName": "Stemplicity",
      "photoUrl": "https://lh3.googleusercontent.com/a-/AOh14Gj2vCFt-bD5mPBhUWX0QA6xiBgoXQXtwUm2jgjaCg=s64",
      "userId": "10668071569687886186"
     },
     "user_tz": 240
    },
    "id": "CxYxMaTgMEW2"
   },
   "outputs": [
    {
     "data": {
      "text/plain": [
       "array(['United Kingdom', 'France', 'Australia', 'Netherlands', 'Germany',\n",
       "       'Norway', 'EIRE', 'Switzerland', 'Spain', 'Poland', 'Portugal',\n",
       "       'Italy', 'Belgium', 'Lithuania', 'Japan', 'Iceland',\n",
       "       'Channel Islands', 'Denmark', 'Cyprus', 'Sweden', 'Austria',\n",
       "       'Israel', 'Finland', 'Bahrain', 'Greece', 'Hong Kong', 'Singapore',\n",
       "       'Lebanon', 'United Arab Emirates', 'Saudi Arabia',\n",
       "       'Czech Republic', 'Canada', 'Unspecified', 'Brazil', 'USA',\n",
       "       'European Community', 'Malta', 'RSA'], dtype=object)"
      ]
     },
     "execution_count": 64,
     "metadata": {},
     "output_type": "execute_result"
    }
   ],
   "source": [
    "sales_df['Country'].unique()"
   ]
  },
  {
   "cell_type": "code",
   "execution_count": 65,
   "metadata": {
    "executionInfo": {
     "elapsed": 39977,
     "status": "aborted",
     "timestamp": 1618723166415,
     "user": {
      "displayName": "Stemplicity",
      "photoUrl": "https://lh3.googleusercontent.com/a-/AOh14Gj2vCFt-bD5mPBhUWX0QA6xiBgoXQXtwUm2jgjaCg=s64",
      "userId": "10668071569687886186"
     },
     "user_tz": 240
    },
    "id": "Cj3Zofi_luXO"
   },
   "outputs": [
    {
     "data": {
      "text/plain": [
       "InvoiceNo      25900\n",
       "StockCode       4070\n",
       "Description     4223\n",
       "Quantity         722\n",
       "InvoiceDate    23260\n",
       "UnitPrice       1630\n",
       "CustomerID      4372\n",
       "Country           38\n",
       "dtype: int64"
      ]
     },
     "execution_count": 65,
     "metadata": {},
     "output_type": "execute_result"
    }
   ],
   "source": [
    "# Obtain the number of unique values in each column\n",
    "sales_df.nunique()"
   ]
  },
  {
   "cell_type": "code",
   "execution_count": null,
   "metadata": {
    "executionInfo": {
     "elapsed": 39975,
     "status": "aborted",
     "timestamp": 1618723166415,
     "user": {
      "displayName": "Stemplicity",
      "photoUrl": "https://lh3.googleusercontent.com/a-/AOh14Gj2vCFt-bD5mPBhUWX0QA6xiBgoXQXtwUm2jgjaCg=s64",
      "userId": "10668071569687886186"
     },
     "user_tz": 240
    },
    "id": "OpbPi_JqSBBl"
   },
   "outputs": [],
   "source": []
  },
  {
   "cell_type": "markdown",
   "metadata": {
    "id": "apyBbBUVR8dK"
   },
   "source": [
    "**MINI CHALLENGE #2 SOLUTION:**\n",
    "- **What is the maximum and minimum prices at 2011-12-09 12:25:00**"
   ]
  },
  {
   "cell_type": "code",
   "execution_count": 66,
   "metadata": {
    "executionInfo": {
     "elapsed": 39961,
     "status": "aborted",
     "timestamp": 1618723166416,
     "user": {
      "displayName": "Stemplicity",
      "photoUrl": "https://lh3.googleusercontent.com/a-/AOh14Gj2vCFt-bD5mPBhUWX0QA6xiBgoXQXtwUm2jgjaCg=s64",
      "userId": "10668071569687886186"
     },
     "user_tz": 240
    },
    "id": "fjYs-pP4Rqqd"
   },
   "outputs": [
    {
     "data": {
      "text/plain": [
       "InvoiceDate\n",
       "1/10/2011 10:04    0.00\n",
       "1/10/2011 10:07    3.75\n",
       "1/10/2011 10:08    0.00\n",
       "1/10/2011 10:32    0.21\n",
       "1/10/2011 10:35    0.19\n",
       "                   ... \n",
       "9/9/2011 8:48      0.85\n",
       "9/9/2011 9:03      0.42\n",
       "9/9/2011 9:13      0.42\n",
       "9/9/2011 9:38      0.42\n",
       "9/9/2011 9:52      0.39\n",
       "Name: UnitPrice, Length: 23260, dtype: float64"
      ]
     },
     "execution_count": 66,
     "metadata": {},
     "output_type": "execute_result"
    }
   ],
   "source": [
    "# Min = 0.72 and Max = 1.85\n",
    "sales_df.groupby('InvoiceDate')['UnitPrice'].min()"
   ]
  },
  {
   "cell_type": "code",
   "execution_count": 67,
   "metadata": {
    "executionInfo": {
     "elapsed": 39953,
     "status": "aborted",
     "timestamp": 1618723166418,
     "user": {
      "displayName": "Stemplicity",
      "photoUrl": "https://lh3.googleusercontent.com/a-/AOh14Gj2vCFt-bD5mPBhUWX0QA6xiBgoXQXtwUm2jgjaCg=s64",
      "userId": "10668071569687886186"
     },
     "user_tz": 240
    },
    "id": "KXdALgis2t8E"
   },
   "outputs": [
    {
     "data": {
      "text/plain": [
       "InvoiceDate\n",
       "1/10/2011 10:04     0.00\n",
       "1/10/2011 10:07     3.75\n",
       "1/10/2011 10:08     0.00\n",
       "1/10/2011 10:32     5.95\n",
       "1/10/2011 10:35    18.00\n",
       "                   ...  \n",
       "9/9/2011 8:48       8.95\n",
       "9/9/2011 9:03       5.45\n",
       "9/9/2011 9:13      15.00\n",
       "9/9/2011 9:38      45.33\n",
       "9/9/2011 9:52       5.95\n",
       "Name: UnitPrice, Length: 23260, dtype: float64"
      ]
     },
     "execution_count": 67,
     "metadata": {},
     "output_type": "execute_result"
    }
   ],
   "source": [
    "sales_df.groupby('InvoiceDate')['UnitPrice'].max()"
   ]
  },
  {
   "cell_type": "code",
   "execution_count": null,
   "metadata": {
    "executionInfo": {
     "elapsed": 39951,
     "status": "aborted",
     "timestamp": 1618723166418,
     "user": {
      "displayName": "Stemplicity",
      "photoUrl": "https://lh3.googleusercontent.com/a-/AOh14Gj2vCFt-bD5mPBhUWX0QA6xiBgoXQXtwUm2jgjaCg=s64",
      "userId": "10668071569687886186"
     },
     "user_tz": 240
    },
    "id": "0Tm5hCMxXfDp"
   },
   "outputs": [],
   "source": []
  },
  {
   "cell_type": "markdown",
   "metadata": {
    "id": "SWyjNrIEXZxk"
   },
   "source": [
    "**MINI CHALLENGE #3 SOLUTION:**\n",
    "- **Sort the DataFrame in a descending order (countries and dates)**"
   ]
  },
  {
   "cell_type": "code",
   "execution_count": 68,
   "metadata": {
    "executionInfo": {
     "elapsed": 39937,
     "status": "aborted",
     "timestamp": 1618723166419,
     "user": {
      "displayName": "Stemplicity",
      "photoUrl": "https://lh3.googleusercontent.com/a-/AOh14Gj2vCFt-bD5mPBhUWX0QA6xiBgoXQXtwUm2jgjaCg=s64",
      "userId": "10668071569687886186"
     },
     "user_tz": 240
    },
    "id": "vd0IobslVzMz"
   },
   "outputs": [
    {
     "data": {
      "text/html": [
       "<div>\n",
       "<style scoped>\n",
       "    .dataframe tbody tr th:only-of-type {\n",
       "        vertical-align: middle;\n",
       "    }\n",
       "\n",
       "    .dataframe tbody tr th {\n",
       "        vertical-align: top;\n",
       "    }\n",
       "\n",
       "    .dataframe thead th {\n",
       "        text-align: right;\n",
       "    }\n",
       "</style>\n",
       "<table border=\"1\" class=\"dataframe\">\n",
       "  <thead>\n",
       "    <tr style=\"text-align: right;\">\n",
       "      <th></th>\n",
       "      <th>InvoiceNo</th>\n",
       "      <th>StockCode</th>\n",
       "      <th>Description</th>\n",
       "      <th>Quantity</th>\n",
       "      <th>InvoiceDate</th>\n",
       "      <th>UnitPrice</th>\n",
       "      <th>CustomerID</th>\n",
       "      <th>Country</th>\n",
       "    </tr>\n",
       "  </thead>\n",
       "  <tbody>\n",
       "    <tr>\n",
       "      <th>541908</th>\n",
       "      <td>581587</td>\n",
       "      <td>22138</td>\n",
       "      <td>BAKING SET 9 PIECE RETROSPOT</td>\n",
       "      <td>3</td>\n",
       "      <td>12/9/2011 12:50</td>\n",
       "      <td>4.95</td>\n",
       "      <td>12680.0</td>\n",
       "      <td>France</td>\n",
       "    </tr>\n",
       "    <tr>\n",
       "      <th>541907</th>\n",
       "      <td>581587</td>\n",
       "      <td>23255</td>\n",
       "      <td>CHILDRENS CUTLERY CIRCUS PARADE</td>\n",
       "      <td>4</td>\n",
       "      <td>12/9/2011 12:50</td>\n",
       "      <td>4.15</td>\n",
       "      <td>12680.0</td>\n",
       "      <td>France</td>\n",
       "    </tr>\n",
       "    <tr>\n",
       "      <th>541906</th>\n",
       "      <td>581587</td>\n",
       "      <td>23254</td>\n",
       "      <td>CHILDRENS CUTLERY DOLLY GIRL</td>\n",
       "      <td>4</td>\n",
       "      <td>12/9/2011 12:50</td>\n",
       "      <td>4.15</td>\n",
       "      <td>12680.0</td>\n",
       "      <td>France</td>\n",
       "    </tr>\n",
       "    <tr>\n",
       "      <th>541905</th>\n",
       "      <td>581587</td>\n",
       "      <td>22899</td>\n",
       "      <td>CHILDREN'S APRON DOLLY GIRL</td>\n",
       "      <td>6</td>\n",
       "      <td>12/9/2011 12:50</td>\n",
       "      <td>2.10</td>\n",
       "      <td>12680.0</td>\n",
       "      <td>France</td>\n",
       "    </tr>\n",
       "    <tr>\n",
       "      <th>541904</th>\n",
       "      <td>581587</td>\n",
       "      <td>22613</td>\n",
       "      <td>PACK OF 20 SPACEBOY NAPKINS</td>\n",
       "      <td>12</td>\n",
       "      <td>12/9/2011 12:50</td>\n",
       "      <td>0.85</td>\n",
       "      <td>12680.0</td>\n",
       "      <td>France</td>\n",
       "    </tr>\n",
       "    <tr>\n",
       "      <th>...</th>\n",
       "      <td>...</td>\n",
       "      <td>...</td>\n",
       "      <td>...</td>\n",
       "      <td>...</td>\n",
       "      <td>...</td>\n",
       "      <td>...</td>\n",
       "      <td>...</td>\n",
       "      <td>...</td>\n",
       "    </tr>\n",
       "    <tr>\n",
       "      <th>4</th>\n",
       "      <td>536365</td>\n",
       "      <td>84029E</td>\n",
       "      <td>RED WOOLLY HOTTIE WHITE HEART.</td>\n",
       "      <td>6</td>\n",
       "      <td>12/1/2010 8:26</td>\n",
       "      <td>3.39</td>\n",
       "      <td>17850.0</td>\n",
       "      <td>United Kingdom</td>\n",
       "    </tr>\n",
       "    <tr>\n",
       "      <th>3</th>\n",
       "      <td>536365</td>\n",
       "      <td>84029G</td>\n",
       "      <td>KNITTED UNION FLAG HOT WATER BOTTLE</td>\n",
       "      <td>6</td>\n",
       "      <td>12/1/2010 8:26</td>\n",
       "      <td>3.39</td>\n",
       "      <td>17850.0</td>\n",
       "      <td>United Kingdom</td>\n",
       "    </tr>\n",
       "    <tr>\n",
       "      <th>2</th>\n",
       "      <td>536365</td>\n",
       "      <td>84406B</td>\n",
       "      <td>CREAM CUPID HEARTS COAT HANGER</td>\n",
       "      <td>8</td>\n",
       "      <td>12/1/2010 8:26</td>\n",
       "      <td>2.75</td>\n",
       "      <td>17850.0</td>\n",
       "      <td>United Kingdom</td>\n",
       "    </tr>\n",
       "    <tr>\n",
       "      <th>1</th>\n",
       "      <td>536365</td>\n",
       "      <td>71053</td>\n",
       "      <td>WHITE METAL LANTERN</td>\n",
       "      <td>6</td>\n",
       "      <td>12/1/2010 8:26</td>\n",
       "      <td>3.39</td>\n",
       "      <td>17850.0</td>\n",
       "      <td>United Kingdom</td>\n",
       "    </tr>\n",
       "    <tr>\n",
       "      <th>0</th>\n",
       "      <td>536365</td>\n",
       "      <td>85123A</td>\n",
       "      <td>WHITE HANGING HEART T-LIGHT HOLDER</td>\n",
       "      <td>6</td>\n",
       "      <td>12/1/2010 8:26</td>\n",
       "      <td>2.55</td>\n",
       "      <td>17850.0</td>\n",
       "      <td>United Kingdom</td>\n",
       "    </tr>\n",
       "  </tbody>\n",
       "</table>\n",
       "<p>541909 rows × 8 columns</p>\n",
       "</div>"
      ],
      "text/plain": [
       "       InvoiceNo StockCode                          Description  Quantity  \\\n",
       "541908    581587     22138        BAKING SET 9 PIECE RETROSPOT          3   \n",
       "541907    581587     23255      CHILDRENS CUTLERY CIRCUS PARADE         4   \n",
       "541906    581587     23254        CHILDRENS CUTLERY DOLLY GIRL          4   \n",
       "541905    581587     22899         CHILDREN'S APRON DOLLY GIRL          6   \n",
       "541904    581587     22613          PACK OF 20 SPACEBOY NAPKINS        12   \n",
       "...          ...       ...                                  ...       ...   \n",
       "4         536365    84029E       RED WOOLLY HOTTIE WHITE HEART.         6   \n",
       "3         536365    84029G  KNITTED UNION FLAG HOT WATER BOTTLE         6   \n",
       "2         536365    84406B       CREAM CUPID HEARTS COAT HANGER         8   \n",
       "1         536365     71053                  WHITE METAL LANTERN         6   \n",
       "0         536365    85123A   WHITE HANGING HEART T-LIGHT HOLDER         6   \n",
       "\n",
       "            InvoiceDate  UnitPrice  CustomerID         Country  \n",
       "541908  12/9/2011 12:50       4.95     12680.0          France  \n",
       "541907  12/9/2011 12:50       4.15     12680.0          France  \n",
       "541906  12/9/2011 12:50       4.15     12680.0          France  \n",
       "541905  12/9/2011 12:50       2.10     12680.0          France  \n",
       "541904  12/9/2011 12:50       0.85     12680.0          France  \n",
       "...                 ...        ...         ...             ...  \n",
       "4        12/1/2010 8:26       3.39     17850.0  United Kingdom  \n",
       "3        12/1/2010 8:26       3.39     17850.0  United Kingdom  \n",
       "2        12/1/2010 8:26       2.75     17850.0  United Kingdom  \n",
       "1        12/1/2010 8:26       3.39     17850.0  United Kingdom  \n",
       "0        12/1/2010 8:26       2.55     17850.0  United Kingdom  \n",
       "\n",
       "[541909 rows x 8 columns]"
      ]
     },
     "execution_count": 68,
     "metadata": {},
     "output_type": "execute_result"
    }
   ],
   "source": [
    "# Please note that there is no point of adding [False, False] or [True, True]\n",
    "sales_df.sort_index(ascending = False, inplace = True)\n",
    "sales_df"
   ]
  },
  {
   "cell_type": "markdown",
   "metadata": {
    "id": "of5NvqfqaiXW"
   },
   "source": [
    "**MINI CHALLENGE #4 SOLUTION:**\n",
    "- **Use InvoiceDate and Country in order as the multi-index**"
   ]
  },
  {
   "cell_type": "code",
   "execution_count": 69,
   "metadata": {
    "executionInfo": {
     "elapsed": 39922,
     "status": "aborted",
     "timestamp": 1618723166421,
     "user": {
      "displayName": "Stemplicity",
      "photoUrl": "https://lh3.googleusercontent.com/a-/AOh14Gj2vCFt-bD5mPBhUWX0QA6xiBgoXQXtwUm2jgjaCg=s64",
      "userId": "10668071569687886186"
     },
     "user_tz": 240
    },
    "id": "0Gf6f1e6YnQj"
   },
   "outputs": [
    {
     "data": {
      "text/html": [
       "<div>\n",
       "<style scoped>\n",
       "    .dataframe tbody tr th:only-of-type {\n",
       "        vertical-align: middle;\n",
       "    }\n",
       "\n",
       "    .dataframe tbody tr th {\n",
       "        vertical-align: top;\n",
       "    }\n",
       "\n",
       "    .dataframe thead th {\n",
       "        text-align: right;\n",
       "    }\n",
       "</style>\n",
       "<table border=\"1\" class=\"dataframe\">\n",
       "  <thead>\n",
       "    <tr style=\"text-align: right;\">\n",
       "      <th></th>\n",
       "      <th></th>\n",
       "      <th>InvoiceNo</th>\n",
       "      <th>StockCode</th>\n",
       "      <th>Description</th>\n",
       "      <th>Quantity</th>\n",
       "      <th>UnitPrice</th>\n",
       "      <th>CustomerID</th>\n",
       "    </tr>\n",
       "    <tr>\n",
       "      <th>InvoiceDate</th>\n",
       "      <th>Country</th>\n",
       "      <th></th>\n",
       "      <th></th>\n",
       "      <th></th>\n",
       "      <th></th>\n",
       "      <th></th>\n",
       "      <th></th>\n",
       "    </tr>\n",
       "  </thead>\n",
       "  <tbody>\n",
       "    <tr>\n",
       "      <th rowspan=\"5\" valign=\"top\">12/1/2010 8:26</th>\n",
       "      <th>United Kingdom</th>\n",
       "      <td>536365</td>\n",
       "      <td>85123A</td>\n",
       "      <td>WHITE HANGING HEART T-LIGHT HOLDER</td>\n",
       "      <td>6</td>\n",
       "      <td>2.55</td>\n",
       "      <td>17850.0</td>\n",
       "    </tr>\n",
       "    <tr>\n",
       "      <th>United Kingdom</th>\n",
       "      <td>536365</td>\n",
       "      <td>71053</td>\n",
       "      <td>WHITE METAL LANTERN</td>\n",
       "      <td>6</td>\n",
       "      <td>3.39</td>\n",
       "      <td>17850.0</td>\n",
       "    </tr>\n",
       "    <tr>\n",
       "      <th>United Kingdom</th>\n",
       "      <td>536365</td>\n",
       "      <td>84406B</td>\n",
       "      <td>CREAM CUPID HEARTS COAT HANGER</td>\n",
       "      <td>8</td>\n",
       "      <td>2.75</td>\n",
       "      <td>17850.0</td>\n",
       "    </tr>\n",
       "    <tr>\n",
       "      <th>United Kingdom</th>\n",
       "      <td>536365</td>\n",
       "      <td>84029G</td>\n",
       "      <td>KNITTED UNION FLAG HOT WATER BOTTLE</td>\n",
       "      <td>6</td>\n",
       "      <td>3.39</td>\n",
       "      <td>17850.0</td>\n",
       "    </tr>\n",
       "    <tr>\n",
       "      <th>United Kingdom</th>\n",
       "      <td>536365</td>\n",
       "      <td>84029E</td>\n",
       "      <td>RED WOOLLY HOTTIE WHITE HEART.</td>\n",
       "      <td>6</td>\n",
       "      <td>3.39</td>\n",
       "      <td>17850.0</td>\n",
       "    </tr>\n",
       "    <tr>\n",
       "      <th>...</th>\n",
       "      <th>...</th>\n",
       "      <td>...</td>\n",
       "      <td>...</td>\n",
       "      <td>...</td>\n",
       "      <td>...</td>\n",
       "      <td>...</td>\n",
       "      <td>...</td>\n",
       "    </tr>\n",
       "    <tr>\n",
       "      <th rowspan=\"5\" valign=\"top\">12/9/2011 12:50</th>\n",
       "      <th>France</th>\n",
       "      <td>581587</td>\n",
       "      <td>22613</td>\n",
       "      <td>PACK OF 20 SPACEBOY NAPKINS</td>\n",
       "      <td>12</td>\n",
       "      <td>0.85</td>\n",
       "      <td>12680.0</td>\n",
       "    </tr>\n",
       "    <tr>\n",
       "      <th>France</th>\n",
       "      <td>581587</td>\n",
       "      <td>22899</td>\n",
       "      <td>CHILDREN'S APRON DOLLY GIRL</td>\n",
       "      <td>6</td>\n",
       "      <td>2.10</td>\n",
       "      <td>12680.0</td>\n",
       "    </tr>\n",
       "    <tr>\n",
       "      <th>France</th>\n",
       "      <td>581587</td>\n",
       "      <td>23254</td>\n",
       "      <td>CHILDRENS CUTLERY DOLLY GIRL</td>\n",
       "      <td>4</td>\n",
       "      <td>4.15</td>\n",
       "      <td>12680.0</td>\n",
       "    </tr>\n",
       "    <tr>\n",
       "      <th>France</th>\n",
       "      <td>581587</td>\n",
       "      <td>23255</td>\n",
       "      <td>CHILDRENS CUTLERY CIRCUS PARADE</td>\n",
       "      <td>4</td>\n",
       "      <td>4.15</td>\n",
       "      <td>12680.0</td>\n",
       "    </tr>\n",
       "    <tr>\n",
       "      <th>France</th>\n",
       "      <td>581587</td>\n",
       "      <td>22138</td>\n",
       "      <td>BAKING SET 9 PIECE RETROSPOT</td>\n",
       "      <td>3</td>\n",
       "      <td>4.95</td>\n",
       "      <td>12680.0</td>\n",
       "    </tr>\n",
       "  </tbody>\n",
       "</table>\n",
       "<p>541909 rows × 6 columns</p>\n",
       "</div>"
      ],
      "text/plain": [
       "                               InvoiceNo StockCode  \\\n",
       "InvoiceDate     Country                              \n",
       "12/1/2010 8:26  United Kingdom    536365    85123A   \n",
       "                United Kingdom    536365     71053   \n",
       "                United Kingdom    536365    84406B   \n",
       "                United Kingdom    536365    84029G   \n",
       "                United Kingdom    536365    84029E   \n",
       "...                                  ...       ...   \n",
       "12/9/2011 12:50 France            581587     22613   \n",
       "                France            581587     22899   \n",
       "                France            581587     23254   \n",
       "                France            581587     23255   \n",
       "                France            581587     22138   \n",
       "\n",
       "                                                        Description  Quantity  \\\n",
       "InvoiceDate     Country                                                         \n",
       "12/1/2010 8:26  United Kingdom   WHITE HANGING HEART T-LIGHT HOLDER         6   \n",
       "                United Kingdom                  WHITE METAL LANTERN         6   \n",
       "                United Kingdom       CREAM CUPID HEARTS COAT HANGER         8   \n",
       "                United Kingdom  KNITTED UNION FLAG HOT WATER BOTTLE         6   \n",
       "                United Kingdom       RED WOOLLY HOTTIE WHITE HEART.         6   \n",
       "...                                                             ...       ...   \n",
       "12/9/2011 12:50 France                  PACK OF 20 SPACEBOY NAPKINS        12   \n",
       "                France                 CHILDREN'S APRON DOLLY GIRL          6   \n",
       "                France                CHILDRENS CUTLERY DOLLY GIRL          4   \n",
       "                France              CHILDRENS CUTLERY CIRCUS PARADE         4   \n",
       "                France                BAKING SET 9 PIECE RETROSPOT          3   \n",
       "\n",
       "                                UnitPrice  CustomerID  \n",
       "InvoiceDate     Country                                \n",
       "12/1/2010 8:26  United Kingdom       2.55     17850.0  \n",
       "                United Kingdom       3.39     17850.0  \n",
       "                United Kingdom       2.75     17850.0  \n",
       "                United Kingdom       3.39     17850.0  \n",
       "                United Kingdom       3.39     17850.0  \n",
       "...                                   ...         ...  \n",
       "12/9/2011 12:50 France               0.85     12680.0  \n",
       "                France               2.10     12680.0  \n",
       "                France               4.15     12680.0  \n",
       "                France               4.15     12680.0  \n",
       "                France               4.95     12680.0  \n",
       "\n",
       "[541909 rows x 6 columns]"
      ]
     },
     "execution_count": 69,
     "metadata": {},
     "output_type": "execute_result"
    }
   ],
   "source": [
    "sales_df = pd.read_csv('ecommerce_sales.csv', encoding = 'unicode_escape')\n",
    "sales_df.set_index(keys = [\"InvoiceDate\", \"Country\"], inplace = True)\n",
    "sales_df"
   ]
  },
  {
   "cell_type": "markdown",
   "metadata": {
    "id": "uXFvqt9PfPup"
   },
   "source": [
    "**MINI CHALLENGE #5 SOLUTION:**\n",
    "- **Calculate the average unit price for transactions occured in \"United Kingdom\" at \"12/1/2010 8:26\"**"
   ]
  },
  {
   "cell_type": "code",
   "execution_count": 70,
   "metadata": {
    "colab": {
     "base_uri": "https://localhost:8080/"
    },
    "executionInfo": {
     "elapsed": 1467,
     "status": "ok",
     "timestamp": 1618724235341,
     "user": {
      "displayName": "Stemplicity",
      "photoUrl": "https://lh3.googleusercontent.com/a-/AOh14Gj2vCFt-bD5mPBhUWX0QA6xiBgoXQXtwUm2jgjaCg=s64",
      "userId": "10668071569687886186"
     },
     "user_tz": 240
    },
    "id": "Mn8Tz0rz1me-",
    "outputId": "e681a0ca-3d5f-44dd-d0e9-a6452d18dcc7"
   },
   "outputs": [
    {
     "name": "stdout",
     "output_type": "stream",
     "text": [
      "Country         InvoiceDate   \n",
      "United Kingdom  12/1/2010 8:26    2.55\n",
      "                12/1/2010 8:26    3.39\n",
      "                12/1/2010 8:26    2.75\n",
      "                12/1/2010 8:26    3.39\n",
      "                12/1/2010 8:26    3.39\n",
      "                12/1/2010 8:26    7.65\n",
      "                12/1/2010 8:26    4.25\n",
      "Name: UnitPrice, dtype: float64\n"
     ]
    },
    {
     "name": "stderr",
     "output_type": "stream",
     "text": [
      "c:\\users\\administrator\\appdata\\local\\programs\\python\\python37\\lib\\site-packages\\pandas\\core\\indexing.py:1762: PerformanceWarning: indexing past lexsort depth may impact performance.\n",
      "  return self._getitem_tuple(key)\n"
     ]
    },
    {
     "data": {
      "text/plain": [
       "3.91"
      ]
     },
     "execution_count": 70,
     "metadata": {},
     "output_type": "execute_result"
    }
   ],
   "source": [
    "# Let's import the dataset again using Pandas\n",
    "sales_df = pd.read_csv('ecommerce_sales.csv', encoding = 'unicode_escape')\n",
    "sales_df.set_index(keys = [\"Country\", \"InvoiceDate\"], inplace = True)\n",
    "\n",
    "\n",
    "print(sales_df.loc[(\"United Kingdom\", \"12/1/2010 8:26\"), \"UnitPrice\"])\n",
    "\n",
    "# feed index as a tuple (important to avoid confusion)\n",
    "# first argument references rows and the second argument references a column\n",
    "sales_df.loc[(\"United Kingdom\", \"12/1/2010 8:26\"), \"UnitPrice\"].mean()\n"
   ]
  },
  {
   "cell_type": "markdown",
   "metadata": {},
   "source": [
    "**MINI CHALLENGE #6 SOLUTION:**\n",
    "- **Use Python's datetime method to write your date and time of your birth. Convert it into string format!!**\n"
   ]
  },
  {
   "cell_type": "code",
   "execution_count": 71,
   "metadata": {},
   "outputs": [
    {
     "data": {
      "text/plain": [
       "'1992-10-25 08:09:20'"
      ]
     },
     "execution_count": 71,
     "metadata": {},
     "output_type": "execute_result"
    }
   ],
   "source": [
    "# Let's define a datetime using datetime method as follows\n",
    "my_birth = dt.datetime(1992, 10, 25, 8, 9, 20)\n",
    "str(my_birth)\n"
   ]
  },
  {
   "cell_type": "markdown",
   "metadata": {},
   "source": [
    "**MINI CHALLENGE #7 SOLUTION:**\n",
    "- **Obtain the business days between 2020-01-01 and 2020-04-01**\n"
   ]
  },
  {
   "cell_type": "code",
   "execution_count": 72,
   "metadata": {},
   "outputs": [
    {
     "data": {
      "text/plain": [
       "DatetimeIndex(['2020-01-01', '2020-01-02', '2020-01-03', '2020-01-06',\n",
       "               '2020-01-07', '2020-01-08', '2020-01-09', '2020-01-10',\n",
       "               '2020-01-13', '2020-01-14', '2020-01-15', '2020-01-16',\n",
       "               '2020-01-17', '2020-01-20', '2020-01-21', '2020-01-22',\n",
       "               '2020-01-23', '2020-01-24', '2020-01-27', '2020-01-28',\n",
       "               '2020-01-29', '2020-01-30', '2020-01-31', '2020-02-03',\n",
       "               '2020-02-04', '2020-02-05', '2020-02-06', '2020-02-07',\n",
       "               '2020-02-10', '2020-02-11', '2020-02-12', '2020-02-13',\n",
       "               '2020-02-14', '2020-02-17', '2020-02-18', '2020-02-19',\n",
       "               '2020-02-20', '2020-02-21', '2020-02-24', '2020-02-25',\n",
       "               '2020-02-26', '2020-02-27', '2020-02-28', '2020-03-02',\n",
       "               '2020-03-03', '2020-03-04', '2020-03-05', '2020-03-06',\n",
       "               '2020-03-09', '2020-03-10', '2020-03-11', '2020-03-12',\n",
       "               '2020-03-13', '2020-03-16', '2020-03-17', '2020-03-18',\n",
       "               '2020-03-19', '2020-03-20', '2020-03-23', '2020-03-24',\n",
       "               '2020-03-25', '2020-03-26', '2020-03-27', '2020-03-30',\n",
       "               '2020-03-31', '2020-04-01'],\n",
       "              dtype='datetime64[ns]', freq='B')"
      ]
     },
     "execution_count": 72,
     "metadata": {},
     "output_type": "execute_result"
    }
   ],
   "source": [
    "# you can also define a range of dates using B which stands for business days as follows:\n",
    "my_days = pd.date_range(start = \"2020-01-01\", end = \"2020-04-01\", freq = \"B\")\n",
    "my_days\n"
   ]
  }
 ],
 "metadata": {
  "colab": {
   "authorship_tag": "ABX9TyP3SxJYFzlKiQR5WaGtGB+E",
   "collapsed_sections": [],
   "name": "6. Pandas MultiIndexing & Groupby.ipynb",
   "provenance": []
  },
  "kernelspec": {
   "display_name": "Python 3",
   "language": "python",
   "name": "python3"
  },
  "language_info": {
   "codemirror_mode": {
    "name": "ipython",
    "version": 3
   },
   "file_extension": ".py",
   "mimetype": "text/x-python",
   "name": "python",
   "nbconvert_exporter": "python",
   "pygments_lexer": "ipython3",
   "version": "3.7.0"
  }
 },
 "nbformat": 4,
 "nbformat_minor": 1
}
